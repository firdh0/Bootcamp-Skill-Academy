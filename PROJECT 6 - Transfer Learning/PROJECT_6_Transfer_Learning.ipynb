{
  "cells": [
    {
      "cell_type": "markdown",
      "metadata": {
        "id": "HJHik0rLajwc"
      },
      "source": [
        "# Transfer Learning - Project"
      ]
    },
    {
      "cell_type": "markdown",
      "metadata": {
        "id": "UZr55pDiJT8F"
      },
      "source": [
        "- https://huggingface.co/docs/transformers/tasks/image_classification"
      ]
    },
    {
      "cell_type": "markdown",
      "metadata": {
        "id": "i8QPDcERajwj"
      },
      "source": [
        "## Task 1: Transfer Learning for Emotion Recognition"
      ]
    },
    {
      "cell_type": "markdown",
      "metadata": {
        "id": "nmGaXWMDajwj"
      },
      "source": [
        "In this project, you will use a [Vision Transformer (ViT)](https://huggingface.co/google/vit-base-patch16-224-in21k) model pre-trained on ImageNet-21k and fine-tune it on the [FastJobs/Visual_Emotional_Analysis](https://huggingface.co/datasets/FastJobs/Visual_Emotional_Analysis) dataset for emotion recognition, with the final step being the publication of your trained model to the Hugging Face Model Hub."
      ]
    },
    {
      "cell_type": "markdown",
      "metadata": {
        "id": "ZemppJLgajwj"
      },
      "source": [
        "### Step 1: Environment Setup\n",
        "\n",
        "In this section, we start by installing the necessary packages and logging into Hugging Face's platform:\n",
        "- `transformers`\n",
        "- `datasets`\n",
        "- `evaluate`\n",
        "- `huggingface_hub`"
      ]
    },
    {
      "cell_type": "code",
      "execution_count": null,
      "metadata": {
        "colab": {
          "background_save": true
        },
        "id": "ih1QBCf-ajwk",
        "outputId": "ac40ca7f-d224-4a00-87fc-02621f2ebd91"
      },
      "outputs": [
        {
          "name": "stdout",
          "output_type": "stream",
          "text": [
            "\u001b[31mERROR: Operation cancelled by user\u001b[0m\u001b[31m\n",
            "\u001b[0m"
          ]
        }
      ],
      "source": [
        "# Install necessary packages\n",
        "\n",
        "# Put your code here:\n",
        "\n",
        "!pip -q install gradio\n",
        "!pip -q install transformers\n",
        "!pip -q install datasets\n",
        "!pip -q install evaluate\n",
        "!pip -q install huggingface_hub\n",
        "# !pip -q install transformers[torch]\n",
        "\n",
        "# ---- End of your code ----"
      ]
    },
    {
      "cell_type": "code",
      "execution_count": null,
      "metadata": {
        "id": "huoZcX_5QI8j"
      },
      "outputs": [],
      "source": [
        "from datasets import Dataset\n",
        "from datasets import load_dataset\n",
        "from transformers import AutoFeatureExtractor, AutoModelForAudioClassification, TrainingArguments, Trainer"
      ]
    },
    {
      "cell_type": "markdown",
      "metadata": {
        "id": "3jXUPe_cajwk"
      },
      "source": [
        "After installing, use the Hugging Face's notebook login function to log into Hugging Face's platform. Execute the following commands in your cell:"
      ]
    },
    {
      "cell_type": "code",
      "execution_count": null,
      "metadata": {
        "colab": {
          "base_uri": "https://localhost:8080/",
          "height": 331,
          "referenced_widgets": [
            "f8da74453a9e47699101996d62be1b25",
            "c252f0f0e5f0485d9df44e5201fb350f",
            "8742adeff18e4b2cb571772ea2151af8",
            "16a4a636619448e6b7b48297138667cc",
            "8d9bdc991da14fcca8974bb96ba32722",
            "7eede0a4ed174c48bbdf7953f8b9deae",
            "6e534f59eb61413ea5d498b90a2655e2",
            "77ae711454cc411da484f23c85b6a49e",
            "16ae4fb4c21b4257840c5456424119cd",
            "c73cd7c5bfdc45cbb69c5eaab0e5b53f",
            "bbb1e40d38c544f890f798161eaa6639",
            "43158a5f87f046e6b4e3731c4634707f",
            "334e2e027a47474ea9dd9b295b5a3880",
            "a739736ad1a54d119634bdcf49d5d82a",
            "d601023ad63d4994991b126dc04f29df",
            "cae69a895ed84a4dadfeaffd39749840",
            "751ca021c19245b9a55b2e39c1804af0"
          ]
        },
        "id": "M0V96pTvajwl",
        "outputId": "afb379ca-312f-4223-8843-2ad48911d7e1"
      },
      "outputs": [
        {
          "data": {
            "application/vnd.jupyter.widget-view+json": {
              "model_id": "f8da74453a9e47699101996d62be1b25",
              "version_major": 2,
              "version_minor": 0
            },
            "text/plain": [
              "VBox(children=(HTML(value='<center> <img\\nsrc=https://huggingface.co/front/assets/huggingface_logo-noborder.sv…"
            ]
          },
          "metadata": {},
          "output_type": "display_data"
        }
      ],
      "source": [
        "# Log into Hugging Face's platform\n",
        "\n",
        "# Put your code here:\n",
        "\n",
        "from huggingface_hub import notebook_login\n",
        "\n",
        "notebook_login()\n",
        "\n",
        "# ---- End of your code ----"
      ]
    },
    {
      "cell_type": "markdown",
      "metadata": {
        "id": "9FQiJyOFajwl"
      },
      "source": [
        "### Step 2: Load the Dataset\n",
        "\n",
        "Load the \"FastJobs/Visual_Emotional_Analysis\" dataset and split it into training and test sets with a test size of 0.2.\n",
        "\n",
        "> **Note**: please assign to variable `emotion`"
      ]
    },
    {
      "cell_type": "code",
      "execution_count": null,
      "metadata": {
        "colab": {
          "base_uri": "https://localhost:8080/",
          "height": 49,
          "referenced_widgets": [
            "460e55324fd84344a91ecbfd11a235c8",
            "b01c1e485f6e4236ae5d308bbcc9cfc1",
            "29ed938bfab54835ba8dc3619a9dc5d1",
            "17ad0710d0a54c0784a3275534a3fed6",
            "694cf647272a476386acb7aa5f0a0fec",
            "51a3d240279d43febfc5e7591dc07b60",
            "f86d4a185b254a63961d21066d0fd2d1",
            "3443902ce68d423bac66419caae914b9",
            "c73119825cd4490d9cdda815d9932c19",
            "2b90b2f002e94411bfae088c5275afe5",
            "2a3dbbb966f245d5b45c5ad76db2fa36"
          ]
        },
        "id": "CU6M0J3uajwl",
        "outputId": "b150dfc1-a6bc-46f7-9dfe-00b45fb91a2d"
      },
      "outputs": [
        {
          "data": {
            "application/vnd.jupyter.widget-view+json": {
              "model_id": "460e55324fd84344a91ecbfd11a235c8",
              "version_major": 2,
              "version_minor": 0
            },
            "text/plain": [
              "Resolving data files:   0%|          | 0/800 [00:00<?, ?it/s]"
            ]
          },
          "metadata": {},
          "output_type": "display_data"
        }
      ],
      "source": [
        "# Load the dataset and split it\n",
        "\n",
        "# Update your code here:\n",
        "\n",
        "emotion = load_dataset(\"FastJobs/Visual_Emotional_Analysis\")\n",
        "\n",
        "# ---- End of your code ----"
      ]
    },
    {
      "cell_type": "code",
      "execution_count": null,
      "metadata": {
        "colab": {
          "base_uri": "https://localhost:8080/"
        },
        "id": "VIBtYg58RPf7",
        "outputId": "3b3fcf91-23c1-4566-9220-736f63492937"
      },
      "outputs": [
        {
          "data": {
            "text/plain": [
              "DatasetDict({\n",
              "    train: Dataset({\n",
              "        features: ['image', 'label'],\n",
              "        num_rows: 800\n",
              "    })\n",
              "})"
            ]
          },
          "execution_count": 57,
          "metadata": {},
          "output_type": "execute_result"
        }
      ],
      "source": [
        "emotion"
      ]
    },
    {
      "cell_type": "code",
      "execution_count": null,
      "metadata": {
        "colab": {
          "base_uri": "https://localhost:8080/"
        },
        "id": "yz-wYcW8SRgy",
        "outputId": "56434312-8c07-4b9d-c1ae-572bf3dea4d6"
      },
      "outputs": [
        {
          "data": {
            "text/plain": [
              "{'image': <PIL.JpegImagePlugin.JpegImageFile image mode=RGB size=96x96>,\n",
              " 'label': 0}"
            ]
          },
          "execution_count": 58,
          "metadata": {},
          "output_type": "execute_result"
        }
      ],
      "source": [
        "example = emotion[\"train\"][10]\n",
        "example"
      ]
    },
    {
      "cell_type": "code",
      "execution_count": null,
      "metadata": {
        "colab": {
          "base_uri": "https://localhost:8080/"
        },
        "id": "_OLpzzjYSXOl",
        "outputId": "a1a936b5-a527-44f7-9bac-49f7bb4abc03"
      },
      "outputs": [
        {
          "data": {
            "text/plain": [
              "{'image': Image(decode=True, id=None),\n",
              " 'label': ClassLabel(names=['anger', 'contempt', 'disgust', 'fear', 'happy', 'neutral', 'sad', 'surprise'], id=None)}"
            ]
          },
          "execution_count": 59,
          "metadata": {},
          "output_type": "execute_result"
        }
      ],
      "source": [
        "emotion[\"train\"].features"
      ]
    },
    {
      "cell_type": "code",
      "execution_count": null,
      "metadata": {
        "colab": {
          "base_uri": "https://localhost:8080/",
          "height": 113
        },
        "id": "98vEvXBlSabY",
        "outputId": "72eade3c-81b7-4fce-930a-32dff2849aee"
      },
      "outputs": [
        {
          "data": {
            "image/png": "[encoded data removed]",
            "text/plain": [
              "<PIL.JpegImagePlugin.JpegImageFile image mode=RGB size=96x96>"
            ]
          },
          "execution_count": 60,
          "metadata": {},
          "output_type": "execute_result"
        }
      ],
      "source": [
        "example['image']"
      ]
    },
    {
      "cell_type": "code",
      "execution_count": null,
      "metadata": {
        "colab": {
          "base_uri": "https://localhost:8080/"
        },
        "id": "D2t2zumVSdPQ",
        "outputId": "35e69010-caea-4510-d6f1-88a4247178ad"
      },
      "outputs": [
        {
          "data": {
            "text/plain": [
              "0"
            ]
          },
          "execution_count": 61,
          "metadata": {},
          "output_type": "execute_result"
        }
      ],
      "source": [
        "example['label']"
      ]
    },
    {
      "cell_type": "code",
      "execution_count": null,
      "metadata": {
        "colab": {
          "base_uri": "https://localhost:8080/"
        },
        "id": "fyiTufWeSnR7",
        "outputId": "2baaabf4-a320-423c-9d2b-7d3818b14f5a"
      },
      "outputs": [
        {
          "data": {
            "text/plain": [
              "ClassLabel(names=['anger', 'contempt', 'disgust', 'fear', 'happy', 'neutral', 'sad', 'surprise'], id=None)"
            ]
          },
          "execution_count": 62,
          "metadata": {},
          "output_type": "execute_result"
        }
      ],
      "source": [
        "emotion[\"train\"].features[\"label\"]"
      ]
    },
    {
      "cell_type": "markdown",
      "metadata": {
        "id": "1Vm71eSEajwl"
      },
      "source": [
        "**Label Mapping**"
      ]
    },
    {
      "cell_type": "markdown",
      "metadata": {
        "id": "7pdW0f7Xajwl"
      },
      "source": [
        "> **Note**: no need to change the code below! Just run it to map labels from the dataset."
      ]
    },
    {
      "cell_type": "code",
      "execution_count": null,
      "metadata": {
        "colab": {
          "base_uri": "https://localhost:8080/",
          "height": 36
        },
        "id": "9F8e5Dosajwl",
        "outputId": "3e83dbd6-c8ec-4096-dcb4-4442deb75cae"
      },
      "outputs": [
        {
          "data": {
            "application/vnd.google.colaboratory.intrinsic+json": {
              "type": "string"
            },
            "text/plain": [
              "'disgust'"
            ]
          },
          "execution_count": 83,
          "metadata": {},
          "output_type": "execute_result"
        }
      ],
      "source": [
        "labels = emotion[\"train\"].features[\"label\"].names\n",
        "label2id, id2label = dict(), dict()\n",
        "for i, label in enumerate(labels):\n",
        "    label2id[label] = i\n",
        "    id2label[i] = label\n",
        "\n",
        "id2label[2]"
      ]
    },
    {
      "cell_type": "markdown",
      "metadata": {
        "id": "eN0QPZH_ajwm"
      },
      "source": [
        "### Step 3: Explore and Visualize the Dataset\n",
        "\n",
        "In this step, you are required to visualize the first instance in the training dataset."
      ]
    },
    {
      "cell_type": "markdown",
      "metadata": {
        "id": "Yvzhuf_Xajwm"
      },
      "source": [
        "> **Note**: no need to change the code below! Just run it to visualize the dataset based on index."
      ]
    },
    {
      "cell_type": "code",
      "execution_count": null,
      "metadata": {
        "colab": {
          "base_uri": "https://localhost:8080/",
          "height": 428
        },
        "id": "IkcCxcKEajwm",
        "outputId": "2a0ad424-0db9-4ba3-d792-ed8d5c332662"
      },
      "outputs": [
        {
          "data": {
            "image/png": "[encoded data removed]",
            "text/plain": [
              "<Figure size 640x480 with 1 Axes>"
            ]
          },
          "metadata": {},
          "output_type": "display_data"
        }
      ],
      "source": [
        "import matplotlib.pyplot as plt\n",
        "\n",
        "# Define the function to convert label index to label name\n",
        "id2label_view = {str(i): label for i, label in enumerate(labels)}\n",
        "\n",
        "# Use first training example\n",
        "image = emotion['train'][0]['image'] # Explore image by index\n",
        "label_id = str(emotion['train'][0]['label'])\n",
        "label_name = id2label_view[label_id]\n",
        "\n",
        "# Display the image and its corresponding label\n",
        "plt.imshow(image)\n",
        "plt.title(f'Label: {label_name} (ID: {label_id})')\n",
        "plt.axis('off')\n",
        "plt.show()"
      ]
    },
    {
      "cell_type": "markdown",
      "metadata": {
        "id": "FXeHD2myajwm"
      },
      "source": [
        "### Step 4: Preprocess the Data\n",
        "\n",
        "You need to define the transformation function for image preprocessing and apply it to the dataset."
      ]
    },
    {
      "cell_type": "code",
      "execution_count": null,
      "metadata": {
        "id": "YZig93V-ajwm"
      },
      "outputs": [],
      "source": [
        "from transformers import AutoImageProcessor\n",
        "from torchvision.transforms import RandomResizedCrop, Compose, Normalize, ToTensor\n",
        "\n",
        "# Load the image processor, Define the transforms, Define the transformation function and Apply the transformation function\n",
        "\n",
        "# Put your code here:\n",
        "\n",
        "image_processor  = AutoImageProcessor.from_pretrained('google/vit-base-patch16-224-in21k')\n"
      ]
    },
    {
      "cell_type": "code",
      "execution_count": null,
      "metadata": {
        "colab": {
          "base_uri": "https://localhost:8080/"
        },
        "id": "FRDVi8QdTMfU",
        "outputId": "5fd1aaeb-0c64-49dc-9dd8-661b337b3258"
      },
      "outputs": [
        {
          "data": {
            "text/plain": [
              "ViTImageProcessor {\n",
              "  \"do_normalize\": true,\n",
              "  \"do_rescale\": true,\n",
              "  \"do_resize\": true,\n",
              "  \"image_mean\": [\n",
              "    0.5,\n",
              "    0.5,\n",
              "    0.5\n",
              "  ],\n",
              "  \"image_processor_type\": \"ViTImageProcessor\",\n",
              "  \"image_std\": [\n",
              "    0.5,\n",
              "    0.5,\n",
              "    0.5\n",
              "  ],\n",
              "  \"resample\": 2,\n",
              "  \"rescale_factor\": 0.00392156862745098,\n",
              "  \"size\": {\n",
              "    \"height\": 224,\n",
              "    \"width\": 224\n",
              "  }\n",
              "}"
            ]
          },
          "execution_count": 85,
          "metadata": {},
          "output_type": "execute_result"
        }
      ],
      "source": [
        "image_processor"
      ]
    },
    {
      "cell_type": "code",
      "execution_count": null,
      "metadata": {
        "id": "fX_B_Hp2TjLq"
      },
      "outputs": [],
      "source": [
        "from torchvision.transforms import (\n",
        "    CenterCrop,\n",
        "    Compose,\n",
        "    Normalize,\n",
        "    RandomHorizontalFlip,\n",
        "    RandomResizedCrop,\n",
        "    Resize,\n",
        "    ToTensor,\n",
        ")\n",
        "\n",
        "normalize = Normalize(mean=image_processor.image_mean, std=image_processor.image_std)\n",
        "\n",
        "if \"height\" in image_processor.size:\n",
        "    size = (image_processor.size[\"height\"], image_processor.size[\"width\"])\n",
        "    crop_size = size\n",
        "    max_size = None\n",
        "elif \"shortest_edge\" in image_processor.size:\n",
        "    size = image_processor.size[\"shortest_edge\"]\n",
        "    crop_size = (size, size)\n",
        "    max_size = image_processor.size.get(\"longest_edge\")\n",
        "\n",
        "train_transforms = Compose(\n",
        "        [\n",
        "            RandomResizedCrop(crop_size),\n",
        "            RandomHorizontalFlip(),\n",
        "            ToTensor(),\n",
        "            normalize,\n",
        "        ]\n",
        "    )\n",
        "\n",
        "val_transforms = Compose(\n",
        "        [\n",
        "            Resize(size),\n",
        "            CenterCrop(crop_size),\n",
        "            ToTensor(),\n",
        "            normalize,\n",
        "        ]\n",
        "    )\n",
        "\n",
        "def preprocess_train(example_batch):\n",
        "    \"\"\"Apply train_transforms across a batch.\"\"\"\n",
        "    example_batch[\"pixel_values\"] = [\n",
        "        train_transforms(image.convert(\"RGB\")) for image in example_batch[\"image\"]\n",
        "    ]\n",
        "    return example_batch\n",
        "\n",
        "def preprocess_val(example_batch):\n",
        "    \"\"\"Apply val_transforms across a batch.\"\"\"\n",
        "    example_batch[\"pixel_values\"] = [val_transforms(image.convert(\"RGB\")) for image in example_batch[\"image\"]]\n",
        "    return example_batch"
      ]
    },
    {
      "cell_type": "code",
      "execution_count": null,
      "metadata": {
        "id": "Z5mtGP4gTmKA"
      },
      "outputs": [],
      "source": [
        "emotion = emotion['train'].train_test_split(test_size=0.2)"
      ]
    },
    {
      "cell_type": "code",
      "execution_count": null,
      "metadata": {
        "id": "yR3Kc5UyUpoa"
      },
      "outputs": [],
      "source": [
        "emotion_train = emotion['train']\n",
        "emotion_test = emotion['test']"
      ]
    },
    {
      "cell_type": "code",
      "execution_count": null,
      "metadata": {
        "id": "LFYAGntdTvV3"
      },
      "outputs": [],
      "source": [
        "emotion_train.set_transform(preprocess_train)\n",
        "emotion_test.set_transform(preprocess_val)"
      ]
    },
    {
      "cell_type": "code",
      "execution_count": null,
      "metadata": {
        "colab": {
          "base_uri": "https://localhost:8080/"
        },
        "id": "PtQJOvcLU51A",
        "outputId": "36a865d0-a7ec-4f87-c227-88a70614d228"
      },
      "outputs": [
        {
          "data": {
            "text/plain": [
              "{'image': <PIL.JpegImagePlugin.JpegImageFile image mode=RGB size=96x96>,\n",
              " 'label': 0,\n",
              " 'pixel_values': tensor([[[0.7098, 0.7098, 0.7098,  ..., 0.5529, 0.5529, 0.5529],\n",
              "          [0.7098, 0.7098, 0.7098,  ..., 0.5529, 0.5529, 0.5529],\n",
              "          [0.7098, 0.7098, 0.7098,  ..., 0.5529, 0.5529, 0.5529],\n",
              "          ...,\n",
              "          [0.6078, 0.6078, 0.6078,  ..., 0.1216, 0.3333, 0.3333],\n",
              "          [0.6078, 0.6078, 0.6078,  ..., 0.1137, 0.3255, 0.3255],\n",
              "          [0.6078, 0.6078, 0.6078,  ..., 0.1137, 0.3255, 0.3255]],\n",
              " \n",
              "         [[0.7098, 0.7098, 0.7098,  ..., 0.5686, 0.5686, 0.5686],\n",
              "          [0.7098, 0.7098, 0.7098,  ..., 0.5686, 0.5686, 0.5686],\n",
              "          [0.7098, 0.7098, 0.7098,  ..., 0.5686, 0.5686, 0.5686],\n",
              "          ...,\n",
              "          [0.6000, 0.6000, 0.6000,  ..., 0.0667, 0.2863, 0.2863],\n",
              "          [0.6000, 0.6000, 0.6000,  ..., 0.0667, 0.2863, 0.2863],\n",
              "          [0.6000, 0.6000, 0.6000,  ..., 0.0667, 0.2863, 0.2863]],\n",
              " \n",
              "         [[0.7255, 0.7255, 0.7255,  ..., 0.5608, 0.5608, 0.5608],\n",
              "          [0.7255, 0.7255, 0.7255,  ..., 0.5608, 0.5608, 0.5608],\n",
              "          [0.7255, 0.7255, 0.7255,  ..., 0.5608, 0.5608, 0.5608],\n",
              "          ...,\n",
              "          [0.6392, 0.6392, 0.6392,  ..., 0.0196, 0.2392, 0.2392],\n",
              "          [0.6392, 0.6392, 0.6392,  ..., 0.0196, 0.2392, 0.2392],\n",
              "          [0.6392, 0.6392, 0.6392,  ..., 0.0196, 0.2392, 0.2392]]])}"
            ]
          },
          "execution_count": 91,
          "metadata": {},
          "output_type": "execute_result"
        }
      ],
      "source": [
        "emotion_train[0]"
      ]
    },
    {
      "cell_type": "code",
      "execution_count": null,
      "metadata": {
        "id": "eYAQ9YgITKrG"
      },
      "outputs": [],
      "source": [
        "# ---- End of your code ----"
      ]
    },
    {
      "cell_type": "markdown",
      "metadata": {
        "id": "DPCcviqfajwm"
      },
      "source": [
        "### Step 5: Model Setup\n",
        "\n",
        "In this step, define the model architecture with the pre-trained ViT model and load it."
      ]
    },
    {
      "cell_type": "code",
      "execution_count": null,
      "metadata": {
        "colab": {
          "base_uri": "https://localhost:8080/"
        },
        "id": "_0tRKy6Aajwm",
        "outputId": "1fa26faa-bfd8-4670-a953-5ab13b7f329d"
      },
      "outputs": [
        {
          "name": "stderr",
          "output_type": "stream",
          "text": [
            "Some weights of ViTForImageClassification were not initialized from the model checkpoint at google/vit-base-patch16-224-in21k and are newly initialized: ['classifier.weight', 'classifier.bias']\n",
            "You should probably TRAIN this model on a down-stream task to be able to use it for predictions and inference.\n"
          ]
        }
      ],
      "source": [
        "from transformers import AutoModelForImageClassification\n",
        "\n",
        "# Define the model\n",
        "\n",
        "# Put your code here:\n",
        "\n",
        "model = AutoModelForImageClassification.from_pretrained(\n",
        "    \"google/vit-base-patch16-224-in21k\",\n",
        "    # num_labels=len(labels),\n",
        "    id2label=id2label,\n",
        "    label2id=label2id,\n",
        "    ignore_mismatched_sizes = True,\n",
        ")\n",
        "\n",
        "# ---- End of your code ----"
      ]
    },
    {
      "cell_type": "markdown",
      "metadata": {
        "id": "zHwGt5gaajwn"
      },
      "source": [
        "### Step 6: Training Setup\n",
        "\n",
        "Define the training arguments and instantiate the trainer."
      ]
    },
    {
      "cell_type": "code",
      "execution_count": null,
      "metadata": {
        "id": "ls1gQJXMajwn"
      },
      "outputs": [],
      "source": [
        "import evaluate\n",
        "\n",
        "# Load accuracy metric\n",
        "\n",
        "# Put your code here:\n",
        "\n",
        "accuracy = evaluate.load(\"accuracy\")\n",
        "\n",
        "# ---- End of your code ----"
      ]
    },
    {
      "cell_type": "code",
      "execution_count": null,
      "metadata": {
        "id": "6GatrDr7ajwn"
      },
      "outputs": [],
      "source": [
        "# Define compute metric function\n",
        "\n",
        "# Put your code here:\n",
        "\n",
        "import numpy as np\n",
        "from sklearn.metrics import precision_recall_fscore_support\n",
        "\n",
        "\n",
        "def compute_metrics(eval_pred):\n",
        "    predictions = np.argmax(eval_pred.predictions, axis=1)\n",
        "\n",
        "    labels = eval_pred.label_ids\n",
        "\n",
        "    acc = accuracy.compute(predictions=predictions, references=eval_pred.label_ids)\n",
        "\n",
        "    precision, recall, f1, _ = precision_recall_fscore_support(labels, predictions, average='weighted')\n",
        "\n",
        "    return {\n",
        "        'accuracy': acc['accuracy'],\n",
        "        'precision': precision,\n",
        "        'recall': recall,\n",
        "        'f1': f1\n",
        "    }\n",
        "\n",
        "# ---- End of your code ----"
      ]
    },
    {
      "cell_type": "code",
      "execution_count": null,
      "metadata": {
        "id": "NHw1-OcDajwn"
      },
      "outputs": [],
      "source": [
        "from transformers import TrainingArguments, Trainer\n",
        "\n",
        "# Define training arguments\n",
        "\n",
        "# Update your code here:\n",
        "\n",
        "batch_size = 32\n",
        "gradient_accumulation_steps = 3\n",
        "num_train_epochs = 100\n",
        "\n",
        "training_args = TrainingArguments(\n",
        "    f\"visual-emotion-recognition\",\n",
        "    remove_unused_columns=False, # sebelumnya tidak ada makanya error\n",
        "    evaluation_strategy=\"epoch\",\n",
        "    save_strategy=\"epoch\",\n",
        "    learning_rate=1e-5,\n",
        "    per_device_train_batch_size=batch_size,\n",
        "    gradient_accumulation_steps=gradient_accumulation_steps,\n",
        "    per_device_eval_batch_size=batch_size,\n",
        "    num_train_epochs=num_train_epochs,\n",
        "    warmup_ratio=0.1,\n",
        "    logging_steps=5,\n",
        "    load_best_model_at_end=True,\n",
        "    metric_for_best_model=\"accuracy\",\n",
        "    fp16=True,\n",
        "    lr_scheduler_type=\"linear\",\n",
        "    push_to_hub=True\n",
        ")\n",
        "\n",
        "# ---- End of your code ----"
      ]
    },
    {
      "cell_type": "code",
      "execution_count": null,
      "metadata": {
        "id": "bPY_VG9LVnIa"
      },
      "outputs": [],
      "source": [
        "import torch\n",
        "\n",
        "optimizer = torch.optim.Adam(model.parameters(), lr=0.0001, betas=(0.9, 0.999), eps=1e-08)\n",
        "lr_scheduler = torch.optim.lr_scheduler.LinearLR(optimizer, start_factor=0.1, end_factor=1.0, total_iters=len(emotion_train) * training_args.num_train_epochs)"
      ]
    },
    {
      "cell_type": "markdown",
      "metadata": {
        "id": "f8DKtT97ajwn"
      },
      "source": [
        "To use Hugging Face `Trainer` you need to install the `accelerate` library version `0.20.1` or later. It is used for performance enhancement on PyTorch."
      ]
    },
    {
      "cell_type": "code",
      "execution_count": null,
      "metadata": {
        "colab": {
          "base_uri": "https://localhost:8080/"
        },
        "id": "J1T6Ukhrajwo",
        "outputId": "99e08953-b8ef-4ce4-a43e-bb7e8b707d1f"
      },
      "outputs": [
        {
          "name": "stdout",
          "output_type": "stream",
          "text": [
            "Requirement already satisfied: accelerate in /usr/local/lib/python3.10/dist-packages (0.27.0)\n",
            "Requirement already satisfied: numpy>=1.17 in /usr/local/lib/python3.10/dist-packages (from accelerate) (1.23.5)\n",
            "Requirement already satisfied: packaging>=20.0 in /usr/local/lib/python3.10/dist-packages (from accelerate) (23.2)\n",
            "Requirement already satisfied: psutil in /usr/local/lib/python3.10/dist-packages (from accelerate) (5.9.5)\n",
            "Requirement already satisfied: pyyaml in /usr/local/lib/python3.10/dist-packages (from accelerate) (6.0.1)\n",
            "Requirement already satisfied: torch>=1.10.0 in /usr/local/lib/python3.10/dist-packages (from accelerate) (2.1.0+cu121)\n",
            "Requirement already satisfied: huggingface-hub in /usr/local/lib/python3.10/dist-packages (from accelerate) (0.20.3)\n",
            "Requirement already satisfied: safetensors>=0.3.1 in /usr/local/lib/python3.10/dist-packages (from accelerate) (0.4.2)\n",
            "Requirement already satisfied: filelock in /usr/local/lib/python3.10/dist-packages (from torch>=1.10.0->accelerate) (3.13.1)\n",
            "Requirement already satisfied: typing-extensions in /usr/local/lib/python3.10/dist-packages (from torch>=1.10.0->accelerate) (4.9.0)\n",
            "Requirement already satisfied: sympy in /usr/local/lib/python3.10/dist-packages (from torch>=1.10.0->accelerate) (1.12)\n",
            "Requirement already satisfied: networkx in /usr/local/lib/python3.10/dist-packages (from torch>=1.10.0->accelerate) (3.2.1)\n",
            "Requirement already satisfied: jinja2 in /usr/local/lib/python3.10/dist-packages (from torch>=1.10.0->accelerate) (3.1.3)\n",
            "Requirement already satisfied: fsspec in /usr/local/lib/python3.10/dist-packages (from torch>=1.10.0->accelerate) (2023.6.0)\n",
            "Requirement already satisfied: triton==2.1.0 in /usr/local/lib/python3.10/dist-packages (from torch>=1.10.0->accelerate) (2.1.0)\n",
            "Requirement already satisfied: requests in /usr/local/lib/python3.10/dist-packages (from huggingface-hub->accelerate) (2.31.0)\n",
            "Requirement already satisfied: tqdm>=4.42.1 in /usr/local/lib/python3.10/dist-packages (from huggingface-hub->accelerate) (4.66.1)\n",
            "Requirement already satisfied: MarkupSafe>=2.0 in /usr/local/lib/python3.10/dist-packages (from jinja2->torch>=1.10.0->accelerate) (2.1.5)\n",
            "Requirement already satisfied: charset-normalizer<4,>=2 in /usr/local/lib/python3.10/dist-packages (from requests->huggingface-hub->accelerate) (3.3.2)\n",
            "Requirement already satisfied: idna<4,>=2.5 in /usr/local/lib/python3.10/dist-packages (from requests->huggingface-hub->accelerate) (3.6)\n",
            "Requirement already satisfied: urllib3<3,>=1.21.1 in /usr/local/lib/python3.10/dist-packages (from requests->huggingface-hub->accelerate) (2.0.7)\n",
            "Requirement already satisfied: certifi>=2017.4.17 in /usr/local/lib/python3.10/dist-packages (from requests->huggingface-hub->accelerate) (2024.2.2)\n",
            "Requirement already satisfied: mpmath>=0.19 in /usr/local/lib/python3.10/dist-packages (from sympy->torch>=1.10.0->accelerate) (1.3.0)\n"
          ]
        }
      ],
      "source": [
        "%pip install accelerate -U"
      ]
    },
    {
      "cell_type": "code",
      "execution_count": null,
      "metadata": {
        "id": "-c82GF9tWdat"
      },
      "outputs": [],
      "source": [
        "def collate_fn(examples):\n",
        "    pixel_values = torch.stack([example[\"pixel_values\"] for example in examples])\n",
        "    labels = torch.tensor([example[\"label\"] for example in examples])\n",
        "    return {\"pixel_values\": pixel_values, \"labels\": labels}"
      ]
    },
    {
      "cell_type": "code",
      "execution_count": null,
      "metadata": {
        "id": "5CfTQPdoajwo"
      },
      "outputs": [],
      "source": [
        "from transformers import DefaultDataCollator\n",
        "\n",
        "# Instantiate the trainer\n",
        "\n",
        "# Update your code here:\n",
        "# data_collator = DefaultDataCollator()\n",
        "\n",
        "trainer = Trainer(\n",
        "    model=model,\n",
        "    args=training_args,\n",
        "    data_collator=collate_fn,\n",
        "    train_dataset=emotion_train,\n",
        "    eval_dataset=emotion_test,\n",
        "    tokenizer=image_processor,\n",
        "    compute_metrics=compute_metrics,\n",
        "    optimizers=(optimizer, lr_scheduler),\n",
        ")\n",
        "# ---- End of your code ----"
      ]
    },
    {
      "cell_type": "markdown",
      "metadata": {
        "id": "LRo5Pttyajwo"
      },
      "source": [
        "If there are problems when using the Trainer after installing `accelerate` you can restart the Kernel"
      ]
    },
    {
      "cell_type": "markdown",
      "metadata": {
        "id": "KlfrWAJZajwo"
      },
      "source": [
        "### Step 7: Train and Evaluate the Model\n",
        "\n",
        "Now, you are ready to train the model and evaluate it on the test set."
      ]
    },
    {
      "cell_type": "code",
      "execution_count": null,
      "metadata": {
        "colab": {
          "base_uri": "https://localhost:8080/",
          "height": 1000
        },
        "id": "7Sc6ghhAajwo",
        "outputId": "602bfd4d-a747-4a90-970d-641819f9ea3e"
      },
      "outputs": [
        {
          "data": {
            "text/html": [
              "\n",
              "    <div>\n",
              "      \n",
              "      <progress value='500' max='500' style='width:300px; height:20px; vertical-align: middle;'></progress>\n",
              "      [500/500 21:57, Epoch 93/100]\n",
              "    </div>\n",
              "    <table border=\"1\" class=\"dataframe\">\n",
              "  <thead>\n",
              " <tr style=\"text-align: left;\">\n",
              "      <th>Epoch</th>\n",
              "      <th>Training Loss</th>\n",
              "      <th>Validation Loss</th>\n",
              "      <th>Accuracy</th>\n",
              "      <th>Precision</th>\n",
              "      <th>Recall</th>\n",
              "      <th>F1</th>\n",
              "    </tr>\n",
              "  </thead>\n",
              "  <tbody>\n",
              "    <tr>\n",
              "      <td>0</td>\n",
              "      <td>2.081100</td>\n",
              "      <td>2.091125</td>\n",
              "      <td>0.085938</td>\n",
              "      <td>0.053415</td>\n",
              "      <td>0.085938</td>\n",
              "      <td>0.065756</td>\n",
              "    </tr>\n",
              "    <tr>\n",
              "      <td>1</td>\n",
              "      <td>2.066800</td>\n",
              "      <td>2.083038</td>\n",
              "      <td>0.101562</td>\n",
              "      <td>0.065393</td>\n",
              "      <td>0.101562</td>\n",
              "      <td>0.075780</td>\n",
              "    </tr>\n",
              "    <tr>\n",
              "      <td>3</td>\n",
              "      <td>2.044500</td>\n",
              "      <td>2.064346</td>\n",
              "      <td>0.132812</td>\n",
              "      <td>0.096540</td>\n",
              "      <td>0.132812</td>\n",
              "      <td>0.099980</td>\n",
              "    </tr>\n",
              "    <tr>\n",
              "      <td>4</td>\n",
              "      <td>2.019800</td>\n",
              "      <td>2.053703</td>\n",
              "      <td>0.179688</td>\n",
              "      <td>0.191088</td>\n",
              "      <td>0.179688</td>\n",
              "      <td>0.160395</td>\n",
              "    </tr>\n",
              "    <tr>\n",
              "      <td>6</td>\n",
              "      <td>1.993700</td>\n",
              "      <td>2.024086</td>\n",
              "      <td>0.187500</td>\n",
              "      <td>0.177299</td>\n",
              "      <td>0.187500</td>\n",
              "      <td>0.159457</td>\n",
              "    </tr>\n",
              "    <tr>\n",
              "      <td>7</td>\n",
              "      <td>1.971100</td>\n",
              "      <td>2.007805</td>\n",
              "      <td>0.203125</td>\n",
              "      <td>0.193895</td>\n",
              "      <td>0.203125</td>\n",
              "      <td>0.173671</td>\n",
              "    </tr>\n",
              "    <tr>\n",
              "      <td>9</td>\n",
              "      <td>1.918400</td>\n",
              "      <td>1.966263</td>\n",
              "      <td>0.296875</td>\n",
              "      <td>0.320316</td>\n",
              "      <td>0.296875</td>\n",
              "      <td>0.260871</td>\n",
              "    </tr>\n",
              "    <tr>\n",
              "      <td>10</td>\n",
              "      <td>1.904200</td>\n",
              "      <td>1.942833</td>\n",
              "      <td>0.304688</td>\n",
              "      <td>0.341030</td>\n",
              "      <td>0.304688</td>\n",
              "      <td>0.271073</td>\n",
              "    </tr>\n",
              "    <tr>\n",
              "      <td>12</td>\n",
              "      <td>1.844900</td>\n",
              "      <td>1.885834</td>\n",
              "      <td>0.320312</td>\n",
              "      <td>0.464846</td>\n",
              "      <td>0.320312</td>\n",
              "      <td>0.283513</td>\n",
              "    </tr>\n",
              "    <tr>\n",
              "      <td>13</td>\n",
              "      <td>1.801900</td>\n",
              "      <td>1.857216</td>\n",
              "      <td>0.320312</td>\n",
              "      <td>0.485624</td>\n",
              "      <td>0.320312</td>\n",
              "      <td>0.292397</td>\n",
              "    </tr>\n",
              "    <tr>\n",
              "      <td>15</td>\n",
              "      <td>1.703700</td>\n",
              "      <td>1.790871</td>\n",
              "      <td>0.343750</td>\n",
              "      <td>0.486201</td>\n",
              "      <td>0.343750</td>\n",
              "      <td>0.333880</td>\n",
              "    </tr>\n",
              "    <tr>\n",
              "      <td>16</td>\n",
              "      <td>1.678700</td>\n",
              "      <td>1.765106</td>\n",
              "      <td>0.343750</td>\n",
              "      <td>0.450995</td>\n",
              "      <td>0.343750</td>\n",
              "      <td>0.333907</td>\n",
              "    </tr>\n",
              "    <tr>\n",
              "      <td>18</td>\n",
              "      <td>1.632200</td>\n",
              "      <td>1.715294</td>\n",
              "      <td>0.382812</td>\n",
              "      <td>0.470991</td>\n",
              "      <td>0.382812</td>\n",
              "      <td>0.378304</td>\n",
              "    </tr>\n",
              "    <tr>\n",
              "      <td>19</td>\n",
              "      <td>1.586100</td>\n",
              "      <td>1.697983</td>\n",
              "      <td>0.406250</td>\n",
              "      <td>0.504014</td>\n",
              "      <td>0.406250</td>\n",
              "      <td>0.396330</td>\n",
              "    </tr>\n",
              "    <tr>\n",
              "      <td>21</td>\n",
              "      <td>1.570900</td>\n",
              "      <td>1.663460</td>\n",
              "      <td>0.406250</td>\n",
              "      <td>0.466546</td>\n",
              "      <td>0.406250</td>\n",
              "      <td>0.403778</td>\n",
              "    </tr>\n",
              "    <tr>\n",
              "      <td>22</td>\n",
              "      <td>1.529600</td>\n",
              "      <td>1.647049</td>\n",
              "      <td>0.429688</td>\n",
              "      <td>0.477214</td>\n",
              "      <td>0.429688</td>\n",
              "      <td>0.421271</td>\n",
              "    </tr>\n",
              "    <tr>\n",
              "      <td>24</td>\n",
              "      <td>1.510500</td>\n",
              "      <td>1.617386</td>\n",
              "      <td>0.460938</td>\n",
              "      <td>0.485763</td>\n",
              "      <td>0.460938</td>\n",
              "      <td>0.447844</td>\n",
              "    </tr>\n",
              "    <tr>\n",
              "      <td>25</td>\n",
              "      <td>1.485000</td>\n",
              "      <td>1.602417</td>\n",
              "      <td>0.476562</td>\n",
              "      <td>0.529006</td>\n",
              "      <td>0.476562</td>\n",
              "      <td>0.471694</td>\n",
              "    </tr>\n",
              "    <tr>\n",
              "      <td>27</td>\n",
              "      <td>1.427300</td>\n",
              "      <td>1.580284</td>\n",
              "      <td>0.468750</td>\n",
              "      <td>0.479985</td>\n",
              "      <td>0.468750</td>\n",
              "      <td>0.458144</td>\n",
              "    </tr>\n",
              "    <tr>\n",
              "      <td>28</td>\n",
              "      <td>1.437500</td>\n",
              "      <td>1.564964</td>\n",
              "      <td>0.523438</td>\n",
              "      <td>0.552687</td>\n",
              "      <td>0.523438</td>\n",
              "      <td>0.513377</td>\n",
              "    </tr>\n",
              "    <tr>\n",
              "      <td>30</td>\n",
              "      <td>1.368600</td>\n",
              "      <td>1.544270</td>\n",
              "      <td>0.500000</td>\n",
              "      <td>0.538074</td>\n",
              "      <td>0.500000</td>\n",
              "      <td>0.496896</td>\n",
              "    </tr>\n",
              "    <tr>\n",
              "      <td>31</td>\n",
              "      <td>1.363600</td>\n",
              "      <td>1.527344</td>\n",
              "      <td>0.523438</td>\n",
              "      <td>0.545899</td>\n",
              "      <td>0.523438</td>\n",
              "      <td>0.515218</td>\n",
              "    </tr>\n",
              "    <tr>\n",
              "      <td>33</td>\n",
              "      <td>1.342600</td>\n",
              "      <td>1.511547</td>\n",
              "      <td>0.507812</td>\n",
              "      <td>0.517948</td>\n",
              "      <td>0.507812</td>\n",
              "      <td>0.502954</td>\n",
              "    </tr>\n",
              "    <tr>\n",
              "      <td>34</td>\n",
              "      <td>1.296300</td>\n",
              "      <td>1.491768</td>\n",
              "      <td>0.523438</td>\n",
              "      <td>0.539876</td>\n",
              "      <td>0.523438</td>\n",
              "      <td>0.513324</td>\n",
              "    </tr>\n",
              "    <tr>\n",
              "      <td>36</td>\n",
              "      <td>1.273300</td>\n",
              "      <td>1.471779</td>\n",
              "      <td>0.554688</td>\n",
              "      <td>0.573003</td>\n",
              "      <td>0.554688</td>\n",
              "      <td>0.547538</td>\n",
              "    </tr>\n",
              "    <tr>\n",
              "      <td>37</td>\n",
              "      <td>1.239800</td>\n",
              "      <td>1.455624</td>\n",
              "      <td>0.570312</td>\n",
              "      <td>0.599636</td>\n",
              "      <td>0.570312</td>\n",
              "      <td>0.564150</td>\n",
              "    </tr>\n",
              "    <tr>\n",
              "      <td>39</td>\n",
              "      <td>1.228600</td>\n",
              "      <td>1.442631</td>\n",
              "      <td>0.578125</td>\n",
              "      <td>0.602373</td>\n",
              "      <td>0.578125</td>\n",
              "      <td>0.572848</td>\n",
              "    </tr>\n",
              "    <tr>\n",
              "      <td>40</td>\n",
              "      <td>1.188200</td>\n",
              "      <td>1.427715</td>\n",
              "      <td>0.562500</td>\n",
              "      <td>0.578662</td>\n",
              "      <td>0.562500</td>\n",
              "      <td>0.553248</td>\n",
              "    </tr>\n",
              "    <tr>\n",
              "      <td>42</td>\n",
              "      <td>1.159200</td>\n",
              "      <td>1.417141</td>\n",
              "      <td>0.578125</td>\n",
              "      <td>0.608945</td>\n",
              "      <td>0.578125</td>\n",
              "      <td>0.576588</td>\n",
              "    </tr>\n",
              "    <tr>\n",
              "      <td>43</td>\n",
              "      <td>1.138600</td>\n",
              "      <td>1.404560</td>\n",
              "      <td>0.585938</td>\n",
              "      <td>0.605337</td>\n",
              "      <td>0.585938</td>\n",
              "      <td>0.578954</td>\n",
              "    </tr>\n",
              "    <tr>\n",
              "      <td>45</td>\n",
              "      <td>1.115100</td>\n",
              "      <td>1.399551</td>\n",
              "      <td>0.570312</td>\n",
              "      <td>0.602601</td>\n",
              "      <td>0.570312</td>\n",
              "      <td>0.570136</td>\n",
              "    </tr>\n",
              "    <tr>\n",
              "      <td>46</td>\n",
              "      <td>1.084800</td>\n",
              "      <td>1.378204</td>\n",
              "      <td>0.570312</td>\n",
              "      <td>0.588475</td>\n",
              "      <td>0.570312</td>\n",
              "      <td>0.566705</td>\n",
              "    </tr>\n",
              "    <tr>\n",
              "      <td>48</td>\n",
              "      <td>1.070200</td>\n",
              "      <td>1.374897</td>\n",
              "      <td>0.562500</td>\n",
              "      <td>0.586109</td>\n",
              "      <td>0.562500</td>\n",
              "      <td>0.558612</td>\n",
              "    </tr>\n",
              "    <tr>\n",
              "      <td>49</td>\n",
              "      <td>1.040800</td>\n",
              "      <td>1.372543</td>\n",
              "      <td>0.562500</td>\n",
              "      <td>0.573169</td>\n",
              "      <td>0.562500</td>\n",
              "      <td>0.556107</td>\n",
              "    </tr>\n",
              "    <tr>\n",
              "      <td>51</td>\n",
              "      <td>1.032100</td>\n",
              "      <td>1.365143</td>\n",
              "      <td>0.562500</td>\n",
              "      <td>0.584088</td>\n",
              "      <td>0.562500</td>\n",
              "      <td>0.558736</td>\n",
              "    </tr>\n",
              "    <tr>\n",
              "      <td>52</td>\n",
              "      <td>0.987200</td>\n",
              "      <td>1.361740</td>\n",
              "      <td>0.554688</td>\n",
              "      <td>0.567049</td>\n",
              "      <td>0.554688</td>\n",
              "      <td>0.547975</td>\n",
              "    </tr>\n",
              "    <tr>\n",
              "      <td>54</td>\n",
              "      <td>0.989100</td>\n",
              "      <td>1.361916</td>\n",
              "      <td>0.578125</td>\n",
              "      <td>0.598974</td>\n",
              "      <td>0.578125</td>\n",
              "      <td>0.576970</td>\n",
              "    </tr>\n",
              "    <tr>\n",
              "      <td>55</td>\n",
              "      <td>0.965400</td>\n",
              "      <td>1.332190</td>\n",
              "      <td>0.562500</td>\n",
              "      <td>0.582991</td>\n",
              "      <td>0.562500</td>\n",
              "      <td>0.560901</td>\n",
              "    </tr>\n",
              "    <tr>\n",
              "      <td>57</td>\n",
              "      <td>0.934600</td>\n",
              "      <td>1.333153</td>\n",
              "      <td>0.578125</td>\n",
              "      <td>0.605657</td>\n",
              "      <td>0.578125</td>\n",
              "      <td>0.579564</td>\n",
              "    </tr>\n",
              "    <tr>\n",
              "      <td>58</td>\n",
              "      <td>0.896500</td>\n",
              "      <td>1.323868</td>\n",
              "      <td>0.578125</td>\n",
              "      <td>0.605657</td>\n",
              "      <td>0.578125</td>\n",
              "      <td>0.579564</td>\n",
              "    </tr>\n",
              "    <tr>\n",
              "      <td>60</td>\n",
              "      <td>0.892800</td>\n",
              "      <td>1.316774</td>\n",
              "      <td>0.570312</td>\n",
              "      <td>0.587262</td>\n",
              "      <td>0.570312</td>\n",
              "      <td>0.568731</td>\n",
              "    </tr>\n",
              "    <tr>\n",
              "      <td>61</td>\n",
              "      <td>0.866200</td>\n",
              "      <td>1.324074</td>\n",
              "      <td>0.562500</td>\n",
              "      <td>0.588875</td>\n",
              "      <td>0.562500</td>\n",
              "      <td>0.564113</td>\n",
              "    </tr>\n",
              "    <tr>\n",
              "      <td>63</td>\n",
              "      <td>0.848500</td>\n",
              "      <td>1.296810</td>\n",
              "      <td>0.585938</td>\n",
              "      <td>0.577586</td>\n",
              "      <td>0.585938</td>\n",
              "      <td>0.573418</td>\n",
              "    </tr>\n",
              "    <tr>\n",
              "      <td>64</td>\n",
              "      <td>0.842500</td>\n",
              "      <td>1.309280</td>\n",
              "      <td>0.578125</td>\n",
              "      <td>0.577476</td>\n",
              "      <td>0.578125</td>\n",
              "      <td>0.568267</td>\n",
              "    </tr>\n",
              "    <tr>\n",
              "      <td>66</td>\n",
              "      <td>0.794200</td>\n",
              "      <td>1.308392</td>\n",
              "      <td>0.578125</td>\n",
              "      <td>0.576351</td>\n",
              "      <td>0.578125</td>\n",
              "      <td>0.567423</td>\n",
              "    </tr>\n",
              "    <tr>\n",
              "      <td>67</td>\n",
              "      <td>0.786500</td>\n",
              "      <td>1.303995</td>\n",
              "      <td>0.593750</td>\n",
              "      <td>0.602896</td>\n",
              "      <td>0.593750</td>\n",
              "      <td>0.589748</td>\n",
              "    </tr>\n",
              "    <tr>\n",
              "      <td>69</td>\n",
              "      <td>0.783800</td>\n",
              "      <td>1.295961</td>\n",
              "      <td>0.570312</td>\n",
              "      <td>0.585142</td>\n",
              "      <td>0.570312</td>\n",
              "      <td>0.567633</td>\n",
              "    </tr>\n",
              "    <tr>\n",
              "      <td>70</td>\n",
              "      <td>0.777900</td>\n",
              "      <td>1.287647</td>\n",
              "      <td>0.601562</td>\n",
              "      <td>0.599572</td>\n",
              "      <td>0.601562</td>\n",
              "      <td>0.592513</td>\n",
              "    </tr>\n",
              "    <tr>\n",
              "      <td>72</td>\n",
              "      <td>0.724200</td>\n",
              "      <td>1.289101</td>\n",
              "      <td>0.585938</td>\n",
              "      <td>0.607323</td>\n",
              "      <td>0.585938</td>\n",
              "      <td>0.586935</td>\n",
              "    </tr>\n",
              "    <tr>\n",
              "      <td>73</td>\n",
              "      <td>0.718500</td>\n",
              "      <td>1.280039</td>\n",
              "      <td>0.609375</td>\n",
              "      <td>0.613074</td>\n",
              "      <td>0.609375</td>\n",
              "      <td>0.604756</td>\n",
              "    </tr>\n",
              "    <tr>\n",
              "      <td>75</td>\n",
              "      <td>0.719400</td>\n",
              "      <td>1.284737</td>\n",
              "      <td>0.593750</td>\n",
              "      <td>0.601881</td>\n",
              "      <td>0.593750</td>\n",
              "      <td>0.589754</td>\n",
              "    </tr>\n",
              "    <tr>\n",
              "      <td>76</td>\n",
              "      <td>0.669900</td>\n",
              "      <td>1.256327</td>\n",
              "      <td>0.617188</td>\n",
              "      <td>0.612302</td>\n",
              "      <td>0.617188</td>\n",
              "      <td>0.609957</td>\n",
              "    </tr>\n",
              "    <tr>\n",
              "      <td>78</td>\n",
              "      <td>0.667300</td>\n",
              "      <td>1.262632</td>\n",
              "      <td>0.609375</td>\n",
              "      <td>0.600828</td>\n",
              "      <td>0.609375</td>\n",
              "      <td>0.599772</td>\n",
              "    </tr>\n",
              "    <tr>\n",
              "      <td>79</td>\n",
              "      <td>0.644300</td>\n",
              "      <td>1.256083</td>\n",
              "      <td>0.578125</td>\n",
              "      <td>0.582028</td>\n",
              "      <td>0.578125</td>\n",
              "      <td>0.573363</td>\n",
              "    </tr>\n",
              "    <tr>\n",
              "      <td>81</td>\n",
              "      <td>0.653600</td>\n",
              "      <td>1.260408</td>\n",
              "      <td>0.578125</td>\n",
              "      <td>0.593843</td>\n",
              "      <td>0.578125</td>\n",
              "      <td>0.577346</td>\n",
              "    </tr>\n",
              "    <tr>\n",
              "      <td>82</td>\n",
              "      <td>0.597300</td>\n",
              "      <td>1.278265</td>\n",
              "      <td>0.593750</td>\n",
              "      <td>0.608142</td>\n",
              "      <td>0.593750</td>\n",
              "      <td>0.592701</td>\n",
              "    </tr>\n",
              "    <tr>\n",
              "      <td>84</td>\n",
              "      <td>0.641900</td>\n",
              "      <td>1.282001</td>\n",
              "      <td>0.578125</td>\n",
              "      <td>0.581537</td>\n",
              "      <td>0.578125</td>\n",
              "      <td>0.568037</td>\n",
              "    </tr>\n",
              "    <tr>\n",
              "      <td>85</td>\n",
              "      <td>0.611000</td>\n",
              "      <td>1.244675</td>\n",
              "      <td>0.562500</td>\n",
              "      <td>0.567764</td>\n",
              "      <td>0.562500</td>\n",
              "      <td>0.560150</td>\n",
              "    </tr>\n",
              "    <tr>\n",
              "      <td>87</td>\n",
              "      <td>0.599600</td>\n",
              "      <td>1.268982</td>\n",
              "      <td>0.585938</td>\n",
              "      <td>0.601621</td>\n",
              "      <td>0.585938</td>\n",
              "      <td>0.586151</td>\n",
              "    </tr>\n",
              "    <tr>\n",
              "      <td>88</td>\n",
              "      <td>0.596200</td>\n",
              "      <td>1.271292</td>\n",
              "      <td>0.578125</td>\n",
              "      <td>0.578714</td>\n",
              "      <td>0.578125</td>\n",
              "      <td>0.569891</td>\n",
              "    </tr>\n",
              "    <tr>\n",
              "      <td>90</td>\n",
              "      <td>0.569300</td>\n",
              "      <td>1.251242</td>\n",
              "      <td>0.570312</td>\n",
              "      <td>0.588556</td>\n",
              "      <td>0.570312</td>\n",
              "      <td>0.572359</td>\n",
              "    </tr>\n",
              "    <tr>\n",
              "      <td>91</td>\n",
              "      <td>0.542600</td>\n",
              "      <td>1.265354</td>\n",
              "      <td>0.585938</td>\n",
              "      <td>0.588146</td>\n",
              "      <td>0.585938</td>\n",
              "      <td>0.580826</td>\n",
              "    </tr>\n",
              "    <tr>\n",
              "      <td>93</td>\n",
              "      <td>0.527500</td>\n",
              "      <td>1.263004</td>\n",
              "      <td>0.539062</td>\n",
              "      <td>0.554090</td>\n",
              "      <td>0.539062</td>\n",
              "      <td>0.542764</td>\n",
              "    </tr>\n",
              "  </tbody>\n",
              "</table><p>"
            ],
            "text/plain": [
              "<IPython.core.display.HTML object>"
            ]
          },
          "metadata": {},
          "output_type": "display_data"
        },
        {
          "data": {
            "text/plain": [
              "TrainOutput(global_step=500, training_loss=1.1632317271232604, metrics={'train_runtime': 1317.7962, 'train_samples_per_second': 38.853, 'train_steps_per_second': 0.379, 'total_flos': 3.719815527923712e+18, 'train_loss': 1.1632317271232604, 'epoch': 93.75})"
            ]
          },
          "execution_count": 116,
          "metadata": {},
          "output_type": "execute_result"
        }
      ],
      "source": [
        "# Train the model\n",
        "\n",
        "# Put your code here:\n",
        "trainer.train()\n",
        "# ---- End of your code ----"
      ]
    },
    {
      "cell_type": "code",
      "execution_count": null,
      "metadata": {
        "colab": {
          "base_uri": "https://localhost:8080/",
          "height": 37
        },
        "id": "oPs25I0uajwo",
        "outputId": "82386f7d-ce1f-4834-f820-a691819ba9f3"
      },
      "outputs": [
        {
          "data": {
            "text/html": [
              "\n",
              "    <div>\n",
              "      \n",
              "      <progress value='4' max='4' style='width:300px; height:20px; vertical-align: middle;'></progress>\n",
              "      [4/4 00:00]\n",
              "    </div>\n",
              "    "
            ],
            "text/plain": [
              "<IPython.core.display.HTML object>"
            ]
          },
          "metadata": {},
          "output_type": "display_data"
        }
      ],
      "source": [
        "# Evaluate the model\n",
        "\n",
        "# Update your code here:\n",
        "eval_result = trainer.evaluate()\n",
        "# ---- End of your code ----\n",
        "\n",
        "# Save the formatted accuracy in a variable\n",
        "accuracy_str = \"{:.4f}\".format(eval_result[\"eval_accuracy\"])"
      ]
    },
    {
      "cell_type": "code",
      "execution_count": null,
      "metadata": {
        "colab": {
          "base_uri": "https://localhost:8080/",
          "height": 36
        },
        "id": "97i1EKP1fH02",
        "outputId": "03925cc8-a8a9-4803-b834-877ecfecde32"
      },
      "outputs": [
        {
          "data": {
            "application/vnd.google.colaboratory.intrinsic+json": {
              "type": "string"
            },
            "text/plain": [
              "'0.6172'"
            ]
          },
          "execution_count": 118,
          "metadata": {},
          "output_type": "execute_result"
        }
      ],
      "source": [
        "accuracy_str"
      ]
    },
    {
      "cell_type": "markdown",
      "metadata": {
        "id": "rWKglrVxajwp"
      },
      "source": [
        "### Step 8: Publishing the Trained Model\n",
        "\n",
        "Finally, make sure to push your trained model to the Hugging Face Model Hub."
      ]
    },
    {
      "cell_type": "markdown",
      "metadata": {
        "id": "nLHqTuD5ajwp"
      },
      "source": [
        "> **Note**: No need to change the code below! Just run to publish your model."
      ]
    },
    {
      "cell_type": "code",
      "execution_count": null,
      "metadata": {
        "colab": {
          "base_uri": "https://localhost:8080/",
          "height": 181,
          "referenced_widgets": [
            "36775e943e544ca1b6bc6747d8dfeb05",
            "215c02e4b0064f96b8daa53b1c73f33b",
            "981b05a440e6444d96be4d9eb91302bd",
            "1537c5bd2fd543439c4d50f719412338",
            "a451658d96414a8f9db173f6eb270d79",
            "013750a908344284a19cfa2c349d5efe",
            "540311e1b4f54a84a8c9ed289c8f6225",
            "a72c1b389d57461b96216953d7ce3ce9",
            "d810c04d30854befaaa27aa3aa4ab79e",
            "4b520c08750145409be55c6471066eaf",
            "5772956a54a24073938cea8bc2b147e0",
            "2c9a168984c94a458eb1e700f3e64a57",
            "86fd6769450e48cd892b872875915b22",
            "6a35c5a58f65493c998cf764d7274a6a",
            "20d36b1163ee407e9060ac8073744446",
            "fdb8131ffa3a431aa7338574dfb8f94a",
            "37bb3fd0821c48df8674bfb98e1879de",
            "b091fb8f5338416eb9cb56cef555d46e",
            "e4268727e57347d9844427fcc2bf075e",
            "d20e95dba6154ea58d55843b3cf88f11",
            "4f528a25c0a74def8b43fce5357efe8e",
            "16faf2c94b4240f2b857f18fb7aeb5c7",
            "59d9443b7db4488a95c051d138a877e8",
            "54c3925439254699b92db91b05d73c4b",
            "1b93c8d0740445cdbec29ddf391c4daf",
            "a18d30b3022c4a2b99e839e8ac693d6c",
            "e7085e1fd96f4748bcb0fc4d1ee89586",
            "644475b3ba084da7b2e2d2e7c69a9783",
            "a5cc2399a74b46c995af11cf5baace08",
            "7000613cdb6a444da6b344ed67f0e180",
            "7b7e3325ffee43c18b15637d1451107b",
            "f65e1cafb2dc4023bce4b70afefc8e50",
            "4b5058d2ac8e4c69a709376f3e4222f9",
            "fc2a755ab9574d72bbe8f012e2bd1807",
            "f602c46cdb174fb799b012127d10193a",
            "067d4d34af5645efabd275f4b64b0576",
            "89a8ca1cbe964820978b8d0fa108fd97",
            "86d3ed73473c445bab463e4794d1373d",
            "456b39f4ec9943cbac8f91052abe1f5a",
            "2fd1c47d065448e293aee7c116351eb8",
            "c3f4e67d34fe41e98034e42b7221bb63",
            "3a8b9695e99449dd9e710a1a48b1d2d5",
            "53d2d860c4f74527b6b7e2abf9e90413",
            "595516c87bbf4307a165e3f7551f0e1b"
          ]
        },
        "id": "gfTeT-Hxajwp",
        "outputId": "355d7cb0-2d22-4853-ca69-f91567d8ff03"
      },
      "outputs": [
        {
          "data": {
            "application/vnd.jupyter.widget-view+json": {
              "model_id": "36775e943e544ca1b6bc6747d8dfeb05",
              "version_major": 2,
              "version_minor": 0
            },
            "text/plain": [
              "events.out.tfevents.1707677078.fd75205e2bee.1951.6:   0%|          | 0.00/560 [00:00<?, ?B/s]"
            ]
          },
          "metadata": {},
          "output_type": "display_data"
        },
        {
          "data": {
            "application/vnd.jupyter.widget-view+json": {
              "model_id": "2c9a168984c94a458eb1e700f3e64a57",
              "version_major": 2,
              "version_minor": 0
            },
            "text/plain": [
              "model.safetensors:   0%|          | 0.00/343M [00:00<?, ?B/s]"
            ]
          },
          "metadata": {},
          "output_type": "display_data"
        },
        {
          "data": {
            "application/vnd.jupyter.widget-view+json": {
              "model_id": "59d9443b7db4488a95c051d138a877e8",
              "version_major": 2,
              "version_minor": 0
            },
            "text/plain": [
              "Upload 3 LFS files:   0%|          | 0/3 [00:00<?, ?it/s]"
            ]
          },
          "metadata": {},
          "output_type": "display_data"
        },
        {
          "data": {
            "application/vnd.jupyter.widget-view+json": {
              "model_id": "fc2a755ab9574d72bbe8f012e2bd1807",
              "version_major": 2,
              "version_minor": 0
            },
            "text/plain": [
              "events.out.tfevents.1707675595.fd75205e2bee.1951.5:   0%|          | 0.00/64.6k [00:00<?, ?B/s]"
            ]
          },
          "metadata": {},
          "output_type": "display_data"
        },
        {
          "data": {
            "application/vnd.google.colaboratory.intrinsic+json": {
              "type": "string"
            },
            "text/plain": [
              "CommitInfo(commit_url='https://huggingface.co/Firdho/visual-emotion-recognition/commit/e2dcc8cee1a7855a979dad216132091707f2f890', commit_message='End of training', commit_description='', oid='e2dcc8cee1a7855a979dad216132091707f2f890', pr_url=None, pr_revision=None, pr_num=None)"
            ]
          },
          "execution_count": 119,
          "metadata": {},
          "output_type": "execute_result"
        }
      ],
      "source": [
        "trainer.push_to_hub()"
      ]
    },
    {
      "cell_type": "markdown",
      "metadata": {
        "id": "Qb62ha6vBafn"
      },
      "source": [
        "### Step 9: Inference"
      ]
    },
    {
      "cell_type": "code",
      "execution_count": null,
      "metadata": {
        "colab": {
          "base_uri": "https://localhost:8080/"
        },
        "id": "mrsY-HFBBeju",
        "outputId": "3c70638b-d337-4a94-c696-f7af5a79fd91"
      },
      "outputs": [
        {
          "name": "stdout",
          "output_type": "stream",
          "text": [
            "b'\\xff\\xd8\\xff\\xe0\\x00\\x10JFIF\\x00\\x01\\x01\\x00\\x00\\x01\\x00\\x01\\x00\\x00\\xff\\xdb\\x00C\\x00\\x03\\x02\\x02\\x03\\x02\\x02\\x03\\x03\\x03\\x03\\x04\\x03\\x03\\x04\\x05\\x08\\x05\\x05\\x04\\x04\\x05\\n\\x07\\x07\\x06\\x08\\x0c\\n\\x0c\\x0c\\x0b\\n\\x0b\\x0b\\r\\x0e\\x12\\x10\\r\\x0e\\x11\\x0e\\x0b\\x0b\\x10\\x16\\x10\\x11\\x13\\x14\\x15\\x15\\x15\\x0c\\x0f\\x17\\x18\\x16\\x14\\x18\\x12\\x14\\x15\\x14\\xff\\xdb\\x00C\\x01\\x03\\x04\\x04\\x05\\x04\\x05\\t\\x05\\x05\\t\\x14\\r\\x0b\\r\\x14\\x14\\x14\\x14\\x14\\x14\\x14\\x14\\x14\\x14\\x14\\x14\\x14\\x14\\x14\\x14\\x14\\x14\\x14\\x14\\x14\\x14\\x14\\x14\\x14\\x14\\x14\\x14\\x14\\x14\\x14\\x14\\x14\\x14\\x14\\x14\\x14\\x14\\x14\\x14\\x14\\x14\\x14\\x14\\x14\\x14\\x14\\x14\\x14\\x14\\xff\\xc0\\x00\\x11\\x08\\x02\\xee\\x02X\\x03\\x01\"\\x00\\x02\\x11\\x01\\x03\\x11\\x01\\xff\\xc4\\x00\\x1d\\x00\\x00\\x01\\x05\\x01\\x01\\x01\\x01\\x00\\x00\\x00\\x00\\x00\\x00\\x00\\x00\\x00\\x01\\x00\\x02\\x03\\x04\\x05\\x06\\x07\\x08\\t\\xff\\xc4\\x00H\\x10\\x00\\x01\\x03\\x02\\x05\\x02\\x04\\x04\\x03\\x07\\x02\\x05\\x02\\x05\\x03\\x05\\x01\\x00\\x02\\x11\\x03!\\x04\\x05\\x121AQa\\x06\\x13\"q\\x072\\x81\\x91\\x14\\xa1\\xb1\\x08#BR\\xc1\\xd1\\xf0\\x15\\xe13br\\x82\\xf1\\x16$%5CS\\x924c\\xa2\\xc2\\x17Es\\xb2\\xff\\xc4\\x00\\x1b\\x01\\x01\\x00\\x03\\x01\\x01\\x01\\x01\\x00\\x00\\x00\\x00\\x00\\x00\\x00\\x00\\x00\\x00\\x01\\x02\\x03\\x04\\x05\\x06\\x07\\xff\\xc4\\x00.\\x11\\x00\\x02\\x02\\x02\\x02\\x02\\x02\\x02\\x02\\x01\\x04\\x01\\x05\\x00\\x00\\x00\\x00\\x01\\x02\\x11\\x03!\\x121\\x04A\\x13Q\\x05\"2a\\x14#3q\\x81B\\x06$R\\x91\\xa1\\xff\\xda\\x00\\x0c\\x03\\x01\\x00\\x02\\x11\\x03\\x11\\x00?\\x00\\xfa\\xbc\\x9bo\\xc7(\\x17\\x03\\xb4$D^\\xde\\xfd\\x10\\xf9\\x8e\\xf3nW\\xd2\\x9f.\\x02`H\\x00\\xa6\\xc9\\x02\\xee\\xf6Oph\\x92\\x04Jdoo\\xfc \\x04@\\x1f\\x9a{:\\xf2\\x99y \\x9b\\'2\\'\\xfal\\x80p\\x02O\\xf9\\t\\xa2\\xcc\\x983}\\xd3\\x85\\x8cD!\\xf2\\x90y@\\x0e\\xfb^\\xe3\\x80\\x94\\x0eI\\x11\\xd1;h\\x91\\xbe\\xd0\\x81h\\x91\\x03\\xea\\x80l\\x00-\\xb0M\\'\\xa4\\x9f\\xf3\\x94\\xed\\x88\\xe9\\xd55\\xde\\xd2x@\\x124\\xed\\xb6\\xe8\\x01#o\\xb7D\\x9d\\xb4I)\\xbc\\xdb\\xecB\\x01\\xc4\\x907\\x94\\x08\\x9bM\\x92>\\xb8\\xdaz\\xa2l\\t6\\x1c\\xa0\\x1a\\xf6\\xc9\\xef)\\xda\\x88\\xf7\\x88\\x92\\x10\\x06\\x07dF\\xdbG@\\x10\\x00\\x98\\x02\\x07\\xdc\\xa3\\xc4\\xc96\\xe4$A7\\xe2R\\x99\\xb4\\xf1\\xf6@&\\x9911\\xd5\\'\\x10w0:\\xa4@66$\\xc4%2\\xd1\\xcf\\x11\\xd1\\x00\\xa4\\x913\\x11\\xb1DX\\xf6H\\xee\\'\\xea\\x81\\x11\\x10=#t\\x03\\xae.6\\xec\\x84\\xfa}6\\x9e\\x12\\x07H\\x8e\\'t;\\x0b}P\\x0bp \\xf0\\x8d\\xc4\\xcd\\x80\\t\\xb1\\xb9Gss\\xf5@\\x11 \\x83\\xb8%\\x00c\\xac\\xf6I\\xa2d\\x88\\x9e\\xe8\\xb6\\xe3\\xa7t\\x00\\xed\\xd9#\\xf5>\\xdc\\xa0\\t30Q\\x03U\\xb8@\\'X\\x91\\xb9\\x8b\\xa6\\x88\\x9b\\xdf\\xb2t\\x896\\xe5\"v\\x07~\\xc8\\x01?S\\xc2E\\xd0=\\xc7\\xd1(\\xb9\\x1f\\x9a\\x04\\xc9\"\\x01(\\x03\\x1b\\x1b\\x1e`\\xa5!\\xc6O\\t\\xb3w\\t&\\xf6C\\xa9\\xdd\\x00C\\xa0\\x88\\xda/dM\\x8c\\xdc\\x83\\xd93V\\x9b\\x0f\\xf6H\\xb8r\\x80w\\xcd\\xb5\\x84Zy@\\x19\"\\xdf~\\xa9\\xb3\\x10{\\xf5D\\xbaGu\\x17\\xf6\\x07j;I\\xbah\\x06w\\xfa\\xa4\\xd7\\xc8p\\xd5m\\xcc \\xe7\\x80\\xd2\\xed\\x80Sh\\x0f\\xd5\\xa8\\x90L\\xdd\\x00\\xebKd\\x9d\\xa7e\\x18\\x04\\x82\\\\`\\x1d\\x82\"\\xa3fC\\xa7\\xa4(\\xb4\\x07\\x82\\xeb\\x88\\x11(\\xc4\\x9e\\x80\\xec\\x9a\\x0b\\x89\\x8b\\xc72\\x13\\x83\\xc4\\t\\xbc\\xa9\\x01\\xd6m&,\\x88\\x9e\\xb7\\x9eS&{\\x0e\\xc9j\\x81\\xb4\\x9e\\xbb \\x1f!\\xae\\x11p\\x12o\\x04\\x9b\\xf4\\x84\\x0b\\xc6\\x98\\x81(L\\xd32x\\xdd\\x00\\xf9\\x81{GT4\\xdf\\xfb\\xa0M\\xcc}\\xd3\\x89-q\\x8d\\xd0\\x00\\x89\\xbc_yN\\x98#\\xf3M\\x12[\\xb7n\\xc8\\x91\\xcfT\\x01tI1 vCx\\xb9Kc\\xb8J#\\x98\\xf7@9\\xc7\\xafI\\x84\\x1a`\\x02\\x84\\x12\\t\\x9d\\xba\\x04D\\x1d\\xf6@-s\\x16;\\xa7\\x01\\r\\xb9\\xfa\\x02\\x9a\\x01\\x912O\\x12\\x9cD\\xcd\\xcc \\x00:x\\x91\\xdd)\\x1dOC\\xd9(\\xb6\\xa0\\xe1n\\x027\\xff\\x00\\xc2\\x00\\t\\x8d\\xa0p\\x9c\\x1c\\xe7\\x08\\x04\\x90\\x91\\x87D \\xdfm\\xef\\xbc\\xa0\\x013\\xc0N\\x16\\x1d\\xa3d\\x1a,A\\x1fdu\\x00\\xd2\\x06\\xf1d\\x03.\\xe2$\\xa7\\x12/\\x13\\x1b\\xdd\\x02\\x01\\x00\\x83\\xd8\\xa4\\x1d\\xa7\\xa0\\x1bl\\x80-;\\xc4{\\x94d\\x94\\x04\\xc8\\x8eR2\\x1b3\\xb5\\x90\\x0e\\x9fM\\x8ah\\xe9\\xbc\\xa0\\xd3&\\xd7\\xfa\\xa7{\\x13\\x1d\\xd0\\nl\\x06\\xe9 l[\\xd3\\xf5I\\x01!:\\xa4\\x84\\x01\\xe2\\x0f\\xd9\\x124\\xfd9Bdt!\\x00\\xd7\\x18i\\xf7\\xe14\\x89\\x11\\xd6\\x13\\x9c\\xe3\\xac\\xd8G`\\x9acs\\xb7NB\\x018\\x10\\x0ft\\x7f\\x8by\\x93d$\\x88\\x84uI\\x11\\xec\\x80p\\xdb\\xbf1\\xb2D\\xc7C\\xd2\\x10t\\xc9\\x84C\\x8fS~\\xaa\\x12\\xa0\\x01\\x01\\xa4\\xcd\\xa6\\x10\"\\xd0w\\xfdS\\x83\\xaeH\\x1fB\\x906\\xbd\\x8f\\xea\\xa4\\x0c&{Bi\\xb90\\x00\\x93\\xca{\\x84\\x13\\xdd4X\\xfb\\x9e\\x10\\r\\xde\\xd3#h\\x84\\r\\x8e\\xd0\\x11\\xee&x\\x84OPe\\x00\\x03w&\\xc0\\xec\\x90h\\xd9\\xc7\\xec\\x95\\xa4\\x1d\\xb8H\\x86\\x97p\\x80q\\x02$]\\x01\\x07\\xde-(DZ\\xe6.}\\x93\\xa3_\\x1f\\xf8@ u\\t\\x81m\\xd2\\x06d\\xf5\\xe1\\x08\\x00\\xd8\\xccZJ\\x00\\xc93\\xf4\\x08\\x03c\\xc26\\x81\\x00\\xa0\\x0c\\xdf\\xaf)\\x00\\x80\\x16\\x03\\x809Nk\\x84\\x92P\\xb8\\xf7\\xe8\\x8c\\x186\\x10\\x80Q \\x81\\xb1B F\\xc5;i\\xb0\\xdbiM\\x00\\x91\\xfc\\xd3d\\x02;\\xc2S{o\\xbaPD\\x9e\\xfb v\\xfc\\x8a\\x01\\xce\\xbc{&\\x8d\\x85\\xc9\\x1dz\\xa7_\\xb0@\\x1b\\xdc\\x98\\x9d\\x90\\x01\\xb7\\xf7H\\x90\\r\\xec\\x94\\xfaL\\x08\\x847\\xfb \\x14\\x80mp\\x88\\x92f\\xc5\\rW2a6v\\x83<*\\xf2\\xd8\\x1eM\\xec\\x9b\\xabo\\xcd\"L\\\\\\xcc&\\x12C\\t\\x06\\xe0(\\xbf\\xb0\\x17:\\x0cX\\x9e\\x02c\\xab48\\x82\\xe1 \\\\\\x04\\xd7K\\xcf\\xa8\\x90\\r\\x88\\xd8\\xa8\\x9a\\xe6\\x9bi\\xf2\\xda7;(\\xb2\\t\\x85fp\\xf1\\x1d&\\xe8\\n\\xec|\\x80A\"\\xc0\\x05\\xcd\\xf8\\xcf\\xc7>\\x1f\\xf0\\x16X\\xfc\\x7f\\x883L&\\x03\\x08\\x01!\\xd8\\xa7\\x86\\xba\\xa4p\\xc0n\\xe3\\xed+\\xe7\\x1f\\x18~\\xde\\x1e\\x17\\xcbq\"\\x86Q\\x81\\xc5\\xe7\\x81\\xdbU3\\x87\\xa4\\xde\\xcdt\\xeaw\\xd6\\x02\\x87:\"\\xcf\\xacu\\xc3w-h\\xbf`\\x99\\xe6\\x97<h\\x1a\\x81\\x1bv\\xea{/\\xcf/\\x14\\xfe\\xdd~4\\xcc\\xaa\\x1aY^\\x13\\x07\\x94\\xe1\\xbeP\\x1c<\\xe7\\x82N\\xe4\\xba\\xc0\\xf6\\x82\\x17\\x19W\\xf6\\xb0\\xf8\\x81S\\x1aj\\xd4\\xf1\\rLM\\x1aW\\x18z\\xd4\\x83Z\\xf8\\xfem\\x1aM\\xfa\\xcf\\xb4*9\\xd8?O\\xde\\x1c\\xd7\\x87\\\\\\x99\\xb0\\xd3q\\xfdB\\xc3\\xc7\\xf8\\xa3\\x0b\\x86\\xaa\\xea\\x0e\\xaa\\x0b\\xe9\\x90N\\x9fW\\x1fo\\xbf+\\xf3\\x8e\\x8f\\xedI\\xe3\\xea\\x9a\\xea77\\xc6\\xe1\\xb0\\xcc!\\xf4\\xb0\\xc2\\xa9s\\x04p5n\\x08\\xdeV\\xff\\x00\\x8a\\x7fi\\xacg\\x88\\xf2J\\x98:Xs\\x86v \\xb2\\xa6)\\xec\\xf9_P6\\x1c\\xe0\\x1dx\\'\\x83*\\x1c\\xdb\\xe8\\x9bG\\xda\\x9e&\\xf8\\xbd\\x92\\xf8[-8\\xdca\\x0eav\\x96\\xbb\\xcf\\x0fs\\xcc\\xc1\\xb3v\\x13\\xb9\\x90.\\x17\\x91\\xe2\\x7fm\\xff\\x00\\x0ea+\\xd7\\x0e\\xca\\xb1\\xd4\\xda\\xc7iae\\xda\\xf3\\xd6\\x0f\\x1d\\xd7\\xc7u|W\\x89\\xcc*MLf\\x86\\xc0\\x00\\x93\\xabM\\xb8\\x16\\x1f\\x92\\xa9Q\\xaf\\xad\\x87.eGU\\x05\\xc4\\xb9\\xcdh\\x13\\xf5\\x06R\\xed\\x19<\\x9fH\\xfb\\xc7\\xc3\\xbf\\xb6\\xd7\\x80\\xf3g5\\x98\\xdc[\\xf2\\x87\\x16\\x89\\x18\\xf69\\xa3\\xe8\\xf0#\\xef\\x0b\\xd5<\\'\\xf1\\x8b\\xc2~4\\x01\\xd9Fu\\x85\\xc6\\xcd\\xa2\\x93\\xc3\\x8f\\xd8\\x12W\\xe4\\xf63\\x06\\xdf05\\xa2\\x993w8\\x90O\\xf6V09=z-f\\'\\x04\\xf7\\xe1\\xf1!\\xc41\\xf4\\x1e\\xe0\\xe0{9\\xa4\\x99\\xfa\\x05*SKE\\xb9\\xa3\\xf6)\\x95\\x9bXH2\\x9e\\xd7r\\x08\\xfe\\x8b\\xf3#\\xc0_\\xb4g\\xc4\\xff\\x00\\x86\\xb5\\xe9;\\xfdR\\xb7\\x882\\xc6Y\\xd8,y/\\x8bZ\\x1f\\x1a\\x87\\xb4\\xc2\\xfa\\xa3\\xe1/\\xed\\xa9\\xe1O\\x1dbi\\xe5\\xf9\\xdb\\x7f\\xf4\\xeel\\xe7\\x862\\x96!\\xd0\\xda\\x86`C\\x8f\\xa4\\x93\\xd2g\\xb1Z)\\xdfe\\x93L\\xfaD\\x12[{\\x0e\\x818\\x18\\x00O\\x10J\\xab\\x82\\xc6\\xd0\\xccp\\xcd\\xc4a\\xabS\\xafI\\xc6\\x03\\xd8\\xe9\\x00\\xf4\\xf7\\xec\\xacl\\xb4,\\x1d\\\\ZG\\xe4\\x88$\\xf0\\x80\\xb0\\xb6\\xdd%)\\x10{\\xa0\\x13\\\\@\\xea\\x13\\xbf\\x84L\\x03\\xdd\\x02t\\x8e\\x87\\xdd\\x19\\x11acx\\x01\\x00\\x81\\x00\\x9b\\x89F\\xf3\\xd2\\xc8\\x03nO\\xe4\\x8bw\\'\\x8d\\xa1\\x00F\\xd1dgO\\x17\\xec\\x9b\\xc5\\xb9G\\xe6\\x04n\\xe4\\x02&\\xfc\\x88\\xea\\x91\\xbbw1\\xdd\\x10N\\x98\\xdb\\xe8\\x96\\xfe\\xc0\\xee\\x80B\\xc4\\x04@\\x8b\\xf4@\\x10I\\x1c\\xc5\\x92\\xd4A\\xb7\\xe6\\x80-t\\xf2\\x00\\x1d\\xd2\\x13&\\xf6\\xdeR\\x02d\\xb8\\x89\\x1f\\x9aZ}S\\xd7s(\\x02E\\xcf\\xaam7(\\x19\\x91;\\xec\\x83o7 \\'7\\xa5\\x82\\x01\\xb1r\\t\\x84@\\x87L\\x8fr\\x12\\xe3xH\\xc1\\xe6\\xfd8@+\\x1e=\\xcc\\xa5\\x17\\x98\\x1f\\xdd\\x13\\xf2X@\\x1d\\xd2\\x1e\\x9f\\xa7\\x1c\\x04\\x00\"\\x08\"\\x0f\\xb2$\\xf31\\xd4$\\x18gs\\xd4\\xc2\\x02\\xe2\\xea@\\x80\\x91r\\x92D\\xcf\\xcc\\xebJJl\\x0f1\\xb4\\x1b\\xde\\xc5-\\xc9\\x9b\\x7ft\\x9andA\\xe3\\x88F8\\x82\\x00\\xdb\\xba\\xa8\\x18D\\t\\x88\\xee\\x9a\\xe6\\x90\\x0f\\xea\\x9eO\\x00\\xc1\\xfb\\xa0`\\x01\\xb7\\xd5\\x00\\xcb\\xe9\\'\\x82wI\\xb3\\xb8A\\xc4\\xed\\xa4\"\\xd1\\xc4H@8\\x13\\x11\\xf3{%$\\x81\\xc1\\x1b\\xa3b$\\x94Kgk\\x04\\x03\\x08\\x8bL\\xa7;\\xd4&\\xff\\x00@\\x94\\xecN\\xf3\\xba\\x0e\\x1aL\\x1b\\xc6\\xc5\\x00\\x1d\\xf2\\xc0\\xb0\\x8e\\x02\\x03\\xd5hD\\xc80n\\x127\\x89\"\\xfc \\x1a}\"J\\x00Z\\t\\t\\xce$A\\x80}\\xd3H\\x82.\\x0fD\\x017\\x1b\\x91\\xc4\\xa0}C\\x8e\\xa9\\x00\\xe9\\x83pR\\xf9\\x7f\\xcb \\x0b\\xa4\\x0b\\x88\\x1de \\xd1ay;B\\x1a\\x890l\\x13\\x89\"e\\x00\\x88\\x9d\\xbf2\\x86\\x9dS\\xaa\\xe7\\xdd#f\\xed%-\\x88\\x11\\x13\\xbc \\x08\\x82&8\\xba\\x04\\x16D\\x8d\\xd2\\xb1\\xde\\xdd\\x92&\\x04\\x007\\xb2\\x01\\x01b\\x00)\\x11\\x02G)9\\xa4\\x93\\xc5\\x91i\\x91\\xee\\x80\\x17\\xf9x\\x08\\x13\\x06\\xc0\\xcat\\x16\\xdf\\x7f\\xaa\\x16\\xb9\\x91\\xed7@ z\\r\\x92\\x05+t\\xfb\\xdd-[\\x8f\\xa4\\xa0\\x06\\xaf\\xa7\\xb2\\x06\\xe3s\\x1d\\x120\\xc1\\x05 \\xeb\\x8e\\xf2\\x80\\\\\\xa0Zb\\xdb$H73\\x03a\\x088\\x93\\xc96Tr\\x00\\x9d\\xe6B\\x05\\xd6\\xeb\\x1dJ.$\\x0eD\\xede\\x19:A\\xb9\\xea\\xaa\\x07\\x13\\xa67\\x8e\\xaa2e\\xc0\\x1e\\x92\\x9d\\xa8G$\\xaf-\\xf8\\xd5\\xf1\\xf7\\xc3\\x9f\\x072\\x9a\\x95\\xb1\\xf8\\xa1W2\\xa8\\xc8\\xc3\\xe0i\\x10\\xea\\xb5\\x1d\\xc5\\xb8oW\\x1b{\\xa8`\\xee<Q\\xe2\\xcc\\xa7\\xc2Yn#0\\xcd\\xb3\\x0c6]\\x84\\xa1L\\xbe\\xa5|K\\xf4\\xb4\\x01\\xf9\\x9f`\\t_\\x1d\\xfc`\\xfd\\xba+c\\x9c\\xec\\xb3\\xe1\\xf5:\\xb4\\x9b\\xb3\\xb3\\x8c] \\xd2\\xed\\xedJ\\x91\\xf9G\\xfc\\xce\\xbf`\\xbey\\xf8\\xb1\\xf1\\xcb?\\xf8\\xb9\\x99\\x1a\\xb9\\x9e%\\xcc\\xc11\\xe5\\xd4p-1M\\x83\\x8dD\\xdd\\xce\\xee~\\x80.[(\\xc0\\xd4\\xc6\\xbcj{\\x05)\\x03O\\x95c\\xf57Y\\xf2l\\xab\\xd1s<\\xcf\\xfcC\\xe2\\xccU\\\\\\xc37\\xc5c3Lub\\x1akbj=\\xeeh\\x897\\xe8ma\\x02\\xcb2\\x8eU\\x8e\\xf3\\x80\\xaf\\x83\\xa8DH\\x1e]\\xa7y6\\xe3u\\xd0V\\xa1\\x81\\xc9\\xe4\\xbb\\xcd\\xf4\\xb4\\x90u\\x90\\xe0x\"w#\\x98\\xf7X9\\x9f\\x8a_Z\\x98\\xf2\\xeb\\x92\\xe04\\xfa\\x98$\\x9f\\xfa\\x81\\xfe\\x8a)v\\xca\\xa7)t\\x8dL.O\\x83ii\\xc5Tc\\xde\\xc7\\x13P\\xb8\\x98p\\x89\\x06bD\\xf56\\xd9f\\xe3s<\\x0f\\x98\\x7f\\x0b\\x81`\\x01\\xd2\\x0c\\xea\\x00\\x8e~\\xbd6\\\\\\xf3\\xb1x\\x9cMM:\\xddP\\xb8\\xce\\xa9\\x92>\\xa9\\xb5\\x1f\\xe5\\xf1\\x17\\xfa\\x10\\xaa\\xe5}\\x13\\xf1\\xfd\\x97q\\x99\\x95z\\xde\\x92\\xe0\\xcaa\\xc4\\xb6\\x9bl\\x04\\xf4T\\x8b\\xdc\\xf7\\xfa\\x9d\\xad\\xdd\\xcc\\xa8\\x9dU\\xd3$\\xea\\x1bo\\xb2\\x0c\\xad\\xa5\\xf2L\\xf6\"UM\\x14K\\xd8\\x7fMA4\\x05Wo\\xa4\\x13\\xfd\\x16\\x8e\\x1f\\x15M\\x806\\xa5\\'0\\x8d\\x86\\xe7\\xf3\\xbc*\\xb8c\\x83\\xac?|\\xd7\\xd0;\\x07\\xb0\\xead\\xf7\\x9b\\xb7\\xee\\xb7i\\xe5\\xe2\\x8b)\\x12\\xe1\\x88a\\x04\\xcf\\xcf\\x03\\xa8\\xed\\xecAV\\x89YF\\x87a\\x1e\\xdcQ\\xd3M\\xf4\\xaa\\r\\xc3*\\x175\\xc3\\xad\\xc9\\xb1\\xfa\\xa9\\xbf\\x0bZ\\x8dP\\xf6S\\xad\\x87\\xaa\\x1b\\x117\\x8b\\xdc9\\xb0\\xef\\xb8>\\xea/\\xc3\\xd6\\x0e\\x03KjRsO\\xc9$\\xb4r6\\x91\\xf5\\x90\\xac\\xd1\\xa1B\\xb6\\x1bM7\\x12\\xe7\\x02tTti#\\xa1\\xdc}\\x0f\\xbbV\\x88\\xe7\\xd5\\x96\\xf0Y\\xae5\\x8d4\\x9f\\x895i\\xb7\\xd4\\x1bY\\xbe`#k\\x91\\x06;\\xa5\\x8f\\xa03\\x02][\\x08\\xda\\xf4\\xdf`\\xd6>L\\xff\\x00\\xcb\\xd4\\xf6\\x17PQ\\xa5T\\xc3\\x86\"*\\x83\\x06\\x9dm\\xdc8\\x87\\x8f\\xea\\x02\\x99\\xd5\\x9fO\\xd3\\x88eF8\\\\H\\x05\\xde\\xdf\\x976\\xe8T\\x94\\xda=#\\xe0\\xdf\\xed#\\xe2\\x7f\\x84X\\x8atYY\\xde#\\xc9\\x1c@v\\x13\\x10\\xe21T@\\xb4Sq0\\xe8\\xfeWOh_|\\xfc3\\xf8\\xbb\\xe1\\xff\\x00\\x8a\\xd9#3\\x1c\\x97\\x1bN\\xb8-\\x06\\xa5\\x1d\\x9dI\\xd1v\\xb8n\\x08\\xe4\\x1b\\xaf\\xcb\\xd7\\xd2n:\\x9b\\xaa7EC\\x12^\\xff\\x00H\\xdf\\x9f\\xb6\\xfb\\x8e\\xab[\\xc0\\xbf\\x103\\x9f\\x86\\x9e*\\xc3g\\x19F/\\xf09\\x81\\xf4\\xbd\\xa2_K\\x13L\\x10|\\xb7\\xff\\x00;Log7p\\xa1Z7\\x8c\\xefL\\xfd]\\x0f\\x97\\x891{N\\xc5H]\\xb9\\x06-\\xd1y\\x9f\\xc1/\\x8c\\xf9W\\xc5\\xff\\x00\\x0e7\\x13\\x85\\x0c\\xc3f\\xb4@\\x18\\xdc\\x03\\x8c\\x96O#\\xabO\\x07\\x9e\\xd0B\\xf4\\x86\\x13\\x00\\x1f\\x94\\xed\\xfd\\x96\\xeaVjHH\\x93\\xfdR\\x83\\xcc\\xc6\\xf2\\x12k\\x85\\xc1\\xe1\";o\\xddZ\\xc0\\xfd\\xc7\\xea\\x901n!\\x02\\x07\\xf0\\xfd\\xe5\\x11\\x11\\x06\\xfd\\xd4\\x81\\x03:\\xbb\\xa7I\\x1c\\xc2`7\\xb8N\\x91\\xff\\x00\\x85\\x002t\\x92 \\x0eQ\\x00\\x92\\x0cM\\xbe\\xe8Kd\\x1d\\xe3\\xf3FH=\\'\\xa2\\x01\\x03\\xf4GU\\xa0\\xd8O\\x08\\x13x\\x8bD\\xc8@X\\x17\\x0b\\x1e\\xe8\\x07@\\x11\\xc1\\xe5\\x12\\t\\xff\\x00\\x98\\xf4\\t\\xa0I \\xf3\\xc2q\\x80\\r\\xa0\\x94\\x01\\x8b\\x7f\\xb2i\\xb7\\xfeS\\x80\\xd2\\xd1\\xd5\\x03\\xb8\\xe2\\x10\\x07h\\t4\\xef\\xb9 \\xa0.\\xf0I&\\xc9\\x1d\\xec-\\xd9\\x00\\x81\\x99\\xfc\\xd01\\x1b\\x9b\\xd8\\x19Ff\\x04\\x00\\x8e\\x99\\xfa\\xf4@\\rZ\\xb9\\x81\\xee\\x9b\\xa8\\x91\\xb9\\xfa\\xa7h\\x04\\xf33\\xd5\"@=}\\xd0\\x02 \\xf5\\t%\\xfc[o\\xcaH\\x07\\x9b\\x83\\xd7\\xaf\\xf4A\\xc2F\\xc6\\x07D]\\x06\\xfd\\xa5\"\\xd8\\xb9\\x8e\\xc8\\x02]\\x02\\xf1\\xb7\\x17L :J&\\x0f$\\x94\\xd27\\x88@\\x08\\x9b|\\xc8\\x03\\x0e\\x03\\xaf\\xd9 f.=\\xd2\\x02I\\x9e\\x10\\x0e\\x06fn\\x8d\\xec-\\xd9 \\x00\\xff\\x00t\\x84\\xcc\\xcf\\x1c\\xa0\\x17\\x04\\xd8v@X\\x11(\\xc0\\x8d\\xfe\\xa9\\x07\\x08\\x06\\x02\\x00\\x10M\\xff\\x00$\\t\\xd3\\xd2\\xe8\\x92A\\x8b\\x03\\xf9&\\x98\\xbd\\xee\\x80\\x10\\x01<\\xcf\\xf0\\xa0\\x00v\\x99\\x08\\xde6\\xb7m\\xd2p:\\x86\\xe0w@!p\\'\\xea\\x96\\x92\\x00\\x9b\\xce\\xe9\\x03r\\r\\xbb%0\\x80\\\\L\\x08@\\x00\\x05\\xae{\"\\x0f\\x1b\\xff\\x00T\\xa2\\xd0\\x0c\\x83\\xf7@(\\x9e\\t\\x8e\\x89\\x08\\xe4\\xf0\\x97\\xd1 M\\xed=\\x82\\x01\\x01\\xaa\\x08\\x13\\xcap\\xdb`HBH3\\xfd\\x12t@\\xdeJ\\x01\\x02v\\xe7\\x94\\xa3H\\xda\\xfdR\\x82\\xd3\\x1c\\xa4A\\xb6\\xd6\\xea\\x80\\x1b\\xef\\xb1\\xfc\\x90#\\xfd\\xd1\\x02x\\xd9(\\x81\\x13\\xf9 \\x11\\x86\\x8b\\xc4\\x14\\x85\\xbe\\xe9\\xb3\\xbd\\xa4\\xa7D\\x8d\\xf6\\xdd\\x00\\xd2$\\xc6\\xc5\\x02 @\\xfb\\x14\\x80!\\xb7 \\x8d\\xd0.\\xe9\\xbfuV\\xe8\\x08:\\xfb\\xc7\\xbak\\xbd\\'y#\\x81\\xd5\\x10/\\xfd\\x93\\x0cA\\x01P\\x08\\xbby\\xe9hQ9\\xf1\\xb8\\x9e\\x0c\\x98\\x01\\x17\\xbc0\\x12\\xe8\\x03y<\\x0e\\xab\\xe3\\xff\\x00\\xda\\xe3\\xf6\\xad\\x7f\\x87?\\x11\\xe0\\xcf\\x07\\xe3\\x03sG4\\xb3\\x1f\\x98Qu\\xf0\\xa0\\x8f\\x91\\x87\\xff\\x00\\xb9\\x1b\\xff\\x00,\\x8ev\\xabtC:\\xbf\\xdaO\\xf6\\xb5\\xcb>\\x1aS\\xaf\\x90d.ne\\xe2W\\xb4\\x87\\xe8w\\xee\\xb0\\xb2-\\xac\\x8b\\x93\\xff\\x00(\\x82F\\xe4/\\xcf\\x9f\\x12\\xf8\\xb31\\xf1^u\\x88\\xcd3lULv:\\xb9\\x9a\\x95k\\x99>\\xc0l\\x07a`\\xb2k\\xe3\\x1fY\\xf5\\x0b\\x9e\\\\j8\\xb9\\xeft\\x978\\x932N\\xeb\\xa0\\xc8\\xf2Z\\x87\\xcb{\\xa94\\x12f\\x1c\\x03\\\\G\\xf3I\\x92\\x07\\xb2\\xc1\\xb7\"\\xd5[`\\xc80\\xd5q5\\x9b?\\x87k\\\\c\\xf7\\x94\\xc1\\x1dz.\\x975\\xab\\x83\\xcb\\xf0\\xae\\x8a\\xb8Z\\xb5\\r\\x8b]M\\xdb\\xc7Y\\x91\\xef\\xd9Z\\xc4\\xd4\\xc2d\\xf9Q5*S\\xa8\\xe2\\xdf\\x95\\x8c/ \\xde\\xf2L\\t\\xfa\\xca\\xf3\\x9c\\xe30\\xa5\\x8c\\xaa\\xe6\\xd3\\xa6Z\\xd0lN\\xe4wS\\xd6\\x8c\\xe3\\xfb2,~5\\xf8\\xa2\\x0e\\xa7\\x9e\\xce~\\xa0\\x0fb\\xa7\\xcb2*\\xb8\\xeaN\\xaaXKbDt\\xf7\\xf7T0\\xad5+\\xb5\\x84j=baz\\x06Y\\x83~\\x0b)}&\\x17\\xd1/m\\xbd:\\xaf\\x17\\xb7\\x04\\xfeK\\x19:;\"\\x91\\xc8\\xd5\\xc3\\xb6\\x8d(\\r\\x9b\\xc03o\\xaa\\xa5Q\\xe5\\x87k\\xed+K\\x1c\\xcf\\xc3\\x1d\"%\\xd1\\'\\x9fi\\xe5dU..\\xb9\\x9e\\x80lU\\x91\\x9c\\x96\\xc0K\\x06\\xe6I7\\x04\\x12\\x81\\x1a\\x1c\"\\x1e\\xde\\xe9\\x96&\\x0e\\xddz)@6\\x93-6\\xd6\\r\\xbe\\xaaEQ>\\x0e\\xa52\\xf2\\\\\\xe7\\xd3 Y\\xc0\\xdc}zv[yug`j\\x01:\\xa9T2\\x001\\x7f\\xfaM\\xbe\\xcb\\x01\\x94\\x9d\\xe6h\\x7f\\xa0\\xf0\\\\\\xb5p\\xb5\\x9f\\x97\\xba*S:\\x1e,O\\xa9\\xa4o\\xc7\\xdeG\\xfb\\xa9N\\x8a=\\x9dn\\n\\xb0\\xcch9\\xb4\\xf4\\xb6\\xb0;\\x1f\\x95\\xfd\\x04\\x1eGx*ga\\xe9c\\x1c\\xfaX\\x8ao\\xa1\\x8a\"d\\x11r9\\x04o\\xf5\\xdcuU\\xf2\\xdc\\xba\\x9e*\\x9btT8j\\xef\\r\\xd2\\xfdC\\xd5\\xda\\x7f\\x88\\x1e\\x97#\\x89\\xd9i\\xd2\\xc3?[0x\\xe6\\xb9\\xec3\\xa6\\x9bbI\\xff\\x00\\xf6\\xdd\\xff\\x00\\xf4\\xfe\\xabe\\xd1\\xcf(\\x94]F\\xbe\\x06\\xa9\\xa7\\x8a\\xa5\\xa9\\xa5\\x90*\\xd32 \\x0eF\\xf1\\x07\\x95n\\xbe\\x0b\\x13\\x81\\xa5E\\xcd\\x9a\\xb8w\\x80\\x04\\t\\x1fN\\x9e\\xdb)\\xcd7\\xcf\\x93Y\\xfec&[\\xa9\\xdaH\\xeeG\\x07on\\xe1\\\\\\xc2\\xe1\\xb1XG\\xd2aq\\x0ck\\xb4\\x86\\x80\\x03\\x80 \\xda>\\xd2,\\x0c\\x88\\x82\\xa4\\xc4\\xe7\\xeb2\\x88\\xa6\\xda\\x80\\ns\\xaa\\xce\\x96\\x82G\\xf2\\x9e\\x08\\xe8G\\xd3e\\x97\\x88\\xc3V\\x14*\\xbd\\x8d\\xf3p\\xed\\xbb\\x99\\xb3\\x9b}\\xe3\\xfb.\\xc7\\x13I\\x98\\xb7\\x06\\xbe\\x93X\\xf7G\\xaa\\xe1\\x85\\xa2v\\xe6;|\\xde\\xeb\\x0f1\\xa4\\xfc\\xba\\xa3\\xddOV\\x86\\x10d\\x12|\\xb9\\xd8\\x03\\xfcB\\x13\\xd1)\\xd0\\xff\\x00\\x86\\xdf\\x13\\xb3O\\x85\\xfe*\\xc3gYV%\\xe0R1\\xa4\\x9b\\x16\\x9b\\xba\\x9b\\xc7-6\\xfdD\\x1b/\\xd3\\x0f\\x83\\xbf\\x16\\xb2\\xbf\\x8c>\\x14\\xa5\\x9a\\xe0\\x88\\xa3\\x88\\xd5\\xe5b\\xf0\\xa5\\xd2\\xfa\\x15\\x80\\x06\\x0fPA\\x04\\x1eA\\xf7\\x8f\\xca\\xdc]*X\\x8a\\x8e\\xabE\\xb4\\xdf\\xb8\\xa9M\\x865\\xf7\\x03\\xfc\\xed\\xd1w_\\x02>2\\xe3~\\x0fx\\xca\\x8609\\xf5\\xb2\\xca\\xe5\\xb4\\xb1t\\xda\\x7f\\xe2\\xd2\\xfd5\\xb4\\xdc\\x1e\\xb26%Uh\\xdd6\\xcf\\xd5\\x96\\x19f\\xfe\\xa9\\x82\\x9d\\xc3cn\\xab\\x07\\xc2^(\\xc0\\xf8\\xb3\"\\xc0\\xe6\\xf9~!\\xb8\\xac\\x166\\x90\\xadN\\xa3\\r\\x88\\x8d\\xff\\x00\\xdb\\x88#\\x85\\xb8\\xdb\\x80\\x0f\\xfe\\x16\\xd1\\xd9rQ\\x1a\\xb9\\xe9\\x01\\x07\\x08\\x1b\\xc9A\\xb7\\x91\\x16\\x03r\\x88:\\xa7\\xee\\xb5$s@\\xe9\\x1c\\xc9I\\xb0\\x1cd\\xc7p\\x10\\x06e8\\xc1\\xd8\\x08\\xe5@\\x08\\x12\\x0f_\\xea\\x91\\x92c~\\x90\\x93f\\x00\\x06\\x07Df\\xd7\\xb7\\xd5E\\xec\\x0e\\x9b\\x80?$\\x1e\\xdb\\x83\\x11\\x1d\\xd0\\x83\\xaa&B\"\\xc3m\\xd4\\x80I\\xb9\\xe0\\xec\\x11p\\xdb\\xb8\\xbfD\\xa6E\\xf8\\x08\\xd9\\xd6\\x16(\\x05\\x00\\x83\\xdd\\x13\\xf7\\x1d\\x92\\x88\\xb4\\x8e\\xf0\\x84\\x9e\\x88\\x032}\\x82C\\xd2O\\xea\\x84H\\x08\\xc4\\x12D\\x02:\\xa0\\x11\\x048M\\xe7\\xa2\\x05\\xa4rA\\xe9)N\\x91\\x13)o\\xbc}\\x10\\x04\\xc8i\\xe4\\xa1\\xa9\\xc0j\\xe3k\"\\xd8\\x91\\x04H\\xdc\\xa0\\xe8\\x90f\\xf1\\xd1\\x00\\xb4O`z$\\x94\\x98\\x17\\xdfp\\x92\\x01\\xc4\\xcd\\xa2\\xe94\\x97\\x19\\xdd&\\xcc\\x08\\xd8r\\x12h\\x03\\x88\\x9e\\x02\\x94J\\x04\\x97\\x08\\xe3\\xd9\\x02\\x08\\xdc\\x04\\xf8\\x82g\\xe9\\x054\\xd8\\xde\\xe8C\\xecc\\xc4\\x82\"=\\x86\\xe8j\\xb4Z\\x13\\x89\\x98\\xbc}P\\x0e\\xd8L\\x7fU\\x00s@-\\x8f\\xb8JCv\\xe4\\xc4$\\xd8\\x83\"\\x0b\\xac\\x90\\x11\\xef\\xc2\\x01DG\\x01\\x03n\\xa4\\'L\\xf16\\xe54\\x00 \\xc1=,\\x80\\x01\\xc0l/;F\\xc9\\xbb\\x98\\x02J{\\x86\\xe0\\xeen\\x9a}P\\x0f\\xdf\\x94\\x00\\x82f\\xdb^\\xc8\\\\\\x00\\x06\\xd6\\x80Q\\xd4Kf\\xd33t\\xb5N\\xe0\\xfb\\x94\\x00\\x99i3<#\\x02\\xe4\\x91\\xd4%\\x04\\x81\\xb5\\xbf4\\xbbL\\x00P\\t\\xb6m\\xb6(\\xedx\\xfbp\\x93\\x89\\x136\\x1b\\xa1bl$D\\xa0\\x10\\x04\\xc4m\\xdd\\x16\\x8b\\xff\\x00T.OQ\\xdd\"\\xedBy\\xd9\\x00\\x9cH\\xb4\\xfdz\\xa4nw\\xb4r\\x8cF\\xd7M\\xd5\\x0e\\xd8\\xee\\x80=#\\x7ft\\x83\\xa7`>\\x88n m\\xba:o\\xd1\\x00D\\xdf\\x92\\x9b \\x10\\x05\\x921\\xd2{\\xa2\\x00\\x8b\\xee\\xa1 \\x01\\x0e>\\xfd\\x12\\xfe\\x1e\\xe8\\x11}\\xc0\\xbfT\\x8bu\\r\\xd44\\xd0\\x03\\x88l\\t\\r\\'\\xa2\\x0e\"n\\xd8\\x9e\\x97F@\\xf7@\\x9d \\xda@\\xe0\\xaa\\x81\\x92fg\\xee\\x98\\xe2[\\xb4\\xf4\\x80\\x9czH\\\\\\xd7\\x8d\\xfck\\x81\\xf0_\\x87\\xb3\\x1c\\xd3\\x16\\xf9\\xa5\\x83\\xa4\\xea\\xb5K#\\xd0\\x00\\x9d\\xf6\\x04\\xc5\\x86\\xe7\\xa2\\xab\\x07\\x93~\\xd4\\xdf\\x1fh\\xfc%\\xf0\\xab\\xb0y}`\\xff\\x00\\x10c\\x9aY\\x86\\xa6\\xc2\\t\\xa6y\\xaa\\xee\\x81\\xbc\\x0e]\\xd9\\xa5~f\\xe3q8\\x8c\\xc7\\x13R\\xa3\\xdc\\xea\\x95j\\xbc\\xbd\\xf5j\\xba\\xeeq2Iq\\xe4\\xc9$\\xae\\xb3\\xe2\\xc7\\xc4\\x8c\\x7f\\xc4\\x9f\\x19\\xe6Y\\xe60\\x06\\xbb\\x12\\xff\\x00\\xdd\\xd2\\x99m\\x1a[1\\x80\\x1d\\xa0G\\xe7\\xd5r\\xd8\\x1c;\\xeb\\xd4.\\xa8gP\\x9dO3\\xed?\\xd9`\\xdd\\xb2\\xcb\\xabf\\xa7\\x87|?\\x86\\xabPW\\xc4bd4I\\xd0\\xd8`?\\xf5:?B\\xbb\\x1cV&\\x8eA\\x96Un\\x02\\x8b\\xaa\\xd6u\\xcdz\\xc0Lm\\xbb\\xaf\\xd7\\xf3\\xb2\\xcb\\xc9\\xf0\\xb8l%:X\\xacS\\xb5\\xbd\\x83U6\\x1b\\xb7\\x9fT^\\xdd\\x0f=\\xd7;\\xe2<\\xfe\\xb6gV5\\x11A\\xb7\\xbf?\\xec\\x8a\\xa3\\xb3-\\xe4\\x91\\x97\\x99f8\\x9c\\xcb\\x12_Z\\xb3\\xaa8\\xf2\\xe7\\x7fEM\\xef\\r\\x90\\xd9w~\\xa5\\x16\\x03SS\\xce\\xe4\\xd8tA\\xc4^&\\x1a#\\xdc\\xf2\\xa8t\\xc65\\xa2\\xce\\x142\\x88\\xd4\\xe0d\\xc4A\\x82V\\xe3\\xf3\\x87\\x1c\\x0b\\x19H\\x86\\xe92\\xe76\\xc0\\x1b\\xda\\xf7=}\\xd7;H\\x93M\\xa0F\\xfb\\xf7V\\x1a\\r*e\\xa0\\t\\xean\\x7f\\xf0\\xa1\\xab\\x17E\\x8c\\xd0\\x06\\x80\\xed\"\\xf7\\x90d\\xbb\\xba\\xccc\\xc3\\x89\\xe4s\\xd9]\\xa2\\xf6\\xbe\\x91\\x04\\x82E\\xe0\\xf2\\x15\\x1a\\x8c{\\x1e Kwl\\xf2\\xa4\\xacv5\\xc0\\xb4\\x98\\xb8\\xd9X\\xa0\\x1c\\xe69\\xcd\\xdd\\xbf3:\\x8e\\xa1ED\\xb5\\xf2#}\\xda\\xa7\\xa4\\xc7R\\xac6\\x05\\xa6\\xc4\\x9b\\x1f\\xaa\\x1a\\x17\\xb0\\xd8Q\\x89\\xa4\\xe1\\xc8\\xda\\xff\\x00\\xd7\\xaa\\xb3\\x83\\xd5\\x875(\\xd5\\x90\\xc7\\x18\\x82b\\x0f~\\x87\\xf5\\xea\\xa0m_\\xc0\\xe2K\\x9c\\xc74;\\xe7cLO;~v\\xfa-L;\\xa9\\xbd\\xe1\\xd7u\\n\\x82\\x08\\x0e\\x92O\\x03\\xb8\\xed\\xd5Y+9\\xdd\\xae\\x8b\\xf95We\\xf6\\x8dx-~\\xbaNg\\xef)\\x9e\\xb1\\xd3\\xdaB\\xed\\xb0^NoA\\xccquJo\\x00\\x16\\xb5\\xc1\\xd3\\x17\\xdb\\x93\\xb4E\\xfd\\xf8\\xe5\\x98\\x057\\x8a\\x94\\xcb<\\xa2\\xdd\\x04\\xb8\\xff\\x00\\t\\xe3\\xa4u\\x1fb\\x06\\xda\\xf8G\\xd3\\xa2\\xda\\xb4\\xb4\\xe9k\\xbd&\\x9b\\xac\\x03\\xe4\\xecv\\x13h;\\x1fu\\xa2\\xfa1\\x95\\xad\\x9a\\x950\\xa3Q\\xa8\\xd8,\\x90\\xc7\\x19\\xd4z\\xd8\\xdb\\xaf\\xbd\\x8f!>\\xae1\\xb8o*\\x89\"\\xad= \\x878\\xc6\\x81\\xb1\\x1f\\xf4\\x88\\x98\\xe3qe\\x95W\\x1d_\\x00\\xe7W\\xf3N\\'\\x0c\\xf7i\\x97\\xd9\\xcdu\\xac\\xe3\\xc1\\xe8\\xee\\xd7\\xeatK\\x9b\\x9a\\x96\\x96\\xb8\\xb9\\xd1\\xfb\\xb2\\xefN\\xa8\\x00\\xc1\\x1bj\\x17\\xed\\xcfUs\\x16,n\\x05\\xaf\\x9aT\\xeb:\\x81a&\\x9c]\\xc1\\xdb\\xee71q\\xfc\\xc2V5Z\\x95X\\xef\\'\\x12\\xc6\\xb2\\xbb[\\xafH\\x12*O\\xf14r\\x0f#\\xad\\xd6\\xd3\\xd9X\\xd5\\xf2\\xda\\\\+\\x0byoqi\\x00\\\\\\x01\\xd0\\xc80o\\x06G\\xbd<N\\x00Us\\xe8\\xe2\\x03\\x7f\\x13N\\xec\\xa8\\xd7\\xc1\\x93qPq\\xbd\\x88\\xeb\\xd1\\x08M3\\x84\\xc5\\xd2?\\x88\\xa8\\xfa\\x05\\xb4\\xe9\\xea\\xd4A7\\x03\\xa8\\xed\\xdb\\xfa\\xaaO\\xa2\\x1e5\\x11\\xe5\\x82\\xd9\\'\\xf8Ou\\xd1\\xe3\\xf0\\xee\\xaa\\xe2\\xf6\\x86Q\\xaa\\xd2EA\\x02&~`6\\x82w\\x1d\\xbd\\x96\\x13+\\xb6\\x9e a\\xeb\\x89\\xa6\\xefC\\x9f;\\x13\\xd3\\xa4u\\xe9\\x13\\xb2\\xab7_\\xb7G\\xd3\\xff\\x00\\xb1w\\xc7,G\\x873\\x97\\xf8C4\\xac\\xd3\\x97\\xe2\\x8f\\x9d\\x85\\xf3\\x1d\\xff\\x00\\x0e\\xad\\xb5\\x06\\xf4\\x0e\\x06H\\xecN\\xeb\\xef\\x96\\x19h\\x8e@\\xba\\xfchp~W\\x8b\\xa6\\xeaOp\\xa9Ly\\x98z\\xec\\x90H\\x1b\\x89\\x17\\x9d\\xd7\\xe9\\xc7\\xec\\xb9\\xf1r\\x87\\xc5\\x7f\\x86XZ\\x8e\\xaf\\xaf6\\xcb\\x03pX\\xc6<\\xcb\\xc9\\r\\x1a\\x1eO:\\x9b\\xcfP{\\xa9\\x83\\xa7F\\xa9\\xd9\\xecmo\\xd6S\\x83\\x8e\\x93h\\xfe\\xea6\\x9fI\\xb9\"xO\\xdcX\\xc8]\\x17\\xba$|G6\\xfdQjn\\xf6\\xea\\x88>\\x90 \\x9fd\\x03\\x813\\xb5\\xf8E\\xc6b\\xe8\\x1bv3!;\\xe6 \\x1eR\\x80\\xa4\\x98\\xe4\\xf4\\x94\\xad\\x00\\x01\\xfe\\xe9o\\x1b\\xc8\\xe4\\xa3\\xb9\\x9d\\xca\\x01j-v\\xc1\\x18\\x1c\\x8b\\xf5K\\xe6)A&b\\xdd\\x10\\x04_~;\\xa0n-\\xb2 \\xc4\\xf0\\n\\x02x\\x16@\\x17\\x11\"\\x04\\x84\"\\xf3\\xd7\\xa2!\\x93{t! F\\x80\"\\xdbY\\x00\\xbb\\x8bJS\\xf5\\xed\\x08\\xc5\\xb9H\\x9d\\xb9\\xe1\\x00\\xd0GA(\\x99\\x02\\xe6\\xe9\\x10H\\x1bw\\t;s\\x16\\x8e\\x10\\x08\\x01`n\\x92\\x17\\x99\\x9e\\xfb$\\x80s\\x9bxH\\xf1\\xd0Y-A\\xb1n\\xc3\\xb2\\x0e\",>\\xd7\\x84\\x02\\x91\\x1b\\xa6\\x991<tD\\x8e9@\\x8b\\x9b\\x9f\\xee\\x80\\x01\\xadh\\xb4\\x89\\xe8\\x80\\x9d\\xa0\\x81\\xd9\\x13i\\x04o\\xb2n\\xae{ \\x1d\\x11m\\xbbuN\\x99\\x13\\x17\\xea\\xa3\\x0e\\x89\\xdc\\x92l\\x9f\\xb0\\xed\\xc2\\x01\\x17\\x1b\\x0ez A\\x12\\x01\\xb1\\xfc\\xd1\\xf9}\\xc7^P\\x83\\xb8\\xf6\\xba\\x00\\x90\\x1c\\xd3y\\xef\\xd5\\x02\\x04\\xc9\\x80GT$\\xd8\\t(\\xdc\\xee\\x07\\xf6@47H&\\xff\\x00T\\x9b\\x1a\\xadq\\xc2?!\\x91?T\\'\\xa0\\xb4\\xcc\\xa0\\x14rR\\x12\\x01\\x1c\\xa6\\xe9\\xbc\\x04\\xe2\\t\\xda\\xc3\\xba\\x00\\x93\\xab\\x98\\x03\\x845[xKo~R\\xdc\\x99\\xb0\\xec\\x80:D\\x81\\x1b\\xdd#\\xbd\\xed\\xc2\\x02\\xcd\\x1cG^R\\xe7\\xd9\\x00\\x9bf\\x91\\xc1\\x08Y\\xc2E\\xaf\\xb7D\\xeb\\x10\\x0e\\xdd\\x82h\\'\\x99\\'\\x94\\x01\\xdb\\xe5\\t\\x1b\\xf7B\\x04\\xf3!)\\x89\\x94\\x00\\x00j<\\r\\xa3\\xaa$\\x00bvJ@\\x126)\\xbd _\\x95\\x9at\\x02@h\\x04%${$\\r\\xe2\\xe0\\xee\\x9aI\\xbf\\x07\\x85f\\x05\\xaa\\xfb\\xccs\\t\\x8e{@.{\\xb4\\x8d\\xc96\\t\\xd7\\x93\\x04\\x19\\xda\\x15P\\x7f\\x10\\xf2\\xe7\\x02)4\\x90\\xd6\\xbb\\xf8\\x88\\xe7\\xd8q\\xed*\\x84\\x0c}WT\\x97\\x99\\xa5\\x87\\r\\xe2C\\xdf\\xfd\\x87\\xe7\\xec\\xbe\\x1f\\xfd\\xbb~/\\xf9\\x98\\xca>\\x04\\xca\\xeb\\x86\\xd0\\xc3~\\xf31\\x14H\\r5M\\xc53\\xd8H\\x9e\\xeb\\xeb\\x1f\\x8b\\x9f\\x10\\xe8|9\\xf0\\x8e77xmlU\\x1ad\\xe1\\xe8\\xbc\\xd9\\xf5M\\x99\\xab\\xb6\\xa2=\\xec\\xbf\\'\\xbcc\\x9bb\\xbcU\\xe2\\xdc\\xc7\\x17\\x8c\\xc4\\xfe*\\xbdlK\\xdf^\\xb83\\xad\\xe5\\xc7Q\\x1d\\xa4\\x98\\xec\\xb3\\x9b\\xa2Tl\\xc6\\xa5LUp\\xa8\\xf6\\xcb?\\x84M\\xdcB\\xdb\\xc8\\xb0\\x07\\x1f\\x89\\x14\\x81cX%\\xce/\\xfe\\xb1\\xc7nvY\\xe5\\xaek\\xd8\\xd0\\xc0j\\xd4\\x80\\xc66\\xc5\\xbc\\x0fe\\xd5\\xfe\\x14\\xe591\\xa4\\xc8mW\\x93\\xad\\xe0o\\xc1\\xbf\\x00\\t\\n\\x91+=\\xe8\\xc9\\xce\\xb1\\xa4\\xb1\\xd4h8\\xf9b\\xceq7\\xa8y\\'\\xb7n\\x90\\x17?\\x89cF\\x96\\\\\\x93\\x04\\x93\\xc2\\xe90\\xd8F\\xd3\\xc2U\\xc6\\xe2\\x1at\\x18\\x0ca\\x1b\\xc7\\xca\\xdf\\xff\\x00\\xa8\\xfb\\xf6X\\xf8|\\x1d\\\\\\xc6\\xa9\\xa8A:\\xa4\\xb8\\x91\\xb8\\xdc\\xaa\\xbd\\xb2V\\x95\\x19\\xd5\\x00e\"N\\xf0\\x0c(\\x9a\\xc2)\\x92l\\xe2ek\\xd7\\xc2\\xba\\xa5O-\\xb4\\xe2\\xc0\\x86\\x93\\xb7O\\xc9@\\xfc\\x1b\\xbc\\xcd0A7\\x13\\xd2\\xf7U.\\x9bEVQ\\xa8K\\x1a\\x05\\xc9\\x95hP\\xfd\\xd3\\x9bw\\x0b\\x82t\\xc5\\xd6\\xc6;&\\x19v\\'\\x06\\xc1%\\xce\\xa4*;H=\\x02\\xb9\\x8a\\xc9\\xebS\\xc2\\xd5\\xa6DMYa\\x16\\x9f\\xe2$v\\xef\\xd0wTr:a\\x8d\\xed\\x1c\\x9b*\\x06\\xb8\\x07\\t\\x8d\\xc7U/\\xe1\\xbf\\x13B\\xa3\\xbeP\\xc1&\\xd6\\x10\\x86\\'\\nh\\xd7s\\x1e\\x08t\\xeeE\\xc2\\xd1\\xc13\\xcc\\xa7\\xa5\\x8c,\\xf3)\\xe9\\x1a\\xafx$\\x9f\\xc8\\xa9o\\xd9\\x8an\\xe9\\x98\\x01\\x84U\\x99\\xd3\"A\\x85{\\rQ\\x84\\xb7\\xcd\\x1a\\x8ci\\xb6\\xf1\\xfd\\xc2\\x8f\\x1b\\x83\\xab\\x83kK\\xdb\\xa5\\xcct9\\xa4\\xf5\\x13\\xfd\\x15\\x8f\\xc2\\xbci\\xd6C\\x08\\x98.\\xdb\\xfc\\xee\\xac\\xb6$\\xe9\\x9a\\x14h\\x86\\xb4\\xd3\\xa8<\\xcc+\\x8cR{wk\\xb8\\xf6\\xff\\x00:^\\xdd\\x1c\\x04P\\x15\\xa9\\xb8>\\x96\\xa2\\xd7\\xb1\\xc2\\x0bON\\xc53\\x05\\x80\\xafL\\xb5\\xcd\\xa6*\\x07X\\xb2\\x9b\\x83\\xf57\\xa8\\x8f\\xbc.\\x9b-\\xca\\x18\\xecCH\\x0f\\x02\\xbf\\xee\\xeaR}2\\xd2\"4\\xbf\\xf4\\x066\\xb1\\x85\\xa4Q\\x83eL3]L\\x03I\\xe5\\xce\\x81\\xfb\\xc2!\\xb7\\x03\\xd4~\\xa6\\x0fC\\x07\\x92\\xb6\\xb2\\xfam\\xaf\\x87\\x0f4\\xdbM\\xa0h\\xafO\\xa06\\x16\\x9b\\\\X\\xed\\xc7*\\xbd\\\\\\t\\xcb\\xebV\\xa6!\\xf4\\x85\\xda\\xf7\\x02 \\xda\\\\\\x01;\\\\\\xa2[Z\\x9b_V\\x83t\\xbe\\x90\\x01\\xfa\\x04\\x87R\\xe5\\xc7\\xa8\\xeb\\xd2;-=\\x94\\x1dY\\xd40\\xb5*Rt\\xd7i\\xfd\\xdb\\xcb\\x81\\x1a\\xa6\\x0bg\\x91\\xef\\xd4pw\\xa5\\x80\\xae\\xfc5SG\\xcd$\\xb9\\xda\\x9af\\\\\\x06\\xe5\\xe3\\xafq\\xc8\\xbd\\x8c\\xad\\xf6\\xe1)\\xe2\\x9cp\\xf8\\x86kk\\xc0d\\xea\\x12\\xd7q~\\x86\\xd7=\\x04\\xf5\\\\s\\xaa\\xe20x\\xb3\\x84\\xaeK*a\\xce\\xbao2\\xd8?[\\x8f\\xef=\\xe4V\\x99\\xd7b_\\xf8\\x973S\\xc5J\\xcc\\x10\\xe7\\x07I<\\xc8?\\x98\\x1c\\xfeJ:\\xb8\\xc1\\x8b}-Mo\\x9e\\xc9\\x9a\\x9c<A\\x82GB7\\x8d\\xe6x\\\\\\xd8\\xcd\\x05\\x17\\x176\\xa9n\\x93\\x0ec\\xad\\x1dG\\xb1\\xb1\\x8e\\x0f\\xd1IK4m\\x1ca\\xa9H\\xc5*\\x92\\t$85\\xfb\\xc0\\xec\\xeb\\xfej[\\xbe\\xcaq\\xf6jb_O\\x10\\x1dS\\xcb%\\xed~\\x87\\x876f\\xd6\\x04\\xf3nN\\xfe\\xe0.k;\\xc01\\x8d{\\x98C\\xd8\\x06\\xa6<\\x8fTn>\\xa3\\xf3\\x1e\\xcbW\\xce.\\x93I\\xcd\\xa5N\\x99\\xd4Z-\\xe9\\x81?\\x9f\\xf4P\\xe3\\xb0\\x94^\\x1c\\xc6\\xbc\\x80\\xedOo\\xfdQ:~\\xbf0<\\xc9\\xe8\\xaa\\xc4{9\\x9c5O=\\xbeK\\xce\\xb2\\xc2^\\xc82;\\xc7\\xd1{_\\xec\\xa7\\xf1^\\xaf\\xc2\\x8f\\x89\\xd8*X\\xba\\x81\\xb9.r[\\x83\\xc5:}-\\x93\\x0c\\x7f\\xfd\\xae \\xff\\x00\\xd2\\xe2\\xbcK\\x19E\\xb4\\x9e\\xd7\\xd1\\x05\\x865\\x80G\\x1c\\xfd\\x8f\\xe4GEs\\tT;\\n+4\\x87\\xbf\\x0f\\x15X\\xd2/c\\xeai\\xeb\"V}\\x1b\\xfb\\xb3\\xf6V\\x9dmM\\xee7\\x1d\\x14\\x9a\\xa2%yO\\xec\\xe3\\xe3\\xc7\\xfcB\\xf8Y\\x93b\\xab\\xd4k\\xb1\\xf8j#\\x0fY\\xd7\\xf5\\xe8\\xf4\\xb5\\xc7\\xfe\\xa6\\xc1\\xf7^\\xaa\\xc9p\\x1d\\x01\\xbc\\x8b\\xae\\xa8\\xb4\\xf6\\\\|\\xcb\\xff\\x004\\xf3r\\x02\\x13\\x10z\\x9d\\xd1\\x8e$\\x8e\\xf0\\xae\\x07j-\\xdd>A\\x1bA\\xec\\x99$\\xf5?Df\\xdb\\xc1\\xde\\x10\\x08\\x93\\x1b]\\x14\\x81=\\xc2F#}\\xd0\\x04\\t\\x9e=\\x91i$Y(\\x10D\\xca@\\x81\"m\\xd5\\x00C@\\x99\\x13\\xec\\x94\\x82;\\xf7HI\\x98\\xb8\\xee\\x81\\xd8\\x1bt@+\\xec\\tGm\\xe4\\xdd 5:\\xd1(\\xb7i0oi@\\x1dV\\x17\\xd97b-c\\xf9\\xa7\\x16\\x9d\\x88\\xbcX&\\xea X\\xa0\\x14\\x08\\x83\\xc6\\xc4 l@\\x9b\\xf2\\x9cI\\xbfC\\xd7\\x94\\x05\\xdb\\x1f\\xf8R\\x00o\\xdd$\\xa2\\x1c#t\\x90\\x0e\\xfd\\r\\xd3OY\\xbfd\"76\\xdft\\\\\\xdd\\x84\\xdf\\xb2\\x80\\x02\\xebvI\\xd72\\x8d\\xee\\x0e\\xc8\\x18\\x9bX\\x9e\\x02\\x01\\x84\\xdeD\\x81\\xd8$\\xd3\\xa5\\xd1\"\\xdd\\xd3\\x8c;\\x8f\\xa0Q\\xea\\xb4D\\xc1\\xb8\\x1c(n\\x80\\xf1!\\xbb\\xc0N\\x98;\\xfd\\x07\\x084\\xfaD\\xdb\\xba2\\x0c\\xf0\\xe5)\\xd8\\x00\"\\t O!\\x19%\\x00\\xd9\\x07{s)\\x1b\\x9e\\xb2\\x80\\x04L\\x11tL\\x0b\\xf2\\x91\\x89\\xd8{&\\x9d0mn\\t@#w@\\x13\\xec\\x90\\x02\\x06\\xf1\\x1c \\xe0/\\xcf\\xe4\\x88\\x10I\\x06\\xe8\\x01\\xc8 \\x92\\x94I\\xe4\\xfb\\x84\\xd0\\xe2\\x1d\\x1dz\\xa3qp \\x1e\\x8a@\\xed\\x87?T\\xb7\\x91\\xb9\\x94\\x89 Zd!\\xb6\\xc2\\n\\x84\\x80\\xad\\xb3D\\x1e\\xfc\"5\\x13\\x04A\\xea\\x91a\\x9bE\\xaf\\xb2Rd\\xdb{J7@:\\x89\\x1b\\x00\\x02\\x04\\x11\\x16\\x9e\\xf2\\x81\\x1d7I\\xa4\\xc1\\x9b\\x08\\xdd,\\x04\\xccX\\xdb\\xa1B \\x833\\xec\\x88\\xb1\\xbd\\xbb\\xa6o<B\\xab\\x90\\t\\'\\x93d \\xc0\\x8f\\xcd(%\\xbf\\xf2\\xa4\\x1a@\\xde:\\x85@\\x07\\x18\\xe2\\x07d\\x8c\\x1d\\xa4\\x04\\x87\\xcb;\\x1e\\xc9|\\xbd\\x87T\\xec\\x10b\\x83\\x9c\\xcd\\x0cqk\\x9eCA\\xe89?`S15[\\x87\\xa2\\xf2\\xd1.\\x005\\x8c\\x06$\\xf0\\'\\xfc\\xb4\\xa9\\x1f\\'\\x11K\\x7fK\\\\\\xef\\xba\\xe4\\xbe!x\\x80eYs\\xe9\\xd0o\\x99\\x8d\\xc4;\\xf0XJ\\x0et\\n\\x95\\x9e6\\xf6\\xb8\\x9e\\xda\\x93\\xa2\\x19\\xf2\\x9f\\xed\\x95\\xe3\\x9f\\xf5\\x0c\\xac`\\xf0\\xae\\x15\\x9fO\\x12\\xc6\\xd3\\x82Z\\\\\\xe0=N\\x03\\x98\\xd4\\xc0\\xd1\\xd6\\xa1;\\xb5|[\\x86\\x0c\\xa7\\x88\\x14\\xd8C\\x9e,\\xe7\\xf0\\xde\\xa4u\\xd9{W\\xedE\\xe2\\xcaX\\xbf\\x15\\xd1\\xca\\xf0\\xf8\\x86\\xe2\\x19\\x97\\xd3s\\x1d\\x88\\x135\\x1e\\xf3/\\xa8{\\xb8\\xc9\\x1d\\x1a\\x07U\\xe28X\\xa1\\x86\\xa8\\xfd\\x1e\\xba\\x9e\\x96\\x99\\xd8\\x15\\xce\\xe5l\\xbaZ:\\x9f\\x06\\xe5\\xdf\\xeay\\x9b\\xf10\\x05,;H\\xf56c\\xa9\\xfbZz\\x95\\xd1V\\xa0s\\x9ck\\x88\\xa4)Q\\xc3\\x81M\\x94\\t\\x9d\\'r\\\\y\\x81\\x12\\x7f\\xe6T\\xb2\\x1a/\\xca2P\\xc3PR\\xd6A\\xa9\\xeb\\x8fH\\xbc\\xcfr\\x16\\xee_\\x88f\\x17\\tR\\xb5!\\x15\\x1f4\\xa8\\xb4\\x8b\\x9b\\xeas\\x8fIq\\x1fee\\xd1\\x9b\\xbfF\\x17\\x8bpm\\xa9S\\t\\x95a\\xdd\\xa4\\xc8k\\xad\\x02n]\\xfdU\\xec\\xb7\"\\x18\\\\-C\\xa08\\x1ap/\\x16\"`\\xfd!O\\x83\\xc8\\xea\\xd4\\xcc\\x1dR\\xa6\\xb7\\xf9\\x14\\xdf%\\xd7\\xd4\\xf3\"G\\xe7\\xf7\\xec\\xbb<\\xb7!9\\xa3k\\xb4\\xb0\\xea\\xa6Iy`\\x991`>\\x82Vr\\x92\\x8a\\xe4k\\x0c.rP9\\xcf\\x0b\\xf8\\x08fxz\\xf8\\xb7R\\xd2^4\\xb4\\x913\\r\\x93\\xfewX>#\\xf0\\xdf\\xe1\\xf3\\x9c\\xce\\x8f\\xaa\\x93iPi\\x16\\xe2\\x05\\xbf?\\xcd};\\xf0\\xeb\\xc3-\\xa7\\x84s\\x1c\\xd8e\\x16i#\\x7fQ\"o\\xd7e\\xe6_\\x11<8]\\xe2J\\xae\\x06_[\\x05Y\\xc5\\xc7\\xe5\\x04\\x1a\\x9f\\xa4\\x00\\xbc\\xd8y\\x1c\\xb28\\x9e\\xfe_\\rC\\x02\\x929\\xaf\\x10\\xf85\\x94q\\xfe\\x19s\\xda[\\x86\\xae\\xdf-\\xe6\\xfa}F\\x9d\\xba\\xc0\\x9b\\xae\\xeb>\\xf8q\\xf8\\xfc^\\x1a\\x8bh\\xb9\\x98|5\\x1fU]\\x11&.\\xc1\\xefpg\\xaa\\xe91\\xd9\\x1d<nS\\xe0\\xda\\xd2i\\x06T`k\\xcfYl\\xfd!\\xa5z\\xb7\\xfa+k\\xe5\\xb8LG\\x95\\xa9\\xfe`a\\xe0\\x86\\x99i\\x8e\\xb7\\\\\\x99\\xb2\\xc9$\\xd1\\xdd\\x83\\x0cyJ\\xcf\\x86\\xfe%\\xf8N\\xae\\x07:s\\xe8\\xb4\\x1aE\\x9a@h\\xdd\\xcdl\\x90>\\x93\\xf6+/\\xc2\\x94)\\xe2qx*pd\\xbc\\xb2\\xa5\\xac.\\x08t\\xf4,\\'\\xec\\xbe\\x90\\xf8\\xbd\\xf0\\xf7\\xff\\x00\\x84bk\\xb6\\x9e\\x9a\\xb8J\\x82\\xbb\\x013\\x11\\xd7\\xac\\x8dA|\\xf9\\x90`\\x1b\\x82\\xcfiP\\xa8H.{h\\x9e\\xad3\\xe9\\xd8s\\xeao\\xb1\\x0b\\xbf\\xc7\\xcb\\xf2c<\\xaf3\\x07\\xc3\\x9a\\xfd3w\\xe27\\x81\\x1d\\x97a\\x88\\xa8\\xc1N\\xa3[\\xe5\\xbd\\xa2\\xe4\\x168\\t\\xef \\x95\\xc1a\\x98+e\\x01\\xc1\\xad{\\x99SF\\xb7\\xdc\\xef\\xbc{\\x11\\xf6_X\\xf8\\xfb\\xc3T\\xfcC\\xe1\\x8c\\xbf6.\\xd4\\xf745\\xeecd\\x10\\xe6\\x96\\x91\\xff\\x00\\xe5\\xfaY|\\xe5\\x83\\xca*eG0\\xc2Vl\\xb4<;I\\x11\\xc6\\x97\\x01\\xf5\\x85\\xd3\\x82\\\\\\x95\\x1c>^.\\x0e\\xd7FN\\x0f.\\xf3\\xa8Q\\xa8\\xea\\x8d\\x1e{^\\xd8q\\x1aZ\\xf6\\x10?\\xed1\\xa6\\xfb\\x1b\\xad\\xbc\\x05`\\xf6;\\x0e^\\xf6\\xb4\\x12\\xda\\xb4\\xaau\\xd8\\xb7\\x9b\\x9d\\xc4\\xf4\\xfa\\xa82\\xfc\\xa8W\\xc0\\xe3\\x9a\\xd9>SF&\\x90&\\xf6\\xde}\\xc1*\\xe6%\\xad\\xc0\\xe2)W\\xa8\\xca\\xa6\\x81\\xa6\\xd6\\x875\\xc2K\\x7f\\x86O\"-;\\x874p\\xe5\\xd6\\x91\\xe63E\\xf8\\x8aU\\xdf\\x87\\xc3f\\x06\\xa7\\x9bLKq:a\\xda6\\xb8\\xfe!p\\'\\xeb<*\\xf5h;.\\r\\xad\\x87sj6\\x9b\\x83iU/0\\xe6\\xcd\\xc1\\x1f\\x91\\x04H\\x90\\xac\\xe1\\xaa05\\xf4\\x1dS\\xcd\\xa2Y\\xab\\x0e\\x1f\\rik\\xb8\\x0e\\xdc\\\\X\\xf6\\x83\\xda\\xa3\\xddS!\\xc6y\\xd78g\\x96\\x8cM:\\xcd\\xf9-\\x00\\xb8n\\x0c\\x18\\x98\\xe9~T\\x91o\\xa3XP\\x02\\x81}*l4\\x00%\\xaco\\xa8\\xb0\\x00u\\x01\\x1b\\x81g\\x01\\xd2ce\\x8f\\xe2\\\\(\\xcd0L\\xc5\\xb9\\xad\\xabX\\x97:\\xa3\\xff\\x00\\x96\\x00\\xbf\\xd8\\x03k\\x10\\xe0w\\x05j\\xe1\\xab\\x1c\\xbe\\xa5\\n\\xd4L\\xe1\\x9fT\\no\\xa8}-\\xa96\\x98\\xb4\\x11\\xf6\\xba\\xad\\x8c\\xc2\\xb6\\xa3*\\xd6\\xc3\\x1f\\'\\x06nX\\xe8\"\\x89$\\x86\\x9e\\x90\\xd7\\x12\\xd3\\xff\\x00)\\xba\\x12y\\xed\\\\I\\xa2\\xff\\x00P\\xd2nD\\x80A\\x9b~{{\\x80\\xa3\\xc3bi\\xe1\\x0b\\xe8?QmF\\x91\\xa6v\\x1f\\xd0\\x83\\x1f\\xe1Q\\xe6\\xa0aq\\x0f\\x1a<\\xa2\\x1cZ\\xfa&b\\x9b\\xa4\\xcb}\\xbav\\xf6U15\\x19T\\xd3{\\x0f\\xa8\\x01n\\x9d/\\xf9}\\x8f+6\\xcdx\\x9d.[\\x99\\xb5\\x9ec\\x8bZ\\xf74h%\\xd3\\xf2\\xed\\xab\\xfa\\x1e\\xc5]\\xcc\\x83\\xaba\\xa9\\xd1k\\x8b1\\x14\\x9b\\xaa\\x00\\x01\\xcfm\\xccw\\x02${\\x9e\\xab\\x8e\\xc1f\\x0e\\xa2\\xf0N\\x92\\xe6\\x8f\\xbbN\\xe3\\xf3?u\\xadW1&\\x8d\\x06\\xb1\\xe7\\xcc\\xc3\\x99\\xa5T\\xc4\\xe8\\xe0}6R\\x99\\x9b\\x850b\\xcbk\\x00\\xf6\\x89\\xd5w\\xb26w\";\\x82V}*\\xef\\xca\\xf3\\x08k\\x83\\xd92\\x0e\\xf3#\\xfa\\x85\\x7f6\\x14\\xc7\\x97\\x88\\xc3\\xb9\\xdeEf\\x82\\t2\\xe6:.\\t\\xecf\\xcb;\\x14\\xd3^\\x93\\xaa\\xc0\\x0fa\\x9bX\\x16\\x9e\\x83\\xb1\\xfdUd\\x8d }\\x8d\\xfb\\x11x\\xce\\xae\\x06\\xb6g\\x931\\xa5\\xf50\\x8e\\x15\\xa9Rs\\xa0\\xba\\x95H\\xf4\\x8f\\xa8\\x11\\xdd}\\xc1N\\xbb+1\\x95i\\x99\\xa5T\\x028\\xdfe\\xf9c\\xfb7x\\xa6\\xaeU\\xf1K!\\xa2\\xda\\xee\\xa3\\xf8\\x90\\xec\\x11\\xf5Y\\xfa\\x81\\xf2\\xc1\\xf6q\\x11\\xec\\x17\\xe9\\xa7\\x85\\xf3\\x1f\\xf5\\x1c\\r:\\x8d\\'\\xca\\xc5\\xd2\\x15\\xe9\\xb4\\xd8\\xb2\\xa4~\\xf1\\x9fCx\\xf7W\\xc7/E\\x8e\\x85\\x82v\\xdf\\xbaxo.\\x80\\x13Z\\x01d\\xc5\\xec\\x9c$m#\\xb2\\xe9]\\x10\\x16I\\x16\\xd98\\t\\x93\\xfa\\xa6\\xb4GA\\t\\xed\\x1b\\x00@\\xe5H\\x10:\\xaf\\xb0\\xe6S\\x87\\x02\\'\\xa1M\\x00\\x9b\\xc4\\r\\xb6GH\"\\xc2\\n\\x00\\x8b\\x130\\x12m\\xb73\\xd1&\\xdfqd\\xe0,x\\x9e7@&\\x8263\\xd4$@\\x10A\\xba\\x00\\x90-n\\x11\\x13\\x13?T\\x02\\'\\x99(\\x836\\x06\\x10\\x02I;\\xa0M\\xed\\xb4]\\x00\\x84\\x9bG\\x11t`6\\xc6-pa\\'D\\x83\\xba\\\\\\xfbr\\x80W\\x02`\\x14\\x08\\x87u\\x1d\\x93\\x80:O\\xb2o\\xf0\\xb6 v@#pc\\xf3I\"\\xe2\\x05\\xe3\\xac\\xa4\\x80\\x04\\xdc\\xde\\x04l\\x84\\x81\"n\\x91\\xb1\\xbc\\xfb\\x9b#i\\xd8\\x14\\x00\\xd4tA\\xbc&\\xce\\xd1\\xcfT\\xe1\\x10x)\\xa6\\xc4B\\x01<\\x816\"y;&\\x03\\xbf\\xa6g\\xa2q\\x10D\\\\wM\\xb9\\x171\\xd9CV\\x07\\xb66\\x10\\x00=Q\\x06N\\xe8r\\x0c\\xdc\\xf2Q1\\x10.=\\x94\\xa5@\\x10`\\xda\\n%\\xa7\\xa0\\x9d\\xc1\\x84\\xa7U\\x8e\\xdb\\xa4O\\x7f\\xa2\\x01\\x12\\x81%\\xd3\\xd1\\rS\"w\\xdc\\x94\\x80\\x81\\xb7\\xb9@\\x13\\x04\\x03 \\x14\\x01\\x86\\xc6\\xa9\\x1d\\x92\\xe6\\xf7\\xb7(\\xfe\\xbc\\xc2\\x01\\xb0@\\x90c\\x90\\x8bo\\xce\\xdbtKV\\x9b\\x9d\\xd2\\x8fP\\xbe\\x9e\\xc8\\xc0\\xa2,>\\xb2\\x88oh\\x8d\\xc2\\x11a3\\xf7F`lH\\x1d\\xd5\\x13\\xde\\xc0\\xd2\\xed\\x8c\\x9b\\xa3~\\xbfT\\xb66;\\xed(\\x17^\\x05\\xc7\\n\\xf6\\x04&\\xf0A\\x11\\xd5\\x01\\x1f\\xdd! \\x83\\x00\\x1e\\xe8\\x8d\\xac\\x07\\xd5Q\\x80\\x08<\\x9b\\xedd]d\\t\\xf6\\x94\\xa6\\x08\\x1b\\x8fiU\\x03I\\x9d\\x8aN!\\xde\\xe9\\xd3\\x0e\\xe4\\x0fm\\xd3M\\xcfd\\x021\\xd6\\xfd\\x12\\xb3\\x84\\x1d\\xbb&\\x89\\xe9n\\xc8\\x01\"v; \" y\\xf3&,$oy\\xff\\x00e\\xe4^&\\xc7\\xd3\\xce<A\\x8e\\xccj\\xf9Tp\\xd9=\\x177\\rY\\xfb\\n\\xd5C\\x8dG\\xde\\xd2\\xdaQ\\x07\\xb9^\\xab\\x99Tp\\xa1Q\\x8d1V\\xae\\x962\\xf1s\\xfe\\x15\\xf3\\xff\\x00\\xc4\\xfc\\xea\\x96E\\xf0\\xeb\\xc4U\\x9f\\xa5\\xaf\\xa5S\\x12\\xf0\\x0f\\xcc\\xe7\\x8aB\\x98\\x9f\\xab\\xc8\\xf6\\x02\\x16o\\xa2;?>\\xbe\\'g\\xad\\xf1\\'\\x8c1\\xf8\\xa6\\r4\\x8b\\xfd\"4\\x82\\x05\\x85\\x86\\xd6\\x1fhXy]\\x0f\\xc5\\xe6ti\\x88\\xf2\\xdad\\xf4\\xb6\\xff\\x00\\xd5W\\xc6Vv+\\x1dZ\\xab\\x88\\xd6\\xf7\\x92\\xe3\\xf5Z\\x19\\x15o)\\xb5\\x9c\\xd2\\xd0\\xea\\x8d-i#\\x83\\xbf\\xb5\\xa7\\xec\\xb1F\\xadR;\\x0c3\\x1d\\x99Ue\\x12\\x0f\\x94\\xca\\xbek\\xad#U\\x83[\\xec\\x06\\x91\\xf7]FL\\xc1_\\x18I\\x83O\\x0eE\\x1aZ\\xc4\\x82I%\\xce\\xfb\\xf3\\xd9s>\\x1e\\xc5\\x8a8G\\xd7\\x98/s\\xb4\\xda\\xf3\\x1b\\xfes\\xee\\x02\\xed\\xbc=\\x86\\x15\\x19F\\x9cZ\\x9d#Q\\xc7\\xbf\\xf5\\xff\\x00\\xca\\xa6Yp\\x85\\x9b\\xf8\\xd8\\x96I\\xd1\\xad\\x97\\xe1\\x18\\x03\\x9e\\xe3\\r\\xf2\\x8b\\xcf_M\\xfe\\xf6?RWk\\xe1\\x9c\\xb4a\\xbc0\\xda\\xba5:\\xb7\\x9bY\\xc1\\xb6:X\\x00\\xe9\\xcc~k\\x81\\xcc\\xb1\\xae\\xa1\\x83\\xa8\\xcad\\x02X\\x1a\\xd78\\xfc\\xa2C\\x7f2W\\xaf\\xd0\\xcb\\xe8`\\xb2\\xe3H\\xb5\\xe6\\x95,\\x08\\xa7&\\xc4K\\x85\\xbd\\xc9\\xb2\\xf3\\xbc\\x8c\\x95\\x8a+\\xec\\xf6|\\\\|\\xb3\\xce_Z;\\xbf\\x01\\xe5\\xceg\\x87A\\x7f\\xfcG\\x8df\\x04L\\x99\\xfa\\r\\xd7\\x9a\\xfcL\\xcb\\xeaR\\xc5\\xe5\\x95i49\\x8e\\xf3\\xd8H\\xfeb\\t\\x03\\xecI^\\xdf\\x94\\xe1\\x85\\x0c\\xbf\\x08)\\x10\\x19\\xe4\\xb5\\xb3\\xfc:t\\x88\\xfd\\x02\\xf3?\\x8b8gQ\\xcb\\xb05\\xdbaN\\xbd \\xf9;\\x02\\xd2\\xd9\\xfb\\xc2\\xf2\\xfcy\\xff\\x00\\xae\\x9f\\xd9\\xec\\xf90\\xff\\x00\\xdb?\\xe8\\xa6\\xd0\\xcc\\xc7\\xe1\\xa6M\\x8b\\xbf\\xeet\\x96\\xb8\\x1b\\xb4\\x8d@\\x0b\\xfd\\x17\\xb4d\\x18\\x1f\\xc7\\xe48Z\\xbaHi\\xa8\\xf7\\xdf\\xa1:\\x81?W~\\xab\\xc6|\\x13A\\x98\\xaf\\x85o\\xc3\\x8az\\xc5\\x17Td\\x01\\x1e\\xa0\\xeb\\xf3\\xdd\\xd1\\xec\\xbd\\xef\\xe1\\xddf\\xe6y\\x15/F\\xa6~\\x1e\\x9b\\xdb\\xa8\\xec\\\\\\xd0O\\xe6#\\xd9o\\x92:k\\xfb1\\xc2\\xf4\\x9f\\xda8\\xdf\\x16\\xe4\\x14q\\xd8z\\x81\\xf4\\x01k\\x81\\x0f$N\\xa1\\x17\\xf7\\x91?u\\xf1\\xf7\\x88\\xbc\\x1b\\x88\\xc9<@\\xe7a\\xdc\\xe6\\xd4\\xa3Q\\xf8wH\\xf9\\x8b\\x0f\\x9a\\xd9\\xdbv\\x82GX_z\\xe78\\x16a\\xc9\\x15G\\xee\\xddf\\xc77\\xff\\x00b>\\xcb\\xe7\\xaf\\x89\\xde\\x18\\xf31d\\xb0yN\\xc4\\xb4U\\x15G\\xf0b)\\x1dM\\x1b\\x7f\\x1d2[\\xff\\x00\\x95>4\\xf8O\\x89O/\\x1f\\xcd\\x8f\\x93\\xf4C\\xe0\\xccK|G\\xf0\\xc74\\xc0\\xbe\\x91{\\xe9j\\xadA\\xbf\\xc4\\xd68\\xeb\\x10v\\x96\\xb8\\xb9\\xbd\\xec\\xbc\\x87\\xc7\\x99mL>\\x1c\\xe64\\x1b\\xff\\x00\\x1b\\x0e\\xca\\xe3H\\x9d\\xbe{{\\x05\\xe8>\\r\\xcc\\x19\\xe0\\x9cn#\\tY\\x8e\\xa1C\\x1cE\\n\\xb4\\xea8\\xb80\\xb9\\xb2\\xd2\\t\\xe0\\x10\\x07\\xfd\\xc3\\xba\\xce\\xf1f\\x01\\xb8\\xac\\x92\\x95#N\\x7f\\x0f,\\xed\\xa1\\xde\\xdbD\\x95\\xea\\'\\xf1\\xcd5\\xd3<y/\\x9b\\x13\\x8b\\xed\\x1ee\\x95\\xd6\\xa5\\xf8\\xca\\x15\\xe8\\xb0Qk\\xae\\x0b\\xae\\xd0\\x08\\xbbL_\\xb8\\x9e,\\xb2\\xf1\\x98w\\xe1\\xc5l+\\x9a*\\x061\\xda@t\\x82\\xd1\\xe9{~\\xda\\x1d\\xf9\\xab\\x0c{0yUr\\x1f\\x15p\\x15E7\\x02\\xdb\\x96\\xb5\\xda\\xa0w\\x17\\x13\\xd1,\\xcd\\xfeeo>\\x90:K\\xa4<\\xc4G\\xf6-\\x81\\xde\\x17\\xa7\\xe8\\xf9\\xc7\\xd9\\xcc`3W\\xfe\\x16\\xa6\\t\\xe0\\x17a\\xdc_GY\\'S7s\\x0fV\\xcc\\x1e\\xd2z\\x95\\xa9_\\xc4N\\xa9\\x858r\\xf3^\\x9dq\\xe8a\\xbb\\x98\\xe9\\xf52z\\x19\\xb7s\\x11u\\xcbf\\x81\\xf9fmJ\\xab\\x1a^\\xc6\\xb8\\x90\\x1cw\\x83v\\x93\\xfen\\xa1\\xa9Y\\xb8|[\\xa9\\x7f\\xc5\\xa4\\xeb\\xd3q\\x10\\\\\\xc3q\\xf5\\x83\\xf9*)\\x17\\xe3\\xec\\xde\\xa3\\xe2\\x06\\x06\\x1ag[\\xe8\\xbaLD\\x16\\x93\\x1f\\x981\\xf5\\xf7Z\\xd4\\xb3\\xbat\\xf0\\xaf\\x05\\xbe\\x87\\xd3\\xf21\\rh\\xd4\\xc3;Th\\xe08D\\x81\\xb1\\\\>b\\xea\\xac\\xa81\\r\\x1a\\xa4jqn\\xc4p\\xeft\\xb0\\xd8\\xaf1\\xa7C\\x8d;z\\x9a\\xd3\\x16\\xed\\xecL\\xfdR\\xc9\\xe3\\xec\\xb3\\xe2\\nOf!\\xce\\xab\\xa5\\xee-\\x0cuI\\x96\\xbe>S=`G\\xb8\\x9eVV!\\xad\\x05\\xb5[Q\\xaf\\x80\\tn\\xad\\xfb\\xfe\\x89\\xf8\\xcc[\\xd9TS\\xa9\\xa8\\xb1\\x93\\x12>f\\x9d\\xad\\xfetT\\xdc\\xd2\\xc6\\x97\\x02\\x0b5I\\x83x\\xe5f\\xcd\\x92\\x1b^\\x9f\\x94\\x01\\x04\\x1dBC\\xba\\x82\\xada\\xab\\x07ya\\xce\\x88;4p\\xa8\\x0f\\xdd=\\xd4\\xdcLq=\\x7f\\xdd1\\x95\\x0b\\\\\\x00\\xb0%\\x0b\\xca6\\x8e\\xa6\\x81\\xa6\\xf3_\\n\\xc0\\xd6\\xb2\\xa8\\xd5I\\xcf6\\xd6\\x04\\x81\\xf5\\x03\\xf3Y\\xb4\\xde\\x1f\\xe7\\xd3\\x7f\\xa1\\xc0\\x10C\\xb7\\xe8~\\xdf\\xd13\\xcf/\\xa6\\xda\\xad:j2\\xe1\\xcd\\xeb\\xd5,{\\xc7\\xe2\\x19\\x88\\xa6\\xc6\\xb1\\xaf\\x12\\xe6\\xb2`;g\\x0f\\xf3\\xaa\\xbbz1\\x82\\xa2\\xdf\\x85\\xf37e\\xb9\\xce\\x03\\x10*\\x9c;\\xb0\\xf5\\xdbQ\\xb5\\xa9\\xfc\\xccp \\x82\\x0f\\xb8\\x0b\\xf5O\\xe1\\xef\\x8a\\x19\\x99\\xe1\\xab9\\x86\\rf74\\xa2\\x1am\\xeb\\x83P\\x01\\xd0\\x92\\\\?\\xeb\"\\x17\\xe4\\xf574\\xd5\\x80=Di\\x86\\xf5\\xe3\\xfa/\\xbc\\x7fgO\\x1fV\\xa9\\xf0\\xcf\\xc3\\xb8\\xf7\\xb9\\xd5\\xea\\xe5s\\x85xi\\x05\\xcf\\xc3\\xeb\\x01\\xcd3\\xfcL\\x0e\\xfa\\xb6\\x0f\\x05V.\\x99/\\xe8\\xfb\\x03\\x07PU\\xa0\\xc7\\xb7\\xd4\\x08\\x81\\x1b)\\x86\\xc2d\\x1fn\\xeb\\x1f%\\xaa\\xda\\xd8\\nU\\xf0\\xae/\\xa4wh\\xfe!\\xc1\\x1d\\xf7\\x1fE\\xadM\\xe2\\xa3C\\x9bpo3\\xc2\\xecN\\xd1\\x03\\xe6\\x08\\'}\\xbd\\xd1;\\xc6\\xe5(\\x89\\x1d\\x91\\x0et\\xce\\xc3\\xddX\\x0e>\\x9b\\x9ey\\x94\\x8c\\\\\\xc7\\xd4 6\\x98\\xb7T\\xaf\\x00A\\xfe\\x88\\x02\\xd7\\x1d\\xc0\\x92>\\xa8\\xef\\xd9\\x00o\\x03`\"R0\\x01\\xe4\\xec,\\x80;m?T\\x00\\x80\\x00\\x88\\xf7N\\x0e\\x01\\xdd\\xba\"@\\xb13\\x1c\\xc7(\\x00\\x0c\\x01\\xd6\\'d\\x1aN\\xed\\x99\\xda\\x02\\\\[y\\xe5\\x1d\\xe2o6\\x02P\\x00\\x9e\\x01\\x07\\xdc\"L\\xff\\x00\\xe6R$\\x80 \\x7f\\xe5\\x172w\"GD\\x02\\x98i2\\x86\\xa1\\x137\\xd9-\\xe7\\x80\\x84\\x07Lm\\x17\\xb2\\x01\\x0b\\xed\\x05$I\\xe8x\\x05$\\x03.>``&\\x933\\t\\xc0\\x06\\xde\\xc6\\xc96K\\xb6\\x83\\xee\\x80\\x12\\x03E\\xa4\\xf7H\\x88&\\xc0\\xf6\\xe0%`\\xe8A\\xc0\\xea@\"6\\x06;B`7\"&7N\\x07\\xd3\\x1f\\xd1\\x0b\\xcfy\\xe5\\x00D\\xecE\\x82:I\\x17\\xdb\\xb9C\\x9d\\xe2Q\\xd4D\\x8f\\xa2\\x00\\xea\\x00\\xdcH(\\x16\\xc0\\x99\\xdf\\x8eB:gh)\\xbb\\r\\xd0\\x08\\xc0\\x9eG\\xe6\\x9a\\x04\\xec@\\xbax\\xe3\\x98\\xe1\\t\\x99\\xbd\\xc0\\xfa \\x15\\xa4^\\xfd\\xf9I\\xb0A\\xb5\\xca\\x04\\x82f\\xc8\\x92A\\xda\\xc8Y\\xbbBs`\\xdc\\x84\\x01\\x06`\\t\\x1b\\xa4F\\xa3\\xd5\\x12&\\xc0\\xc7\\xea\\xa2\\xfd\\x15\\x16\\xc66\\x81\\xb2\\x00\\xc1 \\xd8$L4\\xf2Qwp\\xaa\\xd5\\x00m0\\xe1d\\xa3I\\x8d\\x84p\\x95\\x88\\x83s\\xd1-\\xc6\\xf2\\xa1\\x7f`Ff\\x07\\xdd  \\xec\\x94\\x9bt)\\x16\\x88\\xeb~\\xb6M\\xb0+\\xc9\\xb4\\xf7\\x84\\xd9\\x03\\xba.17(\\t\\xdc\\xdf\\xb8P\\x06\\xcc\\x88\\xf9\\xb9KP\\x1b\\xa5 \\x90v\\xe9\\x08\\x11x\\x99\\xe8\\x802#\\xd29M\\x9d3&-y\\xe5)\\x8e~\\xe1G]\\xda\\x18KL\\x12@\\x1fS\\x08\\n\\x95[\\xe7\\xe64^H\\x0c`1\\xa8H&\\r\\xff\\x00U\\xf1\\xcf\\xed\\x93\\x9bb\\xb2\\x0f\\x06\\xe6xF\\xbc:\\x86a\\x9dT\\x8d$\\xb7D4ki\\xea5\\x10}\\xfe\\x8b\\xec|H\\x14\\xe9\\xb6\\xa0\\x04\\nn\\x06\\xc3\\xf8@\\x83\\xf9\\x1f\\xc9|)\\xfb}g%\\xd8\\xdc\\x93/eR\\xean\\xc5c1\\x0e\\xd2lL\\xb0\\x01\\xf6!g=\"\\x11\\xf1\\xe6!\\xc1\\x81\\xf1\\xcf\\xde\\xebG-4\\xda\\xf74\\xdd\\xcc\\x02:|\\xa6\\x7f\\xa2\\xce\\xd3\\xad\\xcd\\x9b\\xfa\\xb9\\xfb\\xa9\\xf2\\xe7\\xea\\xacAv\\x9fI2v\\xba\\xc3\\xd9\\xb3\\xe8\\xee2\\xa6\\xb5\\xb4\\xe81\\xc4\\x91I\\xa0ih7.\\xdf\\xeb\\x7f\\xd1z_\\x86(\\xcd\\x1a\\xcew\\xcdU\\xe1\\xbe\\xc3\\xdb\\xef\\xf6^W\\xe1*\\x9f\\x8e\\xcd\\x80\\x06Z%\\xd3\\xef\\xff\\x00\\x9f\\xc9{\\x86O\\x86n\\x13)t\\xb7Q-s\\xa6;\\x7fo\\xd5pyS\\xea\\'\\xb1\\xf8\\xfcI\\'#\\x91\\xf3\\xc6+:\\xa1\\x86\\x0f\\x14\\xf5T\\xa6\\xed\\xaeG\\x984\\x8f\\xa9\\x99_Ee\\xf8Q\\x9b;\\x17\\xa8\\x171\\xa6\\xa5P\\xd0f\\xd4\\xc0kI\\xff\\x00\\xba\\xff\\x00B\\xbef\\xc81T\\xf1\\x1e$\\xad\\x8aq\\x1e^\\x1a\\xa560\\x18\\'_\\x9e\\xd8\\xbf\\x1c\\xfd\\xd7\\xd7\\x1f\\x0fr\\x93O#\\xc5b\\x0b\\\\X\\xfa\\x0e\\xa7Nw\\x80o\\xf7t\\xfd\\x97\\'\\x98\\xe9D\\xef\\xf0ajN\\xfd\\x9de:\\x80\\xe5\\xf8\\x02D\\xb7\\xcb{\\x08\\x07r\\x01#\\xf2?\\x92\\xe4>$e#\\x1d\\xe1\\xca\\xb4\\\\\\xe251\\xaes\\xc7\\x11\\x0e\\xb7\\xb1\\x0b\\xb0\\xf2M\\x1c\\xbfKD\\xd4\\xa4\\xe6\\xbc\\r\\x84\\xb4\\x10G\\xd4B\\xa9\\x9c\\xe5\\x9f\\xea\\x19(kdk\\xa7\\xe5\\x87\\x1d\\xc0#\\xd2~\\x96^B|$\\xa4{\\\\yA\\xc5\\xfd\\x1e[\\xf0\\xa7\\x15\\xe6\\xe5Y\\x96YQ\\xb2\\xf6V{\\x01\\x16\\x12d\\x1f{\\x90W\\xb2\\xfc\\x06\\xccF\\'%\\xc3\\xe0\\xf4\\x99\\xa5C\\xc9%\\xdf\\xcdM\\xee\\x13\\xf5k\\x81\\xf6_9|+\\xce)\\xe0|z\\xd6\\xe2^p\\xff\\x00\\x8b\\xa8\\x18\\xe6\\xd4\\x98.-\\x10\\x07\\xfd\\xecp?\\xf5/x\\xf89Xe\\xd9\\xbea\\x97\\x16\\xf9,\\xc1\\xe2\\x89a$\\x02\\xe6:[?R\\x0f\\xd4\\x0e\\xab\\xd5\\xcd\\xfc\\x9f\\xf7\\xb3\\xca\\xf1\\xff\\x00\\x82_V\\x8fO\\xce\\xb0c\\x11B\\xa3H&Z\\x1a\\xf1+\\xc9<e\\x90\\x9c\\xc3\\x03^\\x80\\x87Vc|\\xda.p\\xb6\\xa6\\xdd\\xa7\\xefc\\xeeW\\xbb\\xe3p^v\\x19\\xaf6t[\\xbf\\x7fe\\xe7\\xde!\\xca\\xaa\\xb1\\x8e\\xd6\\xd9\\xa8\\x1d!\\xed\\x1f\\x94}W\\x13N\\x1f\\xb1\\xdb\\n\\x92\\xe2\\xcf\\x9as\\xda5s\\xac\\x80\\xe2i\\xd1s\\x1e\\xeaf\\x1d\\x12\\xff\\x00\\xdd\\x92\\x1c\\xd7\\x0e\\\\\\xdb\\xcfQ\\xa8\\xac\\x0f\\x0f\\xe6T\\xb3/\\x0e4S,\\xc4U\\xf2K4\\xb9\\xd0\\xedL7\\x07\\xb8\\x1f\\x94/B\\xf1\\x1e\\x08\\xf8G:\\xa9\\x88k\\xc5\\x0c\\x1e.\\xb0\\x7f\\x9bQ\\x87F\\x0f\\x16,\\xca\\x8e\\xe9M\\xff\\x00#\\x8f\\x07I\\xea\\xbc\\xab\\xc5\\x19c<%\\x9fc\\xb1\\x94\\xcb\\xf0\\x19E|K\\x1dT4\\x12\\xcc\\x0e!\\xed\\x96j#\\xf855\\xfbD\\x8b\\xcd\\x97\\xa9\\x8f/\\xc9\\x1ag\\x95\\x9b\\x1b\\xc35%\\xff\\x00g\\x9fx\\xc3\\x0e\\xdc\\x06;[L\\xe0\\xf3\\x1aa\\x85\\xe1\\xdb<7O\\xde\\xcd\\x95\\xcf\\xd5\\xcc\\x8b08jD\\x92\\xc7\\xd3\\x02\\x0c\\x98p\\x90\\xe0~\\xbfe\\xd4x\\xff\\x00\\xca\\xcd\\xe8\\xe2_L\\nOs\\xc3\\xaaP\\xb14\\x9f\\xc6\\xdb\\xcc\\x12\\x1c,\\xe1\\xddy\\xddlc\\x9e\\xea\\x8dqc\\x1c\\x01\\xf9\\x9dq6\\'\\xefu\\xea\\xe2\\x95\\xc6\\x8f\\x9c\\xf2q\\xa8M\\xd7L\\xd6\\xcdr\\x97f\\xf8\\n\\xb8\\x9aMkM\\x06\\xb7\\xcd,\\xb8\\xb9\\xd2\\x1c~\\xb1~\\xe3\\xb2\\xe5\\r:\\x98\\x8c6\\xb6\\x8d\"\\x8d\\x89\\xe5\\x97\\xb1\\xfb\\xae\\xe3\\xc3\\xf9\\xc3\\xb0\\xcfu\\x17\\xf9.\\xa7Y\\xa6\\x93\\x9c\\xe9\"\\x0b}M\\xf60\\x08\\xe9\\x03\\xa2\\xc0\\xf1^MS!\\xccEv\\xfa\\xb0\\x98\\xa1\\xa89\\xbb9\\xa7\\xff\\x00*^\\x99X\\xc3\\x94mz1\\xf0\\x99\\x90\\xa9K\\xca\\xac\\x03\\x8bd\\xb4\\x1bj\\x9b\\xc7\\xb7\\xf5T\\x9e\\xe1\\x87\\xc4\\x02\\xc7\\x03M\\xf0A\\x1b\\\\\\x7f\\x80\\xa6b\\xa9\\x96\\x10\\xfeD\\x02\"\\x0fb\\xa0{\\xf5\\xb0\\x0e7\\xde\\xc0\\xf5\\td\\xc5.\\xcb\\x98\\xa7\\x1cE\\x16Av\\xa0.I\\x9d\\'c~\\x86\\xc5W\\xc38\\xeb\\xd0O\\xcc\\x08\\x82bR\\xc0\\xe2\\xbc\\xa2\\x01\\x00\\x99\\xb1)b\\xe8\\xb6\\x95@\\xf6\\x03\\xe5\\xbc\\xcb];v\\xf7\\x05Az\\xfb!\\xac\\x0b\\xcc^\\xd6\\x03s\\xf5M\\x0e$\\x12E\\xc5\\x88F\\xb3\\xf5\\xd4\\xd7\\xb1;\\xc7^S5\\x92K\\xba\\xee\\x11\\x96-aj\\xb6\\xed\\x17.\\x16\\x04\\xa2\\xca\\xb0\\xc3I\\xc6A\\xdc\\xf6U\\x1a\\xe2\\xd8=\\x14\\xc6\\xce\\x0e\\x80ZB\\x84V\\x89\\xe8\\xb8S.i\\xb1\\x06d\\xf6__\\xfe\\xc7\\x18|\\x1eq\\xe1\\xdc\\xc3.\\xae\\xf8\\x151\\x95)\\xbawcM \\xe6\\xbb\\xa8\\xb90z\\xb66+\\xe3\\xd78\\xb8\\xb1\\xe4\\x02H\\xd3\\x7f\\xf3\\xa2\\xfac\\xf60\\xc7\\x17\\xe6^#\\xcb\\xe9\\xd5m,O\\x93J\\xbd\\x19#\\xd4\\xe9u37\\xd8\\xebh=\\t\\x06\\xca\\x7f\\xb2\\x8e\\'\\xdd?\\n\\xf3LI\\xc2W\\xca\\xf3\\x02Y\\x89\\xa3\\xb4\\xb8\\x1db\\'P\\x8d\\x81\\x87D\\xf2\\n\\xef>G\\xf9\\x8d\\x88w\\xa9\\xcd\\xeay+\\xcb\\xb2\\'\\xd5\\xc5b2\\xfc\\xf4;@\\xfc;\\xc3\\x9c\\xc0\\t{\\x04\\x17\\x13\\xcc\\xb1\\xcd.\\x8e\\xce\\x0b\\xd3\\xf0\\x18\\x91\\x8d\\xa3\\xacCHq\\x0e\\x00\\xcd\\xf7\\xb7c\\xc2\\xe9\\x83\\xbe\\xcc\\xd9d\\x11\\x12\\x08t\\x8f\\xa2\"#\\xd8\\xa8\\xc0\\xd1\\xb4\\xe82aM\\xb0\\x9b\\x10\\xb7 W\\xd3i\\x13\\xc2\\x00\\xf1\\xfd\\x11\\xde\\xdb\\x82\\x90 \\xc4\\r\\xff\\x00$\\x03\\x9cf\\x05\\xc1\\xdd\\x02\\x08&L\\x84\\x81\\x06[\\x04\\x99\\xdd\\x12%\\xa8\\x05\\x13\\xc2q\\xf4\\x98#cx\\xd96\\xc2\\xd0\\x04\\xf2\\x91%\\xc4\\xc7D\\x03\\x8cm\\x10:u@\\x92\\xdd\\x9b&Q;\\xf4=z\\xa6\\xb8DJ\\x00\\x82\\x00\\xe2\\'xDnd\\xa0\\xe9\\x9d\\xbb\\xa5\\x17\\x16\\x9fd\\x01\\x03U\\xc0\\xb2-\\xb0 \\xfd%\\t\"\\xf1\\x11\\xd5.o\\xcfT\\x00;t\\x00\\xa4\\x94O?\\xd1%m\\x020\\x01\\xdc\\xfdQ\\x93\\x04DtM\\xd4x#\\xea\\x90\\x90\\xdb\\x89\\x95P#%\\xdb\\xf1{\"dD\\t\\x94\"F\\xf0\\'\\xaf\\xd96\\xe6#\\xdd\\tJ\\xc2\\xe0\\x10\\xd4H\\x8e\\x10\\x1f13\\x04\\r\\xc2\\'k\\x0bBQn,M7\\x13)\\xd6\\x8e\\xe6\\xc9\\xa0\\x82\\xe1\\t\\xc3\\xaf\\xd1\\n\\xb5@\\x89\\x17\\xb2^\\x9dS\\xb0\\xee\\x95\\xad\\xc2@\\x00O!\\x08\\x173\\xc2Z\\x84t3\\xc2B\\xf0\\x0c\\x04\\t\\xd2L\\xc4\\xf4(J\\x0c\\x97M\\xe1#\\xbc^\\xe8\\x0bo\\xcaM\\x1ag\\xdaT7H\\xb7\\x10l\\xe3\\xfa\\xf0\\x123\\xb4\\x1ftI\\x05\\xb6\\x89\\x89\\x84\\xb5\\x1f\\xa4J\\xab((\\xebc\\xc2\\x02\\xec\\xbd\\xe5\\x10A\\x11\\x1f\\xd9\\x07\\xcf\\xa6\\x04\\xfe\\x88\\xfa\\xb4\\x04L\\t;O\\xd9!\\xc5\\xcc\\x1e\\x89\\x1b\\xc9\\x03M\\xe2\\x12\\xb1\\xe0\\xc7uP(\\x8b\\x8b\\xa5\\xb1\\x89@\\xd8\\xec#\\xa0\\xd9\\'\\x19#\\xafP\\xb4u\\x10\\'8j\\x90\\x81\\x11\\xd8\\xf6)\\x02\\x04\\xf4\\xe8\\x81\\x07y0\\xa9\\xdb\\x03I-\\x8bBt\\x82D\\x0f{\\xcai\\xb1\\x13\\xf4\\x84\\x1d \\x983\\xfd\\x14\\x01\\x12-\\x1d\\xee\\xa3s\\x89\\xa8\\xd8\\x04sd\\xe9\\x86\\xf7\\xe8\\x14D\\x87\\xd4\\x00\\xdc\\t\\x03\\xaa\\x9a\\xd5\\x90\\xd8\\xd1T\\x91,\\x1b\\xcd\\xc9\\xb2\\xfc\\xda\\xfd\\xb8q\\x07\\xff\\x00\\xef>\\'\\tM\\xf3B\\x8e\\x1a\\x99k\\x7f\\x90\\xbd\\xa1\\xceo\\xd2\\xdf~\\xcb\\xf4\\x8e\\xa5F\\xd2\\xc39\\xc4zZ\\xc7\\x12:\\xc0\\x9f\\xa2\\xfc\\xb2\\xfd\\xa6ss\\x9e|m\\xf1Mj\\x8fs\\xdbK\\x12(\\xc9\"\\xf0\\xc6\\xcct\\xbc\\xac\\xa7\\xd1\\x07\\x8c\\xd5v\\x9a\\xad\\x110&\\xfdU\\x8c\\xb9\\xba\\x9eb\\x00\\r.v\\xa1\\xc0\\x04\\x95Z\\xb3\\x8b\\xde\\xe3\\x04\\x03y\\x9f\\xd5Z\\xc3\\xb7\\xc9\\xc19\\xc7z\\x8e\\xd0=\\x85\\xcd\\xbe\\xc1`t\\xfa;\\xbf\\x86\\xf4?\\x11\\x88{\\xe2\\x03\\xc8n\\xdb\\\\\\xff\\x00u\\xec\\xd8\\xaf\\xfd\\xb6M\\x88s\\xfd,m78\\x89\\xb5\\x9b\\xb7\\xe5\\xf9/%\\xf8KC\\xce\\xa6\\xf7\\x00\\xe2|\\xd0\\x04{\\x85\\xe9_\\x101O\\xc1\\xf8+\\x1dR\\x9cjs\\x058\\x02@\\x9bo\\xfen\\xbc\\x9c\\xc9\\xcb\"G\\xbf\\xe25\\x0c\\x0eG\\x9b|?\\xc3U\\xc7f\\xd8V1\\xee5\\xb1\\xd8\\xca,\\x14\\xdaE\\xa2\\xa6\\xa2L\\xfb\\x89\\xf7_\\xa19\\x06X\\xcc&Q\\x87\\xc3\\xd3\\x1a)\\xd3\\xa4\\xda-\\x1d\\x84\\x1f\\xea\\xbe\\x05\\xf8A\\x83\\xf3\\xfcs\\xe1\\xdaM\\x90|\\xf0\\xe2\\xedP\\x0c\\x00~\\xfb\\xcf\\xbfe\\xfa\\x17\\x96S\\xf30\\x18j\\x9f.\\xad.\\xe8v3\\xfa~K\\x93\\xce\\xd4\\xd2:\\x7f\\x1c\\xbfF\\xc8]D\\xbe\\x99\\x01\\x9ec\\x9c\\xd6T\\x00r~G\\x0f\\xd3\\xee\\xaaet\\x06\\'\\xc3t\\xcb\\\\\\xe3\\xe5\\xb9\\xd4I6 \\xb5\\xd1\\xb7]\\xb7[\\xd5i\\x96a_T\\xc7\\xfe\\xde\\xab\\x89\\xd3\\xff\\x00\\xdbt\\x13\\xf6\\x90~\\x8b9\\xf4\\x1d\\x82\\xce3\\x1f$\\xcd<Q\\x15M\\x11\\xf2\\xbc\\x96HsO\\x0e 8w\\xd1\\xd5y\\xd5g\\xac\\x9d3\\xe3\\xbf\\x1dS\\xab\\xe1\\x7f\\x1a\\xe2\\xeaikF\\x12\\xa9\\xc4Rx\\x90\\x1a\\xe6\\xbfY\\x9e\\xb2\\x01\\x11\\xff\\x000_DxS\\x120\\xfe4\\xc2\\xbc\\xb8\\xbf\\x0b\\x9dQ}\\x01Q\\xae\\xbb\\\\@\\xa8\\xc28\\x1e\\xb0\\xdb\\xff\\x00\\xccW\\x96||\\xc8\\x19\\x88v?\\x13LT\\xd4i\\xb6\\xa1\\x04\\\\9\\xb0\\x01#x\\x10\\xd3\\x1b\\x18*\\xbf\\xc2\\x8f\\x16\\x1c\\xeb\\xe1\\xde\\x01\\xef{\\xa8f9\\x0e\\'\\xf0\\xae\\x0e\\xb3\\x99\\xa7\\xfe\\x1b\\x88\\xf6\\x81~\\xcb\\xd2\\xe4\\xf2bRG\\x04a\\xf1\\xe6x\\xdf\\xbd\\x9fp\\xe5\\x18\\xb3\\x8e\\xcb\\xb0\\xb5\\xf5i{\\xa9\\x00g\\xf9\\xb6>\\xca\\xaey\\x97\\xb3\\x15\\x87\\xa8\\xd24> \\x1e\\x87\\x82\\xb9\\xdf\\tx\\x97\\r\\x8b\\xc2\\x82*\\x86R\\xc4Qn2\\x93\\x8d\\x9b\\xa5\\xd6{G\\xfd/\\x99\\x1cj\\x0b\\x1b\\xc6\\x9f\\x18\\xf2\\xaf\\r\\x9a\\xb4\\xeac\\x05j\\xcd\\xb3\\xa9\\xb4\\x17\\xb8}\\xaf\\xf9,/\\x96\\x99\\xab\\\\]\\xa3?\\xc5\\xde\\x1d\\xa1\\x8b\\xa1Q\\xb5\\xa90\\xd3,-x\\xa8\\xc9c\\xdaD\\x16\\xb8E\\x81\\xd9|\\xe5\\xe2\\xca8O\\t\\xe7m\\xc2f\\xb5\\x05o\\x0e\\xe6\\xb8Ge\\xce\\xab\\\\\\x87\\x06\\x80K\\x98\\xda\\x86&D\\xb85\\xfb\\xed<\\xae\\xbf\\xc5\\xff\\x00\\x1f\\xeag4\\xc5,\\x1e\\x05\\xcc\\'\\xd6<\\xe7yr;G\\xe7\\xd5x\\xef\\x8bif\\xbe\\'\\xaajy%\\x81\\xbf\\xbc,d\\xd4\\x96\\xc1\\xd4\\xd3\\x00\\x8f\\x94\\x95\\xd3\\x87\\x1b\\x8e\\xde\\x91\\xcf\\x9b\"\\x94i+g\\x97x\\xb0?#\\xc7U\\xc0R\\xc5\\x9cn[M\\xfeV\\x1a\\xae\\xb0\\xea\\x94Xn\\x1a\\\\\\r\\xc6\\xd0v\\xb7h\\\\\\x8e+\\x10\\xcf4\\xfa\\xc3\\x9c\\t\\xfd\\xf0\\x16p\\x88\\x87\\x0e\\x0fu\\xeb\\x99\\xff\\x00\\xc1\\xdc\\xeb\\x0f\\x84\\x01\\xf8wbpu R\\xac\\x01\\x00\\x03v\\x80H\\x11k\\x82lv\\xf7\\xf2\\x9c\\xf7\\xc2\\xb8\\xff\\x00\\x0e\\xd6x\\xadM\\xc1\\x87p\\xee?\\xce\\xab\\xd6\\xc7\\x96\\x0fQg\\xce\\xf9\\x182]\\xb5\\xa1\\xf9f9\\xd4\\x0b\\xe9\\xc9k\\x84:\\x9dBf\\x0f^\\xeb\\xb0f\"\\x97\\x892\\x13\\x84\\xd0\\x05ja\\xc6\\x9b\\x01\\xd8\\xf2\\xdf\\xceZ~\\x9c\\xaf9\\xa1\\x884\\x88\\x0eh\\xa8\\xd0gK\\xad\\x0b\\xa1\\xc93\\x96\\xe1k\\x97I\\xd2ZC\\x98M\\x8b\\x7f\\x96x\\xdb\\x7fc\\xc2\\xdeJ\\xd1\\xc9\\x8aj2\\xdfF\\x0e2\\x93\\x9aX\\x1e\\xc2\\xe3\\xf28\\xc7B\\xb3+\\xe1\\xddA\\xc5\\xaf!\\x83\\xbfN,\\xbb\\x1f\\x11e.\\xadH\\xe3)4\\xd4\\xa2\\xf1\\xab\\x7fP\\x1d\\xc0\\xf6\\xfa\\xaeF\\xad\\'\\x80\\t$\\xdbs\\xb2\\'h\\xbc\\x97\\x16U~\\x93p.\\x0f\\xddZ\\xa7\\\\\\xbe\\x85Jn\\x12\\xd7\\xc1\\xf6p\\xe7\\xedeU\\xcc\\x89\"\\xe3p\\x8b\\x1cd\\x19\\x89\\x17K,\\x18\\x0c\\x96\\x11\\xb9\\xfb(\\xc0\\xb4\\x1d\\xd5\\x87i\\xaa\\xd8\\x16{\\x7f0\\xa0{I\\xb1\\xe0\\xa3!;\\x01\\x10#\\xaa\\x9a\\x8c=\\xaei\\xb5\\xad\\xef\\xb8Q\\x02\\x08\\x8d\\xd2e\\x8d\\x94\\x02`e\\xa6LH\\x98\\xee\\xbdS\\xf6i\\xf11\\xf0\\xc7\\xc5\\x1c\\xbb\\x18\\xf6\\xb9\\xf4\\xbc\\xba\\x94\\xeb5\\xa0\\x9f\\xdd\\x96\\xfa\\x89\\x8f\\xe1\\x11\\'\\xa0\\x93\\xc2\\xf2qg\\x82v\\x95\\xd8\\xfc\\'\\xcdp\\xd9\\x17\\xc4\\\\\\x8b\\x17\\x8e\\x7f\\x97\\x83\\x18\\x8d\\x15\\x9d\\xd1\\x8fii\\x9e\\xc6`\\xf6\\x95b\\xafG\\xe9\\x97\\xc3\\xdc}|\\x07\\x8a(\\xe5\\xf5\\x86\\xb1G0\\xa9L\\x10d:\\x96\"\\x9b\\xaaR|p\\x0e\\xad6\\xe5zV^\\x0eW\\x98b0\\xec\\x1f\\xf0\\xda\\x1e\\xd6\\x7f=\\x1e\\xdd\\xdb\\xfen\\xbc\\x17\\xc1y\\xcdff4\\xbc\\xcdU\\xb3l\\x8b\\x1b\\x85\\xc0\\xe2\\xa8\\xb7j\\xf4i\\xbc\\x00\\xe0N\\xde\\x8a\\x94\\x9e\\xde\\xb1\\xdc\\xaf}\\xcfq\\x03\\x05B\\x86oE\\xe1\\xd4p\\xafk\\xea\\xc0\\xf9\\xa88C\\xbe\\xd2\\x1d\\xff\\x00i[\\xc3i\\x98>\\xcd\\xb1\\xea`\\x87\\x82\\x08\\x048\\r\\xfb\\xa4\\xc3\\x0f\"#\\xa7c\\xca\\x8b\\x0e\\x05\\x1a\\x8ef\\xa0i\\x91\\xaa\\x9b\\x81\\xb4r?\\xaa\\x90\\xd9\\xed\\x8b\\x82\\x7f\\xf2\\xbaH%\\x81\\xaa\\xf6\\x84x\\x13\\xf9\\xf0\\x83E\\xa0\\x1d\\x91l\\x96\\x80\\x08\\xeb\\xba\\x01\\xc2\\xf1\\xb4 L\\x01\\xcc\\xa0\\x08\\x88\\x02\\x1a/\\x08\\x8b\\xc8\\xfc\\xbb \\x10\\x96\\x92a\\x11 \\x1e\\x10sA\\xe7\\xb8D\\x9f\\xe1\\xea\\x80M\\x9b\\xeec\\x82\\x89:BM\\x02;\\xa2\\x07 J\\x00\\x13\\x1cI;%`H\\xe3}\\x90v\\xfe\\xc8\\xfc\\xd6\\x9b\\xf5< \\x13\\xac:\\xfd\\x10\\x99\\xd8\\xdf\\xa9F\\x08\\x992R\\xd3\\xea\\x9d\\xfd\\xd0\\r7\\x1b\\xcd\\xf9\\xe5$I\\xde\\xdc$\\x80\\x86H\\xdaJ:\\x81>\\x90>\\xa9\\xa0\\x91\\xc5\\xf8\\x84\\xb9\\x1f\\xa0CF\\xad\\xd8\\xe0d\\x02\\x01\\x05\\x07\\x18m\\xc7\\xb5\\x92\\x9b\\x80\\x81;p\\n\\xaav\\xca\\xed;\\x11v\\xe7\\x8d\\xee\\x13]\\xf3o\\xca%\\xd3~\\x9b\\x1e\\x88\\x10\\x0cq\\xfer\\xada\\xbb\\x08\\x10e;p\\x0f(\\x12.\\x0f\\xbc\\x84e\\xa2y\\xee\\xab\\xcc\\x8e\\xd8d\\xea\\x9ez&\\xc1\\xd5ct\\xe0\\x00\\xb4m\\xca\\x11\\x05X\\x81M\\xcfk\\x14\\xd2Dl\\x89\\x131k\\xdc\\xa4\\x1b\"9K%}\\x80Z\\xd7\\x82\\x91\\'sc\\xd5\"L\\xc4[\\xac%2\\xd1&\\xddJ\\x86Y\\xbb@u\\xc6\\xe6\\xf7H\\r\\x89\\xfa\\xa7i\\xb8\\xbcw@\\x90\\xe7o\\xbf\\xddV\\xca\\x07Ht\\xde\\xc8\\x1d\\xf7\\xf6H\\xdc\\xc82\\x8c\\x81<\\xa8\\xa04\\x9fP\\xb4\\x99N1\\x1f\\xd3\\xaa\\x00\\xc4\\x9d\\xec\\x81\\x98\\x91\\x02\\x14\\x014\\xde\\xe2\\x11\\xf9\\xa7p\\xde\\xf7B\\xf2\\x94\\xd8\\r\\xec\\xa7\\xb0\\'K\\x9c&\\xe54\\xb4\\x0f\\x9b\\xdaQ0F\\x9d\\x93nH\\xb0>\\xcaZ\\xa4\\x06\\xb8\\x0b\\xc1\\x90{&\\x96\\x99\\x9e}\\xd4\\x9d \\xe9\\xfa\\xa6\\x1b\\x1b\\x9b\\x05P65\\x12\\x0f\\xd4\\xa8\\xea\\xfa}rd\\x19\\xb7*H\\xeb\\xe9\\xea\\x9a]\\x02\\r\\xc0\\x17(U\\x99\\xd9\\xa5WR\\xcbj7\\x97\\x02\\xd6\\x98\\xeaco\\xaa\\xfc\\x8e\\xf8\\xb3\\x98\\xbb3\\xf1\\xdf\\x89\\xf1e\\xe1\\xe2\\xb6k\\x88\\xd2\\xf0 9\\xa1\\xe5\\xa0\\xc7\\xb0_\\xab^5\\xcc\\x1d\\x96x[;\\xc6H\\x15p\\x98\\x1a\\xf8\\x86\\xea\\xe3K\\x1cZ~\\xe3\\xee\\x17\\xe3\\xe6;\\x10\\xfc[\\xc3\\xaa\\x12\\xfa\\x95\\x1e^I\\xe4\\x9b\\x93\\xf7%e2We\"\\xc2\\xea\\xbaA2\\xeb}\\xca\\x9f\\x17T\\n\\x9aXI\\xa7M\\xa1\\xad\\'\\x9e\\xa7\\xead\\xa0\\xc2i\\xd61\\x06d\\x02x\\x1f\\xe5\\x94\\x15G\\xa1\\xe0\\xc9\\xb2\\xc5\\x9d\\t\\x9e\\xad\\xf0E\\xc0\\xe1k\\xcb\\xcb\\x1a\\xd78\\x91\\x176\\xfdWc\\xf1K=\\xc3\\x1ayfR\\xd7\\t\\xa9TV\\xac\\xc0\\x7f\\x81\\x80\\x90>\\xae\\x8f\\xb1^?\\xe0\\xbc\\xdb\\x13\\x83\\xc0\\x8c.\\x14<>\\xadB\\xf7\\xb9\\xa0\\x93\\x1c\\x0b)qt\\xb1o\\xcdjW\\xc4\\x02\\xea\\xd7$\\xbaer<W5&\\xce\\xf5\\xe48\\xe2\\xe0\\x91\\xe8\\xdf\\x0b\\xde\\xdc\\xbf1\\xf0\\xedg\\x0b\\x8c\\xc2\\xae\\x1c\\xbc\\x19\\x049\\xa5\\xa4\\xf5\\xed\\xf4_u\\xf8k7\\xa3W\\x05\\x97S$\\x07\\xba\\x97\\xa9\\xa7\\x92\\x1b\\x12:\\xff\\x00\\xb2\\xfc\\xd5\\xc9\\xf3\\x0cv\\x16\\x851FG\\x95\\x8c\\x15\\xe1\\xa2o\\xbf\\xea\\x17\\xd6\\xde\\x03\\xf1\\xb5|^\\x1d\\xac\\xaa\\x0b*4z%\\xd3\\xbc\\x10B\\xe1\\xf3p7R=O\\xc7\\xe7O\\xf4\\xa3\\xe9\\\\5V~%\\xd4\\x9cA\\x18\\x8a\\x12\\x1b\\xb8%\\xa6\\x08\\x9f\\xfa\\\\>\\xca\\x93\\xe8y\\x87\\x0fA\\xee-\\xa8\\x03\\xb0\\xbe|\\x19\\x0ek\\x8b\\xa9\\x9f\\xbbH\\xfa\\xc7+\\x84\\xcb\\xfcQ\\x8b\\xc0R\\xa3\\x89uO>\\x9d7\\x07\\x96\\x17z\\x83H\\x83\\x07\\x9b\\x12o\\xd1v\\xed\\xae\\xfc\\xcf\\x03Q\\xb4\\xbf\\xe2=\\xbek$\\xee\\xe0\\x7fS\\r+\\xc7\\xeb\\xb3\\xd9\\xa3\\x84\\xf8\\x9d\\xe16\\xf8\\x93,\\xa9V\\x95/\\xdf\\xb2\\x0f\\x96\\x7f\\x85\\xed\\'S\\t\\xef\\xb7\\xb1\\x0b\\xe4\\xfc\\x970w\\xc3\\xcf\\x888\\xfc\\xb5\\xd5\\xeaQ\\xc9\\xb3\\x91\\xe5\\xb6\\xab\\x84i\\x7f\\xcdI\\xc7\\xea4\\x93\\xd6z\\xaf\\xb9s\\x16\\x13\\x89\\xa1\\x8b\\xa6\\xc3S\\r^\\x99\\xf3\\x19\\x1cZ\\t\\xff\\x00\\x99\\xb2Gp!|\\xcf\\xfb@\\xfc-nmR\\xad|\\x11i{\\xff\\x00yB\\xa3E\\x9a\\xe9\\xb8\\xedr\\x08\\xf6+\\xa7\\xc7\\xc8\\xa0\\xf8K\\xa6c\\x9f\\x1c\\xa7\\x15(v\\x8d\\x8f\\x87Y\\xe6;8\\xcb\\xbf\\x07S\\x15Q\\xf5h\\xd4~\\'\\rI\\x8e1\\xa4\\xff\\x00\\xc5\\xa7\\x03\\xdf\\xf3j\\xec\\x1b\\xf0\\xca\\x96mJ\\xa6-\\xc5\\xd5\\x9d\\x89\\xac^\\xda\\xaf\\x16\\xd1\\xff\\x00H\\xe4\\xc5\\xfa[e\\xe4_\\n|YO-~\\x17\\x14\\xda\\xbeN/\\tX7\\x15\\x83\\xaaF\\xbc=`\\x00{H;\\xd3\\xa8\\xddD;\\x82 \\xec\\x17\\xd3\\x18\\\\\\xda\\x85:G\\x11\\x83p}\\n\\xcd5\\x1a\\xd0bO \\xf4p\\x8b}\\xba*g\\x9f\\xc2\\xed\\x17\\xc1\\x1f\\x964`e_\\t0\\r\\xa7\\xe6f$b\\xb5\\x19sA\\x10z\\t\\xe8:.\\x8f\\xfd\\x07\\x05\\x80\\xc2\\xf9Xl=&7Li\\x17\\x9e\\xd2{.s\\xc4\\xff\\x00\\x10)\\xe5X7\\xe2\\x9a\\xdao}\\x19{\\xc0\\xa8\\x1a\\xd8\\x13,\\xd4c\\xd5\\xccu\\x03\\xaa\\xf2<\\xdf\\xf6\\x8a\\xa1O4\\xc4P\\xa5\\x9a\\xbf\\x17Z\\xa9#\\x07F\\x98m\"\\\\\\xe3D\\xb5\\xae\\x04j\\xdd\\xb5\\x1am?u\\x8c>\\\\\\xfbH\\xdf*\\xc5\\x81T\\x9aG\\xabeY0\\xad\\x84\\xc4e\\x15X\\xea\\x8d\\xc0\\x9f(\\xb2\\xa7\\xf1\\xd1u\\xe99\\xa7\\xb01\\x1dZW\\x9f\\xf8\\xff\\x00\\xe0\\xc5\\x0c\\xc3\\x03\\x88\\xd3I\\xaf\\xa6\\xe6\\x90\\xdaD\\x08\\x06\\xf7h\\xdcw\\x0b\\x95\\xce\\xff\\x00iL5\\x0f\\x19W\\xad\\x81\\xff\\x00Q\\xa6d\\xe1\\xaba\\xcdjnyf\\xb0A\\xd2y\\x02H\\x1d\\xfb\\xafB\\xf0\\xaf\\xc6\\xcc\\xaf\\xc6\\x8c\\xc6\\xb0fxjT\\xa9\\xd4\\x0c\\xa5C3h\\xc3\\xd6{`z\\x81\\x9d&\\xf6\\x8d\\xec\\xb6\\x9e<\\xf8ji\\x18\\xe3\\xf2<|\\xdf\\xa3g\\xc3\\xde+\\xf0\\xc5o\\rf\\xb8\\xac\\x1df8T\\xa0\\xe8\\x04\\x8f\\x9d\\x9c\\x11\\xdcl~\\x8b=\\x95M)\\x04\\x96\\xe9\\x87\\xb4\\x00/1\\x7f\\xea\\xbe\\xb3\\xf8\\xd1\\xf0\\xe2\\x97\\x88\\xf0\\xa7\\x1f\\x84\\xa6\\xdf8\\x8dT\\xea\\xb0\\x07\\t\\xfan\\x0f>\\xe5|\\xad\\x9a\\xe5\\xaf\\xc0c\\x1dB\\xab\\r\"\\xc3\\xa4\\xb0\\x8f\\x97\\xdb\\xb7E\\xefx\\xb9\\xfeh+\\xec\\xf9\\x7f;\\xc4\\xff\\x00\\x1f\\'\\xeb\\xb8\\xb3\\xb0\\xf0\\xe64b05h\\xd5,{\\x08c\\xfc\\x87\\x98.\\x05\\xd1bx\"\\xc0\\xf0t\\xf0J\\xe5\\xfcQ\\x91\\xbb#\\xcc\\r&\\x0f3\\r[\\xd7I\\xe7\\x96\\x9e\\x9f\\xd9;/\\xa8\\xec\\xbd\\xf4\\x19\\x8bmO*\\x90\\xd4\\xd3M\\xd0\\xed\\x07vO\\xf2\\x91po\\x07\\xea\\xba\\x1c\\xc3\\x17G\\xc4xGaIs\\xaa\\x83\\xae\\x83\\xea\\xb7N\\xa0,m\\xb4\\xf1n\\x86\\xdb-\\xdaqvsE\\xc7$x>\\xcf9\\xabLR|\\x18s\\x1d\\xf4\\xb2\\xae[\\xe5\\xb8\\x16L\\x1d\\x8a\\xd7\\xc4\\xe1\\xbf\\x0f]\\xd4\\xaa\\x8f\\xdd\\xeemv\\x9e\\xbe\\xca\\xad\\\\\\x1b\\xb0\\xd5X\\xc7\\xcbu\\rLq\\xbb\\\\\\x0fE\\xb1\\xcdt\\xe9\\x955\\x87\\x8dZa\\xd3\\xc7\\t\\x83K\\x9cg\\xe5\\xea\\xae\\xd4\\xc34\\xb0\\xb842\\xa37\\xe4\\x11\\xdf\\xa7\\xba\\xa4\\xf6\\xb8=\\xc0\\x8d$\\x18-!\\x0b!\\xbb\\x18\\x88;\\x14@ \\xf43\\xb4\\xd9\\x1dBD\\xd9\\x0f\\x96\\x01\\xd9E\\x12\\xc2Ik\\x87\\x07\\xf2Wr\\xfcA\\xc3c\\xa9b\\x1a\\xd1P\\xd3p\\xa9\\xa1\\xdb>.G\\xb1\\xb8U\\xaa0\\x9a%\\xe2\\xe2F\\xdd\\xd3\\xb0n\\x87\\xb6CD\\xcb}\\\\Z\\xc5HG\\xdf\\xfe\\x1a\\xcc\\xa8\\x8c\\xd3\\xc3\\xb9\\xd0\\xa81X\\\\\\xe7$f\\x1b\\x11\\x89s\\xdd/\\xc5a\\xe1\\xd4\\xaa\\x11i.\\xa3\\x00\\xc5\\xe5\\x81}qA\\x94\\xab3\\x13\\x84\\xa8\\xc0\\xfaU\\xbc\\xc9i\\x163g\\x8fk\\xccw\\xec\\xbe\\r\\xf8y\\x8f\\xaf\\x98\\xfc\\x18\\xc2T5\\xbf}\\x87\\xc0\\x8c^\\t\\xee C\\xe8?\\xd6.oo6\\x93\\xbf\\xe5{W\\xdb\\x19\\x1eyK\\x13\\x81\\xcb\\xf1z\\xc3\\x99Z\\x9bj4\\xb8\\xdd\\xd0\\x08w\\xd7L\\x87wd\\xad\\xa0\\xceW\\xa6j\\xe4\\xeew\\xe1E\\x02b\\xa6\\x1c\\x9a>\\xfa~S\\xf6\\xfdV\\x8b^*\\n.h>\\xafW\\xe5\\xb2\\xce?\\xfb,\\xf2\\x9b\\x81\\x8ax\\x91\\xa0\\x8f\\xf9\\x84\\xc1\\xfbG\\xdd]\\xc2~\\xf1\\xef\\x98\\x86\\xd8}n\\xb6O\\xd1\\x16Z\\x98\\xb0\\x04\\xcf%8\\xf1\\xf2\\xa6\\x99\\x06,\\x8bL\\x0fet\\xa8\\x90\\t<[\\xb2p=-~z!!\\xb3\\xd6\\xf6N\\x89\\x02\\xf7\\x1b)\\x00.\\x87\\x02\\x04\\xc1\\xfb\\xa2\\xe2w\\xe0u\\xe1\\x02\\xd8\\xb9\\x8b#{O\\xf6@\\x11\\x0e\\x10e\\x01-\\x13\\x16\\xec\\x81\\xdc\\x90\\x9d\\xcc\\x82\\x80\\x0e\\xf5DZ\\x12\\x1d\\x88Jf\\xd1\\xba\\'\\x91(\\x00a\\xa6\\xc6\\xfd\\x0fD\\x8e\\xfbl\\x91hh\\xb9\\x1d\\x91\\x16?\\xd5\\x00w\\x1dd]$\\xa6\\xf7\\x07\\xec\\x92\\x02\\x06\\xb8\\x83a\\x08\\t\\xdf~\\xc8\\t\\'\\x8ft\\x9bbD\\xed\\xb2\\xac\\x8b\\xb6\\'\\x11\\xb96\\xf7M\\x13\\x16\\x03\\xdd8\\r\\xe0_\\xdd\\x0fseT\\xe8\\x8b\\xd0 ^ \\xc7\\x05\"\\xd2\\x011\\x10\\x88\\x1107\\xdf\\xb2\\x00\\x18=\\xba\\xa8*\\x19\\'{\\x98\\xb2 \\xf2d\\x94\\xc1$I?T\\xe6\\x90\\x00\\xd4#\\xe8\\x94Z\\x9a\\xd8\\xebA\\xe2R\\x8fM\\x92$F\\xc0[\\x84\\xd0@\\x80ah\\xba*;\\x8d\\xe6R;\\x81\\xd1\\x03\\x05\\xbb\\xf6\\x94\\t\\xf4\\xefa\\xcaR\\xf4\\x05\\x06\"\\x106\\x1e\\x9b\\x10\\x8b@\\x9b[\\x94\\x08\\r=\\x8a\\xcd\\xb7\\xd0\\x1cH;|\\xdd\\xd3d\\xc1\\x1bG\\x01)\\x9fd\\x88\\xd5$\\xf3ejH\\x08DXC\\x8c\\xca-2\\xd9\\xe5\\x07\\x18\\x1e\\x90~\\x89\\x13a\\x06J\\xad\\xb4\\x03\\xab\\x8f\\xd14\\x13r\\x04$f\\xd6\\x83\\xfa\\xa3\\x04\\x02z\\xa0\\x11p\\xfa\\xa5b-\\xce\\xd2\\x81\\xd8\\xc0\\xeea\"\\xd9\\x11\\x1c\\xa0\\x06\\x9f\\xa8B\\xf4\\xc7bQ\"m2P\\xded{)\\xb6\\x00L\\x9bGT\\xc2z\\x0f\\xa2q=\\xcf\\xba\\x07\\xd3\\xc4\\xa8\"\\x86\\x12\\x0b\\x89\\x8e\\xca7\\x02F\\x91\\xfcGx\\xb2\\x91\\xc4q\\x16\\xe4(\\xde\\xc9\\x88\\xb1\\x17B\\x0f9\\xfd\\xa01\\xef\\xcb~\\x10\\xf8\\xcf\\x15I\\xa0TfS^\\\\v\\x02\\x02\\xfc\\x98\\xaa\\xe2\\xc1H8^&w+\\xf5O\\xf6\\xa1\\xaa\\xea?\\x02<WJ\\x99\\x0e\\xc4c0\\xbf\\x87`\\xfeb\\xf77\\xd2;\\xf0\\xbf+k\\x00\\xfa\\xa2\\xda\\xb6\\xe7p\\xb1\\x98DN:\\xb1L\\xe0\\x92l\\x02\\x18\\x86\\x90\\xc7t\\x9f\\xe8\\xa3.sk0\\x83pw\\xfa\\xa9q\\xae\\xd2\\xd6\\x81\\xb9?e\\x91\\xd2z\\x97\\xc0\\\\6\\x07\\x17\\x89\\xaf\\xe7\\xb1\\xb5*2\\x1b\\x0e\\x12\\x00\"J\\xf7\\x8c\\x16K\\x91P\\xcc\\xc7\\x9dF\\x8b\\xddQ\\xa2\\x90ao\\xabQ\\x05\\xc0N\\xd7\\x1bJ\\xf9\\x93\\xe1F%\\xf8\\x1c^&\\xbbA\\xd0\\xd2\\x03\\xc3oh]~y\\x9fc\\xf3\\x0c\\xde\\x8d\\x13S\\xc9\\xa1\\xa5\\xa2\\xa1y:^&@\"\\xc6\\xdb\\x8eB\\xf3r\\xe3\\x9eL\\x8e\\x9e\\x8fo\\x06lx\\xb1$\\xe3l\\xedrL\\xab$\\xc3b\\xf1\\xf8w\\xf95)\\xb83\\x13\\x87\\x00i\\xd4\\xd6\\xba\\xe2\\xfb\\xce\\x82#\\xbd\\xf7_@\\xfc7\\xc8\\xb2\\\\\\xef+\\xc3\\x1c3\\xb0\\xb5+:\\x9b`4\\xb4\\x98\\x028;\\x98\\x9f\\xaa\\xf1\\xef\\x0b~\\xcfL\\xcd|3\\x89\\xce\\x9f\\x88\\xac\\xfa\\xf4(\\xbf\\x10\\xdam\\xa8e\\xef\\r%\\xbc\\xda\\xfe\\xeb\\xc1\\xbc\\r\\xf1/3\\xf0\\x87\\x8bp\\xd5\\xb1\\x99\\x9e>\\x96^\\xd7i\\xc47\\x02\\x18j\\x06\\xff\\x00\\xca\\xd7\\xfaI\\x980{\\xdcn\\xa6~,\\xf2ET\\x8aC\\xcc\\x86\\x19\\xb8\\xb8\\x9f{g\\x19\\x13\\xb2\\xa7\\x06\\xb9\\xb0\\xc1\\xcb\\x95\\x8f\\n\\xe6\\x15YHa\\xc5Y\\xaf\\x87:\\x98E\\xf53\\x8f\\xca\\xc7\\xb8^w\\xf0;\\xe3\\xde\\x07\\xe2\\xf6e[\\xc2\\x99\\x9b\\xde3\"\\xc7?\\x05\\x88\\xac\\xd88\\x96\\x0e\\xb7:^\\x05\\xcb\\t=ZN\\xcb\\xb1n\\x06\\xbf\\x86|H\\xec.\\'P?\\xc2\\xe7nD\\xaf\\x076)\\xe2u#\\xe90f\\xc7\\xe4E8\\xb3\\xd4r\\xaa-\\xfc]:O\\x12\\xca\\xce{\\xa9\\x9b\\xc0%\\xa0\\x90}\\xe2~\\xeb#\\xc7?\\x0f\\xe9\\xe30\\xc0\\xd3ci\\xd3q\\x87\\xb4\\x08\\xd2\\x0f-\\xe9\\x0b\\xa5\\xf0\\xdd\\x11\\x8a\\xc3\\xe1\\x8b\\xc8\\x91\\xb1\\x1b\\x8bF\\xeb\\xb5\\xc4\\xe5\\x1ev\\x16\\x1e&\\xd0dX\\xac\\xa3\\x178\\xe8\\xbf%\\x8eH\\xf8\\'\\xe2\\x07\\xc3\\xea\\xf9\\x17\\x89?\\xd6\\xf0\\xb8g0\\x96\\x1ay\\x8d\\x1aL\\x87T-\"*\\xb4\\xff\\x000\\xb1\\xe8W{\\xe0\\\\Y\\xa7\\xe1\\xda\\xb4kb4ai0\\xbd\\xb5^`\\xb3L\\xea\\x17\\xe8\\x00 \\x1b\\x90D|\\xa5}\\x07\\x99x\\x07\\x0f\\x8d\\xc4\\xb2\\xa9d\\xb5\\xb2\\xd2\"f\\xc4\\x0f\\xf3\\xb0\\\\6;\\xc0X\\xbc5J_\\xe9M\\xa2\\xda\\x8c\\xae\\xcf\\xc46\\xbb%\\xaf\\xa6&\\xf07\\xbe\\x9f\\xa2\\x99\\xb98\\xa8\\xcd\\x1a\\xe3PRr\\x8b\\xab9\\x8f\\x87\\xbf\\x0fp\\xfe5\\xcd\\xe9\\xe7Y\\xed\\x11\\x88\\xa2\\x04\\xe1p\\xb5\\x00\\xd2\\xd0.\\x1c\\xf1\\xb3\\x9d\\xef\\xb4\\xc2\\xf9#\\xe3\\x9f\\x80\\xfcM\\xf0\\x93\\xe3N?7\\xc1\\xd3\\xa9\\x82?\\x8f9\\x86[\\x8f\\xa4\\xdfLj\\xd4\\xd2\\x0cD\\xb7b;/\\xbb\\xf2|\\xa32\\xc8qnu\\x0cM\\nt\\xb5K(5\\x92\\x1ay\\xdf\\x85?\\x891.\\xcfp\\xd5(c\\xa8\\xe1\\xb1\\xa1\\xa0\\xbc1\\xd8AP\\x126\\xb3\\x8d\\x8e\\xf7^\\xe7\\x8b\\xe6b\\x86.\\r\\x1f;\\xe6\\xfe?&\\\\\\xfc\\xe3+G\\xc2\\x7f\\x06|\\x1d\\xe2/\\x8d?\\x1apy\\xeez\\x1d\\x8de<U<fc\\x98\\xd4`\\x14\\xda\\xc6D4\\xc0\\r\\x12\\x1a\\x1a\\x1a\\x17\\xd0^<\\xf8W\\xe1\\xdcO\\x8akSn_M\\xd8\\n\\xad!\\xb4\\x83\\x0e\\xc4\\xdc\\xb5\\xa3\\x9fe\\xea\\xb4|%\\x8e\\xa9\\x94Q\\xa5F\\xbd<\\xb3\\tQ\\x82\\xa7\\xe1\\xb0\\x8ck\\x1c\\xc7\\xd8\\xc7\\xa4D\\x11\\xcc}T\\xd9g\\x81p\\xf8<s+\\x8a\\x95q\\xd5\\x1a\\xfdc\\xce:\\xb4\\x93\\x13\\x1d\\'u\\x8f\\x91\\xe5\\xcb\"\\xa8tux\\xbe\\x16,\\x1b\\xc9\\xb6y~K\\xfb3\\xe55pa\\xf4\\xb1\\x19\\x89\\xc38[\\x0e\\xdc}FS=e\\xa0\\x85\\xe3?\\x1a\\xfe\\x05\\x1c\\x83\\xf7\\xd9v\\x145\\x94\\xc4\\x08\\x06\\xe3\\xb9\\xbf\\xdc\\xaf\\xd0\\x0c\\x1eV\\xe2\\xd7\\x1705\\xdf\\xfd\\x9e@\\xea\\x0f+\\x1f\\xc5\\xde\\x02\\xa3\\x9f`\\x9fJ\\xad6\\xbc8G\\xcb\\xcf\\xd5rG6X\\xbeVt\\xcf\\x06\\x19\\xfe\\x8dh\\xfc\\x9f\\x14\\x1dF\\x85F\\xd5k\\x98\\xda\\x0e4\\xdc\\xe7\\tu \\xe8\\xb1\\x1f\\xcbc\\xf7\\x90\\xa6\\xa3\\x8f\\xab\\x96\\xce\\x1a\\xb3\\x7f\\x13\\x84\\x9f9\\x9a\\x1f\\xea\\xa6\\xf8\\xb3\\xd8y\\x10.6#\\xb8\\x04}\\'\\xf1\\x8b\\xf6|\\xc5eu\\xf18\\xdc\\xbe\\x89\\xd4\\x18b\\xd2\\x08\\xe9\\xf6\\x91\\xf5_3f\\xb9}l\\xb6\\xb1\\xa4\\xea5\\x18ZoI\\xc7\\xd4\\xdfn\\xdf\\xdf\\x85\\xee\\xe1\\xcf\\x1c\\xeb\\xfb>o\\xc8\\xf0\\xe7\\xe3;\\xf5\\xf6\\\\\\xcd\\xbc\\x9c\\xe5\\xa3\\x12\\xd6\\xb6\\x96 \\x81\\xafK}/\\x11\\x1a\\xff\\x00\\xb8\\xe1s\\xac\\xd1A\\xdeF$8\\xd3\\x9f\\xe0\\x1f(\\xea\\xd9\\xfd?\\xf2\\xa5\\xa7\\x8f\\xa8\\xd6\\x80\\xda\\x86\\x99a\\x90\\x0e\\xe0\\xa7\\xe3\\xaba\\xf3\\n^g\\xa6\\x9dQ\\xbd6M\\x8f%\\xbd80\\xba\\x92kG\\x9b)\\xf2{(\\x87\\x0c1\\rm@\\xe6\\x9f\\x96\\xa3M\\xb6PU\\xa7F\\xb3N\\xd4+\\x81!\\x84\\xfa]\\xff\\x00I\\xe3\\xd8\\xfd\\x0f\\n\\x19\\xa8\\xc3\\xa47X\\x1d\\x05\\xbf\\xd9CP\\xeb=\\x04XJ\\x92\\xd1\\xd0\\xc2`\\xc1\\xdd\\x13 pBf\\xb2\\xcb\\x10O}\\xd1i;p\\x86\\x95d\\x8ct\\x8d3#x\\x06\\x11\\xc3\\xb8\\xd3{]p\\x1auB`\\x04\\xb8[\\x8f\\xaa\\xb3\\x87\\xa8\\xf0\\x1a\\xdd~\\x91q<\\x1fd*\\xf4}}\\xf0\\x8e\\x9d,\\xc3\\xe0\\x9emS\\x02\\x1dS\\x13\\x91cqt\\xd8)4T\\x7f\\xe1ki\\xab\\xa2\\x7f\\x8ab\\x08\\xe4\\x12\\xbe\\xa6\\xf8i]\\xb4\\xb2\\xfcVV\\xc3\\xe7\\xe1\\xe8\\xd7\\x18\\xac\\x11p\\xb9\\xa2\\xf1\\xad\\x80\\x83\\xb3\\xb4\\xeai\\xee\\xc7\\x1e\\xab\\xe3\\xbf\\xd9\\xcb\\x17C\\x01\\xe0\\x9f\\x1daY^\\xab\\xb1\\x18\\x964a\\xdf\\xa0\\xb7\\xcd\\x86\\xb4\\x86\\x81?4j\\xb0\\xe88+\\xebo\\x13P>\\x04\\xf1\\xf5<n\\x1f\\xcao\\x87\\xb3|C\\x1c\\xda\\xee\\x1e\\x9c3\\x9e\\x1c\\xff\\x00/\\xb3K\\xf5<v}Q\\xbc\\x05x\\xfd\\x9c\\xf2\\xae\\xcfQ\\xc7\\xd5\\xa60\\xd8:\\x94\\x89xc\\xc3\\xa9\\xb8\\x99\\x86\\xe9!\\xc7\\xe8\\x08+c\\x085\\xd1s\\x81\\xf9\\x9c@\\xfa[\\xfa\\x15\\xca\\xf8\\x7f\\x13\\xf8\\xd3\\x8f\\xa2\\xe0i\\x9a\\xad\\x15(Pq\\xf51\\xa4\\xe9x?\\xf7\\x82\\x0f\\xfb\\xae\\x93({\\x8e\\n\\x90x\\x87\\x06\\x8d^\\xfb\\x1f\\xcc\\x1f\\xba\\xe8\\x89R\\xf0\\x07\\x81d\\x81\\xbe\\xc9\\x07\\r\\'\\xafDC\\x8c\\x13o\\xa1\\xd9j\\x00E\\xa6c\\xdd8M\\xfan\\x90\\x13\\xfd\\x8aC\\xd3x\\x11\\xef\\xb8@&\\x99;\\x84\\xe8\\x89 \\x83\\xd0\\x14\\xd0e\\x18\\x87M\\xc4\\xa0\\x08v\\x91\\x00\\xcc\\xf5DG\\x00\\xf7L\\r\\xf7\\x03\\xbf\\t5\\xc2\\x00\\xf9m\\xca\\x00\\x9b\\x19\\x88\\xec\\x11\\x91=I\\x1c\\xf4Bf\\x04o(\\xdecp\\x80\\x17\\xbc~\\\\\\xa7\\x02\\x1bx\\x90N\\xdb\\xa0#\\xa7\\xd0\\x94\\xe7:\\t\\x00G\\x10\\xa4\\x01\\xde\\xb3c\\x1e\\xc9 \\xdd\\xa4|\\xdb\\xa4\\xa0\\x15\\xf5\\x12g\\xe6\\x84\\x08\\x04G<\\x04D\\x01$I\\xee\\x81\\x93\\xed\\xd9d\\x01\\x03y\\x9e/\\xfa\"\\x04B\\\\\\x13\\x1fD\\xd1\\xbd\\x8f\\xd9[\\xd1)X\\xeb\\xdd\\x00L\\x01\\xc1CV\\xab\\x9bG)k%\\xb6U\\x15LE\\xc1\\xa3\\xfc\\x84XL\\x1e{\\xa6A\\xd5\\xb4\\x8e\\xa5=\\xa0\\xc0\\xfb\\xddM\\x96o\\xd0\\xf2dZ\\xd6\\x8ft\\xd3 N\\xd3d\\x89;\\t\\xeb\\t\\x11\\xa4\\x18\\xdf\\xa2\\x98\\x94\\x0e\\xa0\\x7f\\xbcl\\x9b\\x12M\\xf5BA\\xc7\\xad\\x85\\x90&\\r\\xacT5@?\\xe4\\xa5\\xa8\\x90>\\xbfd\\x8c\\x9b\\x01~\\xe9\\x0fKm\\n\\x00\\x80\\xd4\\xebD\\xedt\"/2\\x85\\x8fh\\xe1\\x11\\xed\\x16S`:\\xad\\x01.\\xa5)\\xd3\\x16B\\x0c\\x8b]@\\x10\\x1b\\t\\x94\\x08\\x93$\\xd9\\x12\\xe9q\\xe0\\xa5\\xb9\\xe2\\x0fD\\x02 \\x16\\xf4\\x8f\\xcd&\\x90\\x0fOq\\xba\\\\\\xda\\xfd\\xca\\x05\\xdfn\\x81\\x00L\\x91\\xf5\\xe4\\xf0\\x9aO0\\x10\\x1e\\xe4#\\xd6\\xe4\\x9e\\x10\\x02G$OT\\xc9\\x01\\xdb\\xccuD\\x83\\x1b D\\xef\\x13<!\\x03M\\xc5\\xd4o\\xde\\x0f\\xba\\x94\\xccG]\\x8e\\xea?P-6\\x94 \\xf0\\xff\\x00\\xda\\xeb\\xcd\\x7f\\xc1\\xacs\\x19\\xf2\\n\\xacu[\\xc7\\xa5\\x92\\xe2\\x7f \\xbf1`\\xb6\\xb1\\x1c\\xff\\x00U\\xfa\\x7f\\xfbXQ\\xc4b>\\x19\\xe2\\xf0\\xf4\\x18\\xea\\xbev\\xb6\\x90\\xd0dM\\x1a\\xb1\\xb7\\x13\\x0b\\xf3\\x0e\\xab\\x88}J\\x8d\\x87zg\\xdb\\xa2\\xc6O\\xf6\\x0bn\\x8a4Z\\x1d^bH\\xf9}\\xd3s\\x07\\xce$\\x80d6\\x04\\x85w\\x05@\\x06\\x07M\\xc5\\xf6\\xfb,\\xccC\\x8f\\x98\\xf9<\\xef\\xd5dt\\xc7g\\xad\\xfc\\x04\\xc9\\x06p\\xdc\\xc8\\x11$9\\xa0}\\x97\\xa4g\\xff\\x00\\x0e\\xf2\\xdc\\x1d\\n\\x01\\x94\\xdb\\x87{\\xea\\x0f1\\xf3}=\\x04\\xed6\\xd9s?\\xb2\\xc3EWf\\xe0\\xfc\\xc2\\xa3m\\xf4^\\xe9\\xe3\\x9f\\x07V\\xccp\\x0c\\xabB\\x98.k\\x83\\x80;\\x1b\\xf3\\xf4^/\\x91\\x95\\xc3+V}O\\x8b\\x823\\xc0\\x9dl\\xe9~\\x14\\xe6l\\xf0\\xfe\\x1a\\x9e\\x17\\x19Y\\x95h\\x06h\\x15u\\t#\\x89\\x07\\xfc\\xb2\\xe5|\\x7f\\xfb2xK\\xc5\\x19\\xee#\\x1d\\x92\\xe3ke\\xef\\xc4\\xbf\\xcd\\xabF\\x95\\x11R\\x9c\\x9b\\xb8\\xb6H\\xd1~6\\x12\\x97\\x83\\xfc%F\\xbdJ/\\xc4\\x8cE*\\xadx\\x90A\\'\\xa9\\xbf\\xd0\\x0bp\\xbd\\x9f\\xc3\\xd9[\\xa8\\x800\\xd4\\xdc\\xedN.mZ\\x86CA\\xde%s\\xff\\x00\\x9d,K\\x8a:e\\xf8\\xecYe\\xf2IQ\\xc8\\xf8\\'\\xf6n\\xc9\\xbc-\\xe1\\xb6`pu\\xff\\x00\\x03\\x98T\\xa9O\\x10s@u\\xe2\\xc5Jn\\xd4\\xcd0\\x03X\\x01\\xe2\\xeb\\xb5\\xf8\\x94\\xc3\\x8a\\xc5\\xe0\\xf1\\x0e\\xd2k\\x80\\x1a\\\\7wu\\xd8\\xe5\\xd9Sp\\xcc/\\xaa\\xfduO\\xcc\\xe3\\xed\\xb7`\\xb9?\\x17\\xd4mz\\x85\\xb6\\xe3\\xdc.<\\xfeD\\xf2+\\x99\\xbe\\x0f\\x1e\\x18e\\xfe\\x99\\xdc\\xf8\\x08\\x1a\\xf8*m?1m\\xfb/C}F?\\x04\\xd6\\x83\\xee\\x17\\x01\\xf0\\xda\\x899s_\\xbc\\x00\\x04\\xfb.\\xd6\\xa6\\xa0\\\\Z\\r\\xfa\\x85lO\\x8c\\ndW:\\r*\\x01\\xbd#\\xa2\\xca\\xcd\\xb2F\\xd6\\xaa\\xea\\xb4\\xd9\\xa0\\xeeH\\xfc\\xd6\\xd5\\'\\x1d\\xe6\\xde\\xf2\\xac\\xd2cm\\xac^m\\xddj\\xa1\\xf2F\\x98m\\xc1\\xda<\\xdf\\x1d\\x92\\xb2\\xb3\\xc8\\xac\\xcf\\xdeu\\x16\\xfa\\xaa\\x18_\\x0bR\\xa2]\\xa4\\x96\\x87o\\x0b\\xd1\\xf3\\x0c\\xa1\\x95\\x01 X\\x8f\\xb2\\xc5\\xa9\\x93\\x968\\x90\\xefK\\xba.ycptm\\x1c\\x9c\\x8c\\xca>\\x1f\\xa0\\xe0\\xd2\\xf2\\xea\\x8d\\x1c\\x17o\\xc2\\xd6\\xa1\\x95Q\\xa6\\xdfM \\x01\\xdc\\x8d\\xc8L\\xa3@\\xd3:5i\\x8bB\\xd6\\xc32[q1\\xb0\\xeaz\\xa9\\x84lH\\x82\\x9e\\x11\\xcdkfu\\x01\\x1a\\x80\\xd9\\\\\\xfc4\\xd2!\\xf6\"\\xd26V\\xf0\\xeckAs\\x84\\x98\\x9d\\xae\\xa1\\xc4Vk\\x1a[\\xa7s&B\\xe9\\xe2\\xa2\\xad\\x98\\xf6\\xcek\\xc4\\x1e\\x1f\\xc2\\xe6t*\\xd2\\xae\\xc0\\xe6\\x91\\x00\\x11e\\xf2\\xaf\\xc6\\x1f\\xd9\\xd7\\x0b\\x8fm\\\\n\\x0e\\x88e`cac\\xfe~\\xab\\xeb\\x8cMh&\\x0c\\xcd\\xa0.g3\\xc33\\x12\\x1e*S\\x90\\xf1\\xefq\\xfe~K\\x82Y>9r\\x83;\\xa1\\x15(\\xf1\\x9a\\xb4~`x\\xbf\\xe1\\x963,\\xc6\\xba\\x9b\\xe8\\xd4\\xa5\\xb9\\x065\\t\\xe7\\xbc}W\\x07\\x9a\\xe4\\xd5\\xf2\\xfa\\xa5\\x8fn\\x90\\x05\\x9c&>\\xff\\x00\\xdd~\\x87\\xfcK\\xf8w\\x87\\xc6S\\xa9TQn\\xa8\\xb4\\r\\xfe\\xab\\xe5\\xef\\x89\\x9e\\n~\\x13\\x01\\x88s\\x1aZc\\xf3\\xe1z\\xfe7\\x9e\\xe5Q\\x99\\xe3y\\x9f\\x8a\\x84b\\xe7\\x88\\xf9\\xfc\\x879\\x8f\\x0f\\xda:\\xc1U\\xddFcA\\xd5\\xc9\\xbd\\xfe\\xca\\xf5zU\\x18\\xe8{4\\x93\\xda\\xd10Ug\\xb4\\x07\\x82\\xf1\\xa2\\xdf0;\\xaft\\xf9E\\xa7Ez\\x98w5\\xba\\x88\\x96\\x1d\\xdc.=\\x8fE\\x11id\\xe9\\x16\\xde%_\\x15_I\\xc0\\n\\x85\\x84\\xef\\xa8@#\\xdcn\\xa2\\xa9LVy0\\x01\\xdc\\x86\\x1b%\\x17\\xba+6N\\xe2\\xe9\\xec\\xaaX\\xe1\\xabi\\x94\\xf7R\\xd3\\xcc\\xdb\\x85\\x1c^A\\x83\\xd4\\xa8\\x1a\\x91\\xea?\\t>\"\\xff\\x00\\xe9\\x8c\\xce\\x86\\x1b\\x15S\\xff\\x00aS\\x19\\x86\\xc4Tp\\x12\\xe6:\\x95V\\xb8<t\\x80\\x081\\xc3\\x88_\\xa0_\\x0f\\xbcc\\x92\\xfco\\xf0Fc\\x90Vk\\xdc\\xe60\\xe1\\xcbH\\xbb\\x98\\t\\x14\\xeb1\\xdc\\x86\\x92-\\xb8\\x81+\\xf2\\xdf+\\x11\\x8d\\xa4\\x03\\xc3Ax$\\xf4\\x1c\\xaf\\xa3>\\x1ax\\xbb\\xc4\\x9f\\r\\xf3|-\\x1a\\xedh\\xc39\\xff\\x00\\x88\\xc3\\xd7\\xc0\\x90_\\x86\\x0e\\x01\\x8e\\x00\\x7f+\\xda[\\xe9u\\x8d\\xa0\\x83\\xbd\\x93\\xa3\\x19*\\xd1\\xf6?\\xc3\\xbc\\xfb\\x15\\x86\\xce08,{<\\xac\\xd3-\\xa9S\\x0cC\\xdf\\xa8bh\\x16\\xe9\\xf3\\x01\\xb0\\x92\\x18\\t\\x1c:\\x9b\\xba\\xaf_\\xc0T\\xf2\\xf3\\x0cU\\x12}\\x0e\\x02\\xad9\\xe8lG\\xd0\\x89\\xfa\\xaf\\x0e\\xcds\\xec7\\x882\\xfc\\'\\x89\\xb2\\xdf\\xdd\\xd3`\\x18\\xa2\\xfam%\\x8c\\xa84\\n\\x8d$\\x89\\x00H|\\x1b\\xc1\\x7f+\\xd3|=\\xe2\\x16\\xe6\\x99~\\x131c\\x83+a1\\'\\x03\\x8b\\xa0Iq\\xa6l\"c\\x89a\\x9eD-\\xa3*3;b#\\xa1\\x1b\\x1e\\xa5;\\x99\\xfd\\x13\\x011\\xc3]\\xd3t\\xe6\\x987\\x00l\\x17H\\x1d$\\x11\\xd7\\xaa@XG\\x1dxH\\x82Z&c\\x94a\\x00\\x1aw;\\xfb\\xa2M\\x8a\\r3tv\\x06$\\xa0\\x14\\x12$\\xf5D\\xb68\\x04\\xa5\\x04v\\xed\\t\\x1fP\\x993\\xcd\\xd0\\x00\\x81<\\x1e\\x96Fmh\\'x\\x94\\xa2\\xff\\x00\\xd5\\x02\\xe91\\x12x\\x08\\x02$^\\xd6\\xb5\\xc2A\\xb2H\\x1fC6KwZCR#U\\xa6:\\x12\\x807\\x908\\xec\\x92\\x04\\x02I\\xf9\\xafyIH*\\x81!6\\xcdq\\x8d\\xba\\xa7\\x18\\x0e\\xd8\\xb6B\\x1b\\x19\"=\\x96VJ\\xfa\\x117 Zn\\x96\\xad0b8$\\xec\\x91\\xd8\\x90#\\xbaZ\\xa2A\\x00\\xabm\\xa2\\xda]\\x00\\xba\\x04t\\xe8\\x12\\x80bP#Q\\x91\\x13\\xbaE\\xbaH\\x17\\x8e\\xea\\x1a\\xa291\\xcd?~\\xc9\\x03\\xdeI\\xdd\\x00H0R\\x06LF\\xca5EI=\\x89\\xea\\x02i\\xb8\\x11?t}\\x84\\x02\\x86\\xc0\\xcd\\xa1B`V\\x07\\xdfd\\xa08Z\\xc9G\\xd4\\xa6\\x1b\\x18\\xb9\\x9e\\x8a{\\x03\\xcc\\xda~\\xe8@\\xf7\\xec\\x12\\x04\\xfd9\\x94\\xa6{\\x12\\xa0\\x00o\\xfd\\x13\\xa6\\xd0Bl[\\xd5&9Dz\\x8c\\x03a\\xd1\\x00\\x89\\xf5p;\\xa4\\\\\\x01\\x92P\\xb0\\x890\\x97?\\xcc{\\x04\\x02\\x17\\x00\\x9eQ\\x98v\\xd3\\xdd\";\\xa4\\xeb\\t\\xdf\\xfa \\x13\\x9b=\\x88\\xe8\\x81\\xb9M\\x12E\\xb7I\\xc6#~\\xd2\\x80$\\x08=Pm\\xc2$@\\x8d\\xbf\\xaa\\x00\\xb5\\xa3s>\\xc8\\x00F\\xa0$B\\x1b\\x11&Ot\\xe2d\\xc4\\xec\\x98I0c\\xf3B\\x00m\"8\\xba\\x8d\\xc1\\xc1\\xa3I\\x98\\xe0\\x9d\\xd3\\xc1\\x90\"\\xe7\\xec\\x94\\x0b\\xcc\\xd9\\x05\\x1es\\xf1\\x9f/9\\x87\\x86\\xf0\\xe2\\xb4\\xd4\\xa6\\xdcK\\\\\\xe62F\\xa8i0OE\\xf9k\\x9e\\xe0\\x99K8\\xccpt`\\x81Y\\xf4\\xda)\\x8b:\\x1do\\xc9~\\xb9x\\xb7,no\\x96\\x1c1\\xa8)5\\xcfdT\"\\xedu\\xe0\\xfd\\x0c/\\xcb\\xcf\\x8a~\\x1d\\xc6e\\x1f\\x15\\xf3\\xcc-z-f!\\xd5\\x1fU\\xf4\\xe9_A\\x92\\x01\\x00m\\xc7\\xdda5\\xfb\\x0fG\\x9e\\xe2\\xff\\x00\\xf6\\xd8BH\\x01\\xce\\xe0\\x08\\x80:,\\x12\\\\\\xf6\\xd4\\xd5\\x06\\xf2I\\xee\\xb7sp\\x1fV\\xabC\\x89\\xf2\\xe5\\x96\\xda\\xd6\\xfe\\xeb\\x01\\xcd\\x82\\x7f\\x99f\\xce\\x8coG\\xba~\\xca8\\xa1\\xff\\x00\\xa83<10^\\xd6<\\x026\\xdcO\\xe8\\xbe\\xdd\\xc0\\xe5T\\xf1\\xd8v4\\xb6}+\\xf3\\xeb\\xf6s\\xcd\\xff\\x00\\xd3>&a\\xa99\\xdaY\\x8a\\xa4\\xea\\x7fQ\\x0e\\x1f\\xa1_\\xa1>\\x15\\xc5\\x8a\\xd4\\x18I\\xf9\\xa3\\xee\\xbec\\xf27\\xf2Y\\xf6\\xbf\\x8b\\xfd\\xb0k\\xd340\\x1e\\x1fn\\x18\\xb4\\x06M\\xaeatXZn\\xa4t\\xe9\\x02:\\tS\\xe1Z\\xc7\\x0e\\x83\\xb7\\n\\xcbX\\xc6\\x80\\xe0\\t\\x91\\xb0^M>\\xcfVJ\\xf4\\xc818\\x8f.\\x85OQ\"\\xed\\x05y\\xf6u\\x885qe\\xa4\\xeeme\\xdb\\xe6E\\xbeK\\xba\\x81\\xbe\\xcb\\x83\\xa2\\xc7c\\xf3\\xa6P\\x02F\\xb0T\\xab\\x93\\xa2\\x89(\\xed\\x1e\\xcd\\xe0\\n\\x02\\x96QF\\x01o\\xa4}l\\xb7\\xb1O\\x87X\\xdb\\xf5Y\\xfe\\x1e\\xc3\\xfe\\x1f\\x03E\\x81\\xbb\\x01\\xec\\xaf\\xe3)\\x11{\\xc1\\xed\\xb2\\xee\\x95\\xfcz8.\\xf2Y>\\x1f\\x10\\xd8\\xbd\\x86\\xea\\xe5\\x1a\\xa0\\x89\\x90=\\xd6E\\'\\x1e\\xb3m\\x8f\\x08\\xba\\xb3\\xa9\\x8b\\xb8\\xc0\\xea\\xad\\t\\xf1\\xecJ6n\\xfa\\x1e\\xe2\\t\\xd8\\x03\\x12\\xaa\\xd7\\xc2\\xfa\\xac u\\x1dVX\\xcc\\x1fM\\xe1\\xaf\\xb4\\xde\\x1axZ\\x14\\xb1m\\xaa\\xd8\\xb9\\xb6\\xc3b\\xbaT\\xd4\\xfb(\\xa2\\xe2@\\xec0\\x07Q0\\x93hh&\\xc4^\\xde\\xeag8:-.\\xeb2>\\xa8\\xb2\\xa1\\x1e\\x9b\\xc0\\xea\\xa9Tl\\x9bdN\\xaa\\x03@\\xb8\\xd3\\xd5S\\xc4bF\\x93-\\x96\\x8e\\x85X\\xa8\\xe6\\x80\\x01\\x03U\\xc0Y\\xf5\\xaa\\x00\\xd2n\\x1b\\xb4wXd\\x96\\x8b\\xc1l\\xa9]\\xe6I\\x06?E\\x97\\x98\\x7f\\xc3\\x05\\xbb4\\xce\\xd7\\xff\\x00\"V\\x8dw\\x03\\xa8\\x92lVn$i\\x92\\x04E\\xc5\\xec\\xbc\\xd93\\xad3\\x99\\xcf\\xe8\\xfe.\\x96\\x9b\\x1ed~\\xab\\xc4>\"\\xf8<W\\xcb\\xf1\\x000\\x10\\xe68\\xfeE{\\x8e!\\x85\\xc3It\\xe96\\xb5\\xe3\\x85\\xcex\\x9b)\\x18\\x8c\\rf\\x96\\xc8,6\\xfa*\\xe3\\x9b\\x8c\\xed\\x1bU\\xc7\\x8b?5\\xf3\\x9c\\x1f\\x91[\\x10\\xd2\\xd84]P\\xc7Nc\\xeb\\x05R\\xcc\\xf2\\xea_\\x88i\\xa4f\\x95Fke\\xaeZn\\x17U\\xe2\\xbc9g\\x8e1\\x98@`\\xd45\\x99\\x1b\\x8b\\x83\\x1f\\xa0\\\\\\xeb\\x06\\xac\\xa2\\x9b\\\\\\xd3\\xab\\x04\\xf2$\\x1d\\xda\\x7fE\\xf7\\xf8\\xda\\x94S?3\\xce\\xb8M\\xc7\\xfb0Z\\xd2Zi\\xb8\\x13N-\\'c\\xc1\\x05S \\xb1\\xd2D\\xc6\\xe1i\\xe2)\\x86\\xd7p2)\\xd4\\x00\\x88;\\x1f\\xfc\\xaa\\xb5\\x9a\\xea\\xads\\x8bN\\xb0=R;\\xab35/Dt\\xc3j\\x9d\\xf4\\xb8\\xf0\\xe3c\\xf5E\\xf4K\\x0f\\xa9\\xaea\"\\xd2\\xab\\x99\\xa7\\'\\x9e\\x9dT\\xb41\\x00\\x8d.\\x9d=\\x14Yv\\xbd\\xa2z4n\\xd0\\xdf[\\xe6\\xdd\\xfa/|\\xf8\\x00\\xdc_\\xc4\\xcc\\xdf)\\xf0\\xbeq\\x9d\\xbf\\x0b\\x94`\\\\M,3\\xa9\\xb4\\x9a\\xad\\xb7\\x99E\\xb6\\x99sf&\\xd6\\x03p\\x02\\xf0j\\x0f4^\\xca\\x8dsld_\\x95\\xd9xC\\x10\\xda\\x19\\xce\\x1a\\xb1\\xf30U\\\\\\xf6Vmzn0\\xdd.\\xb9$l\\x0f3\\xb1\\x82\\xa4\\xc9\\x9f\\xa9\\xb9\\xef\\x83\\xb0\\xb8O\\x03\\xd5\\xca\\xb2L3h\\x8c>\\x19\\xf5pma$T\\x1a}L\\'r\\xe2\\t\\xbf2\\n\\xc3\\xf0\\x9dS\\x85n.\\x83\\xf1\\x0ek3\\x0c8f\\xa0nj\\na\\xf4\\x9c\\x07P\\xdd\"\\xe9|\\x05\\xf8\\x9a\\xef\\x88~\\x13\\xc3\\xb7\\x1c\\xe6\\xd3\\xc7\\xe1\\x9ep\\xd5\\xee\\x0b\\x99Y\\xb0\\x08wMB\\x1e\\xd3\\x00\\x1dDp\\xb2\\xf0\\xf8weU0\\xd8!U\\x94\\xdf\\x97\\x86\\xd5d\\x82\\x0e\\x80\\xe77ssv\\xb8O`\\xb6\\x7fh\\xc9l\\xf7\\x0c=v\\xe2hS\\xaa\\x08\\x06\\xa3\\x1bR\\xdd\\xc4\\xff\\x00U$]\\xb3\\xb1T\\xb2hvQ\\x82!\\xa5\\xa3\\xc8d\\xb4\\xf1m\\x95\\xc6\\xdc\\xd8\\xfd\\x02\\xea]\\x128i\\x1b\\x8b{\\xdc#\\xb1\\xe8\\x0f\\x1d\\x12\\xd8n\\x8d\\xc1\\x81s\\x1b\\xa0\\x017\\xd8Z\\xd6\\xd9;i\\xea\\x7f$\\xd2\\xe3\\'d\\xed\\'h1;\\xa0\\x14A\\xdbt\\x81\\x1b\\xc4\\x0e\\xa88\\x13\\x7f\\x94\\xcf\\x08\\xe9\\xfb\\xa0\\x04^\\xe7~\\xe8\\x9fLE\\xfd\\xd0\\x81{}\\xb8D\\x01 s\\xdd\\x00\\x89\\x0c\\x80R\\x8913\\xd0B\\x04\\x90\\x04\\xfd\\x91lH\\xb9=\\xd1\\xd7\\xb0\\x19\\xe3q\\xdbd\\x92\\x066\\x06\\x12@T\\x930g\\xbf\\xba\\x1a\\x89\\x17HX~A \\xde6\\x95\\x90\\x13\\x89\\xdbkr\\x83\\xa4\\t\\x1e\\xa0,\\x81?\\xe0D\\xde\\xe0\\xfb\\xca\\xbaN\\x87CH\\x0e\\x81t\\xe7X\\x99\\xbct@\\x99\\x03\\x8e\\x10&\\\\z\\xaa\\xb4\\x05\"& uO\\x12\\x1d\"~\\xc9\\xbf\\xc2gt\\xfb\\x8f\\xee\\xa0\\x08\\xccA6\\x1bJ\\x1f\\xc2\\x00(\\xc1\\xef\\xfd\\x12\\x02I\\x9d\\xd4\\x81\\x00b\\xd1\\x1dz _\\xb1\\x8d\\xb9K}\\x8c\\xa0\\xf1\"\\xc0B\\x80\\x19ii\\xe27\\tD\\xcc\\x99\\xf6H\\xc4\\xc6\\x9b\\xed\\xb2Nl8\\xdb\\xba\\x00\\x13\\x137\\xeb\\xcaM\\x91\\xcf\\xb4%`H\\xeb\\xba\\x1cE\\xe7`E\\xd0\\x07\\x88\\x06z\\xa1$\\xfb\\x8d\\x92\"\\xe0\\x93\\x07\\xa2!\\xb3\\xb4\\x8f\\xaa\\x01XlD\\x1e\\x00\\xdd\\x1b\\x9e\\xc14\\x90\\x05\\xc0J\\xe2\\xc4\\xdc \\x10\\xf4\\x90$\\xfbtA\\xd62yD\\x98\\x13ry\\x84\\x0b\\xbe\\xfc\\x0e\\xa8\\x03\\xb8\\x8b\\x1e\\xe8\\x01#h=\\xd1\\xb3\\x06\\xc2wC\\x98\\x81\\xee\\x80\\x07\\x92`\\x93\\xc2\\x04\\x12m\\x11\\xc2O \\x98\\x9b\\xf2\\x12\\x8d\\xc4\\x91\\xd6\\x10\\x86\\x0f\\xcc\\x84&[\\x12g\\xa4\\'H\\xe7\\xd3\\x02\\x106\\xbfT\\x08\\xa9\\x8b\\xa2\\xda\\xd4\\xcb_`\\\\=Cq\\xd0\\x8fb\\xbe\\x0c\\xfd\\xb6\\xf2<g\\x86|w\\x81\\xf1\\x15\\x1aT\\x87\\xe3\\xa8\\x1c-\\\\@\\xa6\\x01\\x0f\\xa6f\\t\\xe4\\x96\\xbf~\\xdd\\x97\\xdfO\\xf9\\x85\\xcf\\xaa\\xcb\\xe7/\\xdbK\\xc1\\'\\xc4?\\rY\\x8b\\xa7I\\xd5?\\xd3\\xf1T\\xf1U\\x18\\xc1\\xea}0\\xd7\\n\\x81\\xbf\\xf3h\\x92=\\x96s\\xe8#\\xf3\\xbf;\\xa2\\xcaX\\x8a\\x81\\x82\\xceh{G\\xb8\\x9f\\xea\\xb9\\xfa\\xcd-\\x1a\\x87;.\\xb3>\\xca\\xff\\x00\\x0e\\x0b\\x98\\x1e\\xfc5:\\xaf\\xa7N\\xab\\x8c\\xebd\\x02\\xc3\\xf5aj\\xe6\\x1c\\xc2\\xf6\\xe9\\x8b\\x8d\\xbb\\xacl\\xd2\\x0e\\x89\\xfc=\\x9c?\\xc3\\x99\\xfe_\\x99\\xb2K\\xb0\\x95\\xd9V\\x07 \\x1b\\x8f\\xa8\\x90\\xbfH<\\x05\\x9dS\\xcc0\\x18j\\xf4^\\x1dN\\xb3\\x1bQ\\x86~f\\xb9\\xb2\\x08\\xfaB\\xfc\\xd0x\\x9e\\'\\xb1__\\xfe\\xca>79\\xcf\\x84[\\x96V\\xa8]\\x8b\\xca]\\xe4\\x90M\\xcd#&\\x99\\xfdG\\xd1x\\xdf\\x90\\xc5\\xca\\x1c\\xbe\\x8f\\xa8\\xfcN~3x\\xdf\\xb3\\xec\\x0c\\xb7\\x14M6\\xcd\\xaf+L>K\\x9a,\\x0f\\xe4\\xb9<\\x9b\\x1c\\x1dLA\\xb4l\\xba\\nU\\xdbV\\x9e\\xf1=F\\xeb\\xe6_\\xd1\\xf5Ud\\x19\\xb5F\\x8a/\\xb4\\x03\\xbd\\xd71\\xe1\\xa6Sfz*\\x92\\tq\\xb7a\\x16[Y\\xe5b\\xcc\\x15G6d\\x02\\xb8\\xac\\xab<\\xc2;\\tO\\x1a\\xecM:\\r\\xd5\\xa0\\xebpn\\x97\\x8b\\x10gb\\xb4\\xc6\\xb6g5Q\\xb4}\\x0f\\x92\\xd7eaM\\xb6\\r\\xeb+[=\\xad@2\\x9bZC\\x8c\\\\r\\xbc\\xdf\\xc3\\xde &\\x93Z\\xf2A\\x88[8\\xac\\xc5\\x95)\\x97\\x97\\xc4\\t0Wo\\xcbX\\xdc(\\xf3\\x9e?\\xd9I\\x9d\\x06\\x1d\\xd4\\xde\\xd25\\x82=\\x93qmkKN\\xa0d\\xee\\x17\\x9bg\\xbe\\'\\xf19f\\x9f\\rd\\x94s\\x17\\x87\\x08~3\\x13\\xe4\\xb0\\xfb\\x00\\tC&\\xf1\\x7f\\x88\\xeb1\\xd4\\xf3\\xcc\\x8d\\xb9~#`p\\xf8\\x91Y\\x8e\\xf66?\\x92\\xe6\\x96J\\x8fGDq6\\xee\\xce\\xe0\\xb8W\\xa2\\xf6\\x89.\\xa6d{#\\x85\\xc4\\xb9\\xc4\\xb6}W\\x1b\\x18G\"\\xc0Vv\\x15\\xd5q\\x0c\\xf2\\xeaT \\x86\\x9d\\xc0N\\xaf\\x83u\\n\\xa4\\x81n\\x83ue\\x19R\\x91G(\\xdd\\x1a8z\\xa5\\xf4\\xc9 \\xb1\\xdf\\xf2\\xf2T\\xa4\\x90b`\\x11\\x04*4\\x98\\xeaFA&\\xfc\\xd9Xk\\xeaG\\xa9\\xad\\x83\\xca\\xe8\\xe4\\xda*\\xff\\x00\\xa2:\\xc6\\t\\xbc\\x9d\\xec\\xa9\\xd5\\x05\\xd3\\xc4\\xabe\\x92\\xd2A\\xd2\\'c\\xba\\xabT\\xc9#\\xf2\\xec\\xb92Yx\\xc9z*UkfN\\xfe\\xdb\\xac\\xec[\\xa4\\xd8\\xc0ZO\\xd5 \\x96\\xd8\\x15B\\xb8\\x17m\\xad\\x7fe\\xc8\\xf7\\xa3\\xa2&\\x0e.\\x90\\x15(\\xbc\\\\;\\xd2D\\xf5\\xe7\\xee?5\\x97\\x9bSh\\xc2\\xd5$X\\x03\\xeed-\\xfa\\xcd-\\x1e\\xe6\\r\\x97;\\x9f\\xd6n\\x1f\\x05^\\xa3\\x8f\\xfc6\\x17i\\x1bB\\xb4crTY\\xcbZ?;\\xfcv\\xc1K\\xe2\\xc5F\\xc0%\\xaft\\xc1\\x8d\\xc4\\x05\\xcb\\xb2\\x90}l]\"\\xdd\"\\xbd\\x01U\\xa0\\t\\x10\\xd2C\\x87\\xda~\\xcb\\xa0\\xf1\\x95vW\\xf8\\xa5\\x98Wc\\x9a\\xf6\\xb2\\xabA\\xfdO\\xe8\\xb0\\xaaW\\xfc>u\\x85\\xa8@\\xd2\\xf2\\xe6\\x108\\x07\\x7f~~\\xcb\\xee\\xf1\\x7f\\xb6\\x8f\\xcf|\\xa7\\xfe\\xac\\xbf\\xe4\\xc1\\xccXE\\x16\\x92\\xdb\\xb0\\x06\\x8fk\\xff\\x00eA\\xb5\\x9c\\x1e\\xe7\\x92L\\x1b\\x89\\xf9\\x82\\xe9\\xb3\\x8c\\xad\\xd4\\xe8\\xd4\\x00\\x01\\xe5\\xd4sa\\xa3v\\x9fX?\\xaa\\xe5\\x89,\\x98\\x12[6p\\xe1jr\\xc7\\xa0\\xe2p\\xcd\\x06C\\xa5\\xa6\\xed*\\xa3\\xa9\\x80\\xe2d\\x98\\xec\\xae\\xb2\\xb8\\xabCK\\x9a\\x05-\\x8c\\t\\x8e\\x85B\\xf6\\xbd\\xc2H\\x1a\\xdbr\\x07#\\xa8U\\xec\\xddh\\x14k\\x9af\\xe0\\x10E\\x8c\\xc4-\\xec\\x878n\\x0f\\x10\\xd9p4\\xdc\\x0b^\\xd24\\x92\\x0e\\xff\\x00\\xe7;r\\xb0)\\xbd\\x85\\xc6D\\x13\\xb1\\xe2{\\xa2@.\\xd2@a6\\x80\\xa5\\x14\\x92L\\xfa\\xd7\\xe0\\x0f\\x8e+\\xf8~\\xbdl\\xf7\\r]\\xce\\xc7P\\x02\\x86c\\x83{O\\x93\\x8d\\xc1\\x18m*\\xb12\\x0b\\x1c\\x03K\\x85\\xc6\\xa0M\\x81+\\xea\\x1c^m\\x86\\xf1\\x06&\\x9e`\\xfau<\\xa6\\x8cV[\\x88\\xa4\\xe6C\\x83_L\\xd4`p\\xe0\\xc9\\xf9\\xb9\\x99_\\x99\\xfe\\x14\\xf1N?\\xc3\\x18\\xbf\\xc4\\xe0\\xea\\x16\\x10\\xd74\\x87:E\\xc1\\x06F\\xc4\\x10\\\\\\xd2:\\x12\\xbe\\xbd\\xfd\\x9e\\xbc|~$\\x1c\\xb7\\xc3&\\xb6!\\xb5\\xabc0\\xee\\xc4\\xc9\\x00\\xd4\\xa1@\\x02\\x0c\\xb7\\x82=$\\xfd!Y?F5G\\xdbY\\x1d\\x03\\x85\\xc9\\xb2\\xfa\\x04\\xcb\\xa9a\\xa9\\xb0\\x8e\\xe1\\x8d\\x05^\\x17\\x16\\x11\\t\\x8c11\\x00N\\xc9\\xf6\\xe0\\xc0]\\xeb\\xa2\\xa3\\xc6\\xe6\\x0f\\xe6\\x94\\xc9\\xbfT\\xa6\\xd7\\x1c\\x14\\x848\\xc0\\xb1\\x08\\x05\\x1b\\xc1\\x17Gsb uF\\xc2\\'\\xa2V\\x02\\xf6=\\x86\\xe8\\x00\\xd7\\x18\\x1c{\\xa7\\x0e\\x91\\x10!\\x00-\\xbf\\xfeR\\xd2z\\x82\\x10\\x00\\x8e\\xc5\\xb0\\x89 \\xdf\\xb4 \\x01\\x83\\x06@\\xec\\x88\\x936\\x80P\\x04\\xd8\\xdbot\\xa6\\x08366KL\\x89\\x94/\\xc0\\xfb\\xa0\\x00&\\xe9\"$4\\\\\\x99\\xe1$\\x050v\\x1c\"\\\\~X\\xbfP\\x86\\xa1c\\x17\\xe2Rm\\xb7Y\\x01\\xa4\\xfa\\xa6vH\\x1ex\\x16(\\x9d\\xcc\\xc0o\\x12\\x87XW\\x8f@ \\xc1\\xe4v\\x1c \\xd9\\xd5c\\x16\\xdd\\x08\\x91}\\xd2>\\x90\\x14\\xb5`,\\x99\\xb9\\x80OYE\\xad\\r\\x04\\r\\xf7@\\x1bo\\x13iN\\x00\\x11\\xbc\\x83\\xca\\xcc\\x9a\\x0b]\\x00\\xf1\\xfdQt\\x13\\xcf\\xf6Bf.\\x0f\\xb2\\x1a\\xbe\\x91\\xd9\\x08\\x16\\xdb\\x10JGo\\x94J@^g\\xdd#sb\\'\\x7fd\\x02\\x89\\x03\\x83\\xd9\\x00\\xe9\\x1bG`\\x88\\xb1\\xff\\x00.\\x91\\xdc\\xc2\\x017bz\\xee\\x10\\xb8\\xb7\\xca\\x10q\\xb4\\x7fT@3609@(\\xd4w\\xf6)\\x07@\\x00\\r\\x92\\x94\\x002H\\x1f\\xee\\x80q3\\x12\\x07d\\xd3\\xd6\\x023r\\x8c\\x80?\\xcb \\x1a\\x1fnH=\\xf6D\\xbal\\x10\\'\\xad\\x91\\x8d\\xf7\\x94\\x00 \\xcf\\xf7@\\xc3\\xa1+\\xc1\\x99\\xeaR\\xeb\\xbc\\xf1< \\x14^I\\x89\\xe5\\x0b\\x91%\\xa1\\x1d3\\x00\\r\\x90\\'M\\xa0^\\xf7@ uD\\x0b\\x13\\xca$\\x99\\x91\\x08|\\xd1h\\x9eR$\\x88\\xdc\\x8e\\xc8\\x06\\xb9\\xa2\\xc0_\\xb2\\xcd\\xce\\xf2\\xac>y\\x96b2\\xec`\\xd5G\\x10\\xc3M\\xc0n\\'b;\\x85\\xa4\\xe1\\x17&\\x01\\xd8(\\xea\\xb08[\\xe6m\\xc1\\x89P\\xca\\x9f\\x95>3\\xf0\\x1e\\'\\xc0\\x9e8\\xce|%\\x99\\xb4\\xbe\\x83k\\xbe\\x8d\\n\\xe5\\xa6\\x03\\x9aA\\xa7\\'\\xa1a\\x1f\\x97E\\xe7\\x19\\xceW\\x88\\xc8\\xf3g6\\xa52\\xca\\x94\\xcb_\\x04\\x0e\\xbf\\xec\\xbf@\\xff\\x00k\\xff\\x00\\x86\\x1f\\xeby\\x1d/\\x10\\xe0\\xf0\\xe1\\xd8\\xe6\\x00+\\x0f\\xe6\\xd2\\ti\\xff\\x00\\xf1.\\x13\\xbc\\x11\\xd1|K\\x9c\\xd1\\xad\\x98\\xe0\\xe8c1T\\xdfWK\\x1c\\xda\\xb5Kt88\\xfaL\\x93\\xbcE3\\xf7\\xea\\xb9\\xda\\xa7F\\xfb\\xad\\x1c\\x1e>\\x8570V\\xa3\\r\\x0e\\xbb\\x9b\\x16i\\x9d\\x87m\\xbe\\xeb\\xb2\\xf8\\x1b\\xe3\\x81\\xe0O\\x88\\x18,Mg\\x9ay~/\\xff\\x00k\\x8a<\\x06\\xb8\\x8d.\\xfa:\\x0f\\xb4\\xae_\\x11\\x82v\\x03\\x1b\\x88\\xc2b\\x83\\xa9\\xb9\\xa6\\x1d\\x07\\xf3\\x1f\\xaa\\xccu=\\x02\\x1cDIm\\xb9X\\xce\\x1c\\xe2\\xe2\\xfd\\x9ba\\xc8\\xf1\\xc9K\\xe8\\xfdA\\xc9qF\\x03\\xa6\\xd3;\\xae\\xbb\\tW\\\\\\x02l/u\\xf3\\x87\\xec\\xd5\\xf1\\x14\\xf8\\xcf\\xc0\\xb8l>&\\xb8vg\\x96\\x11\\x84\\xc4I\\x92\\xe6\\x8f\\xf8o\\xfa\\xb4D\\xf5i^\\xff\\x00\\x95\\xe2\\tp\\x97\\x0e\\xc7\\x85\\xf1\\xf9\\xb18I\\xc4\\xfb\\xfcY\\x96H)\\xaff\\x8egE\\xb8\\x8a.i\\xb8p\\x88^\\x1b\\xe3\\x0f\\x04b\\x86\\'\\x17\\xf8j\\xaen\\x1f\\x12f\\xad\\x02\\xddt\\xdez\\x96\\x9e{\\xafw5\\x03\\xc4j\\x91\\x0b/0\\xca\\xd9_\\xf8Zy\\\\\\xea\\xe2\\xcd\\x94\\xfd\\x1eK\\xe0\\xcf\\x1a\\xe7^\\x1e\\xa4\\xcc\\xaa\\xbe\\x1f\\xf1T\\xa9\\xfai\\x10\\xe2\\x1c\\x07I</S\\xcb3\\xbc\\xc73\\xc2\\xfa\\xf05(\\xd17\\x9a\\x8e\\x04}\\x82\\xca\\xa5\\xe1\\xaaN\\xcc\\xa9zG\\xcdu\\xeb9~CM\\xb9Qn\\x81v\\xd8\\x8b+\\xb8\\xb9\\xb2\\x8eq\\x89c\\xc3t\\x7f\\x17\\x81cA\"\\x1b\\xc1\\x82WA\\x85\\xca\\xa8ajy\\x8f\\xa6\\xc7\\xd5\\x1b:&\\x171\\xe1\\n\\xee\\xc3\\xd7\\xa9N>G\\x16\\x90W`j\\xdc\\x17@\\x93\\xb0]\\xb8R\\x946pe\\x93R\\xd0\\xf2nu~A*\\x98r\\xe6M\\xae\\xa3ub:\\x00w\\x1dB\\x8cb\\xd8\\x1eF\\xb1&A\\xbf+f\\x922V6\\xa5\\x01\\xa2I\\xd3\\x1f\\xcb\\xb4\\xa8\\xc8\\x8eH\\xbf\\xb4\\x85;\\xeb\\x02\\x0c\\xd8\\x8e\\x14.\\x04\\xcb\\xb87!e-ti\\x16\\xec\\x89\\xd5\\x81u\\xc4\\x9e\\xc3eZ\\xa8\\x99<N\\xea\\xc5B\\x06\\xa2G\\xa7\\xbe\\xea\\xa5W\\xc5\\xfan\\x17$\\xf6\\x8d\\xe3\\xd9^\\xb3\\xc9\\x04Xu\\n\\x85s\\xa1\\xb7\\x06U\\xda\\xb5,g\\xa4\\xc4\\xddP\\xc5T:\\t$t=W)\\xb23qN4\\xc1$\\xc4\\x0f{\\xaf<\\xf8\\x91\\x9dS\\xcb2\\x1c}W<5\\xad\\xa4\\xe2];\\x00\\x17g\\x99\\xe3\\x85:O#\\xd8w_$\\xfe\\xd5\\x1f\\x13\\x06\\x17-96\\x12\\xae\\xaa\\xf8\\xafK\\x83wky+\\xaf\\xc6\\x83\\x9c\\xd2Fy\\xf2\\xac0sg\\xcdxlc\\xf3?\\x10\\xe2\\xb1\\x8f\\xa9j\\xd5\\x9fPG\"L\\xcfhC9v\\xacQ\\x8b\\x16\\x10[\\xf9\\x9f\\xa5\\x88U2p\\xe6b\\x1a\\xf7X6\\x9e\\x80\\x01\\xb9%\\xa4\\xff\\x00T\\xfc}G>\\xbdms\\x0e.\\x87\\x1b\\xc1\\x12c\\xecW\\xdaER\\xa3\\xe0$\\xdc\\xac\\xd9\\xaa\\xe1\\x8a\\xa9Q\\xa1\\xc6\\xab*Qi!\\xc2!\\xd7l~m\\xfc\\xd7\\r\\x89\\xa6Z\\xe80\\x1clGq\\xd5t,\\xc68\\xb4T\\xfe\\r\\x06\\x9b\\x80\\xed\\xfe\\xe0,l\\xd5\\xcc\\xa9\\x895\\x1b\\x01\\xb5\\x86\\xbb\\\\\\x03\\xba\\x92(\\xa7\\x82v\\xa2\\xeaF\\xc1\\xed\"&\\xd3\\x12?0\\xb4\\xb0\\xd4\\x83\\xb0:\\x8cC\\xe5\\x93 \\xe93 u\\x13\\x7f\\xee\\xb2\\x19,x \\xdcA\\x1d\\xd5\\x8aOx\\xa2CL4\\x88&\\x10\\xb4\\xfd\\x10\\xd6\\xa3\\x15\\x08\\x8b\\xfe\\xbe\\xea\\xd6\\x1c\\xb2\\xabY\\x87\\xc4<\\xd3\\xa7\\xa8\\xb8>\\'I6\\x98\\xe9\\xb2iq\\xc6\\x83!\\x82\\xa3\\x04\\xed\\x1a\\x87t\\xfaT\\x9d4\\xc6\\x92\\x0f.\\x06\\xc7\\xb2\\x11t\\xb6*\\xd8g\\xe0\\xb1\\x05\\x80\\xb1\\xf6\\xf9\\xe9\\x9dMu\\xb8+\\xdb\\x7fe\\x0f\\x12b\\xb2o\\x8c\\xbe\\x19\\xab\\x87\\xaa\\xedX\\xack0\\xd5\\xd8\\xe6\\x8d.\\xa4\\xfb\\x11<\\\\t\\xfe\\x10\\xbck\\x1dU\\xb8\\'\\xd2c\\x1b\\xfb\\xc6\\xfc\\xed{v^\\xd3\\xfb*\\xe4x\\x8f\\x14|d\\xf0\\x91\\xc2\\xe1\\xddM\\x94\\xf1B\\xb5W\\xd2i\\x1at4\\xb8\\xbazX}\\xc2\\x95\\xd9\\x8b\\xb6\\xac\\xfdJe\\xa9\\xcc\\x11\\xee\\xa4i\\x93nT4\\x99\\xa9\\x8d7\\x04\\xb6w\\x16\\xb2\\x9d\\xad\\x03y<\\x0b\\xae\\xf5\\xd1\\x03\\x8b\\xf4\\xd8_\\x83\\x08\\xb4E\\xe7t\\x01\\x98\\x11\\x11\\xd7\\xa2{I\\x07\\xe5\\x8bp\\x80\\x13\\x06\\xfbqt\\xe3\\xbc\\x9f\\xb4&\\x96\\x8b\\x98\\'\\xb2$\\xc1\\x13\\xf9\\xa0\\x0cC\\xad\\x10\\x90\\x00\\x937\\xf6\\xfe\\xc9D\\x10b\\xe5\"\\xe3\\'\\xd3\\x027@+\\x81a~\\x12\\xbd\\xb9\\xf6)oh\\xd9&\\x928\\x81\\xc7\\xba\\x01\\t\\x1c$?4I#k\\xedo\\xd5!k\\x1f\\xcd\\x00\\xd6\\x8bon\\xc9\" \\x80\\x07\\xd6\\x12@Q3\\xa6&:%\\x1c\\x1b[\\x83\\xba@i\\x81\\x7f\\xaa\\x04\\xda\\r\\xe3\\x95\\x90\\x0c\\x80E\\x88\\x84\\xd9\\xe0s\\xcc$\\xe8\\x93\\xc8J\\xc0\\x00G\\xf6St\\x04Dw\\xee\\x96\\xa0A\\x93\\xf9%\\xa6\\xf2\\x02\\x161\\xd0\\xab\\xb6.\\x87\\x83-\\x00\\xc4~\\xa9N\\x9e?4\\xc1k@\\x08\\xb3\\xa6\\xd2\\xb3&\\xd8\\xf7\\x10\\x0e\\xd0\\x0f\\xd5\\x11}\\xbe\\xd0\\x9aD@\\xb5\\x84\\xcf\\t\\x07\\x1b\\xc4\\xfb!\\x02\\x06d\\x02\\x88\\x91\\x06\\x10\\r0$\\xdd\\x18\\x04\\x89\\x10y@\\t\\xbf\\xea\\x93\\x89\\xdc\\x0e\\x126\\x00\\r\\x927\\x1b\\x89\\xe8\\x80Q \\xcd\\xfb\\x14\\x0c\\xb5\\x82d\\x80~\\xa8\\xcd\\xbdF\\xdcB\\x04\\x08\\xe0\\xa0\\t\\xb72\\x12?,\\x8bp\\x9ad\\x8d\\xf6\\xe1\\x190z\\x14\\x01\\xe9\\xb0=\\x02[I\\xe3\\x90\\x91ip\\xdb\\xea\\x10\\x02\\x01\\xb9\\x98\\xe5\\x00\\x01\\xfb\\x14L8\\x01\\x13\\xcc\\xa1;M\\xc7t&F\\xd6\\xec\\x80t\\x9d\\xcf\\x1f\\x9ah3d\\xa7y6\\x9b\\xca\\x0epk\\xb6\\x8e\\xc3\\x94\\x01u\\xc4L#\\xa8\\x03\\x07s\\xd14\\xc9\\x1b\\x18\\xdd!\\xcd\\x87\\xd4\\xa1\\x02\\xbe\\x928\\x1d\\x12\\xfe.[d@t\\xcd\\xe7xH^-~\\x88H\\xd0\"b\\xf0\\x83\\xfdL\\x80};Y<\\xb4Z\\x7f\\xf2\\x9aIh\\xf9I\\'\\xa2\\x03\\x17\\xc4\\xb95/\\x10\\xe58\\x8c\\xba\\xab5\\xb2\\xabt\\xc3\\xf63`\\x0f\\xd0\\x10\\xbf>>4x\\x00x\\x07\\xc5Y\\x86XA~W\\x98\\xb8\\xbb\\n`\\x17Q\\x8b8\\\\\\xee$\\xb4\\x8e}%~\\x82\\xf8\\x87\\xc58\\x1f\\rR\\xa7[2\\xaa\\xdc5\\n\\x95\\x05!Q\\xf6l\\x9b\\x00O\\x17^#\\xfbP|9\\xa7\\xe2\\xdf\\tU\\xcepL\\xa7T\\xd1\\'\\x17\\xe65\\xb2C kp\\x8d\\xf6\\x07\\xfe\\xd2\\xb0\\xc8\\xbd\\x9a\\xe3\\xbfg\\xe7\\xff\\x00\\x8dp\\xaf\\xc4W\\xc19\\xd4\\xb4\\xd7n\\x1fEB\\x1d\\xa88\\xb4\\x18 \\xf7l\\x1b\\xf6\\\\uf\\x00\\x04\\x1e\\x9fE\\xe9^3}JU(U\\xc6\\x1ac\\x11I\\xa2\\x9dF\\xd2\\x00\\x17\\x02\\x0f#s\\x10g\\xa1\\x1d\\xd7\\x9cU\\xb9\\x04\\ti\\'s\\xba\\xcc\\x9fgi\\xf0g\\xe2+\\xfe\\x1b\\xf8\\xdb\\x0b\\x8f\\xaa\\xf22\\xdcG\\xfe\\xdf\\x1a\\xc1\\xb7\\x96M\\x9f\\x1dZo\\xf7\\xea\\xbfB\\xb2\\x1c\\xca\\x9e2\\x8d*\\xacs_M\\xed\\x0ek\\x9ae\\xa4\\x11 \\x83\\xf6\\xfb\\xaf\\xcb\\xb0>f\\xff\\x00\\x10\\xea\\xbe\\xae\\xfd\\x94>-\\x9cv\\x0f\\xff\\x00I\\xe65g\\x17\\x83f\\xbc\\x13\\x9e\\xef\\xf8\\x94F\\xec\\xf7g\\x1d\\x8fe\\xe3\\xf9\\xd89/\\x91\\x1fA\\xf8\\xef\"\\xbf\\xd2\\x97\\xfd\\x1f]\\xd3\\xc4\\x80@<tK\\x17\\x8f\\xa6\\xc1\\x13\\x16\\x88\\x9b\\xacq\\x88\\xf3)\\x07\\xb5\\xc6-\\xb2\\xab\\x9fb\\x9d\\x83\\xc0\\xd4\\xae\\x06\\xad\"n\\x17\\x84\\xa9\\xb3\\xe8\\x0b\\x94\\xbcE\\x85\\xc0\\xe3 \\xc5Z\\xed\\xf5i.\\xb0]V\\x17\\xe2\\x8e\\\\\\xfc#i\\xd5.i6\\x1e[\\xb7_)x\\xa7\\xe3S\\xf0\\xf8\\xe3\\x82\\xca\\xb2\\xe6\\xe3\\xea\\xb4\\x07>\\xb3\\xd8\\\\\\t\\xe6#n\\x9fE\\x91\\x83\\xf8\\xb3\\x9fU\\xc4\\x96\\xe2<1\\x0c\\x10I\\xc3\\xe2!\\xfe\\xe48\\x1d\\xd4\\xe4N\\x1e\\xe8\\xf7\\xbc_\\n\\x19\\xd2\\xe5\\x16\\xcf\\xb0\\xdb\\xf1\\x03\\x0b\\x80k*a\\x9fF\\x91\\xdfI\\x1a\\x89=\\xd5\\xfc\\'\\xc5\\xbb\\x11\\x8a\\xc3P\\xafL\\x99\\x91,7\\xf6_&\\xd4\\xf1\\x9f\\x88\\xb1\\xc6\\x9f\\xfa~SO\\x06\\x1c$\\xd4\\xc6V$\\xb4\\xf2\\x00\\x02\\xeajy\\x7f\\x89\\xb3\\x8a\\xc5\\xd8\\xac\\xe2\\xad:@^\\x96\\x11\\x80\\x01\\xff\\x00q\\xba\\xe1^[\\xc7\\xff\\x00\\x91\\xf4+\\xf00\\xc9\\x1f\\xe1\\xff\\x00l\\xfa\\xf7\\x0f\\xf13(\\xc7\\xd4\\xf2\\xcb\\xd9E\\xc2\\xe5\\xbehq\\xff\\x00\\xc2\\xb3S<\\xc3Wv\\xaa5\\x98\\xf1\\xb5\\x9dp\\xbei\\xcb\\xfe\\x07\\xe6x\\xcc%z\\xb5_\\x98\\xb2\\xb5\\x1af\\xa9\\xd7P\\xb5\\xceh\\x89\\x80\\x05\\xe0\\x10z\\xc3\\x82\\xe9\\xe8|3\\xaf\\x93f\\x0e\\x19W\\x883\\x17Qef\\x16\\x8a\\xb5\\x05Jod\\rB\\xf7\\xden\\x0fN\\xab\\xb6\\x19\\xe55m\\x1f?\\xe6\\xfe#\\x1f\\x8f\\xb8O\\xfe\\x8fy\\xa3\\x8ek\\xc0\\xd2C\\xe0\\xc1\\x82\\xad\\xb1\\xe2\\xa1\\x89\\x98\\\\\\xdeM\\x82\\xa9\\x84\\xa4\\xd6\\xb9\\xcep\\x02\\t\\x90o\\xee\\xb6\\x19P\\xd3\\xda\\xdd\\xd6\\xae\\xcf\\x9bT\\x9d\\x17*<k\\x1f\\xd1T\\xaa\\xf2\\x1aL\\x83)\\xb5\\xab5\\xb0\\'I\\xd8\\xc6\\xea\\xab\\xab\\x1f\\xe2 \\x9e\\xcb\\x9el\\xd1\\x03\\x11[M@\\t\\xb4]d\\xe6\\x18\\xa1M\\xb2M\\xe2T\\xf8\\xbcP\\x00\\x99\\xb8\\xea\\xb8\\xaf\\x15\\xf8\\x8a\\x9e]\\x83\\xabV\\xa5M-kd\\x95\\x82Vo\\x15g%\\xf1O\\xc7t\\xbc5\\x95U\\xac\\xf7\\x92\\xf8\\xf4\\xb6n\\xe3\\xd0/\\x83\\xfcs\\x8d\\xc5g\\xf9\\xf6\\'\\x1f\\x8eq5\\xaa5\\xce\\x8e\\x1a\\xdd\\x80\\x1fu\\xf47\\x8fqx\\x9f\\x13\\xe2\\x9d\\x89\\xab>K\\'\\xca\\xa6x\\x1dc\\xa9^\\x07\\xe3\\xba\\x1f\\x84\\'\\x97V{i\\xdc\\xed\\x17?\\xff\\x00O\\xd9{\\xfe\\x04Td\\x97\\xb3\\xc6\\xfc\\x9f\\'\\x8f\\xfaG-\\x97\\xd4\\xf3+\\xcb\\x88\\xd1R\\xb3\\xf4\\x89\\x9d\\x84\\x0f\\xd4}\\x95|v,\\xd4ei\\x17i\\xd6\\x0fx\\xfe\\xc9\\xd4h\\xfe\\x1fF\\x92\\xcfCt\\x82\\x05\\xdc\\xe2\\xfb\\xfec\\xec\\xa9c\\xaa\\x03\\x88\\xc5\\xd3l\\x00\\'\\xeb\\x1f\\xf9^\\xfd\\x9f\\'N\\xed\\x16\\xf0\\x98\\x91\\x87}Znt2\\xa3\\xc8\\xb8\\xe2\\x03\\x87\\xf9\\xddg\\xbfS\\xa9\\x9aN\\x8dT\\x1eD\\xf5\\x04\\xff\\x00t\\xecC\\xfc\\xc6\\xd1\\xaa\\x01\\x871\\x8e\\xfdZ\\x7fB\\x9aZ\\x1e\\xdf0\\x1fQ\\x1aLu\\x1b\\x1f\\xac(e\\xd9^\\xa7\\xa05\\xe0o\\x13\\xd2\\xcbW\\x07\\x95T\\xcc2\\xe7\\xe20\\xe0=\\xd8pMf\\x92\\x01\\r$A\\xfb\\x98\\xe5f\\x83\\xael\\x0162-*L?\\x99G\\xfe\\x1b\\x9d\\xe5\\x9fK\\xc01n\\x85IG\\xb3\\xd5~\\x15|\\x12\\x1f\\x13\\xe8y\\xb8\\x1c\\xd6\\x8e[_\\rP\\xfe(\\xe3t\\x865\\xa5\\xb2\\xc2\\xdb\\xcb\\xa4\\x82#\\xdb\\xa8^\\x8b\\xe0_\\xd9[\\x07\\x9eR\\xc6\\n\\x9e!\\x18|u\\x179\\xb4\\x99H\\x07S\\xaa\"X\\xf2,Z\\xc2\\x0fBd\\x15\\xe1^\\x11\\xf1\\x8ec\\xe0\\xfc\\xd7\\xf1y}A\\x87\\xab\\x1aH\\xa8\\xddm\\xf7-;\\xff\\x00\\x9d\\x17\\xb5|8\\xf8\\x99\\x98b*\\xb1\\xb41M\\xca\\xf1\\x8f\\xa9\\xfb\\xdcF\\x92\\xf7\\xd6%\\xa1\\xa0\\x06\\x06\\x99\\'L\\xcfr\\x8c\\xa2\\xa7\\xd9\\xe9y\\x8f\\xec\\xd5\\xe1L\\x1e][\\x0bA\\xee\\xab\\x8bg\\x90\\xccN1\\xde\\xa1/t\\x10\\xd6\\xc4E\\x81\\x00\\x9b\\xfeK\\xea/\\x85\\xff\\x00\\x0er\\x7f\\x05\\xb1\\xf5r\\xbc\\xb6\\x86\\x12\\xb5\\xa8\\x17\\xb5\\x9a]\\xe5\\xb4\\x02\\x06\\xdf\\xe0\\x85\\xf2vG\\xf1/\\x06|P\\xea51\\x98\\x8c^]\\x82\\xaa\\xdceZ\\xaeaa\\xa8\\xe6\\xb5\\xc2\\x9c7`\\x1fQ\\xd2\\x07\\xfc\\xa1}\\x8d\\xe0*Y\\x8e#*\\xc3\\xe2\\xf3@\\xea\\x15\\xb1-\\x15M\\x17\\x19u&\\xb86\\x1ax\\x93\\x7f\\xba\\xbe;\\x94\\x89\\x92\\xa5\\xa3\\xaa\\xc3\\x07\\x8aMk\\x80\\x04\\x08\\xdf\\xec\\xa6k]7\\xd2\\'\\xf3E\\xce\\x87\\x16\\xf2R\\x02\\xe7u\\xdcd84\\x9b\\x1b\\xc1N\\x06\\xd3\\xf6Mk\\xa4^~\\xa9\\xe3\\x9f\\xf2P\\x08\\x98\\x16\\xba\"\\x00\\xb1\\x12\\x9b\\x1e\\xa4t\\t\\x9f\\xf0\\xa0\\x0c\\x81\\x1b\\x90y7D\\x00\\xd97\\x82\\x83$\\xb4\\xf0e:&\\xc6:\\xa0\\x14\\r\\xa6m\\xc8M\\x89\\xediE\\xb31\\xb4la \\x0c\\\\E\\xd0\\x05\\xb3=\\xb9M\\xe6\"m\\xf6D\\x80\\xd1<J\\x00A\\xb7\\x17\\xee\\x80D\\xd8\\x88\\xfa\\xa4\\x9c\\\\&7\\xed) 3\\x8bl/\\x0e\\x02\\xe8\\x97\\x9d\\xc0\\x93\\xb2m\\xa4\\xc7(\\x8b\\xc8\\x00\\x02y+\"\\xea#Iv\\xa8\\x80\\x89\\xf9}\\x93\\x83\\x88$\\x12:\\xa6\\x11yB\\xd4\\x84G\\xa8\\xdb\\xbd\\x9170\\x05\\xba\\x91\\x054\\x99\\x1d\\xa2#\\xaaNt\\x08\\xfb\\x04)$\\x12~c\\xb7tA\\x93\\xd0wMm\\xc4M\\x91\\x88\\xe0\\x98\\xe1\\n\\x8f?-\\xb6\\x88H\\xdd\\xb0.\\x90\\xdaL\\x83\\xd2P\\x93\\x06.P\\x04\\x89\\xd9\\xb6\\xeal\\x86\\xa4\\xa4\\xdaL\\xdd\\x13\\x04\\x1b\\xa0\\x1a.w\\x8e\\xddQ\\x807\\xbf`\\x86\\xd7\\xedt\\x01\\x02$\\xc4\\xa0\\x1c\\x0c\\x03\\xa4\\x10\\x84M\\xc7\\x1b\\xc9D\\x06\\xb4\\x02\\x07\\x1b\\xa1\\xa8\\xc4}P\\x08|\\xd0l\\x9c\\x0c\\xbe\\x04&\\xef{\\xa5\\x17\\xdb\\xba\\x00\\x83x6\\xf7M\\xf6\\xfc\\xd1&z}\\x10\\xd4/\\xc4\\xa0\\x0fQ\\x16\\x8e\\x88:\\x05\\x8d\\x872\\x90\\x1b\\x93\\xf4F\\xce\\x1c \\x00\\xb9(I7\\x83\\xb5\\xc8GOx\\xe8P\\xb0\\x94\\x02\\x1b\\xdf\\xdd&\\x01\\xd6n\\x84\\x9fc\\xd9(\\x00nP\\x81\\xc3\\xa5\\xc4~i\\x16\\x93\\xfd\\xd3\\xf0\\xf8z\\xd5\\xdf\\xa6\\x9b\\x0b\\x8fPU\\xb3\\x91b\\xc3%\\xd1\\x7f\\xe1SVE\\x94\\x1cCL\\x1ft\\r]\\x14\\xcb\\x80s\\xa0\\x82@\\x17\\x85i\\xd9V\"a\\xd4\\xec\\x14x\\x9c\\xb2\\xbb\\xe88\\xb6)\\xbb\\xde\\xeax\\xb1g\\x1d\\xe3\\xbc\\x8b\\x0b\\xe2\\xdf\\x0f\\xe2\\xf0m\\xd3]\\xae`$\\x01\\xe6\\x03\\x7f\\xe5&\\xfd\\xc2\\xf8\\xbf\\xc7^8\\xf1\\xcf\\xc0<\\xc7\\x15\\x85\\xc0T\\xad\\x8f\\xf0\\xc5p\\xeaN\\xcb\\xf3\\x1aou*@\\xf0\\xc7\\xbb\\x83\\xc48\\xc6\\xdc/b\\xf8\\xb5\\xf1\\x17\\xc4\\xbf\\t<G\\xf8\\xba\\xe2\\xbd|\\x99\\xc6\\xc2\\x8c5\\xd4\\xcf\\xf2\\xb5\\xdb8\\x1e\\x8e\\\\\\xee;\\xe2/\\x85~.U\\xa5\\x8a\\xc3\\xe6X<v#\\x08MJx\\\\S|\\xb9\\xab\\x17:O1mPd\\xec\\xb8\\xe5R\\x91\\xd0\\xbf]\\x1f\\x0e\\xf8\\x8f=\\x7f\\x88q\\xf5qn\\xa0\\xcc1\\xaa\\xfdB\\x95)\\xd2>\\xeb?\\x03N\\x95LM6\\xd7{i\\xd1k\\xda^\\xe7m\\x1c\\x85\\xf4/\\xc5\\x9c\\xa7\\xc3\\xb8\\xcc\\xbe\\xb5L\\x06]\\x81\\xc3\\xd5\\xa2\\x1b\\r\\xc3\\x9d\\x0e\\xa4GV\\xc5\\xe4\\xfb\\xaf\\x9f\\xf1\\x98_\\'\\x12\\xf0`6M8\\'\\xf3)F|\\xa9\\x94\\xb1o\\xa5S\\x16\\xf7R\\x80\\xc79\\xce\\x88\\xda\\xf6\\x1fhRey\\xbe3\\xc3\\xb9\\xb6\\x133\\xc0V8|n\\x12\\xa8\\xa9J\\xabxp\\xeb\\xd4\\x1d\\xa3\\xa1Q\\xfe\\x1e*8\\xc10\\x13kRq\\xa4H\\x1b*\\xb8\\xa6\\xb6h\\xb2T\\x93G\\xe8\\x17\\xc1\\x7f\\x8ax/\\x89~\\x17\\xc3\\xe3\\xa8\\xb9\\xb4\\xf1l\\x02\\x8e+\\n\\r\\xe8\\xd4\\x89#\\xd8\\xee\\x0f!z\\x83p\\xf4\\xf1\\x98gQ\\xa8\\x03\\xc1\\x04\\x00y\\x05~f|6\\xf8\\x8d\\x99|3\\xf15\\x1c\\xcf\\x00\\xe2\\xfaN\\x86\\xe2p\\xa4\\xc3+\\xd3\\x9b\\xb4\\xf4#px>\\xe5}\\xfd\\xf0\\xfb\\xe26Y\\xe3\\x8f\\x0f\\xe1sL\\xb3\\x13\\xe7\\xe1\\xaa7I\\x0e0\\xfao\\xe5\\x8e\\x1c\\x11?\\xe0_5\\xe4\\xf8\\xef\\x0c\\xadt\\xcf\\xb1\\xf1|\\x95\\x9e4\\xff\\x00\\x929\\x8c\\xe3\\xc340y\\xc5v\\x1aM,\\'P\\x91\\x12x\\xfb+\\x14<=\\x874\\x89c\\x1bQ\\xeet;H\\xb8]\\xcee\\x97\\xd3\\xcc\\x08p\\x1a\\xb9\\xf5*_\\xe8\\x98\\x9d@1\\xbao\\xc4\\x15\\xe4\\xe7\\xc4\\xb3.\\xf6}\\xcf\\xe3?.\\xfcH\\xa8\\xc9h\\xc8\\xa7\\x868v\\xb2\\x9b\\xb0\\x8ckC\\xf5k\\xa8%\\xc6\\xd1\\x1e\\xd2\\xb7\\xb2*\\x95\\xf2\\xd6\\xd4\\x18g\\x0c9\\xaa\\x0b_\\xa0\\x01\"\\xe0\\x81\\xf7O\\xa1\\xe0\\xcc\\xc7\\x1eZ\\x1f_@&\\r\\xa5ne\\x9f\\rqmp{\\xf1\\xb5\\x9f\\xfa.(xN\\xee\\xcf[?\\xfe\\xa2\\x83\\x8f\\x14\\x8bx<~q\\x89\\xc2Q\\xc37\\x1dU\\xb8jc`\\xff\\x00T\\x01\\x11\\xab}\\xad\\xec\\xbaL\\x8b#\\xa5\\x87-{\\x8e\\xba\\xa7\\xd5\\x1f\\xd53-\\xf0\\xa7\\xe0\\x9c\\xd2^\\xe7\\x18\\xb9\\x0bv\\x9e\\x1f\\xf0\\xe0i\\x1d\\xae\\xbd\\x18cq\\xec\\xf9\\x0f\\'\\xf2\\x13\\xcc\\xdaJ\\x93-Ry\\xa4\\xdd\"\\xcd\\x1bwM\\xa9R\\xce\\xb4\\x14\\x98\\x1d\\x10\\xe0GdK4\\xf1$\\x9eWC<\\x82\\xbdR\\x05\\xbe\\xf2\\xb3\\xea\\xd5\\xd3\\xea$tW\\xf1%\\xadh \\x8fb\\xb9\\x8c\\xe37f\\x12\\x99t\\xe9-\\xd9c$k\\x1e\\xca\\xf9\\xdej\\xcc%\\n\\x8e{\\x83$I$\\xec\\xbc{?\\xc7\\xd4\\xf1.0\\x89p\\xc2\\xb3\\xe5\\x1f\\xcez\\xad\\x9c\\xf78\\xad\\x9f\\xd74XKh\\x0e\\x7f\\x9b\\xfd\\x93)e\\xdeM;7\\x8eB\\xc6\\xd4Y\\xdd\\x08R<\\xfb\\xc4yx\\xa3@w7\\x1c\\x9e\\xcb\\xe6\\xbf\\x89\\xd5<\\xac\\xfb\\x07\\x872|\\xa6\\x1a\\xae1\\xf3\\x12d\\xfe\\xbf\\x92\\xfa\\xa3\\xc5t\\x9a\\xf3\\xa2!\\x8c\\x048\\xeds\\xd3\\xe8\\n\\xf9S\\xe2\\x95(\\xf1\\x9e$\\x10K\\xa9\\xd2k\\xdc8\\x13&?E\\xedx\\x0e\\xe4\\x8f\\x17\\xf2\\x91\\xff\\x00KG\\x15S\\x10\\xdat0\\xd1:\\xa6o\\xb0\\xd3q\\xf9\\x92\\xb2\\xea\\xbbU}D\\x12\\x1c\\x04\\x93\\xff\\x00L~\\xa1hfL}\\x07Q\\x9byll\\xfb\\xee\\x7fUC\\x16\\xcd\\x15\\xc1m\\x98}M\\x00q\\xff\\x00\\x95\\xef\\xad\\x9f\"\\xc6\\xd1.v\\r\\xc3T\\xe8#\\xecO\\xf7A\\x95\\x0b!\\xcdt\\x19\\x9fc\\xfe\\x04\\xda&u\\xea\\xfe!\\xa4\\xcf\\xbasZCL\\x8b\\xcc\\x10U\\xabD2Z\\xf4\\xcd:\\x82\\xa8\\x04\\xd3q\\x92#\\x8eB\\xb2\\xec;\\x83\\xdc)\\xc3\\xaa\\x0e?\\x9cn#\\xe9\\xf7U\\xe8\\xd4.\\xa6\\x1bbF\\xd3\\xca}:\\x8e\\xf4\\x00L\\xb4X\\xf6\\xff\\x00e\\x05_E\\xbc> :\\x8b\\x9c\\x1a\\xdaO\\xe5\\xcf\\xbbKv\\xb4\\xdc\\x1f\\xf3\\x85\\xb5\\x93f\\xf8\\xcc-F\\x1c61\\xf8G\\x06\\x96\\xb6\\xb57\\xc1`;\\xe9#\\xf4\\x17\\xba\\xc6\\xd01$9\\xf0+\\x0b\\xea\"A\\xf7\\x1f\\xd5O\\x87\\xc0U\\xc2>\\x9dJ$>Hw\\x96\\xe3\\xdfn\\xea\\xd6d\\xe3g\\xd3_\\xb2\\xe7\\xc3\\xdc6y\\xe2\\x91\\x9c\\xe6\\x8c\\xad\\x8d\\xf2+\\xb5\\xf8|\\x0b\\xc0kj\\xd4\\x1f+\\xea\\x97\\xec\\xd6\\xee\\x1b\\x04\\xcd\\xe3h\\xfb\\xd7&\\xaeC*\\xba\\xa5aR\\xad_T2\\xc0E\\xa0\\x03\\xc7u\\xf9\\xa3\\xf0\\xb7\\xc6y\\xcd*\\xf4\\xb0\\x95\\xb3\\xa7e\\xf8z\\x84\\xc9m0Iq\\xd8\\xeb;\\x03\\x02{\\x02\\xbe\\xcc\\xf8e\\x9aR\\xa4\\xca\\x0cvn\\xdc}FS\\x0fqn!\\x9a^\\xef\\xf9oq\\x1dT\\xc2|^\\xcbp\\xfdl\\xf7\\xbc;a\\x90\\xe3\\xa8\\x8d\\xdcy\\xe9\\nV\\xb8I\\xbd\\x85\\x8a\\xe70\\x99\\xff\\x00\\xe2\\x9a\\xc7Q\\xa3TS6\\xf3\\\\\\x00\\x0e\\xff\\x00\\xa0n@\\xb5\\xf6[\\xd4\\x18\\xe2\\x03\\xde}\\x9aM\\xfd\\xcfu\\xd6\\xa4c\\xd6\\x8b\\r\\x83h\\xe5)\\x8e\\xa0\\xf4)\\tp7\\xe7\\xee\\x89=>\\xebB@H\\x91\\x7fxN\\x13\\x1bE\\xf9@\\xf0\\x81\\xd8\\r\\xad\\xca\\x00\\xf1r\\x8d\\x84t\\x9b\\xa4\\xe3\\xe9\\x1c\\xc7T\\xac\\'\\x91\\xc2\\x00\\x82bR\\x88\\x1b\\x10:\\xa5\\xf3m\\xf9\\xa2L\\x10~\\x91\\xd5\\x00\\x84\\xb4\\xda\\x02hq\\'\\x826\\xb20\\x0c\\xb7\\xa2F[\\x10B\\x12\\x84$\\xcbu$\\x88\\xb4\\x00o\\x17\\x8eRB\\x0c\\xd1s\\x00\\xcf\\xbd\\x90\\x1b^\\xfe\\xe9KI(\\x10zYdj\\x95\\x0e\\xda;p\\x90\\x16\\x9f\\xaah\\xbc\\x88\\xbf\\x05\\x16\\xdb\\x9f\\xa2\\x10\\xf6!\\xe9\\x9e\\xb3\\xca.l\\xfdx\\xe5\\x00\\xe0\\x1a/d\\xa6/\\xb4\\xa1G`\\x0e \\x1d\\x8c\\xa2&:\\x19L\\x06\\xf3\\xd5I\\xc5\\xaf\\xec\\x84t\\x11\\x11\\xb4\\xf6I\\xcd\\x80\\n\\x00[\\x94\\xbd\\xcc\\xf6@\\x1b\\xd8\\xb8n\\x9b\\xac\\xc0\\x16\\t\\\\\\xc4JM\\x11\\x04m\\xdd\\x00gU\\xd0\\xec?$d\\x7f\\xe54\\x13`o\\xc2\\x01\\xd3\\x0e\\xb8\\xb0H\\xc9\\x04\\x19\\x1dBSa\\xd0&\\x8f\\x98\\xc0\\xfa\\xa0\\x1d \\x82\\r\\xad\\xban\\xc6v\\xee\\x8b]~L\\x8b$#U\\xcd\\xf90\\x80@n\\n3\\x108\\xe8\\x91\\x04\\x8e\\xe8\\xb6\\x9b\\xaa\\xbc5\\xad$\\x93a\\xd5\\x00\\t\\xf5E\\xc0\\x1c\"\\x06\\xe0_\\xd9l`\\xbc?\\xa8\\x03]\\xc6\\xff\\x00\\xc2\\xdf\\xee\\xb5\\xe8\\xe5\\xb40\\xed!\\x94\\x83t\\x9d\\xff\\x00\\xdd*\\x8bqg)K\\x03_\\x10=4^\\xee\\xd1\\n\\xc3r<K\\xa2\\xcdg\\x17;.\\xb3\\xc90-\\x03\\x84\\xef*/i\\x1c\\x00\\xac\\xa8\\xb7\\x0b0\\xf0\\x19+h>1LeZn\\xb0x\\x99i\\xe2B\\xd6\\xa5\\xe1\\xbc\\'\\x98\\x1d\\xe57L\\xc4t\\xfa)\\xd8\\xc6\\x99\\xd4\\ti\\xb1\\x0bS\\x0f/c]\\xfcB\\xc6T\\'E\\xd6:+R\\xcah\\xe1\\x83C$\\x1e\\x00\\xd9N\\xfc\\x19,6\\'\\x8fed\\xe1EF\\xcb`\\xd4\\x0e\\x9b\\x98\\n\\x1f\\xf5:T\\xea\\x1a5\\xc3\\xb0\\xd5\\xda6v\\xc4u\\x04n\\x13\\x91<W\\xb3*\\xbe\\x14\\x17i2\\xd2E\\x88\\xd8\\xae[\\xc4\\xd8\\x96\\xe5\\xb8W\\xd7uO%\\xad\\'U@$\\x0b\\xf3\\x1fE\\xd1f\\x19\\xbe\\x1a\\x96)\\xcc\\x15t\\r@\\x82\\xeb\\xb4;\\x88<\\x13\\xf6\\\\\\x7f\\x8c3l\\x06+^\\x1f\\x15\\x89\\xa7\\x85\\xaa\\xf0c\\xcc#K\\xedq\\x07pm!]=va%\\xe9\\x1e\\x07\\xfb@\\xe7\\xd9\\x1ek\\x91\\x1c\\x1f\\x88\\x18\\xeay~.)\\xd2\\xc7a\\xcbj0\\xba\\xe4Z\\xd6\\xb7\\xfd@\\xee\"\\xeb\\xf3\\xc7\\xe2\\x0f\\x87\\x9f\\xe1\\xdc\\xd3U-\\x15\\xf0\\xce&\\xa5<Sj\\x076\\xa0\\xe0\\xc8>\\xcb\\xe8\\x1f\\xda_\\x0b\\x8f\\xf0\\xc6\\'\\x11[%\\xcc\\x99\\x87\\xc1b\\xea8\\xe20#\\x14\\xda\\xf8j\\xee\\x99.cI%\\xa4t&[&:/\\x94q\\xf9\\x8dJ\\xcepuj\\x86\\x99:\\x8b\\t\\x95\\xc2\\xdd\\xbb4i\\xf4\\x8b\\xd8,\\xf3\\x18\\xf6\\xf9\\x98\\xbcm|E&\\xcc\\n\\xb5\\x0b\\xb8\\xee\\xa2\\xa5Q\\xd8\\x92\\xfcEB\\xd1y-\\xdeef0\\xd4\\xac\\x00m\\xa9\\xad\\x1a\\x06\\x9d\\x10\\x1fP\\xc3\\x07\\xc8\\x07=\\xd2\\xcaJ$\\xb5\\xa8\\xb5\\x8c\\xa6\\x0b\\x86\\xb7\\x92\\xefa\\x1f\\xee\\x99[\\x0f\\xea\\xaa\\x1a5\\x06\\x831\\xc4\\x0b\\xa90n\\x18\\x9a\\x86\\xb5K\\x80\\xd2\\xe2\"\\xcdh\\xdb\\xee\\xacR\\xa6|\\x9a\\x95KN\\xa2\\xc7\\x12\\x0f{\\x01\\xf9\\x15>\\x8at\\xceo\\x11KC\\x18gs\\xfdWU\\xf0\\xd3\\xe2nk\\xf0\\xbf?f?\\x00\\xe3W\\x0bR\\x1b\\x8a\\xc19\\xc42\\xbb\\x7f\\xa3\\x87\\x0e\\xfe\\x8b\\x07\\x1e\\xc1\\xf8\\x1c7\\xf3jq?u^\\xb5 \\xea;\\xc1\\x1d\\x16S\\x8a\\x9a\\xa9\\x1d\\x98\\xb2\\xcb\\x1bR\\x8b\\xd9\\xfa+\\xf0\\xef\\xe2\\x1eS\\xe3\\xec\\x8a\\x86g\\x95\\xe2EZ/\\xf9\\x9a~zo\\xe5\\xaf\\x1c\\x10\\xbd\\x1b,\\xaa\\xd784\\x8bB\\xfc\\xc3\\xf8i\\xf1/6\\xf8a\\xe2&f\\x19uO2\\x8b\\xe1\\xb8\\xac\\x1b\\xccS\\xae\\xc9\\xd8\\xf4#\\x87q\\xec\\xbe\\xfb\\xf8a\\xf1G(\\xf8\\x83\\x92R\\xcc\\xb2\\xacF\\xa6\\xd8U\\xa0\\xf8\\xf3(\\xbf\\xf9\\\\8\\xf7\\xd8\\xf0\\xbeo\\xc8\\xf1\\xfe\\x17k\\xa3\\xeb\\xfc_)y\\n\\x9e\\xa4{n^)\\x1ar\\xd6\\x82v\\x12\\xba\\x0c\\x1dV\\xb3L\\xb5\\xb7\\x10\\x17\\x05\\x94f\\xad\\x81/\\x89\\xb4\\xae\\x86\\x96b\\xd2\\xddZ\\xae\\x17\"\\x97\\x17\\xa3\\xb2Qg\\\\\\xd7R\\xaa\\xce5t\\x85\\x1b\\xc3Yb\\x07\\xd9bP\\xcdC\\x8c\\x07[\\xa4\\xa1_7h\\x12H\\xeb\\x04\\xab\\xb9\\xa6g\\xf1\\xb6i\\xd6-h\\xd3\\x12\\x0f*\\xa5j\\xcc`3\\xc7+\\x0b\\x13\\xe2*T\\xc1\\xd6\\xeb\\x03\\xd5ry\\xff\\x00\\xc4\\x1a\\x18P)\\xd3q}M\\x83\\x01\\x9b\\xff\\x00E\\x9b\\x9aF\\x91\\xc3\\'\\xa3\\xa2\\xcf\\xbcCK\\x04\\xc7jp\\x80\\r\\xa7e\\xe6\\x19\\x9eo_?\\xaeCK\\x9bBx\\xfe%^\\xbe#\\x17\\x9ebuW3NO\\xa6\\x7fU\\xb9\\x97\\xe5\\xc2\\x9b\\x1ab6\\xb1\\\\\\xb2\\xcbl\\xee\\x8e.\\x1bdY~T)0\\x1d2f.\\xacb\\xe8\\x86\\xb4A\\xe6\\xc6\\x16\\xb5,0i$\\x01\\x1d\\xd4\\x18\\xfa:p\\xef\\xf2\\xfer N\\xc1cf\\x87\\x98\\xf8\\xa2\\x9f\\xa1\\x906<\\xf5=~\\xcb\\xe5\\x8f\\x8a\\x0c\\xd7\\xe3\\\\x\\xb8a\\xa6\\xcd}\\xc9\\x16_[\\xf8\\x8a\\x80e\\x19\\x9d\\xb7\\x1c\\x01\\x0b\\xe6?\\x8ayS\\xbf\\xd5F,\\xb0z\\xda\\\\-q{~P\\xbd\\x8f\\x06\\x7f\\xb5\\x1eW\\xe4a\\xcb\\x16\\x8f\\'\\xce\\xa8\\x87\\x87>vq\\x1e\\xd7X\\xaei\\xa9L\\x08>\\x81\\xf9t]V.\\x8bj\\xd1k\\x9ad\\xb8N\\xf3\\xb8\\xb8\\x1fe\\xcd\\xd5\\xa6hT\\x80.\\x0cGU\\xf4\\x90g\\xc6e\\x8d;3\\xee\\xd7\\xc7{\\x8e\\xcaz\\x05\\xafq\\xd4b\\xd0]\\xfa\\x14q\\x14\\x00\\xd3\\xbci\\x048\\xf3m\\x94%\\xae\\xa4\\xe0\\xe0,7\\x85\\xb7\\xa3\\x9c\\xb0\\xd68=\\xc0\\xd8\\xb6\\xe3\\xdd<;\\xf8\\x9b0f`lS\\xbf\\xe2\\xb5\\xae\\x03\\xd6\\x04w?\\xe6\\xe9\\xa6i\\xd6$\\rM#\\xd4\\x0f\\x07\\x94*\\xd3&\\xa4\\xf7Rv\\xfe\\x99\\xb4\\x1d\\x96\\xe6_T\\xbc4\\xb9\\xc1\\x86}.h\\x90v\\x9bu\\xf6Xt_I\\x9b\\x92\\xeaF\\xc5\\x84z\\x9b\\xfeuV\\xf0\\xbeg\\xe2\\x1a\\xf73E3v\\xbc\\x8bB\\x82\\xbb\\xb3\\xbc\\xf0\\xce2\\x96\\x1b\\x16\\x05:\\x98f\\x17\\x88s\\xf1T\\x03\\x9a&\\xc4\\xb8\\x1b/\\xa6>\\x17\\xf8[\\t[\\x1d\\x87vG\\xe2\\x1c\\x0e/\\x1d\\xe9\\xf3\\xe8`\\x19\\xe9\\xa7pK\\xb5Lj\\x83\\xb3W\\xca\\r\\xa9\\x87\\xab\\x87s\\x05R\\xc6\\xbb\\xd4^\\xdfS\\xdf0,?\\xa2\\xef>\\x10\\xd3\\xc6a\\xf3\\xea\\x7f\\xe9\\x9a\\xda\\xf0Z\\x03*T\"\\xa5A7k@\"g\\xa0;*\\xb7[:`\\x9bZ?H\\xb2\\x0c\\x91\\xb9}\\x00\\xd7\\xbcV\\xa8\\xe1\\xea}J\\x8e\\xd4\\xe3\\x1c\\xc9\\'\\xe8\\xba|;CDi\\x0cp\\xe9\\xf9/5\\xf8`\\xcc\\xc6\\x96\\x0c\\x1cSp\\xf4\\xaa\\x9d\\x86\\xb7<\\xc7K\\x08\\x1fr\\xbd5\\x8dq\\r. 8\\xefn\\x17v:h\\xe3\\x92\\xd9#b@3~\\xa1\\x18\\x96\\x88?T\\xdb;i\\t\\xf2ch\\x9e\\x16\\xc4\\n uD\\x9b\\x98\\xb7~\\xa98\\x18\\xbd\\x8a$\\x02\\x0c\\xd8\\x9ez \\x04\\x030\\x90v\\xd1\\xbft#\\xd8vHzE\\xc5\\xd0\\x0f\\x10DN\\xfd\\x12w\\xa7\\xb70\\x91\\x04\\xecd\\x1b\\xa5`m\\x7ft\\x02\\x81\\xf7\\xbc\\xf0\\x91h\\x8b\\tKf\\xc4\\xcaD@\\x94&\\x98#b$q)\"m\\xfc\\xc0DJH[\\x89\\x95$v#{l\\x88\\x17\\x9e\"\\xe9\\xad0!\\x18 lI\\xe8\\xb2+l6 \\x89\\x90\\x9d \\x13\\xfe\\x12\\x98M\\xf6\\x82\\x04\\xa6\\x02b?4\\x16\\xc9\\x1a\\xeb\\x991\\x17JE\\xef\\xb8L&\"R\\x1f\\xaa\\x10\\x1bp\\t\\xee\\x9c\\xc7L\\xed\\xf5\\xe1\\r\\xc9I\\xbc\\x11\\xb7\\xe6\\x84\\xb7c\\xa6\\xfe\\xc8\\xba\\x011\\x12\\x9b\\x1a\\xad\\xc6\\xe9I0O^\\x10\\x81\\xd3\\x1d\\xbf\\xa2\\rt\\xec\\x0b\\x87\\xbf(L\\x82xH\\x00g\\xa0@\\x13\\xf3\\x00\\xe6\\xfdR$ZH\\xfa\\x1d\\x906\\xd8H=J\"[\\xed\\xd9\\x00\\xd2#k\\x81\\xd5!pJ@\\x83$\\xc4o\\xec\\x91#\\xa2\\x014z\\xa6\\x08N\\x98$\\xc8p\\x08\\t-\\x89\\xe7d\\xe6SuG\\x86\\xb1\\xbe\\xa7 \\x1dF\\x83\\xf1\\x15E6\\t&\\xf7\\xd9t\\x99vX\\xcc;d\\x90_\\x17q\\t\\x99V\\x08a\\xe9\\xdcK\\x8e\\xe4\\xadV07N\\xfd\\x15\\xba[4QT>\\x8d2\\xe9;)4\\xcb\\x08\\xdf\\x98\\xe5-$4q\\xfd\\x14\\x8d\\x10I\\xb0o\\x12\\x15\\x1b\\xb3d\\xbd\\x8c\"\\xdbH\\x1d\\x10\\xd2A\\xbd\\xc9\\xddH\\x0e\\xcd\\x1b\\x1d\\xaf\\xba/\\x92\\xe8\\x11\\xab\\xa1U.B\\xedZ\\xa4\\xf3\\xb1Z\\x18)-#\\xa8\\x06\\xff\\x00\\x9a\\xa4\\x05\\xdb$t\\x12\\xae`\\xb7l\\xec&\\x13`\\xbc\\x03\\x84\\xba\\x0coe\\x9f\\x9b6\\x9e\\'\\x0c\\xf6U`\\xa8\\x08\\xb4\\xef\\xf4<-:4\\xc1\\x99\\x8e\\xf2\\xa8\\xe6\\x98a\\xe4\\xb8\\xc4\\x98\\x80\\n\\xbcvV]\\x1f?\\xfcM\\xa3S,sq9vx\\xec\\x9f\\x1a\\xddM\\xa6\\xcck\\xe6\\x8e!\\xc4|\\x92\\xe0G\\x1f/3\\xc6\\xeb\\xe5\\x7f\\x1a~\\xd1\\xd9\\xfe[V\\xbeW\\x9f\\xe4\\xb8ln\\x16\\x83\\xc3N/\\x0e\\xea\\x8ee=\\xac\\x01\\x04\\xb4\\x0b\\x98\\x97\\x0167_d\\xfcJ\\xc9hf\\xf8\\x1a\\x98lC\\xaa5\\x8e3f\\xeb\\x00\\xf1e\\xf0G\\xc7/\\x845\\xb2L\\xd1\\xd8\\x9c%aL\\x81\\xa1\\x9eK\\xdd\\xaa8\\xb1\\xf6\\x88\\x12 \\r\\x97>f\\xe2\\xf4R\\tMY\\xe1?\\x13<H\\xff\\x00\\x10g\\x15+R\\xc4\\xd38z\\x84\\x96\\xb2\\x9b\\xb5\\xb7y\\x82t\\xb7c6\"B\\xe0_J\\x9f\\x98K\\xdb\\xa29q\\x80\\xba\\xfc\\xf7)\\xae+8\\xe2Z\\xe7>t\\x1a\\xad\\xa2=]&\"\\xfe\\xe2lV;\\xb2\\x8a\\xb8w7SO\\x94\\xee\\x18\\xf9i\\xecC\\xb6X\\x87\\xa7\\xd1\\x8f\\xf8\\x86\\xb1\\xc0\\xb6\\x1d\\xd3P\\xfe\\x89\\xf4h\\xbe\\xb5P\\xea\\x92A\\xdc\\x9d\\x87\\xf7[\\r\\xc9\\xa9\\xb8\\x9d\\x07\\xcbq&i\\x96\\x82\\xf1\\xdcuZ\\x14\\xb2\\x8a\\xfaE6\\xe1|\\x87;\\xf8\\xaa\\xdd\\xd1\\xfd\\x02\\xb2*\\xd9_\\x05\\x86\\xf3\\x83XX\\xe3L]\\xf6\\x80zOn\\xca\\\\\\xee\\xa30\\x94\\x05#\\x1euA\\xad\\xe7\\x86\\x8d\\x80\\xf7Z\\xf5\\x1dC+\\xc22\\xa5g\\x87h2\\xda`\\xc9\\xaa\\xf8\\xb4\\xff\\x00\\x96\\\\^3\\x10\\xfcf*\\xab\\xaa\\x19q%\\xf5 \\xf6\\xb0\\xfa+\\xfa0\\xe3n\\xc815\\x1c\\xf6\\xd0n\\x93\\xe9l\\x90z\\xdc\\xa6k\\xd7@2.\\x1b&\\xc9\\xb5\\x1c^\\xf7\\\\\\x18\\x02\\xff\\x00D\\xea#Q1\\xed\\xddT\\xdb\\xa2\\x86\\x92_+\\xb1\\xf0?\\x883\\x7f\\x07fl\\xc7\\xe4\\xf8\\xba\\xb8L@\\xdd\\xcc2\\xd7\\xb7\\xa3\\x9b\\xb3\\x87b\\xb9\\x9a8sW\\x15M\\x9bj+\\xd2r\\xbf\\r\\xb9\\xd4\\x1bP4\\x98;\\x01\\xd9qg\\x94b\\xa9\\x9e\\xaf\\x89\\x8eY%q\\xf4{\\xc7\\x83?i\\xd3V\\x956\\xe7yc\\xe9\\xd5\\x815\\xf0^\\xa6\\xbb\\xbe\\x93q\\xf7+\\xd52\\xdf\\x8fy\\x06*\\x9bO\\xe3\\xcb\\x1d\\xd2\\xa5\\'\\xb4\\xfe\\x8b\\xe5\\xac\\xb3\\xc3D8\\x16\\x02&\\xe5\\xa7b\\xba\\xec\\xb7\",{@\\x16?\\xc3\\xdd|\\xdeH\\xc2\\xf4}\\x96\\x1f\\x91\\xa4\\xa4}\\x0e>6\\xe5\\x0eh\\xf2q/\\xacc\\xf8)\\xb8\\x9f\\xe8\\xaa\\xe2\\xfe-\\xd4\\xc5\\xb7F\\x1f\\x0e\\xe2\\x1cl\\xea\\x86\\x17\\x96e\\x994=\\xa4\\xb3I\\xde\\xd7\\x95\\xd4\\xe02\\xa7\\x08\\x01\\xa3\\xbd\\x97\\x1c\\xa9tz\\x10\\x82\\xed\\xa3f\\xb7\\x883<\\xd0iuaL\\x11qN\\xd3\\xf5V\\xf2\\xac\\xac\\xbc\\x82f\\xf7\\'\\xbav]\\x95\\xebh\\x96\\x81\\xee\\xba\\x8c\\x06^\\xe1\\xa6Z;\\xaeg&\\xcd\\xdd%H9v\\r\\x8c-\\x86\\xcf$-\\x9a4\\x89p$ZvO\\xc2\\xe0\\xbc\\xad&@=\\x87+N\\x96\\t\\xb2$\\xc3\\x85\\xc8\\x95+g4\\xe4\\x8a\\xf4h\\x92\\xd2\\x03H\\x83r\\xe2\\xab\\xe3\\xa89\\xac\\xd4\\t\\xd5\"x\\x11;-\\xb7S\\x14\\xd8\\x06\\xdd\\x82\\xce\\xc7\\x07=\\x85\\xa6\\xd6\\xd8\\xee\\xa4\\xce/\\xd9\\xe6\\xbe%\\xc3\\x90\\xd7\\xb1\\xcd\\x81&A\\xde\"\\xeb\\xc4~&\\xe5Z\\xb0\\xf4\\xea\\xe9%\\xa0\\xc3\\xbd\\x88\\xb7\\xe7\\x0b\\xe8/\\x11a\\xddY\\x87W\\xa5\\xe0\\xcc\\xaf/\\xf1.\\x00bi\\xd5\\xa2\\xf6kak\\x81\\xeb\\xfeX\\xae\\xbf\\x1f\\'\\x19&W.>ph\\xf9\\x971\\xcb\\x05\\x1f1\\x8d\\x1a\\x04\\x82Z\\xe3\\x01\\xae\\xf7\\xff\\x007\\\\~e\\x86}:\\xd1\\xe9-\\xe3S\\x85\\xfe\\xc5z\\xa7\\x89\\xb2\\xb7\\xe5\\xf8\\xca\\xb4*\\xb0\\xfa\\xc1\\x04\\xec*7\\xfb\\xc4}B\\xf3O\\x10\\xe0\\x0e\\x16\\xb9>\\xa3L\\x90\\x03\\x86\\xe2\\xcb\\xe9\\xf0O\\x92>3\\xca\\xc4\\xe3h\\xcb\\x0cmF\\x96;\\xd5\\x02Oc\\xfe\\xea\\x17a\\xde\\xf7h\\xf9:+L\\x90@/\\x04\\x81\\x1a\\x80\\xe1X\\x14Ef\\x8d\\x05\\xa4\\x91\\xf2\\x9b\\x02w\\x9e\\xdfU\\xdc\\x8f%\\xab\\xe8\\xcd\\xa1\\xe6PyeF\\x90\\x05\\x8c\\x89\\xf6V\\xf1\\x06\\x9b\\xd8\\x1c\\xd24\\x13\\xbcF\\x93\\xb1\\x05\\\\\\xa4\\xe2\\xc6\\xe8\\xafO\\xcc\\xe04\\x99p\\x92?\\xcf`\\x8d&S\\xa5\\xa84S:\\xf7\\xa7Q\\xd1\\xe9\\x9d\\xcf\\x01I^-\\x99\\xd4\\xf0\\xee-k\\x9c\\xc6\\x82,^\\x1db\\xad\\xe1)W\\xab\\x8a\\xa2)\\xb4\\xb9\\xd3jt\\x8e\\xf3\\xc1\\xe0J\\xec\\xbc\\x19\\xf0\\xbf0\\xf1\\xbe;\\xf0\\xd9s\\xa9\\x17\\x19pm\\xc0>\\xe6 t\\xba\\xfa{\\xe1\\xd7\\xecc\\xf8\\xea\\x18z\\xf9\\xe5lN]\\x89\\xa7gS\\xa4\\xd2I\\x87\\x19&L\\x10Q;\\xe8q\\xae\\xce#\\xe0\\x7f\\xc0\\xcc\\xd1\\xf9\\xcd,Fe\\x95\\xe5\\xd5r\\xf2\\xd18Z\\xf8\\x96\\n\\xa2I\\x10d\\xcb\\x0e\\xf3\\xcf\\xf4\\xfb/*\\xf89\\xe0\\xca4\\xb0\\xf8\\x8a^\\x1d\\xcb\\xb0\\xd5\\xa9D;\\x08\\xd8#\\x93\\x04w\\xe5Z\\xf0_\\xc3\\x8c\\xb7\\xc1\\x94\\x1b\\x87\\xc3\\xb5\\xd545\\xac\\x15*K\\x0e\\x9d\\xb6\\xf7\\xbf\\xd4\\xae\\xe6\\x9d6\\xec\\xd6i\\x8eat\\xe3\\xc5\\xeeE\\'\\x91=D\\xab\\x81\\xc9\\xe9e\\xf4\\x9bO\\x0e\\xfa\\x8c\\xa46f\\xadB\\xfe\\xebE\\xb60\\t$o(S\\x86\\x88\\x98\\x1cJpv\\xa2f\\x00\\xef\\xd5o\\x18\\xd1\\x88\\xf0\\xdfHN\\xb4\\xf7\\x84\\xc6\\xdc\\x881\\xc2xm\\x8cn\\xae\\x01\\xa7TM\\x8f)5\\xa3\\xac^`\\xef(\\xed1 vI\\x8e\\x11$\\xf3~\\xa1\\x00L\\xd8l\\x87\\xcb\\xbc]\\x12\\x0c\\xd8D\\xf2\\x12q\\xb6\\xe5\\x00\\x81\\x978\\x06\\xdb\\xdd\\x19\\x06\\xd0\\t@\\x08\\xe3\\xecQ\\x91x\\xfa \\x14\\xda\\xe0BDm$\\x8bZR\\xday\\xe7t\\x81\\x17\\xdcZ\\xd6B\\xc9\\xd6\\xc5\"lJH\\x9b\\xc4\\x9b$\\x84Y\\x8eH\\x1e\\xe6\\xe8\\xc4\\xf6BI\\xbaA\\xd0\\x01Y\\x07\\x1f\\xa0\\x0b\\xba!\\x19\\xd8\\x92\\x89\\x80$u\\x94\\xa4\\x07~\\xa5\\x08\\x01\\xf5\\x12b\\xe9\\x08l\\x8e\\x9d\\x12p\\xb5\\xf9@@\\x04\\xc7d\\x0ct\\x9d\\x85\\x8aw\\x1dz\\xc1Q\\xcc\\xdd\\xd6\\x1cB~\\xa3\\xb4!\\x01\\xdbI\\x91~\\xa9\\xc6\"\\xc9\\x9a\\xa0\\xed\\xc2v\\xed\\x02x\\xba\\x12\\x03&d\\xc8\\ts1\\xa9(\\xd27\\xdc&\\xb4\\xc6\\xfbv@-\\xa2\\xc0Y/\\xe1\\x99\\xdc\\xa7;H\\xf7\\x84\\xd0\"\\'\\xe8\\x02\\x00\\xe9$\\x89\\xd8\\xdd \\xe1a\\x11<\\xa4d\\x92\\x0c\\x81\\xfa\\xa1b@\\xe8\\x10\\x04N\\xa0y\\x1c-\\x8c\\xa3\\x08\\t5\\x1e\\x01q\\xb0\\x1d\\x16f\\x16\\x90}`\\xdf\\xa9+\\xa3\\xc23K@\\xf9\\xbb\\x10\\xaf\\x12We\\xda`\\x06\\x8b\\x13\\n\\xdb\\x1b\\x02\\xe7\\x89\\x07\\xaaf\\x19\\x80\\xb3P6\\x9d\\xd3\\x9c&\\xe6F\\xe7u\\x12w\\xa3\\xa6?D\\xad\\x12 q\\xb0*Q\\xff\\x00\\t\\xb0`\\x15\\x1d\\x07\\x07?\\x98\\x1f\\xe5\\x94\\xb4\\xe9h\\xc2\\xd1\"n\\xd9\\x9f\\xba\\xc8\\xd5vF\\xe1.$D\\xf2\\x12\\x12\\xd7\\x10\\xdb\\xc7d\\xe3c\\xc6\\xc9\\xa5\\xdd@\\x89\\xe1\\r\\xbd\\x0e\\x04\\x00 \\x89\\x16\\x16\\xd9Y\\xc1\\x92^\\xd2\\r\\xc9\\xd8\\xaa\\xad\\x9bCH\\x9e\\xfb+\\x188\\xf3\\x00\\x1dE\\x8f\\xba\\x18\\x1a\\xb8v\\x92\\x08tG(\\xe2hy\\xb4\\xde\"mb8F\\x80\\xd3R#~\\xcbD4\\x16\\x91\\xa4t\\x99Qi\\x17Q\\xb4yo\\x8a\\xf2W<\\xed\\xb9\\x99\\x85\\xe3\\x7f\\x12\\xfc\\x0f\\x88\\xccr\\xda\\xda(~%\\xc0\\x18c\\xed\\xf6_M\\xe6\\xd9sk\\x83c1\\xb4,,w\\x87\\xdbV\\x8b\\x87\\x94L\\xd8\\xad\\xaa3T\\xceG\\x19FV\\x8f\\xcc\\xff\\x00\\x18\\xfc4\\xf1\\x05,UZ\\x98o\\r\\xd3!\\x93\\xea8\\x81\\'\\xdc\\x11\\x7f\\xaa\\xf2\\xfc\\xdf*\\xa9\\x86\\xaa\\xfau\\xb0X\\x8c\\xb6\\xab\\x0f\\xaa\\x9b\\xf0\\xfa\\x9a\\xee\\xbe\\xa6\\xaf\\xd4\\xac\\xc3\\xc1\\x18z\\x8f{]A\\xa4:\\xdf(\\\\\\xb6o\\xf0_,\\xcd\\x998\\x8c-:\\x8d\\x00\\x80\\xc0\\xcb}y+\\x9a^;OF\\x9f5\\xf6~^f4\\xf08jnk\\xb1\\xf4@&\\xc1\\xb4\\\\Dr\\r\\x87\\xea\\xb0\\xf1\\xb9\\xe5\\x1c(\\x1a@\\xae\\xe6\\xfc\\xa6\\xbd1N\\x94\\x8f\\xf9[:\\xbf\\xee+\\xef/\\x89?\\xb2\\xa7\\x87\\xf1x\\x87\\xd5\\xa3\\x84\\xabA\\xc1\\xbf-\\x01\\rq\\xdfk\\xfd\\xec\\xbe8\\xf1\\xff\\x00\\xc1\\xfco\\x85<O\\x9a`F\\x1a\\x9bi\\xd0\\xacZ\\xdfQ2\\xd8\\x04\\\\\\xc0;\\xace\\xfe\\x9f\\xf2/\\x18K7\\xf1<\\xaf1\\xcc\\xea\\xe3*:\\xa5J\\xaf\\xabY\\xfe\\x9dQ\\xa4\\x01\\xd1\\xa3\\xf8B\\xa2\\xe6\\xba\\x9d-!\\xa1\\xa5\\xc6 \\xf09[y\\xbe\\x02\\xa6\\x06\\xae\\x87\\xb5\\x8ctC\\x8b\\x01iXUi8\\x99t\\xc1\\xb0\\x8e\\x8a\\x14\\x93\\xd9\\x9b\\x8b\\x8b\\xa6DA\\x04\\x91$\\x93\\x1dl\\xad\\x02\\xdaT\\x87&.\\n\\x14h<z\\xcbHi0\\x07*\\xd6\\x1f/\\xaf\\x98\\xe2i\\xe1\\xe8\\xd3uC>\\xa8\\x13\\xdd\\x1c\\x92\\xd9<\\x1c\\xb4\\xbd\\x9b>\\x16\\xf0\\xedL\\xc5\\xf41Na-/\\x98\\x8d\\xc7\\xf8?5\\xed~\\x15\\xc8\\xf5e\\x94\\x98\\x1b/\\xa6M#~A\\x8f\\xec\\xaf\\xe4>\\x03vKK\\x03\\x85}2\\x0b)\\x00Lu`2=\\xc3\\x81]\\x9eK\\x91\\x9a5\\xaa8\\x08\\xa6\\xe0\\x1dq\\xdbu\\xf2\\xfeg\\x97\\xcd\\xba\\xf4}\\xdf\\xe3\\xbc\\x1f\\x8a)\\xfd\\x998O\\x0f\\xb6\\x93\\x01\\x0c\\xdf{\\xcd\\xd6\\xd6\\x0f\\'\\x12\\xd0F\\xe6\\x16\\xfd\\x0c\\xb5\\x8d-\\x04\\x12\\xcb\\x1e\\xb0\\x16\\x85\\x0c\\x00k\\xc1\\xb8\\x8f\\xe1\\x8d\\x97\\x8d,\\xd7\\xa3\\xe8V8\\xa2\\x9e_\\x94\\xb7Sd\\xdfa\\x1c\\xae\\x8f\\x0b\\x97\\xba\\x9c8\\xd8tO\\xc1\\xe1\\xb46t\\xd8-\\xfc>\\x1a\\x9d6\\x82d\\xcf\\x06\\xea\\x9c\\x83U\\xd1\\x0e\\x13\\x0c\\xd3x\\x80z\\xf2\\xb7\\xf0\\xb8`\\xd0\\x0c\\x12cu\\x05\\x0c \\x0en\\x9d\\xf7Z\\xb8\\\\3t\\x89 \\x9d\\xee\\xa2\\xcc\\'%D\\xb8zn|\\x12\\xcb\\x93`D-J\\x18v\\xc1s\\xc8q\\x02\\x00\\x90!E\\x87n\\x86\\xea\\x02\\x0f\\'\\xfd\\xd5\\xe6\\x06\\x00L\\xea\\xb6\\xc5^=\\x9c\\x92z\"\\xac$0\\x86\\x91\"o\\xc2\\xc8\\xc7\\xd8\\x1e\\xa7\\xa0\\x81\\xee\\xb7+9\\xa4\\x8e\\xa0nVN-\\xac%\\xf3;\\xc8\\x04\\xddVB?g\\x1b\\x9ea\\x05b\\x03}O\\x12:\\x1f\\xfc/;\\xcd0\\x8eh|\\x8dn?\\xc47\\xede\\xea\\x99\\x95-lsA\\x8dV\\x928\\\\\\x8e;/h}GzO\\xb6\\xca\\xd1\\x953u\\xd1\\xe2~*\\xf0\\xf5,\\xc6\\x83\\x99]\\x9b\\xdaya\\xea\\x17\\x88\\xf8\\xaf\"\\xaf\\x81.\\xa3\\x88\\x12I\\xf4\\xd5\\x11\\xea\\xef\\x7f\\xd1}c\\x9ae\\xa2\\xb6\\xa6\\xd8\\x9fe\\xe6\\xbe7\\xf0x\\xc6\\xe1`R\\x0fm7jo\\xd6\\xcb\\xd8\\xf1\\xbc\\x8e\\rY\\xe5\\xf9~/\\xcb\\x17]\\x9f0\\x16\\nO\\xd2\\xe7I\\xe04\\x9b\\x156\\x1f\\x16G\\xa45\\xcce\\xc1.\\xf5\\x11+\\xaa\\xf1\\x17\\x84\\x1f\\x86s+:\\x9b\\x8d:\\x82$qx\\xfdW9[+\\xc4P\\xa6\\xc72\\x9e\\x92\\xe3\\x10\\x01\\xb8\\xe3\\xfc\\xee\\xbe\\x929#5i\\x9f\\x19\\x97\\x0c\\xb1:h\\xb0\\xd6S$S\\xadaP\\xfc\\xc0\\xdb\\xf2\\xd8\\xafD\\xf8\\x7f\\xf0K\\x13\\xe3\\x11N\\xae\\x05\\xe6\\xa57\\x03-t84\\r\\xc9\\xd3\\xc0\\x11x\"W\\x1f\\xe1\\x0c\\xad\\xdf\\x8bc\\xb4\\xba\\x9c\\xb8\\x16\\x877P7\\xb8#\\xa2\\xfbg\\xe0W\\x862<\\xe4Q4\\xa3\\'\\xce\\xa9z\\xdb\\xf8a\\xe5\\xeb\\xea[\\x1d\\xf8R\\xb2G\\x97\\x1b#\\xe1\\x97\\x0f\\x92\\xb4w\\xbf\\x07~\\x05\\xe5\\x9e\\x11\\xcbh\\x80G\\xef\\x18\\xd7:\\x95:\\xb2\\xc0\\xe8\\xbc\\x0e\\xff\\x00E\\xed\\x8d\\xc2\\x8am\\ra\\xd2\\xd0\"%W\\xcb\\xf0\\x0e\\xa5\\x83k*\\xbf\\xcfp\\x10MF\\x89\\x07\\xdc+\\xf1\\x00\\x05\\xe8\\xc2\\t*<\\xd9\\xc9\\xc9\\x90\\xb9\\xa1\\xd4\\xc8 \\x81\\xb5\\xd4\\xad:\\xa7v\\xbb\\x91\\xd0\\xa7\\x01\"\\x08\\xdd\\x105\\x191m\\x96\\xc9QD\\x02,#\\x8b}\\x13\\xc0?X\\xdeR\\xd2&\\xe6\\xe5\\x06\\x8dM\\xb8;\\x90\\xa4\\xb0\\xf8\\x13$\\xfd\\x02.\\x12w\\x89\\xe7\\xb2\\r\\x92`\\t\\xb2\\'\\xd46@\\x12=D\\x0b\\r\\xac\\x90\\r\\xde#\\x8d\\xd0\\x9e\\x81\\x11&be\\x00t\\xc8\\xb91\\xd7d\\x85\\xe4\\x93\\xd9\\x11pLiBlHl\\xdd\\x00d\\x1e\\xf0\\x95\\x8d\\xc4\\xef\\xf4H\\t\\xde\\xde\\xc8\\xc1\\xe0\\xa0\\x08\\x88\\xbe\\xc8H$AH|\\xc5\"\\t\\'\\xa8R\\x04\\xe8\\x06d\\xccp\\x92@\\x99\\x9f\\xc9%N \\xc63\\xc4\\x14\\x83\\xc3\\x80\\t\\x11\\x17\\xfd\\x12\\x06H\\x89\\x8e\\x8a\\x86\\xaf\\xa0\\x90}\\xfb\\x14\\x8f\\xdb\\xd9\\t\\x933~\\xe8\\xba\\\\z!\\x8at\\xc5:\\x8fXH\\x88\\xdd\\t\\xbfn\\xa16\\xe1\\x05\\xd8\\xf1k\\xc5\\x8e\\xe9\\x00x2SZI\\xe4\\xf4R\\x03px\\xea\\x82\\xc4$\\x910O(\\x82A\\x83\\xb7\\t\\x96$\\xba\\xf2\\x9c\\xed\\xe6m\\xdd\\x05\\x80\\xc8\\xb7!! \\xde\\'\\x84\\x0e\\xdb\\xc9\\x84E\\xe0u\\x99\\x84!\\xb1\\r\\xb9\\xb2F\\xc6\\xff\\x00\\x92Ry\\xdc\\xa6\\xf0\\n\\x01\\xe0\\x86\\xecD#1y\\x04\\xf5\\t\\xad7!\\x16\\x8dnkF\\xfc 4r\\xcaZ\\x9c\\x1d\\x06\\xf7\\x0bz\\x84\\x88h>\\xfdVv\\x01\\x9aCv\\x8d\\xe5i\\xd1h\\x04\\x18\\xbe\\xff\\x00E\\xafF\\xb1-\\xe5\\x8e\\xd5\\x83p7\\x8a\\x8f\\x1e\\xd0T\\x8e\\x107\\x98C#\\x1en\\x1b\\x1e\\xc8\\x82\\xca\\xda\\xa3\\xb1h\\xfe\\xc9\\xce&\\x0cm\\xc8Y\\xb3\\xa5\\x0f\\xa5r\\x0e\\xd7\\xda\\x15\\xf74\\x7f\\xa6a\\x9cH\\x1e\\x9d6Y\\xcd-\\x1b\\x8b\\xdaI+W\\x0fLU\\xca)\\xb6\\xd3\\xa5\\xa4,\\xcd\\x11\\x9fPD\\x829\\xb0\\x94\\x04Z\\xf1\\x11~\\xc8\\xbcI$\\xa6\\xc9\\x04\\x1b\\x0fnP\\xbbtH\\xd2_k4\\x1b\\xc2\\xb3\\x85\\x1f\\xbf \\xd8H?\\x9a\\xa9L8\\x937\\x85s\\n\\xdf\\xdf\\xb2`Ij\\x19Q\\xafJ\\xce\\x1c\\xdd_cA\\x17\\xd8\\x85B\\x80\\xfd\\xe3\\x7f\\x84\\x8eV\\x83 \\xb6\\xfbuY\\xcb\\xb3X\\xf4S\\xc53UH\\xb5\\xc2\\x89\\xf4\\xc5F\\xc4\\x01<\\xf4V\\xab\\xb4\\xeb&\\xc4\\x19P\\x86\\x97\\t\\x06?Et\\xf4C[1\\xb1\\x19~\\xb7\\x93\\x10G\\xdd0\\xe5\\xcc\\xf2\\xe0\\x0b\\x8d\\xba\\x05\\xa3U\\x9f\\xbc\\'{uR\\x06\\x8f(\\xb7H;+\\xde\\x8c\\xb8#\\x89\\xcd2v\\xb8\\x90\\xd7\\xf9fo\\xa5\\xa0\\x93\\xf7_\\x06~\\xd6\\x94\\xb1\\x9e\\x1b\\xf1f>\\xab\\xf0\\xc1\\xf5q\\x1a\\x1c\\xdd\\x1aN\\xa1\\xa4\\\\\\x82-\\xfeB\\xfd\\x13\\xc6S\\x0e\\xa8L\\x03\\xd9x\\xbf\\xc5O\\x86yo\\x8c\\xb3\\x8a\\x8e\\xc6\\xd3\\x0e\\x01\\x8d\\x16\\xdfe\\xc1\\xe7\\xb6\\xb1)\\x1d\\xff\\x00\\x8fJ9d\\x9b\\xf4~Jf\\x98\\x0c\\xe34\\xc49\\xe7\\x0c\\xda,3\\x02\\xa3d\\x8f\\xbe\\xebS\\xc1\\xdf\\x0b\\xf1~#\\xae+T\\xa4\\xe7\\xd3\\x9d 5\\xb1\\'\\xf4\\x01}\\xd9\\xe2\\x7f\\xd9\\xa3(\\xaci\\xb7\\tK\\xc9\\xa1\\xaa^\\xf2\\x01tt\\x9d\\xee\\xa1\\xc0\\xfc\\'\\xa5\\x94\\xb3\\xf7TM:M\\x10\\xc1\\xa6$}6\\xf6^\\x06O:Q\\\\R=\\xfc\\x7f\\x8d\\xc19s\\x94\\xac\\xf9Z\\xa7\\xc0,MZOu\\x06\\x83U\\x86\\x1a\\xc9\\x96\\x89\\xd8\\xcf?\\xec\\xbd/\\xe1\\xa7\\xec\\xff\\x00\\x86\\xf0\\xcb\\x0b\\xeb4bk\\xba\\x90s\\x9c\\xe6\\xff\\x00\\x14\\x9f\\xf3\\xe8\\xbd\\xbe\\x96F0\\xaek|\\xb6\\xc3w\\x8d\\xd6\\x96\\x16\\x93h\\x81 \\xc1\\xb9\\x9b/#/\\x9d\\x96K\\x8bg\\xad\\x0f\\x0b\\x0e9r\\x8cN\\x02\\x9f\\x87\\x9a2\\xca%\\xccs\\xea\\xe1\\xc7\\xe1\\xdc\\xf7\\x08\\xbbb\\x04t\\x00\\x8b\\xf3\\xda\\xe9\\x98l\\xa8\\xd3k\\x00g\\xf0\\x89\\x9el\\xbb\\xa7`Zs\\x1cE\\x1f\\xe0\\xc4R5X8\\xd6\\xc1\\x7f\\xff\\x00\\x89?d\\xd3\\x93\\x97\\xbc\\x90\\x03[\\x16\\x10\\xb8\\xf2\\xbb\\xda\\xf6wc|W\\x17\\xe8\\xe4\\xff\\x00\\x02\\x1b\\xea\\xd1\\xa5\\xbb\\xc8\\xba\\xb3O\\r1a\\x03\\x95\\xba\\xfc\\xa8\\x83\\xa82\\xdbG!/\\xc0\\xba\\x94\\x072z\\xf7\\xf6X3\\xa5I\\x19\\xb8v\\xb9\\xc4\\x00\\x02\\xd5\\xc39\\xa4\\x06\\x9b\\x0e\\x89P\\xc0\\x97\\x99h\\x01\\xdc\\x82\\xac\\xd3\\xc2\\xec\\x08\\x85\\x01\\xb4KJ\\xab\\xa04\\x13\\x03q\\x0bC\\x0fQ\\xc0\\x82L\\xc6\\xe4\\xaa,\\xa4\\xf6qpU\\xda\\x0e\\x92\\x00n\\x95)\\x98\\xcc\\xd4\\xa1P<N\\xf1\\xb9=U\\xbau\\x1c\\x1a.Z\\xd5\\x9bE\\xcea\\xdc\\x80I\\xba\\xbdGU\\xe5\\xbaGU\\xacY\\xc95\\xec\\x95\\xe1\\xaed\\xb8\\x9d\\xad\\xddgb}$\\x88\\x9e\\x04\\x8b\\xab\\x95\\xaa\\xb4S->\\xa2\\x15M\\x12\\xff\\x00Q.q\\xd8\\x93\\xb7e%Rf}|1h\\xeey\\x0b\\x9f\\xc7\\xe0\\xe1\\xf3\\x127\\xfa\\xae\\xb9\\xf8c\\xc5\\x8f\\xfc\\xab7\\x17\\x83\\x00\\x12\\xeag{\\r\\xd4\\xa5\\xec\\x9eU\\xd1\\xc4T\\xca\\xfc\\xea\\xd0w\\xe4\\x85W\\x1b\\xe1\\x9f?\\rQ\\xaeh\\x97\\x83 \\x0b\\x00\\xbb\\xbaX\\x19\\x99h\\xfd%Z\\xff\\x00H\\x15)\\xc3Z\\x03cc\\xba\\xd67\\xe89\\xafg\\xcd^&\\xf8r\\xecF\\x1e\\xb5&\\xd1.:\\xfd-\\xeb\\xd4\\x8f\\xd5`\\xbb\\xe1KM0_\\x87mP\\xd1\\x1e\\x90D\\x8d\\xa7\\xacE\\xfa\\xaf\\xa9\\xabxZ\\x9dBj\\xb9\\x80\\xeb0\\xd06\\x8d\\xb5}\\xe4}Qg\\x82\\xe9\\xd4\\x1f\\xf0\\xc3`\\xce\\xd2\\n\\xeeYe\\x05H\\xe2\\x94q\\xceV\\xd1\\xf3\\x86M\\xf0\\x7fK\\x98j\\xb3\\xcc\\x0e0\\x1c\\xd1\\x0eoE\\xeb^\\x1d\\xf0el\\x99\\x94\\xddJ\\xa3\\x8b\\xe9\\x90YQ\\xbe\\x97\\x026^\\x93\\x97\\xf8J\\x95\\na\\x82\\x9c\\xb3\\xa1\\x13\\x1d\\x82\\xd9\\xa5\\x90\\xb1\\xb4\\xf4\\x86\\x91\\x02\\xc0\\xf3\\xee\\xb2\\x96\\\\\\xb2v\\x1f\\xc6\\x97\\x1a.\\xf8/\\xc6\\xee\\xc6\\xb5\\x99~hE<^\\xcc\\xaf\\x10\\xda\\xbe\\xfd\\n\\xed]\\x10:u^c\\x8e\\xc8\\xe2\\x00o\\x163pV\\xff\\x00\\x86\\xfcRp\\xe1\\xb8<\\xca\\xaf\\xca=\\x15\\xdd\\xc8\\x1c;\\xfb\\xaf\\xa5\\xfc\\x7f\\xe49V,\\xdd\\xfd\\x9f-\\xe7x\\n)\\xe4\\xc3\\xd7\\xd1\\xd7\\xc1\\x1b\\xfc\\xa8\\x90A\\xf7S\\xb3\\x05V\\xbd1Q\\xad\\x96\\xb8jm\\xf7\\x1b\\xca\\x88\\x887\\x1aJ\\xfaC\\xe7\\xea\\x81\\x11\\x03s\\xd1&\\x98q\\xbc[\\x9eQ\\xbc\\xf7\\xee\\x84K\\x81\\xe3d\\x03\\x81\\x0e\\x06\\xc2\\xdd\\x13\\x88\\x81\\xd0&6I\\x8f\\xe1\\xdf\\xdd\\x1d\\x9a:t@(\\x81<\\xa7\\x88\\xd2\\t\\xb9Ch\\x06\\xfd\\xd1\\x812dO(\\x00\\x06\\xafp\\x12\\xfe\\x19\\xe5\\x1d\\xa3\\xa0HzL\\xc4\\xce\\xe8\\x05\\xb0$\\xd9 m\\x7f\\xba\"I\\xb7\\tH \\xef\\xbe\\xe5\\x00gP\\x8b{ \\x05\\xe4\\xec,\\x93`\\x1b\\x14L\\x01c\\xba\\x16J\\xc1\\x01\\xa2\\x01\\xb0\\xbc\\xa4\\x88\\x17\\x83\\x04$\\x83\\x8b1\\xdd \\x08\\xd93k\\xc4\\'\\x1b\\xc1\\xdc }@\\x8e\\xab\"\\xd6\\xda\\x15\\x89&$\\x84\\x08\\x97I\\x9fd\\xe2}Q\\xbfd\\xd9\\xd2\\xd2F\\xe8d\\xd0A\\xf4\\xef\\x1f\\xd56b-p\\x90\\x80\\x0e\\xe7\\xb1H\\x10E\\xb6\\xea\\x84\\x0ei\\xf5Jyu\\xa0\\x81d\\xd0H\\x06~\\x87\\xa2_\\xc2/\\xf4Bh67\\x01\\x17\\x1b\\x7fT\\xd0`m\\xd9\\'\\x19\\xb7\\xea\\x85BIt\\x11p\\x90i\\xed~\\xa8\\r\\xafc\\xc8I\\xd2\\xe1\\x00@\\xdeP\\x04\\x012@\\x10\\x90\\x80\\xd1\\xea\\x946m\\xfa\\xc2F\\xd2y@\\x12@\\x02/\\xd5M\\x83g\\x99\\x88\\xd5\\xd2\\xca\\x01\\x1b\\x9e.\\xaee\\x94\\xc9f\\xbeI\\x9b)]\\x92\\x8d\\xbc3= M\\x8a\\xba\\x0c5W\\xa1H5\\xad\\x81~\\x8a\\xccI\\xecU\\xe4tG\\xec\\xb9\\x91836\\xc4Rq\\x86\\xd7\\xa4\\x1c\\'\\x92\\x0c\\x7fUb\\xb53I\\xe4lA\\x8d\\xd5\\x0c;\\xcd\\x0c\\xcf\\x03T\\x98\\x1a\\xcd\\'\\x7f\\xdc\\x0c~al\\xe6\\xb4\\xa1\\xed|\\xfc\\xc0O7Y3e\\xd1KL6\\xe7\\xddle\\x85\\xaf\\xcb\\xe87\\x93L\\x0f\\xc9d><\\x87\\x12/\\x04\\xdf\\x8b-l\\xa4\\x0f\\xc0P6\\x1f\\xbbo\\x1d\\x95K#:\\xb0pq\\x11\\xb5\\xd4m}\\xcd\\xa4l#\\xa2\\xb5\\x8ef\\x8a\\xdaI\\x81&UV\\xb4\\x97Z@\\xfd\\x10\\x96=\\xa4\\x86\\x93*\\xf6\\x1ci\\xabD\\xc5\\x8dF\\x88\\xfc\\xd5\\x12K\\x9am\\x00\\xd9]e\\xab\\xe1\\x1b\\xb9uN;4\\xa116)\\x02\\x1c\\xc90xW\\xb4\\x8d\"/i\\x81\\xd1T\\xa4!\\xedp\\x00\\xfd6W\\xba\\x1d\\x96r4D\\x0el\\xb8\\x9bD*\\xb4e\\xd2[\\xf4W\\x9c\\xd0]k\\x81\\xc2\\xa3K\\xe6\\x03\\xbe\\xcaQ\\x0c\\x8e\\xb3\\x0e\\xa1r?\\xed\\xdd-?\\xba62\\x7fE%i\\x15&m\\xdd\\n\\xc4h\\x00\\x18\\x01Z\\xfd\\x15f]f\\x96\\xbfa=\\x17\\x11\\xe2o\\xfeo\\x88\\x04\\x7f\\x0b\"=\\x97wZ\\\\\\xe3;\\xae\\x1f\\xc4\\xe23z\\xf16\\r\\xff\\x00\\xfeW\\'\\x9a\\xef\\x15\\x1d^*\\xff\\x00P\\xe7\\xea\\xe1\\xa9U\\x0ei\\xd8\\x8b\\x95\\x97\\x8b\\xcaE@\\xe0\\x1a\\x0f\\x11x\\x85\\xb2\\xd6\\x92\\xdd1m\\xe7\\xaay\\xa6Cu7r.\\x17\\xceN\\n]\\x9e\\xfa\\x93\\x8b\\xd1\\xe7\\x99\\xaf\\x87\\x1a.\\x19$\\x13\\xb2\\xc4\\xab\\x94>\\x9b\\xc0-1\\xd0\\xafT\\xc5\\xe1\\x03\\xb8\\x00\\x0b\\x1bO\\xb2\\xcb\\xc4\\xe4\\xe1\\xed\\xd4\\x00p\\xeb\\x11u\\xe5e\\xf1~\\x8fO\\x17\\x95J\\x99\\xe6\\xb5p\\x95h\\nU\\xa9\\xb4\\x9a\\x98w\\x8a\\x8d\\x1f\\xcc\\x06\\xe3\\xea\\t\\x0bL1\\xac\\'H\\xd4\\xc9\\x96\\xc7-#\\x7f\\xb4.\\x9d\\xf9\\x1c\\xb5\\xc4\\x08<\\x05\\x9cr\\xda\\x98\\x7f\\xc2\\xd0}\\n\\x85\\xb5\\xb56\\x83\\x80\\x90\\xf1\\xa8\\xc0\\x04s!\\xc29\\xd2ce\\x94pNI\\xa8\\xfa5\\x97\\x91\\x0bRfKp\\xf4\\xdf\\x11\\x11\\xd0\\x0b\\xa9]\\x974\\xb68\\xff\\x00,\\xb6\\x1d\\x93\\x968\\x80\\xc2\\x08\\xdf\\x82\\x13\\xd9\\x81 \\xcb\\x84\\xed1\\xca\\xe5p\\x97\\xb3_\\x91=\\xa3\\r\\xb91t\\x10\\xdb\\x9f\\xb8O\\xa7\\x94\\x80\\xd3\\xa9\\x9e\\xddWIG\\x01P8\\x10e\\xbe\\xcav\\xe0Z\\x1aA\\x06f\\xf1eu\\x8e\\xcaK-3\\x91\\x19i\\x05\\xc0\\x83\\xf5E\\xb8\\x02\\xc9cg\\xe8\\xba\\xf7\\xe0\\xd8\\xe1\\xb0\\xbfP\\xaaV\\xc0\\xb1\\xa4\\x02 \\x9d\\xa1K\\xc5[!f\\xbd\\x1c\\xe5,1\\x10\\x04\\xabma\\x92\\x0cLJ\\xd2\\xa5\\x84kH\\x86\\x92\\xee\\x83\\xf4R?\\x0c\\x18\\xdb\\xb3\\x8d\\x95x\\xea\\xc9s\\xbd\\x18\\x95\\x19$\\xd8\\x8e\\xe3\\x84\\xeaxb\\xf6\\x9d\\xc4X\\x02\\xb4)`\\xcb\\xdf:}3`B\\xd1\\xa7\\x96h\\x8bA7\\x80\\xb4\\x8c%\"\\xb2\\xc8\\xa2\\x8c\\x96\\xe1\\x1d\\x00\\xb5\\xb6\"$\\x85C\\x15GK\\x9c\\xdd:\\\\L[e\\xd4W\\xc3\\x90%\\xb0\\xc8\\x9b\\x9d\\xd6{0luC\\xaa\\xf1x\\x01t\\xfcu\\xa3\\x97\\xe4\\xb3#\\x03\\x97\\x97\\xbb\\xccs\\x1c\\xe1\\xd7\\xaa\\xd0n\\x05\\xb5\\xacA\\x0c\\xfe\"\\xdd\\xc7e\\xa20\\xc0\\x96\\xc0\\xd2@\\xd8\\xd8\\x009V0XPI\"G s\\xf5\\xfa.\\x9cx\\xa9Y\\xcb<\\x8d\\xe8\\xa2\\xdc\\xb3] \\x1c\\xdb\\xc4@\\xd8\\x0e\\x9e\\xcazYh\\xf4\\x98\\x04\\x81\\x01j\\x9aMm\\x86\\xdc\\xa9)\\xd1\\x87\\x83\\xc0\\xd8-x[\\xb2\\x9c\\xa9QM\\x98&\\xfa}0E\\xac\\x14\\x8d\\xc0\\xc4\\xc7\\xf7\\x95\\xa6\\xdamw\\x04\\x8fxH\\xd3\\x1aI\\x10\\x1d\\xb4\\x15u\\x8c\\xa77tdW\\xc1j\\x92l:+\\x1e\\x15\\xf0\\x9b3l\\xdb\\xcf\\xabH>\\x85\\x080\\xe1g?\\x8f\\xb2\\xb9S\\x0e\\xea\\xcfm\\x162jT:[\\xee\\xbb\\xec\\x97(\\xa7\\x95\\xe0\\x9bE\\xa2\\xe2\\xeey\\xfe\\'\\x1d\\xd7\\xa1\\xe1x\\xaaY9\\xcf\\xa4py~G\\x18qO\\xb11\\x9f\\x85\\xa7\\xb04\\xc7\\xf0\\x91#\\xd9c\\xe3\\xb2\\xa1Z\\xa1{\\x08k\\xdc\\xe3\\xe9\\xe3\\xb4\\x15\\xd1T`p.\\xd8q}\\xd4^U3-\\x1c\\xdb\\xfd\\xd7\\xd5v|\\xe3Vq\\x95\\xf0\\xb5p\\xd5\\x0b*\\xb4\\xb1\\xdd\\xc6\\xea\\x1d^\\x93\\xc1\\xea\\xba\\xccn\\x1e\\x9e/\\x0c\\xeaN\\x17\\x17\\xa6\\xf3\\xc1\\xe9=\\x17-V\\x8b\\xe9\\xbd\\xccx!\\xe2\\xc4)\\xe9\\x19\\xc9P\\x03uI\\xdeQp\\x99\\x1cn\\x90\\x86\\x883\\xf6H\\xba\\xd3\\x12Q\\x15\\t\\x82E\\x88=!:\\xd1\\x02\\xe5\\x00Oa\\xf4@L@\\x8e\\xe8\\x05s\\x1aO\\xfb\\xa7_I\\x93=\\x92 H\\xea\\x81\\x10? \\x80A\\xb0#n\\xc8\\x82\\x01\\xec\\x95\\xe27=Ql\\x89;\\x94\\x03H\\x91\\xbc\\x19O\\xe7d\\x802N\\xfd\\xc2\\x0e\\xd4F\\xf7\\x17@6e\\xb1\\xd0l\\x92<\\xef\\xeee$$\\xc51\\xa6\\x08\\x91\\xd6R\\xf4\\x91aa\\xd7\\x94\\x88\\x04\\xf6H\\x99\\xda\\xc3\\x85\\x91\\t\\xb0\\x10o\\xb1\\xf6;$l\\xdb\\xf3`\\x93\\xbdD\\x19\\xfa M\\xc1\\x9bs(K\\x90t\\xf7\\xb7)\\x03{\\x99(\\x13&8DH71o\\xba\\x15\\x1c\\x0f\\xe5\\xdd\\x12I\\xdc[d&\\t<~\\x89L\\x83\\xf9 c\\xcb\\x85\\xbap\\x10\\'\\xe6\\xb6\\xfb\\x04$\\x9f\\xa2(T\\x04\\xc6\\xe6\\x02C\\x91\\xb7D\\x0e\\xe2R=\\x87\\xd4\\xa0\\x16\\xe4\\x88\\x16\\xbf\\xb2O#c\\x10yH\\x89\\'\\xb2T\\xcf\\xe9d\\x00\\xa9v\\xc0\\x17q\\x80:\\xad\\x9c\\xbe\\x9e\\x90\\xde\\x0e\\xd0\\xb2)4\\xd4\\xc4\\xb4l\\x00%t8*r-=,\\xad\\x14J\\xec\\xbfHC${\\x00T\\xe2\\xe2\\x00\\x82yP\\xb0\\x19\\x8d\\xcc\\xee\\xac2m\\x07\\x99\\xbf\\ndt\\xa5C3\\x00F\\x14\\xd5a\\xbd8\\xa8\\x01\\xea\\x0c\\xff\\x00E\\xd5\\x16\\x0cV\\x14\\x86\\x80\\xf2\\x06\\xa6\\xc7\\xe4\\xb9\\xc7\\xd3\\x15(\\xbe\\x9b\\xbf\\x8d\\xa4A\\xf6[\\x99\\x15o?.\\xc2\\xb9\\xc4^\\x90\\x12:\\x8b,\\xd9\\xa4L\\xecH\\xd1B\\xa4\\xc0\\x86\\x9d\\xfa\\xc2\\xd3\\xcaI\\xff\\x00N\\xc3\\x187\\xa4\\xd9\\x8fe_7\\xa5\\xa1\\x95\\xa1\\xbe\\x92\\xd9\\n|\\xab\\xff\\x00\\x96\\xe1\\x87Jm?\\x90U,74i\\xf3ZF\\xc4\\x01\\x1c\\xaaB\\xce\\x90fV\\xa6eO]\\x16;\\x80H\\x95\\x96\\x00?I\\xb2\\x01S\\x01\\xcdw\\xbc\\x02\\x15\\xd9\\x03\\x1f\\x80l\\xc3\\xb5\\x92-\\xd1\\xa5U\\x90\\x19ai\\xb5\\x95\\xaf\\xff\\x00\\xcb\\xe07\\x88q\\xff\\x00\\xf8\\x94,\\x8d\\xda\\x17x\\x1ctW\\x0bl\\x06\\xddJ\\xadH\\xcb\\x81\\xd3\\xba\\xb3\\xcd\\x8f\\xa7\\xaa\\xc5\\xbbf\\xc8kG\\xaav\\xb5\\xc2\\xa1I\\xbaj\\xba\\xc6&%iX\\x13\\xbcwTX\\xd8\\xac\\xf1\\x1b\\x9d\\x94\\xc4\\x87\\xe85\\x84\\xfa\\x80\\xba\\x82\\xa9.\\x1f\\xaa\\xb1X\\xccZd\\xc4\\xf4L{G\\x972d\\xf0\\xaeC3+|\\xd2\\xb8\\xcf\\x14\\xff\\x00\\xf3j\\xc3LHm\\xfa\\xd9v\\xd5\\x9bs\\xc4\\xae+\\xc4N\\x077\\xado\\xe5\"}\\x97\\'\\x9b\\xacgO\\x89\\xfe\\xe1\\x86\\xfalo\\xa8\\xdd\\x1dA\\xcd\\x01\\xd2\\x0f2T\\x8ff\\xa8\\x9b\\x8e\\x857A\\xd4\\x0c\\xcf\\x10\\xbc_G\\xb21\\xed\\x0en\\x90@1\\xb6\\xea:\\x94`i\\xb9\\x1dT\\xda\\xa1\\xbb\\x80f\\xc9\\xaf\\xf5<\\x00L\\x0b\\xaa\\xc9Y6U~\\x1e\\x1c6\\x91\\xc0YyW\\xe2\\xfc9\\xe3l\\xb76\\x14\\xdd\\x8b\\xcb\\xa9\\x1a\\x82\\xb5\\x00\\x0b\\x9fGU7\\x8f5\\x83oIqtos\\x0b}\\xcc\\x92\\x1di\\xe8v\\x95W\\x1dA\\xd50\\xd5\\x9a\\xd0u\\xe80\\x1abLuTQqv\\x8b:\\x92\\xe2\\xcal\\xc31\\xd4\\xa9\\xc3\\x08\\x0ek\\\\\\'\\xb8Mv\\x144\\xfa\\x84\\xc1\\x89ZXS\\x80\\xa9\\x93\\xe1\\xbf\\x0cq.\\xc5\\xb0\\xe9\\xac\\xda\\xec\\xd3\\xe5\\xfaD7\\xbf7\\xe6\\xe8\\x1b\\x82t\\xfd\\n\\xc3.%z/\\x8b+kz)\\xb6\\x80\\x06\\x0c\\x897\\x8eR{!\\xb0D\\x9e\\xaa\\xd5A\\xad\\xbb\\x06\\xf0\\xa1-\\x91\\xdc\\x8d\\xd73\\x85\\x1d*V\\xca\\xaetF\\xd0/~\\x14Nf\\xb0o\\xbf\\x1dU\\x8f(\\xc9\\'\\xe5\\xda\\x1d\\xcan\\x80\\xdfL\\\\m\\'p\\xb9]\\x9a\\xaf\\xb2\\x1at\\x03\\t\\x86\\x82M\\xa7dkPk\\x81\\x93\\xf6V|\\xa2t\\xc4\\x1e\\xa1\\x1a\\x98m \\xc7\\xfb\\x95u\\x8fE\\\\\\xbf\\xb2\\x95\\x00)8\\x1d0F\\xea\\xed:\\xdc\\xce\\xabn\\xa1\\xf2\\x0b/\\x06\\x0f\\x04\\xd9\"\\xc7\\xb7\\xe6\\x9ff\\xad!q\\xec\\xceII\\x0b\\x16\\xc6\\xbd\\xac\\xd8@\\xb0Y\\xech5,-\\xbc\\x93\\xd3\\xf4W1\\x15\\x7fv\\xe2\\x04\\xe9\\xeb\\xb2\\xcd\\xd4L\\x8d\\x9b7\\x04\\xee{\\xf6\\xec\\xb4n\\xb6\\xcao\\xa2\\xf6\\x1e\\x99\\xae\\xf2I%\\x84\\xd8\\x90D\\xf4\\xdf\\x85m\\xac\\xf5@\\x93\\x1dJ\\xcd\\x18\\xad\\xeedZ\\xdb)h\\xe3\\x1a\\x04\\xcd\\xed~\\x16\\x8b\"e>6\\x8d0\\xd1\\xa8\\x029S4\\xc1\\xb8\\x11\\xc8\\xea\\xb2\\xd9\\x8b J\\x98f-\\x82K\\x80\\x1c\\xd9j\\xa7\\x12\\x8e,\\xd4\\x17\\x00\\xc0\\x04l\\x9f\\rkAs\\xb4\\xb4\\\\\\xc9Y\\xad\\xcdi4\\x8eG}\\xe5M\\x955\\xde&\\xcc\\xdb\\x84l\\xfe\\x1d\\x90\\xea\\xcf\\x1d?\\x97\\xea\\xba1\\xd6I(.\\xcc2\\\\\\x176t\\xfe\\x13\\xcb\\x85w~>\\xab,dR\\x0e\\xe1\\xbd~\\xab\\xa9y\\xd2\\xc2#{\\xcc\\\\!B\\x8bp\\xf4\\xda\\x18= @\\x1c\\x04\\\\\\x0c\\x02\\xfd\\xce\\xf1\\xfa/\\xa8\\xc7\\x05\\x8e*(\\xf9\\xbc\\x93rvD\\xe69\\xd0E\\x82\\x81\\xe7\\xb01n\\xeaW8\\x19P\\xd4\\x9am\\ri\\x0e{\\xac\\xd0\\xba\\xcc\\x08\\x0bI\\xa8Z\\xd30=n\\xe8\\x14\\x18\\xfc\\xb6\\x9b\\xe9\\x1dB\\x0f^\\xfd\\xd6\\xabi\\x0c; \\xdd\\xc7\\x9e\\xfc\\x95\\xe6>>\\xf15L\\xca\\xa5L\\x0e\\x0b\\x10\\xfat\\x18Kj\\xd4\\xa6`\\xd4?\\xca\\x0f\\x00.O#\\xc9\\x87\\x8d\\x0er:0\\xf8\\xd2\\xf2%\\xc6&\\x9b\\x9a\\x01>\\xa0\\xe0\\x0e\\xe3d\\x1b\\xe97\\xe5qYg\\x89qys[J\\xab\\x1b\\x88\\xa0\\xd1\\xa5\\xbc8\\x7fu\\xd7\\xe4\\xb8\\xday\\xe8?\\x84k\\xea<F\\xa6\\xc1\\x05\\xbf\\xd1g\\xe3\\xf9\\xb8|\\x9f\\xe0\\xf7\\xf4W\\xc8\\xf0\\xf2\\xf8\\xff\\x00\\xcdh\\xb0\\x08\\xb7>\\xc8o\\xc5\\xfb\\xae\\x93,\\xf0\\xd9k\\xd8\\xfc\\\\8\\xef\\xe5\\xb7o\\xaa\\xb5\\x9bd\\xd4\\xf1T\\x83\\x98\\xc1M\\xed\\x12\\x0bG\\xd9v\\xda8\\xd4trB\\xc0\\x1e@\\xf7D\\x012.}\\xd3\\x9fI\\xd4\\x9eX@k\\x85\\x88L\\xbe\\xa2v\\xee\\xa4\\xa8d\\x01\\xfc\\xdd\\xd2\\xdf\\xacuD\\xdc\\xdc\\xcfd\\xbb\\x03=\\x82\\x01@\\x16\\x94E\\xccI<\\xa0I\\x929J`\\xc8\\x07\\xea\\x10\\x94\\xe81\\x0e\\x91\\xec\\x12Cq\\xbc}\\x12Bl\\xc4\\x03M\\x85\\xc7\\x06R.\\xe4\\xf5\\xb8I\\xad\\r&\\xe9\\xae6\\xba\\xc8\\x9a\\xa0\\xc5\\xa3~R\\xb9 p;$ON\\x88\\x12\\x04\\\\}\\x10\\xc8@\\x92b.\\x13\\x9a\\x00\\xb0\\xfc\\xca\\x04@2 \\xa4\\x0f\\xaa8\\n(\\xb2^\\xc9\\x08\\r\\xe3~\\x10\\x06,9\\xbaS wCo`\\xa4\\xab\\t$L\\x8b\\xa3i\\xb4J\\x02&O7@p\\x84\\x0e\\xd4/\\x1b\\xa1rR\\x00\\x98\\xda:\\x84\\xd2Kd\\xf2\\x80tH\\x93\\xb9J\\x0c\\xf7\\t\\xb7\\xbd\\xfd\\x93j\\xbfM;|\\xd0\\x80\\xb5\\x977\\xcd\\xaajm$\\xae\\x87/\\x00\\xba\\xa3oa\\xc2\\xc5\\xcbi\\x16\\x01\\xa4A\\x8b\\x03\\xca\\xde\\xcbDb\\xeb\\x0e\\xaci\\x0bE\\xd1x\\xad\\x96\\xa9\\x02\\x1exq\\xb8\\x95=;8\\xee\\xe5\\x1b\\x1c[[I\\xdf}\\x94\\xfao1\\xc6\\xca$\\xce\\x82F\\x8d\\xa0GIV\\xfc6g\\x0e\\xfas\\x06\\x9dW\\xb6\\xfcI\\x91\\xfa\\xaaCH>\\xfb\\xab\\x99\\x03\\x831\\xb8\\xca}^\\xda\\x82{\\x8f\\xf6Y\\x1a/\\xb3W8\\xa7\\xe6e\\xb5\\x08\\x10i\\xb4\\xcf\\xd9E\\x96\\x800Xo\\xff\\x00\\xd6\\xd8\\xfb+u\\xda\\x1d\\x86\\xaa\\r\\xc1i\\x90\\xaa\\xe0\\x98\\xe6ap\\xed\"\\x03Z\\x11\\x16}\\x96\\xb1\\x94\\xfc\\xcc\\x1dK\\xecf\\xc1b\\x81\\x03\\x81u\\xd1:\\x9e\\xba\\x15\\x01\\xb5\\x8c.|\\x897\\x80=\\xd4\\x12\\xc3\\x01\\xc0\\t\\xfe!u1n\\xac\\xef\\x04\\x01\\xd8\\x11\\xff\\x00\\xf1*&\\xb7\\xd5N\\x1dw\\x1d\\xfb\\xab4\\xd9\\xaf<\\xa2`\\x00\\xd6\\xbac\\xd9\\x08GEB\\xce\\x12\\xa6\\x80\\xc1\\xdb\\xa4()\\xb4\\x17\\x8d\\xaeT\\xccw\\x99\\xe6^C^G\\xd9bn&\\xfc\\xc3\\x8b*\\x96\\x15o\\xbc\\xf5WCKKv\\x9e\\n\\xa6A\\xf3\\x0c\\x8en\\x11h\\x0c\\xac\\x1c\\xe74n\\x8d@\\x050\\x08:@H^\\xa0\\x1d\\xf6K\\x10\\xe8\\xa6U\\xca\\xfd\\x99\\xd5K]i#\\xddp\\xbe$\\x04\\xe75\\xc5\\xe0i\\x8f\\xb0]\\xcb\\xef\\xbc\\x1b\\xf0;.\\x13\\xc4\\xa4\\x9c\\xe3\\x15y\\x12\\xd9\\x1f@\\xb9|\\xdf\\xf6\\xd1\\xd9\\xe1\\xaf\\xdd\\x99\\x8e1L\\x80\\x08\\x8e;\"\\xea\\x9a[\\x02b,a0\\xb8I\\x06\\xc3\\xb1I\\xc5\\xadkZ\\x00l\\x0bJ\\xf0\\xb9\\x1e\\xb0\\xe3\\xb91\\xff\\x00pN\\x17\\x04\\xbag\\xb8A\\xae\\x11!\\xdfm\\xd0s\\xc7\\xcal\\r\\xa4+I\\xe8\\xa2M\\xb1A,\\x1a]\\x11\\xbd\\x92>\\xa8\\x04\\x11=7HF\\xc2\\xc0\\r\\xcat\\xc87\\xdb\\xe8\\xb3V\\xcdh\\xa3\\x89h\\xc2b\\x1b\\\\\\xde\\x99\\xfd\\xdd^\\x81\\xa7c\\xf4?\\xd5IZ\\x9b\\xe9\\x02\\xc9\\xb8\\x13#\\x955@*\\xd3s\\x1d\\xebk\\x9b\\x17\\xe7\\xe8\\xb3\\xf2\\xca\\x86\\x9d:\\x98*\\x8f\\x9a\\x94>C\\x17u>=\\xe3\\xfc\\xd9VN\\xf4J^\\xc9K\\xa2\\xc3r\\xa2y\\x82\\t>\\xa8\\xb0\\x1b}U\\x82\\xd9.\\x00\\xea\\x9f\\xb2\\xafU\\xa4\\x1b@\\xee\\x173\\xbfg@\\xd2%\\xcd\\r\\x11\\x1c\\xc7)ya\\xa6H\\x91\\xd3e+Z\\x1aZb@\\xdeyNs\\x05\\xf4\\xcc\\x8b\\\\\\xee\\xa8\\xe3f\\x89\\xd0\\xdan\\x170E\\xaeaJ\\x1a\\x0c\\x81\\x04\\x0f\\xcdA\\xa8\\xb4\\xfa\\x07\\xd9ON\\x9b\\xab?\\xd3\\x01\\xa0z\\x89\\xb4wZAz1\\x90|\\xa6\\xb8\\x11\\x10\\x01B\\xae\\x0c1\\xe1\\xaei\\x04\\xee\\xd1\\xbf\\xfbq\\xf7W\\xc6\"\\x86\\x0e\\x99m\\x08\\xad\\x886\\xf3\\x8e\\xcd\\xff\\x00\\xa4s\\xcd\\xd4\\x14\\xc95\\x0b\\x8b\\x8b\\x8f.\\xddtp\\x8f\\xb3\\x1eM\\xbd\\x14j`\\x89l\\xc4\\xff\\x00(\\xd8\\x05\\x9d[\\x03\\xa9\\xd7h\\xbd\\xc0\\x85\\xd0<\\x97\\xb8\\x9d\\xaf\"\\xca\\x07\\xe1\\x83\\x88\\x9b\\x98\\xeb\\xba\\xcex\\xf9\\xed\\x1aB|N^\\xae\\t\\xe1\\xc4\\xb6\\xfc_e\\x0b\\xf0\\xb5\\x18>{\\x80\\xba\\x97a\\x1ad\\x03$\\xdc\\xc8\\x88M9c\\\\\\xe82O\\xb4\\x05\\xcd\\xfe;7\\xf9\\x91\\xcb\\x8a\\x18\\x83\\xf2\\xb6\\'\\x82Pn\\x0b\\x12\\xff\\x00K\\x9d\\xa4O\\x1c.\\xb3\\xf0CI%\\xbb\\x1b\\'\\xb3\\x04\\xc0\\xd24\\xec&\\xe9\\xfe9\\x0f29o\\xf4\\xca\\xa1\\x92ItZ6$\\xafT\\xf0W\\x87\\x19\\x91eA\\x85\\xa4\\xd6\\xab\\xeb\\xa8\\xe3rO\\xfbl\\xb1\\xbc=\\x95\\x0cvf\\xd2[4\\xb0\\xf0\\xe7:&]\\xc0^\\x82\\xc6\\xf9m\\x90=\\x82\\xfaO\\x03\\xc5X\\x97\\xc8\\xfd\\x9e\\x07\\x99\\xe4<\\x8f\\x82\\xe8\\x8fI\\x9b\\x7f\\r\\x896\\n\\n\\xe0\\xea\\x89\\xb6\\xea\\xd5R\\x1a\\xdd#cr\\x7fUF\\xb1%\\xd2.;\\x1e\\xab\\xdb\\x8e\\xd9\\xe3\\xc8h\\x01\\xc2A\\x86\\xb4A%;\\x07OY5\\x9di\\xb3\\x07F\\xf2~\\xaa\\x171\\xd8\\x97\\xb6\\x80\\xb0\\xdd\\xe4tW3,M\\x1c\\xa7\\x01W\\x13Y\\xcdc\\x18\\xddF}\\xb6\\nd\\xe8A[9\\xaf\\x1eg\\x9f\\xe9\\xf8A\\x86\\xc3\\xb87\\x15X\\x1b\\xff\\x00#y>\\xe7e\\xe7\\xb9o\\x87\\xf1\\xb9\\xddM\\x18Je\\xe0X\\xd5y\\x86\\xb6:\\x95\\xd7e\\xbe\\x17\\xc4x\\x87\\x1e\\xfc\\xcf6\\x0e\\xa6\\xda\\x86[\\x87\\x98:x\\x07\\xa0\\xec\\xbbl.\\x12\\x9e\\x1a\\x93iS\\xa6\\xdaT\\xda!\\xadn\\xc3\\xd8/\\x07\\'\\x8b?7\\',\\x9a\\x8a\\xe9}\\x9e\\xb4|\\xa8\\xf8\\xb0\\xe3\\x8fr9\\x1c\\x97\\xe1\\xae\\x07\\x04\\xe1W\\x198\\xecF\\xf0\\xeb0{\\x0e~\\xab\\xaf\\xc2\\xe0\\xa9\\xe1ih\\xa7M\\xb4\\xa9\\x81\\xf20@\\x1fe(\\x86\\x88\\x99\\x8b\\x14\\xedS\\xb1\\x80\\xbdlXq\\xe1U\\x8e4y\\xf3\\xc9,\\xae\\xe7+\\x14\\xc5\\xe3\\xb22\\t2\\t\\xfe\\xa9\\x17N\\xee\\t\\x17\\x01\\xbf\\xe4\\xb5\\xa3:\\x89\\xce\\xf8\\x87)\\xd4\\x1d\\x88\\xa4\\xd9\\x8f\\x99\\xb1r;.p\\xbaH \\x0e\\xa0\\x12\\xbd\\r\\xe1\\xae\\x10L\\x87\\x0eW!\\x9de\\x87\\x07W\\xcc\\xa6\"\\x91<\\x7f\\tZ&s\\xca>\\xd1\\x97\\x1ac\\xb2 \\xc2$\\x18\\x83x\\xe8\\x96\\xa9\\x07\\x91\\n\\xc6A&G\\xf4\\x08l\\x0e\\xe2\\xdc\\xa5\\xb0\\xf6\\x11)\\xa0Z\\xdbu\\'e\\x1d\\x01\\xee\\x92/\\xb2I\\xa0\\xc3\\xc5\\x89\\x06\\tIH0\\xcf\\xa8L]\\x02\\x01h\\xe4\\x94\\xe3\\xc4X\\x0eyM\\x12\\t\\xe1d\\x13h%\\xc4\\x12,:%2&yH\\x19\\x90\\x0c\\x14\\x03o\\xdb\\xa6\\xe8U\\xaa\\x0e\\xc6z%w\\x02f\\xfd\\xd3A\\x82$\\xc4n\\x9f} n\\x84\\xad\\xa0\\x83\\x02\\xe7\\xbaB\\xc7k L\\xf0\\x116n\\xe8@\\x83w6\\xfa\\x84\\x88#LG\\xd5\\x1b\\x081\\xc7\\t\\xa6\\xfb~\\xa8@L\\x19\\x90\\x89\\x02\\x08\\x991)\\xb7\\xb1\\x8bBt\\x87H\\x08\\x00\\r\\xeexQ\\xbf\\xd6\\xf6\\xb4qr\\x9f\\xa5\\xa3\\x9b\\xfb\\'`\\xdaj\\xd7s\\x80\\x826\\x80\\xa5+\\x06\\xae\\x14\\x10\\xc0-#\\x92\\xb5p 32\\x03\\x83NG{\\xaa8V\\x86\\x8e\\x90\\xac\\x07y8\\xfc\\x1b\\xcd\\x81q\\xa6c\\xb8\\xff\\x00ev\\xe9\\x1b\\xc3\\xa3N\\xb8s+\\xb4\\x82\\x1bup\\x08h- \\x1eeA\\x98S\\x9aA\\xe0\\x10l}\\xd4\\xd8w\\x1a\\xb4\\x00\\x8e7\\xfe\\x8a\\x8d\\xd9\\xaa\\xde\\x84#U\\x8d\\xfaB\\x97,\\x7f\\x97\\x9ci\\x06\\x1dS\\x0f\"9 \\xff\\x00\\xba\\x8d\\xad\\x83\"\\xc6\\x01\\x84\\x1a\\xef/4\\xc0<r^\\xc3\\xda[\\xfd\\xc0P^\\xa8\\xe9q\\x060\\xb5\\x08?\\xc3u\\x0e\\x0e\\xf8z?\\xf4\\x84\\xfa\\xaf\\x0e\\xc1U\\xe7\\xd3\\x16\\xe5G\\x83\\xff\\x00\\xf4\\xf4\\x8f\\xfc\\xa1E\\x16\\xf6iR\\x042\\xe4A\\xdds\\xf5\\xe9\\xe9{\\xa4\\r\\xd7AD\\xc3uE\\xc1\\xba\\xc6\\xc707\\x10\\xf8\"\\xfdyU.\\xfaC\\x1a\\xc1\\xaa\\x95\\xc4\\xce\\xc7\\xa2\\xbbF\\x98\\xa7\\x9b1\\xdf\\xc4\\xe6\\xb8\\xaa\\xb4i\\x97V\\xa0\\x0fU\\xa3\\xa4\\x0c\\xcd\\xa2$\\xb6\\x99\\xfe\\x8an\\x8a\\xae\\xac\\xd3a\\x87t\\xbd\\xd4\\xccac\\t#w\\x17}\\xca\\x86\\x97\\xa8\\x02neM\\xb1=&nW9\\xb0\\xeez\\x91\\xc2\\xa2\\xf3\\xfb\\xd2#\\x9d\\xd5\\xeb\\x92\\t\\xd9Tw\\xfcB\\x04B\\x94\\x08\\xf4\\xe9?\\xd17\\x13v\\x1d\\xc1\\x11rQs\\xa1\\xed\\x1b\\xcf%7\\x10>\\xbd\\xba\\xab\\x90\\xd9D\\x89\\xd8[\\x91+\\x85\\xf1\\x00\\x0e\\xcd\\xb1\\xb3c\\xac\\x08\\x9e\\xc1wdz\\xb6\\xba\\xe13\\xbf\\xfeo\\x8b\\xb5\\xfc\\xc8\\xb76\\\\~o\\xf0G_\\x89\\xfc\\x99\\x8c\\xea~\\xb31\\xd15\\xce\\x92-\\xb0\\xd8\\xa7\\xd6\\xd6fE\\xfa(\\xcbC\\x9a\\x03L\\xb8n9^\\x07Z=\\x8fC\\xe7I\\xdb\\x8e\\n\\x8fP\\'\\xa77H\\xbc\\xb5\\xfbm\\xb0);{\\x8b\\x9e\\xaa[\\x11\\x1d\\xe6C\\x04\\x1ebJ_\\x88h1\\x1blT.\\x9eo\\x02n\\x99OS\\xbdD\\x98\\x01f\\xe4\\xcd*\\xcb\\x0e\\xaaI\\x86\\x85G2\\xa4uS\\xc5P\\x96\\xd7\\xa4\\xe9\\x89#P\\xe8U\\x864\\x91\\xd5\\xc6\\xd2T\\x8d2\\xd7\\x19\\x93\\x1e\\xd2\\xa1\\xed\\x16J\\x980\\xd5\\xe9\\xe30\\xad\\xa9L\\x82\\xc7\\r\\xb9\\x07\\xa2\\x0f\\x01\\xd0`\\x91\\xd0l\\xb0s|\\xde\\x9f\\x84(\\xd4\\xc6b|\\xc3\\x82p\\xd4\\xf6\\xd3\\x1a\\x9c\\x1d\\xd4\\x0ex\\x10/~\\xaa\\xee_\\x9d\\xd2\\xafH\\x8cS\\x85,E7\\x16\\xbe\\x9bZ`\\x9d\\xe5\\xb1$\\x88\\xeb\\xcc\\xa9[V\\xc8o\\x8b\\xe2h8\\xcb4\\x8b\\x03e-\\n/\\xacCi\\xb4\\xb9\\xdc\\x8f\\xb7\\xd8]R\\xfcc\\xcb\\xbfq\\x85}C2*V\\xf4\\xb7~\\x9b\\xf5O\\xa7J\\xbdZQ^\\xb9 \\x88\\xf2\\xe9\\xfa\\x1ax\\xbf[*\\xc7\\x8ba\\xdaE\\x8c@\\xa7\\x87{\\xa9\\x11\\xe7V\\x89\\xd1I\\xc2\\x1az9\\xdc^AA\\x94\\xdfQ\\xad\\xf3\\x08?\\xca\\xc6\\x08`\\xfarSX\\xd6R$\\x00\\x00\\x8d\\x83T\\xee\\xa9p\\x1a\\x04t\\xe8\\xb5\\xb2\\x06S\\xa6A\\xbc7\\x81\\xddXkH\\x1a\\x93\\x0b\\x8bH1=D\\xa4\\xedB\\x0b\\xba)\\xa2\\xac\\x90\\x96\\x98i\\xe7xLp\\x1dLt\\t<\\x9f/\\xd2o\\n:C\\xd7\\x7fT)E^\\xc9MQ\\x10m\\xdb\\xba}\\x89\\x07L~\\x89\\x82\\x9bo\\x07r~\\xa9\\xae\\xd4\\\\ \\xea\\x04\\x8b\\xad?\\xe0\\xcf\\xf8\\xe8\\x99\\xe2\\xee\\x12\\x07H6L\\xa9\\x0c\\x16\\x93Q\\xc47H\\xe4\\xf0\\x9c\\x1c\\xd74\\xeat\\x18\\xfa\\xad/\\x0b\\xe0\\x7f\\x1d\\x99;\\x10A40\\xd6\\x13\\xb1y\\xfe\\xc1k\\x87\\x1a\\xc9>(\\xc7&N\\x11\\xb6t\\xb9\\x06V\\xdc\\xbb\\x03N\\x8c\\xfe\\xf5\\xd2\\xea\\x84ryZ\\x8e\\xbb\\x8c^\\x04\\x04\\x1a\\x08\\xa70C\\xe2\\xc0\\xa8\\xea\\xd4\\'E6\\xba\\xfda}\\x12I*G\\x82\\xf6\\xed\\x90\\xd7q \\x80\\x06\\x98\\xe3\\x95B\\xb5i\\xa8\\x1a,I\\x80\\xae\\xe3\\x1e\\xdaT\\xc0\\x88\\'\\xa2\\xa1\\x86\\xa4\\xea\\xb2\\xf2`<\\xe9\\x0e\\x9e9\\xfc\\x82\\xd6*\\xbb2}\\x9a9m\\x0f*\\x83\\xaa\\xbf\\xf8\\xef1\\x1e\\xc13\\x19A\\x99\\x85f\\x1a\\xad\\x0f\\xa5L\\xea`p\\xb6\\xae\\tV5\\x9a\\xc0\\x08-\\xa7\\xc0\\xfe\\xa5KG\\x0c^\\'\\x8e\\x8a\\x9d\\xf6_}\"\\x06P \\x0eOp\\xa54H\\x99\"\\xcav\\xb4\\x01\\x00Gb\\x96\\x93\\xa8\\x00\\xd2\\x07\\xe8\\xa6\\xcbR!\\xf2\\xdaI$]4a\\xdb?,\\x85cD\\xc8\\x00\\xb9\\xd3\\xc6\\xc1MO\\x0e\\xf2/n\\xc1E\\x93\\xc6\\xca\\x1eH&t\\x0b}\\x118}M\\x04\\x82\\x0f\\xba\\xd044\\xb4\\x93\\xf9\\xa8\\x9d\\xe9m\\xce\\xa4\\xbb\\'\\x81A\\xf4\\x1c.\\r\\xb6\\x88T\\xf1XV\\xd5\\xa4\\xf6\\xbcKH\\x82\\xb6*S\\x9b\\xc1\\x8e\\xca\\xb5V\\x02z\\xf4\\x1d\\x14\\xa7Fn(\\xe0\\xb1\\x98G`\\xeb\\xb9\\x84\\x92\\xdd\\xc1\\xea\\x14\\x04\\x0b\\xc0\\x93\\xddu\\xf9\\xb6^\\xccU\"\\x00\\xd2\\xef\\xe1w\\xf2\\xaeN\\xa57Q{\\x98\\xe1\\xeam\\x8d\\x96\\xd6r8\\xf1tG2:\\xa5\\x1b\\x18=\\x0c#\\xbf\\x10R\\x83<B\\x15\\x11\\x10Z`\\xfdRH\\xc0\\xde~\\xa9!n&\\x04\\x98\\x05\\x12o\\xb96Cp@N\\x9b\\x8bl\\x16D-\\xbb\\x1bg6\\xf1\\xb7=R\\x06\\x0e\\x90\\xe9\\xec\\x9b\\x12G\\xe6\\x91oK\\x94-*\\xa0\\x87^\\xc2\\x01\\xddI\\xf5)\\xbbj\\xb7db!AT\\xc4\\x0f\\xab{\\xa7\\x02\\x01\\xe6\\xdb\\xa6\\x90H\\xb9\\x81\\xbaRI\\xe9\\xcf\\xd1IF\\x1d\\x87\\x1fT\\x89?^\\xc9\\x17n\\x00\\x9e\\xe8j\\x05\\xb2\\'\\xe8\\x84\\x047U\\x8aR\\x7f\\x8a\\xe0t\\xdd\\x01\\xbc\\xa3\";\\xf2\\x80@\\xcb\\x80\\xeaB\\xb7\\x97R\\x03\\x0fQ\\xf1\\xbb\\xec\\xaa\\xb7\\xd0*<\\x8b\\x01\\x01j\\xe1\\xe8\\x96e\\xcdwi*\\xc8\\xb2M\\x97h\\x0f,\\x80F\\xa4\\xec\\xc1\\x84\\xe1\\x1eCn\\xd2\\x1c;\\x10\\xa5\\r\\xb8 \\xc1\\xd3\\x16\\xe5J\\xd6\\x87\\xb4\\xb6lF\\xdd\\x15\\x99\\xbaF\\xc5\\x021\\x99{*4\\xcc\\xb4:\\xfc\\x82\\xab\\xe0\\x1f\\xa2\\xa3\\xa9\\x19:L\\x83\\xdaT>\\x19\\xaf\\xe5\\xe1\\xea`\\xcc\\x07R%\\xa2n#pT\\xb5\\xe9~\\x1b\\x1c\\x1eL\\x07X\\xac\\xcd\\x17\\xd9n\\xb52\\xc3\\xbc\\x02\\xabb\\xdcX\\xec=M\\xc3+\\xb0\\x9e\\xd7\\x8f\\xea\\xaf\\xd4g\\x99I\\xae&\\xedYy\\xa4\\xfe\\x06\\xb6\\x93v\\x00\\xef\\xb1\\x95\\x16Y\\xf4t\\xb5\\xdd\\xa7\\x0bWc\\xe9\\xdf\\x94\\xfc!\\x1f\\x86\\xa68U\\xeb?V\\t\\xee\\x1c\\xb2B\\x9f\\x04G\\x92\\xc1\\xb1\\x85!z5\\x1a\\x07\\x96\\xe2\\t\\x02~\\x8b#\\x1c\\xd0*{\\xde\\xddV\\xa57j\\xa0d\\xc9Y\\xd8\\xb8/\\xb4\\x18\\n\\x86\\x8d\\xe8XF\\x0f\\xc44\\x9b\\xc1\\xbc+M|\\xe6\\xce\\x8d\\xbc\\xb3\\xfa\\xa8pW\\xac\\xdd\\x80\\x81(\\xe1\\xcc\\xe7\\x15I\\xb04\\xce\\xfe\\xe1K!uF\\xcd\\x10\\xa6;\\x19\\xba\\x82\\x97\\xa4\\x9e@\\xe5L$\\x19\\xdao\\x0b\\x9d\\x9b \\x87A\\xdc\\x1e\\x15g\\x88\\xa9\\xbc\\x95f\\xd2\\x7fUZ\\xa0\\x8a\\x82\\xd3\\x1fe(\\x92*\\xc4H\\x91n\\xc3t\\xda\\xc4\\x16\\x03\\x17#dk\\x1e\\xff\\x00t\\xda\\x8f\\x1eX\"\\xe3k+\\xd5\\xd1Oe\\'\\xcd\\x88\\x91\\x0b\\xcf\\xb3\\xf2\\xe6\\xe7x\\xb8\\xdc<\\xdc\\xfd\\x17\\xa18\\xc3\\xae-{\\x95\\xe7^ \\x7f\\xff\\x00\\x1a\\xc6\\xc1 \\n\\xa4X\\xae\\x1f=\\xfe\\x88\\xed\\xf0\\xd7\\xec\\xcc\\xda\\x8fs\\xa6H\\x90xJ]\\xa64\\xc1\\xda\\x02\\x04\\xc9\\x01\\xb0\\x07R.\\x80\\xeb\\x11\\xd9|\\xf5\\xdb=\\x9a\\xa4&\\xfc\\xe2\\xd0z\\xf2\\x12,\\x00\\x99\\x16\\xe6\\ni:]-&&\\xe8\\xb4\\xb1\\xdc\\x88;\\x02\\xad\\xfd\\x046\\xabO\\xcd$\\xda\\xf0\\x98)\\x8d\\xc4D\\xecT\\x80\\x82\\xf6\\xdat\\xf5I\\xcd$r,x\\xddP\\xbac\\x03@\\r\\x8b\\xcfDh\\xb8k\\xac\\x1f\\xa8\\xb2\\x95#]\\xfeX\\x05\\xc5\\xa0\\x81`H\\xbc\\x90\\xa5m0D\\x93#\\xf3Yy\\xe5j\\xf9`fc\\x85hs\\xe8\\x87\\xd1{I#\\xf7u\\x1aX\\xe2\\x0f\\x04\\x03 \\xf0@ZE%%\\xcb\\xa2\\x93\\xe4\\xe0\\xd4{\\xf4r~8\\xf1\\x1e\\x0e\\x9d,6-\\xd8\\x93\\x82\\xad\\x83\\xc4\\x02\\xec6a\\x86l\\xb4\\xc8\\xd0@q7>\\xa75\\xd0Z@\"A\\x04\\x0e\\xa7,m\\x1cE\\x17V`\\xa2]U\\xc5\\xeeu\\x08,\\x04\\xdc\\x86\\x91\"/\\xc2\\xe6\\xb3/\\x0ec+\\xf8Y\\xb5\\xf0\\x1e$/\\xc4\\x9c#\\x1b\\x85~-\\x87\\x13\\x88}GA\\x01\\xcf\\xd9\\xcc-\\xd4It\\x96\\x93i;t\\x99\\x15\\x0cU\\x0c\\xbd\\x83\\x18(6\\xb9s\\xdcF\\x1e\\x90\\xa4\\xd1\\xa9\\xc5\\xd1\\x02\\xd3u\\xd9\\xe5\\xc3\\x04\\x7f\\xdag\\x9b\\xe0\\xcf\\xc8\\x93\\x7f24\\x1c\\xf0\\xc6\\x80\\x07\\x16\\xb2\\x89\\xef\\xa8\\xf745\\xda\\x1c\\xd3\\xd2\\xce\\x1e\\xc9\\xef\\xe4\\x0e:\\xa8\\xcd\"\\x1c\\x083\\xdc~\\xab\\xcawT{t\\x91b@\\x048_\\xa9\\xbc\\xa2\\xc7\\xe9\\x03\\xd5s\\xc2n\\xadD\\x082\\x04\\xfb\\'4\\x17<\\x99\\xfan\\xb4M\\x99\\xb4\\x89Z\\xe6\\xce\\xe4\\x02\\x9c*k<\\xe9\\xfb(\\xc0\\x13-7\\x1b\\x91\\xb1@=\\xc4\\x9d^\\x93\\xb6\\xf7Z\\'\\xf6gH\\x9a\\xa4\\xdcl\\x05\\xfe\\x88\\x07\\x02\\xe1\\x0e-\\x1d\\xd4M\\xf5\\xba\\x013;\\xca5\\x0e\\x9fT\\xdf\\xa8K#\\xb2@\\xeb\\xc4[\\xaf)\\xben\\x96\\xc1\\x83\\x02Tn./\\x99 \\x1d\\x84\\xa4\\xe6\\x87M\\xa0\\xfb\\xa2\\x93\\xf4CC\\x9fP\\xb5\\xa00k{\\xce\\x96\\xb4u+\\xd0\\xf2\\x0c\\xad\\xb9f]J\\x84\\x878\\t{\\xb9s\\x97\\'\\xe1\\\\\\xb7\\xf1\\xf9\\xa9\\xc48M\\x1c(\\x91\\xd3Y\\xfe\\xc0\\xaf@\\r,\\x10\\x01\\x05\\xd7\\x8e\\xcb\\xde\\xf0\\xb1\\xf1\\x877\\xec\\xf1|\\xb9\\xf2|WC\\x1cK\\\\Iq\\x810\\xd1\\xcf\\xf8TT\\xe9\\x97\\x92\\xf7_k\\x94\\xfa\\xde\\xb7\\x00\\x00\\x81a\\x06\\xe9b\\x08\\xa1@\\x92@0du^\\x9a<\\xf7\\xa3#\\x1fT\\xd5\\xab\\xa1\\xa7\\xe6\\xdc\\x8e\\x9c\\xad*\\x18ic\\x1c\\xef\\x95\\xad\\xda\"I\\xe5V\\xcb0.\\xafW\\xf1\\x15\\x1b\\x0c\\xd9\\xa0\\xfe\\xabn\\x8e\\x1e\\\\\\xd9\\x00\\x80nT\\xb7eTl\\x8f\\x0f\\x85.:\\xdc!\\xa3\\xa9O{\\xe3\\xd0\\x00\\x828\\xe1KU\\xe6\\x1a\\xc1\\xf2\\x8bY*XqM\\x8e}O\\x94^\\xea\\xb7\\xec\\xd3\\xfe\\x08\\x059\\x04\\x9b4n]`\\x9fJ\\x8b\\xf1#\\x9at\\xb9w\\xf1;\\xd9M\\xe5y\\xfe\\xba\\xa0\\xf9b\\xed\\xa7\\xb7\\xd4\\xff\\x00d\\xea\\x95\\x88\\x8d&\\xd3eV\\xd9d\\x875\\xb4\\xa8\\xd3\\xd2\\'\\xdeTU1\\'\\xe5\\x88\\xe5EQ\\xc4\\x8et\\x8f\\xcd\\r\\xcc\\x02$n\\nP\\x7fC\\\\\\xf2o$\\x8eBMtH\\x897Ok`\\x0eA\\xde\\x05\\xcaM\\xc3\\xbc\\xc4\\x03\\xbc\\xec\\xa5R\"\\x88\\x89\\x81}\\xa3\\x85\\x1b\\xee-h\\xeb\\xc2\\xb2p\\xb5!\\xa6\\t\\xb4\\x82\\x85Z\\x0e-24\\xf4=\\x14\\x91F}f\\x17Q3\\xb0\\xe1sy\\xde\\x0c\\x10*\\xb4An\\xfd\\xc2\\xea\\xaba^\\xd3\\xa4\\xd8\\xf6Y8\\xda\\x06\\x1c\\x0c9\\xa7\\xf3ZE\\x98d^\\xce8\\xc0\"E\\xba\\xa3\\xbe\\xe9\\xd5\\xa9\\x9aU\\x1e\\xceZa7`\\x08\\xb9+C\\x98\\\\\\x9e\\xc9&\\xee \\xfdRB\\xdb0A\\xfb\\xa3<I)\\xae\\xb8\\x94\\xd0H\\xd8D,Q)P\\xe0lR\\x93\\xb8\\xfb\\x94#\\x99\\x8eR\\xda\\xdd\\x14\\x96\\x1c\\x083i\\xe4\\xc9\\x84\\xe9\\x82z&7\\xd4L\\x81\\x1d\\xd3\\xbeh\\xff\\x00!A\\r\\x06\\x04\\x12\\x81 {\\xa5\\xa6o\\xd0L\\x0e\\xa9\\xb2A\\x88\\x12\\x9b)Z\\xb6<|\\xd1\\xd5!k\\xf3\\xb2\\x13\\x1e\\xfd\\x92\\x06\"/\\x1d\\xd4\\x94b\\'n\\x9f\\xaav\\xc0I\\xedb\\x9aLJ\\x92\\x83\\rj\\xcc\\x11\\xbe\\xf0\\xa5\\x0e\\xd9-jf\\x9e\\x15\\xad\\x02\\x0b\\xc8\\x11\\xf5[\\x98\\x8ab\\x9e\\t\\xcdn\\xdb\\xac\\xbcS\\x00\\xa9\\x87i\\xb8\\xf3\\x1a\\xb71,\\xd5\\x86#\\xb2\\xb2\\xec\\xd2)\\x8e\\x10\\xea4\\xcfk\\x9f\\xa2\\x92\\x99\\x87\\x89*<\\x10\\xf3\\xb0\\xad\\x81\\x04)Y\\xb8\\x10$\\xf5V\\xa3Q\\x94j\\x8c\\x16mJ\\xa3@\\x0c\\xac4\\x9f}\\xd6\\xeeeHW\\xa2*0^&\\xe2n\\xb0\\xf3\\x1a\\x06\\xbe\\x19\\xc5\\xb6\\xa8\\xdfS~\\x97[\\x99eV\\xe3\\xb0\\r\\x81\\xaa[\\xa8_\\x9eB\\xcd\\xaa/\\x1e\\xc3\\x97T8\\x8a&\\xd3#e[\\x1f\\x87\\xd5\\x87\\xae\\xc7\\\\9\\x84n\\x9f\\x86q\\xc2\\xe2\\x9c\\xdb\\x86\\x93 {\\xee\\xad\\xe6T\\x06\\x89`\\xb1n\\xdd\\xbd\\xd6e\\xc80\\xb8\\x9f3!\\xa0\\xe0\\xe3.\\xa6\\xd0\\x7fB\\xb5\\xb0\\x80yM\\x02\\xc2!syc\\xe7\"\\xa4\\xcd\\xf4\\xb8\\xb2#\\xa3\\x97G\\x86:Z\\xc8\\xde6\\x95w\\xd1\\x0b\\xb3F\\x89-\\xa6@\\xb1\\xd8\\xaa\\x18\\x96\\x8ds\\x00\\x1d\\xd5\\xca3\\r\"\\xe4\\xd8\\xc2\\xa5\\x8c7x\\xda\\xd6TH\\xb4\\xba%\\xc1\\x88\\xac \\x82\\x03d\\xa6\\xe0\\xdf9\\xbdN\\x85\\x87\\xf5\\t\\xd81\\xa6\\xa4\\xd8H\\x8d\\x948#\\xff\\x00\\xc5\\x9c\\t\\xff\\x00\\xe9\\x90c\\xdc!\\x0b\\xd1\\xbfI\\xd6\\xbf\\x06\\xe5N\\x01.\\x98\\xb7EV\\x89\\xb0\\xe3\\xb2\\x98\\x01 \\x9d\\xcd\\xfb,\\x19\\xba$${A\\xba\\xafT\\xc5Nc}\\xd4\\xf3$[\\xeaxU\\xeaz\\x9em\\xb7u(\\xb1\\x05a\\xa8t=\\xb6P\\xbd\\xd6\\x80\\'\\x9e\\x8aW\\xd8\\x18;p\\xa1q;\\r\\xf9[z3}\\x8d\\x01\\xafm\\xcf\\xdf\\x95\\xe6\\xb9\\xe0\\x9c\\xdf\\x1d6\\xfd\\xf3\\xa0\\x9fu\\xe9\\xa0\\r\\x1d/\\xb9\\x0b\\xce<M\\x81\\xa9\\x84\\xcd\\xb1\\x0eti\\xac\\xf3U\\x8e\\xe1\\xc0\\x9d\\xbbB\\xf3|\\xe8\\xb7\\x8d4w\\xf8n\\xa4\\xcc\\x825U\\x11hL0\\\\N\\xd3\\xf2\\x85#E\\xc8$\\x02B\\x8a\\xac\\xee\\x013\\xc8+\\xc0\\xa5\\xda=\\x86\\xec\\x89\\xee\\x126lu\\t\\xecx0@\\xd7<\\xa6\\x98{\\xf5n7\\x8d\\xd3\\x9at\\xea\\xe7\\x80Uwe\\xf5C\\xc3A|8@<\\xa9)\\xb4H\\xbd\\xb6\\xbac\\\\d;x\\xe0\\x8d\\xd3\\xd8I\\x11$\\x8d\\xb5\\x1e{\\xab\"\\xa4\\x8d\\x1a\\x8d\\xfeQ\\xb5\\xf6N~\\x19\\xb5C\\x9aI \\xf0`\\xcaTC\\x85\\xa3~z)\\x18\\xe2@\\x02C\\x89\\xb0[\\xaa\\xe8\\xa3m\\x94(d\\xf8|#\\xdc\\xfa\\x18vRs\\xc9. \\x01%OR\\x86\\x98\\xd4\\xdbL\\xca\\xb0\\xe7\\x06\\xb6\\xe7\\xb4\\xee\\xa1{\\x83X\\x1d\\xb8\\xda\\xea$\\x95\\x12\\x9bl\\xabV\\x94\\xc4\\x10/\\'\\xfd\\x934\\x10`\\x02\\x00\\nf\\x90\\xea\\x84\\x0b\\xf7\\x1b$\\xd7\\x16\\x93q\\xab\\xd9`\\xe2\\xac\\xd2\\xd8\\xcaa\\xbc\\x81\\x1bDL\\xa78\\x82\\x00\\xd5\\x07\\xdbd\\xdd j\\xe4\\xef\\xbaZ\\x81\\x04\\xb8o\\xb7$*\\xd5t[\\xb2FA\\x04\\xc4\\xc2k\\xe4\\x12\\x07\\xdf\\xaft\\xd0\\xe2\\xd3i\\x00\\x8b\\x9e\\xa5Ht\\x98 \\xc0#\\xecT\\xa7eZ\\xa2\\xbd6\\xe9$\\xdez\\xa94\\x97\\x13h\\x05&\\x90_\\x1dw\\xff\\x00u#\\x0e\\x97\\x9bl\"\\x0f\\x08@\\xdd&\\x98\\r\\x00\\xf5\\xf7\\t<\\x8am>\\x92\\xe3\\xc0\\xdc\\xcf\\x01>\\x1aD\\xcf\\xdc\\xca\\xd5\\xf0\\xd6\\x00fY\\xc3u\\x08\\xa3B*:v.\\xfe\\x11\\xfa\\x95\\xbe\\x18|\\x99\\x14Q\\x86\\\\\\x9c\"\\xdb:\\xff\\x00\\x0eeM\\xcb\\xb2\\xea4\\x9c\\x7fx\\xf9}H\\xeaw\\xbf\\xf9\\xb2\\xd5\\xa9p\\xe3x&\\xdf\\xe7\\xd1\\x06Ss@\\xf4\\xfa\\xdd\\xc4_\\xb2{\\x9a\\x03\\x83w\\x02\\xde\\xeb\\xea\\xe2\\xb8\\xaa>u\\xee\\xd9\\r*P$[\\xddAR\\x88\\xc7W\\x01\\xd7\\xa2\\xdf\\xcc\\xab\\x05\\xbea\\xf2\\xda}\\x1f\\xc4\\x7f\\xa2\\x9e\\x956\\xc0\\x00\\x01\\x01IN\\xc5J\\x9c\\xc8\\xb6\\x9e\\xcaj\\x87C\\x03\\x00\\x93\\xdb\\xf5N \\xc0\\x806\\xb8\\nJT\\xe4\\xcb\\x85\\xf7\\xe9\\n\\x1b5]\\x0c\\xa3G\\xcbl\\xed\\x07~\\xa8\\x97\\x06\\xdd\\xd1\\xe9\\x16i\\xdb\\xff\\x00(\\xd5x\\x986\\x85Y\\xe0\\xd4\\x12&\\xfdUQ=\\x05\\xd5\\xb5\\x93$\\x98\\xe144\\xbc\\xc4\\x92\\x07@\\xa4e $\\x99q\\xda\\x05\\xbf5a\\x95\\x05  \\x80\\t\\x89\\x16@@\\xdc#\\x9bw@\\xff\\x00\\xa9=\\x98za\\xd2L\\x93m\\xe1?\\xcd\\xd4w$\\xc1\\xdd\\x10\\xcb\\x02[\\'t\\xb0\\x12Z \\x06\\x89\\xe3\\xaf\\xdd ]b$\\xfb\\xa9\\x08\\x01\\xc3\\xfb\\xa69\\xe2I\\xb5\\xacB\\xa8\\x04\\x12lL\\x9b\\x19Q<\\x17\\x13\\xc8\\x1b\\x84\\xf3U\\xa0\\x83`y\\x94\\xca\\xb5\\xe9\\x86\\xc5\\xc7YVHYV\\xa9\\x00X\\x1brV^.\\x90u3#\\xe87\\x99Z\\x15j1\\xd7\\x0e\\x03\\x8b\\x0eUG\\xb4\\x183\\xb4\\x9b\\xf5Z\\xae\\xcc%\\xd1\\xc6gXc\\x87\\xc6>~W\\xdc\\x18\\xddg\\xc1i\\x1c\\xdb\\x80\\xba\\x7f\\x11\\xd0\\x0f\\xc32\\xa3\\x04\\x16\\\\\\xda\\xf0\\xb9\\x82a\\xa6L\\x9b\\x90>\\xabc\\x8eK`\\x11\\x04\\x1b\\xa4\\x917<wI\\x05\\x18\\x0e\"#\\xaf\\t]\\xc6y\\x84\\xd6\\tbF\\x05\\xb9Y\\x16}\\x0e\\xbf)\\x06\\xce\\xf1\\xb7\\xdd\\t\\xe1\\xa3\\x8d\\xd2\\x00\\xb4t\\xe8\\x86c\\xb4\\x82\\xeb\\x88(D\\x1e\\xdb\\x84=\\xe4\\x92\\x91%\\xc0\\xec\\x08\\xea\\x86\\x91\\x08q\\x04\\x8d@\\x03\\xc0\\x08\\x91-\\x04\\\\\\x0f\\xc9\\x07\\x12\\xdb\\xed\\x16Bm\\x17\\x84\\x12W\\xb0\\x87F\\xd3m\\xd1\\x9ft\\t\\x00\\x18\\x12\\x90\\x96\\xfb\\xa8fh&~\\x8bG*\\xa5:\\xaaL\\x01a<\\xac\\xe2m\\x0b\\x7f\\x01DR\\xc36M\\xce\\xff\\x00Ux\\xa2\\x12VW\\xc4\\x8dX\\xfc(\\x03\\xf8\\x96\\xf6\\x90\\x1a/soe\\x87\\x89h\\x18\\xdc.\\xe4\\x8a\\x83`\\xba\\x16\\x00[\\xd5M+gBTT\\xc0\\x13N\\xa5Jzl\\r\\xbe\\xaa\\xc9a&\\xdb\\x9eB\\x80\\xd3\\xd1V\\xfb\\x81s\\xd5^\\x1a^\\xd0H\\xb1\\xbd\\x94\\xb7E\\x85I\\xa6\\xa3\\x08q\\x91\\xcc&\\xe4\\x95\\x1d\\x83\\xc6>\\x84\\xc8\\x0e\\xd4\\xd9\\xe8T\\xcc\\x01\\x86\\x07\\xd2B\\xaf[\\xff\\x00o\\x89\\xa1X\\x08\\xbe\\x97GE\\x995F\\xaegC\\xcb\\xa8\\xda\\x8d\\x04\\x80f;+L#\\x11\\x83q\\x92\\\\\\xd1;\\xf0\\x81#\\x11\\x84\\x11\\xbb\\x7f%W-\\xa8)\\xd5u\\x07\\xfb\\x7feCFee\\xae-\\xa1R\\x91\\xbe\\x9cK\\x84\\x1e\\xe6\\x7f\\xaa\\xea\\x1al\\xd9\\x02\\xcb\\x94\\xa0\\x0b3\\\\M2/\\xe75\\xde\\xd2?\\xd9ut\\x84\\xb4t\\x9b\\xab\\xde\\x8c\\xd6\\x99y\\x8d\"\\x98\\x00\\xc1\\x07p\\xa8\\xe3$\\xb5\\xfc\\x9d\\xa5]\\xa6\\xe0(\\x13\\xbc*\\x18\\xa7z\\x1dk\\x93c\\xca\\xaaf\\x92\\xe8\\xb3\\x86\\x03I;\\x18U\\xb01\\xfe\\xafRE\\xb4\\x1f\\xd4)\\xf0\\xe0\\x90\\xff\\x00\\xf9B\\xad\\x82w\\xff\\x00\\x16|O\\xc8\\x7fP\\xa5\\x11\\xd5\\x1d\\x15\\x12d\\xce\\xdc\\x00\\xa7\\x00\\x9e\\xf0vUh\\x1fW\\xf6VA \\x0b\\xcf\\xb7E\\xcc\\xcd\\xd0\\x85\\xdd\\xbd\\xce\\xea*\\xb6\\x8b\\x03\\x1b\\xa9\\x89\\x87Z\\xfe\\xca\\xbdki\\x89\\x05J$\\x8a\\xa8\\xe7q\\xfa\\xaa\\xcf7<\\xa9\\x9e\\xe1\\xa4\\xc5\\xcf\\xba\\x88\\x92\\x08\\'o\\xcdm\\xfd\\x19\\xb0\\x8b\\x911\\xa6z*y\\xdeSO5\\xc1\\xf9\\x15\\x00\\x0e\\x12X\\xf1\\xbbJ\\xbfL\\x92\\xeb\\xec\\x0e\\xc0*\\x98\\x97U\\xc1I|\\xd4\\xa2d\\x92.Y\\xd7\\xdc*\\xb4\\x9a\\xa6Z-\\xad\\xa3\\xccs,\\xb3\\x11\\x95\\xe2\\xfc\\xacC\\x08t\\xfa\\\\6w\\xb2\\xa6\\xd9v\\xa0F\\x9e.\\xbdK\\x17\\x82\\xc3\\xe6\\x98r\\xc7\\xb4V\\xa6y\\x06\\xe0\\xf5\\x95\\xc7\\xe6\\xbe\\x15\\xaf\\x80\\x0e\\xa9Fq\\x14fF\\x91\\xeao\\xb8\\xe8\\xbc\\\\\\xfe\\x1b\\x8b\\xbc}\\x1e\\xae/%K\\xf5\\x99\\xcd\\x96A\\x01\\xa2\\xfe\\xdb\\xa7\\xd3\\xde\\xf0\\'k)t\\x12d\\xc2\\x81\\xac-m\\xe4\\x95\\xe5I4\\xe9\\x9e\\x8a\\xea\\xc7\\x96\\xc3\\x81q\\xf4\\xa9\\x00\\x10H\\x81y\\xbf*\\x07\\xd45\\x01\\x00\\x82:B|\\x10\\x00\\x1fPE\\x94tI#\\x1f\\xe91\\xcd\\xa0\\xa3M\\xe6\\x0b\\xa4\\xea\\x9e}\\x94p\\x00\\x04\\xec-\\n6?K\\x8bM\\xba]^\\xc5\\x13\\x12M\\xe2\\xf3s\\xdd#P\\xc4\\xb8\\x02\\x0f\\x12\\nax7\\x04\\x03\\xc2k\\xc07\\x04\\x00:\\xf2\\x8e_d\\x80\\xd4\\r$\\x86\\xc7r\\x99.q\\x90\\x08*7=\\xefp\\x9bI\\xd8\\xc2s]}\\x89tD\\xac\\\\\\xac\\xbb\\x8f\\xd0\\x8b\\x800F\\xaen\\x83\\xf5<t\\x13h\\xe1+\\x00\\x08\\x11\\xab\\x80bRmP\\xdd\\xc6\\xa0y*\\x97e\\xd2\\x1c\\xd7@;\\x93?B\\x8b\\\\\\xedV\\x82\\x07\\xf5L\\xa4n:M\\x80O\\x07\\xd5\\xd3\\x82\\x14\\x86\\x89\\x03X\\x1a\"A\\xdb\\xd3\\xc2{\\x8bC\\xdc\\xd1 uI\\xad\\x12\\\\\\xd3\\xbf\\t2@\\x1a\\x8d\\xc9\\x92\\xb42wc\\x98\\xc0\\xd6\\x17\\x1b\\x0fe\\xdfxW)~_\\x97S\\xd7j\\xd5\\xfdo\\xe2:\\x0f\\xe8\\xb9_\\x0ee\\xa34\\xcci0\\x8dT\\xa9\\x1do\\x0e\\xd8\\xf4\\x1f\\xd5z;\\x00k\\\\LA\\xb0\\x81e\\xee\\xf8\\x18\\xe9sg\\x8d\\xe5\\xce\\xdf\\x14\\x10\\x0b\\xaa\\x17F\\x9d6\\x01\\xb6\\xef\\xfd\\x145\\xde\\xea\\x14^\\xe9\\x97\\x18\\r\\xb4\\x1b\\xff\\x00\\x85Yd\\xc0\\x04\\xf6\\x88\\xdc\\xff\\x00\\x92\\xa9b\\t\\xad\\x8b\\x02}\\x14\\xef~\\xbf\\xe1^\\xb2<\\xe6\\xc9p\\xcc\\x14\\xe8\\xb5\\xa6\\xe4\\xeeg\\x9eT\\xec\\x04\\xd4\\x89\\xb2\\x89\\x9d\\x8c\\xab\\x14\\x99\\xa8\\x8e\\xc3\\xaa2\\xa9\\x12Rf\\xb2D}7N\\xac\\xf0\\xd3\\xa6\\xfd\\x0cr\\x9c\\xf7\\xe9!\\x8c\\x1f\\xbc\"OV\\x8e\\xaa\\xb3\\xaa\\xb6\\x94\\x00u\\xb8\\x0f\\x9e6T\\xab4\\xba$p\\x00\\x87U O\\x03x\\xee\\x98\\xc0\\xecE`\\x1d\\xe8\\xa7\\xc0\\x1b(_T<\\xed$\\x9b\\xc5\\xd4\\xd4h=\\xdci\\x07\\x81\\xba\\xb5Wen\\xde\\x89*:\\xad*\\xe5\\xb4\\xc84\\xcd\\x9b#e%\\xeai\\x1ad\\xf2\\x93h6\\x987\\xbf]\\xd5\\x0c^`j\\x93C\\t5]\\xb1x\\xb3\\x1b\\xf5\\xe7\\xe8\\xab\\xd9n\\x8b\\xe5\\xec\\xc3\\x02^\\xe61\\xa3w\\x13\\x16\\xf7Tkx\\x87\\x03D\\x10qt\\xdc\\xf8\\xf9Zu~\\x8b-\\xfe\\x1feZ\\x9ev6\\xa3\\xab\\xbb\\x80\\xed\\x87\\xb0S3\\rO\\x0c\\xd2(Qk\\x08\\xe4)\\xe2E\\xb2\\xdbsFUhsi\\xd4\\xd3\\xc3\\x8bt\\xcf\\xddAW8->\\x9a\\x0ew\\xfd\\xe0(\\xddE\\xef\\x99\\x05\\xde\\xeaQ\\x97U.\\xd6XX\\x0f\\x04p\\xad\\xa4F\\xd9F\\xb7\\x881\\x01\\xc07\\x00\\xfa\\x93\\xc0\\xa8?\\xb2ss,]q\\xeb\\xc0\\xbe\\x98;\\xcb\\xdbev\\xb3\\x9b\\x87\\x07g\\x1eI\\xb2\\xcd\\xc4V\\xa9X\\xe9\\xa7\\'\\xfe\\x9d\\x95\\x92\\xb36\\xe8e|\\xea\\x8e\\x0cj\\xafM\\xf4\\xc0\\xe4\\r_xU\\xe9x\\x83\\x05\\x98\\x1d8|K\\x1e\\xfeY0~\\xc5?\\xfd-\\xf5\\x1c\\xe3R\\x0c\\xc5\\x8b\\x95\\x0cw\\x86p8\\xa15\\x1a\\xd6\\xb8\\x7f\\x13,B\\xb3\\xa4\\xf4f\\xcd\\x0c]??\\x0fQ\\x82\\xe2\\r\\x97\\x1ci\\xc1\\x82\\x0c\\xed\\xba\\xc5\\xc6\\xf8\\xa7\\x17\\x94x\\x86\\x96_\\x97\\xe3\\x8e7\\x0e\\xd0EP\\xf1\\xac\\x03?(=V\\xe3\\xea\\xf9\\xce5\\x08\\x01\\xce\\xbc\\x05h\\xca\\xcc\\xa4\\xe8\\r\\xe9\\xb8=xI\"@\\x99\\x16IX\\xa7&s`\\xc8$\\x0fO\\xea\\x89\\x16\\x98@M\\x81\\x91(\\xfd`L]dY\\xab\\x06\\xe4\\t\\xb2M\\x99\\xb9\\x07\\xbc!\\x13\\x04o\\xbaA\\xa7\\x83\"\\x10R$\\xe2I\\xbfd-rm~\\x12\\x03\\xd5\\xd5\\x11\\x05\\xc6\\xe0\\x8e\\x88H\\xd2O\\xb8\\xdbtLF\\xff\\x00@\\x871\\xf5H\\x91&\\x05\\xd0>\\x83q\\x07b\\x89\\x92; .\\x7f\\x98\\x0eR&\\x0e\\xf0\\xa1\\x99\\x16p\\x14<\\xfcM6\\xc6\\xd7?E\\xd2i\\x03H\\xed+/\\xc3\\xd8ys\\xaa\\x91\\xb9\\xd2.\\xb5\\xaa\\x00\\x1e@\\xb7@\\xb5]\\x16\\x823sQ\\xe5\\x8aU[m\\x15\\x1aI\\x1bou\\xd1\\xd1h{9<\\xc8+#0\\xc3\\x1cN\\x06\\xa3w\\x05\\xb1\\x03pU\\xec\\x8e\\xbf\\xe2r\\xfa5?\\x88\\xb4K\\x7f\\xe6\\xd8\\xfeaQ\\xf6l>\\xb5?.\\xabLD\\x1d\\xba\\xa9i\\x9f.\\x0f\\x04\\xc9\\xb5\\x93\\xf1\\r\\x0e\\x00lE\\xfd\\x92\\x1e\\xa6\\xc1\\xb5\\xac\\x14=\\x96\\xf7D\\x82\\xed<\\x81\\xbaf\"\\x89\\xabB\\xa3w$N\\xae\\xfc#OSI\\x06w\\xe9\\xba\\x98\\xb4\\r\\x84\\x83d.X\\xcaq>u&\\xce\\xeem\\xff\\x00\\xaa\\x8f\\x1e\\xc3F\\xab*\\x81\\x00\\x18 tQe\\xaf8|[\\xe9L6u7\\xd8\\xee\\xaef\\x83M\\x02\\x00\\xbcL\\xf5U]\\x8fF-3\\xaf\\xc4!\\xcd\\xb8\\xa8\\xc0\\xe3\\x1d[ \\xff\\x00E\\xd3\\xb1\\xc0\\x8d\\xe7\\xdc.O-\\xaa\\x1f\\x9dRd\\x98\\rq%u{\\x10\\xe3`z)\\xa3?v\\\\h\\xd5\\x866\\xbc\\x1f\\xd1R\\xc4\\x82\\xd6my\\x01^\\xa0\\xe0\\xea`@\\x93k*x\\x97K@\\xe6~\\x8a\\xa6\\x8fh\\x9e\\x80\\x1a\\\\M\\x8cI2\\xaa\\xe0\\x8f\\xff\\x00\\x14p\\xb8%\\xae\\x02\\xca\\xe5!\\x14j\\x18\\x12DYP\\xc2\\x1dY\\xa4\\x9d\\xbd[\\xfb+/d=\\x1d%\\x10\\xedS\\x16\\xdaT\\xe4@;\\x92xU\\xb0\\xe6\\x01i&U\\x86\\x92\\x0f\\xf4\\\\\\xef\\xb3\\xa1t\"\\xf2\"\\xf0\\xa2\\xac\\x0c\\xf4\\xe0]=\\xe7\\xe5\\n:\\xee-\\xd0\\xa7\\xda%\\x95\\xdc\\xdd2&\\x0c\\xf0\\xa1?)\\x1a\\xa4\\x9b\\xd9KX\\x88\\xb1\\'\\xba\\x80\\t \\x0bvZ\\x99\\x16(\\x99p\\x17\\x99\\xbaU\\xcc@\"G\\x10\\x95\\x02\\x1cg\\xaaU\\xfdn\\x88\\xdc\\xfd\\x94>\\xcb.\\x8c\\xc7\\xe0\\x857\\x17\\xe1\\x9c)8\\xcc\\x88\\x96\\xbb\\xdcu\\xee\\x13]\\x8e\\xf2\\xdd\\xff\\x00\\xb9\\xa4\\xeaFc\\xcc\\x17i\\xfa\\xfd\\xb7\\xea\\xae\\x06\\x87\\x17\\x19\\x81\\xb7O\\xf2\\xc9\\x8el\\x9fS}&v\\x1c+2\\x86>g\\xe1\\xec&g\\xfb\\xc0\\x03j\\x1d\\xaaR\\xf9\\xbe\\xa3e\\xcc\\xe3\\xfc+\\x8a\\xc29\\xdaG\\x9c\\xd6\\xf3O\\xe6\\xfb.\\xd9\\xd8\\nl|\\xd2>Q?\\xfd\\xbf\\x94\\xfd6I\\xac\\xaf\\xf2\\x9d8\\x96\\xce\\xe2\\xc4\\x7f\\x9e\\xeb\\x97\\'\\x8f\\x8f/\\xf2GN?\"p\\xf6y\\x85JF\\x9c4\\x82 \\xc1\\x04\\\\uCV\\x96\\xd8\\xfa\\x89\\xd9z63.\\xc2f\\x05\\xc2\\xad&\\x8a\\x93\\x1e\\xab\\x11\\xf5X8\\xdf\\x069\\x8e\\x9c5Q\\xa0\\x0f\\x91\\xff\\x00\\xdc/#7\\x81\\x92\\x1b\\x86\\xd1\\xeab\\xf3!-H\\xe5\\x80\\xd3r`\\x1b\\x01\\t87U\\xc5\\xe1]\\xc6e\\xb8\\xbc\\x0b\\xbf\\x7f\\x87~\\x8f\\xe6\\xdd\\xbf\\x92\\xa2^\\x1c\\x0c\\x86\\xae\\x17\\x19GRGj\\x94^\\xd3\\x1a\\xf7\\r@\\x08\\x00\\x94\\xdb\\xcd\\xcd\\xc1\\x80?\\xaaO\\xd4\\x1b\\xdc\\xf5I\\xa4\\x92#~J\\xc2N\\xcd\\x12\\xd5\\x89\\xe6oy\\xea\\xa3\\xe2\\xd7\\xfe\\x89\\xefl@\\xbf\\xf6L\\x03K=FD\\xc4\\x03\\xba\\xa1\\xaa\\xe8\\x07\\xeb\\xbf\\xd8(\\xc3Iq\\xd4!\\xb0c\\xb5\\x94\\xc1\\xae\\x00\\x07\\x00z\\x18M\\xf2\\xdd\\xa0\\xbbn\\x08\\x1b\\x80\\xa2\\x98\\xb1\\xed>X\\x00r\\x9f\\xac\\x08t\\x1b\\xfd\\x14mk\\x89\\x10&\\xf3\\x03\\xa2\\x9bN\\x99\\x16>\\xc9\\xb6Ct>\\x98\\xd4?\\x88\\x91\\xd4)t\\x90\\xe1\\xa4\\x178\\xd9\\xad\\x1c\\x9e\\x89\\x8c\\x9aW;\\r\\xee\\xba\\xdf\\nd&\\xa5F\\xe3\\xf1,\"?\\xe0\\xd2p\\x83\\x1d}\\xd7\\xa1\\xe3`yd\\x91\\xc3\\x9f2\\xc6\\xac\\xd9\\xf0\\xc6L2\\xac\\x03C\\xaf\\x88\\xab\\xeb\\xa8\\xe1\\xd4\\xad\\xa0\\xddn\\xdeCm\\xf5MtR\\x10?\\xe2\\xbc\\xda6\\xee~\\x8ajm\\x14\\xe9\\x81\\xc4l\\xbe\\x95EA%\\x1e\\x8f\\x01\\xb7\\'l\\x8a\\xadO&\\x9b\\x9eA1{\\x9e\\x7f\\xc2\\xa9\\xd1\\xa4\\x1a\\xc2]\\xf3\\x13\\xa8\\x9e\\xeaLe@\\xea\\xcd\\xa6\\x0c\\x86\\x8dN\\x8f{\\'Sl\\xc1\\x89\\xe9\\x0bE\\xd1\\x9b\\x1c\\xc0\\x08\\xbd\\xcf\\x1d\\xd5\\xea@Q\\xa5\\xa8\\x90\\x04X\\x14\\xcc5(n\\xb7@\\x00IUq8\\xa1Z\\xa1\\x83 \\xec\\xd5^\\xcb-luLN\\x90Z\\xc2I7s\\xce\\xee)\\xb4\\xf0\\xf5+8\\x1fQ\\xb6\\xe9\\xd4p\\xa4\\x96\\xba\\xa5\\xada\\xd5h1\\xb2\\x07\\xf05Kt\\x82VGG\\x0bN\\x88\\x02%\\xc5J\\\\A\\xd2\\x1ad\\x88\\x80\\xa5\\x14\\xc3@\\x9fH\\xef\\xbas^\\xd0!\\xad\\x00t\\x95\\x95\\xd9t\\x88*a\\x99T\\x11T\\x17\\xf5cL\\x03\\xef\\xd5\\x1f%\\xac\\x001\\x81\\xa0\\x08\\x00Y<\\xfc\\xf3\\xf4Q\\xba\\xa0\\x8b\\x90=\\xd3l\\x91\\x8f\\xc3\\xeb\\x89p\\x8e\\xa8y4\\xa9\\x9bo\\xd0%\\xe7\\x97\\x11\\xe5\\xb1\\xd5N\\xdd\\x04\\xfb\\xa8\\xdd\\x87\\xafT\\x02\\xfa\\xa2\\x94\\xf0\\xc1.\\x8fr\\xa4\\xad\\x87\\x11\\x8c\\xa5\\x84\\x00\\xb9\\xc1\\x96\\xfa\\xac\\xda\\xb8\\x9cn<\\x96\\xe1\\xa8\\xf9L;T\\xa9s\\xf4\\x0bA\\x98\\\\6\\x1c\\xea\\x80\\xe7o\\xa9\\xe6IB\\xbe6\\x9d M\\x9a8&\\xc1]2\\x1b\\xfbfp\\xca\\x0b\\xef\\x88\\xa8j\\xbe\\'\\xd4l\\x9f\\xe4\\xd3\\xa2\\xc1\\xb0\\xe8\\x00T\\xb1\\xbe\\'\\xc2\\xd3i\\xd3P\\xd7p\\xfe\\x1aCTv\\xe8\\xb03\\x0c\\xe70\\xc7\\x976\\x8bF\\x11\\x84|\\xdf3\\xff\\x00\\xb0Z(\\xb6b\\xdaF\\x8es\\x9ea\\xf2\\xf0Ap/\"t2\\xee\\'\\xd9y\\xef\\x89\\xb3\\xdcv.\\x8f\\x97\\xac\\xe1\\x99T\\xe8\\x0c\\xa6}DrI[g/\\xf2\\xe5\\xc4\\x1a\\x95\\r\\xcdG\\xdc\\x93\\xee\\xb9\\xccE\\'f\\x18\\xff\\x00H%\\x94\\xce\\x99;\\x05\\xa5Wg3\\x93\\xb37-\\xc9\\x03k\\xd0\\xadH\\xc3\\xdag\\xb1\\x1c\\x85\\xd4\\xc5\\xfd\\x8fT\\xda4\\x1bE\\xa1\\xad\\x10y#\\x95 xi70:\\xa2\\x8f\\xd1\\x9bv/Kw\\x98\\xec\\x92\\x04\\x83\\xd4uIX\\xb7\\x13\\x9c<\\x9eRi1nw\\x08\\x99\\x8f\\xee\\x84\\xcfh\\xe1cE\\xc4l{\\xa4\\xd2]71):\\x01\\x1c\\xcf)m\\x00\\xfeJ@\\xe0x\\xd8\\xf5H\\xdaH3;\\xa6\\xf3\\x03t\\xe3.\\xb4m\\xca\\x01@l\\x11r\\x94\\xd8\\x8e\\'\\x84&l\\x811\\x04r\\x802\\t\\xe5\\x19$\\xf5\\x1b\\xa6\\x8fT\\xdfc0\\xaf\\xe59s\\xf3LH\\xa6\\xd2\\x18\\xd1rJ-\\x95\\x96\\xf4\\x8d\\xdc\\x9e\\x8f\\x97\\x87n\\x9e\\x07\\xebu%R[P\\x1d\\x87Eu\\xb9]l\\x1d1\\x00To.f\\xca\\xae\"\\x9b\\x8b\\xda\\xe1c+R\\xeb\\xa2\\xcd&\\x87\\xb3N\\xc6>\\x8a\\xb6J\\xdf\\xc3bq\\x18b \\x07\\x17\\xb0\\x0e\\x85Z\\xc3\\xfa\\xa0\\x1el\\xa2\\xc6\\xd2\\xfc6*\\x8e!\\x9dt\\x990\\xa8\\xe8\\xba4\\xeb\\xd3\\xf4\\xff\\x00\\x97P\\x80=<B\\xb4\\xd8\\xabCSO\\x1b*\\xe5\\xb0l$\\xca\\xa9\\xa1 n\\xb1 I\\x17RR\\xb8\\x87M\\x85\\xa1C\\xf2;\\x98<)\\x08\\x1a\\xa6>\\x81CD\\x8d{tW\\xa6\\xfe>WwW1\\xcf\\x9c\\x16\\xa9\\x92\\x077U\\xab8y\\x1a\\x9b\\xb03\\xb2\\x90\\xb8\\xd4\\xc0T\\x9e9\\x84\\xec\\xa5\\xec\\xe7r7\\x8a\\x9e \\r\\x07jn;\\xfb.\\xc9\\xf0)\\x8bm\\xb0\\x0b\\x8a\\xf0\\xd9\\x1f\\xfa\\x86\\xa4\\x1b\\x8aD\\xc9\\xf7\\x0b\\xb4\\xc4zX\"A\\xf7RP\\xd0\\xc1\\xb88\\x03=\\xec\\xaab.Z,=Jl\\xb9\\xc0\\xd1go\\xaa\\x8b\\x12\\x07\\x9b\\x1ckQ\\xec\\xd3\\xd5\\x93\\xb4E\\'\\x1e\\xa0\\x90Vv\\t\\xc4fMq\\xd9\\xceu\\xbf\\xedZ#\\xd4\\xc3\\x04Ye\\xe1\\x1c\\x0e=\\xa4\\x99\\x978\\x0f\\xff\\x00\\x12\\xa6\\xfd\\x13/GM\\x87\\x87T\\x1c}T\\xee\\x89\\xeb<\\xaa\\x98w\\x16\\x91x3\\xca\\xb9\\x11\\xc4,\\x19\\xba\\x073\\xf7Q\\xe2[\\xa9\\xac\\x1cl\\x9f\\xbb\\x80\\x9f\\xafE\\x1e\"\\xe1\\x83\\xa0\\x91(\\xbb\\x12\\xe8\\xa8\\xf2C@\\x1b\\x03\\xf6A\\x8d\\x07\\xef\\xb1N\\xe4mt\\x04\\xea\\x907\\xfdV\\x86d\\xf4\\x00$D\\x007Q\\xd6\\x1e\\xab\\xf72\\xa5\\xa0\\xe8p\\x06\\x0c\\xa8q3 \\x1f\\xbf^\\xaa=\\x97KE{\\xd8[\\xeaR/\\x14\\xfb\\x9d\\xee\\x88\\x02>YL}\\xaeH\\x03\\xd9]\\x94\\x1a6u\\xe0\\r\\xc8\\xfc\\x90>\\x93\\xe9\\xe6\\xc8\\x90\\x03H\\xb6\\xa26\\x015\\xcd\\xd2\\\\\\x1b\\xb8\\xe0}\\x95@\\xe9k\\xc3uS\\x0e\\xf7M8v\\x87z\\x1eY\\xc6\\x97\\x99\\x07\\xfa\\x84\\x1a\\xe2\\xdd\\xee\\xd3\\xd5<<\\xdb\\xd3\\x03u4E\\x90\\xba\\x9c\\xc0\\xa9J\\x7f\\xe6e\\xc7\\xd7\\xec\\xb3\\xf1>\\x1b\\xc0fa\\xe4\\xd1kI\\xfe*gLu[F\\xdb\\x1b\\xf4\\x1e\\xea\\'Sk\\xc8\\xd4\\xd9w\\xf36\\xc5RQRT\\xd5\\x97\\x8c\\xa5\\x17i\\x9c~+\\xc0\\xcf\\x99\\xa5\\x88\\x04\\x1e*7\\xfa\\x85B\\xaf\\x853\\n\\x13\\xa6\\x87\\x98?\\xfd\\xb7\\x03+\\xbfe\\x1a\\x8d>\\x8a\\x92zT\\xfar\\x13\\x8b\\xaa6K\\xa8\\x17\\x007\\xa6A\\xfe\\xc5q\\xcb\\xc2\\xc5/Tu\\xc7\\xcb\\xc8\\xbb\\xd9\\xe5\\xf5\\xb2|]2[S\\rU\\xa3\\x80Z\\xab\\xd4\\xc2=\\xb5\\x07\\xee\\xde\\xdb\\xc5\\xc1\\x0b\\xd5\\x0e.\\x88\\x07S\\x9dD\\xf4{H\\xfdR\\x15p\\xefl\\x9a\\xb4\\xcb\\xb7\\x00\\x91\\xca\\xc1\\xfe;\\x1b\\xe9\\x9bG\\xce\\x9a\\xed\\x1eVZ4\\x81\\xb1\\x88\\xb2\\x86\\x1dx\\xdb\\xf2^\\xb7\\xe5aj\\x1fKi\\xff\\x00\\xf8\\x82\\x9c0xw\\x08\\xf2\\xe8\\x9e\\xdaVo\\xf1\\xcb\\xff\\x00\\x91u\\xe75\\xba<\\x9e\\x9d\"\\\\\\x1b\\xa7V\\xad\\x80\\xe1ha\\xb2Ln3Kh\\xe1\\xaa\\x1d\\xa5\\xce\\x1aD}W\\xa52\\x85\\x1a7\\r\\xa3J9\\r\\x02S_\\x8e\\xc34\\x96\\xea\\xf3\\x0f\\ri\\x9f\\xc8-c\\xf8\\xf8\\xae\\xd9\\x9c\\xbc\\xd9>\\x91\\xcd\\xe5\\x1e\\x0ff\\x16\\xb3*\\xe3#\\x11X\\x10E6\\xfc\\xad=\\xfd\\x97J\\xe7\\x8a\\x0e\\r\\x83Q\\xe7\\xf8F\\xc3\\xfc\\xea\\xa3\\xf3k\\xd6\\x0e-h\\xa2\\xc8\\x99|O\\xd0)\\xe9\\xd2\\xf2\\x1c#\\xd4\\xe2n\\xe3\\xb9^\\x86<q\\xc6\\xb8\\xc5\\x1c3\\x9b\\x9b\\xb9\\x12Pd:\\\\Aq7\\x8f\\xd3\\xf3V\\x0b\\xc3[& \\t\\xfe\\xaa*FGB,!E\\x99V4\\xf0\\xa45\\xc4\\x17\\xfaG^\\xebB\\xb7H\\xabM\\xdey\\xd7}N2=\\xb8Z\\x14\\xa9\\x17\\xb9\\xa3\\x81\\xbfeS\\x0bL\\x03`w\\x80\\xad\\xd5\\xaah\\xb7\\xca\\xa6Ay\\xb1\\'\\x84\\xefE\\x10\\xdcm}dP\\xa2g\\xafd\\xec.\\x19\\xb4\\xfd?3\\x86\\xef;\\x040\\x949h\\xd3?\\xc4w*\\xdb\\x1b\\xe5\\xb6\\x1aDu#\\xf4\\xfe\\xea\\xaf\\xe8\\xba^\\xc7\\xb5\\x80\\x0b\\x92\\xe7\\xf3\\x7f\\xf2\\x14\\xb6`\\xb5\\xcf\\xe8\\xa2\\x04\\x01\\r\\xe6\\xf3\\xd5\\x17Tk]\\x06I\\xe8\\x16tid\\x8eu\\xe4\\x9b\\x94\\xc7\\xd6m(\\xd4o\\xc0\\xea\\x83\\x83\\x9e\\x0c\\xb8\\xd2\\x1ci\\x02~\\xea\\x06\\xe0(5\\xe5\\xc7[\\xc9\\xdc\\xba\\xa1\\xba\\x9a\\xb1TJ\\xfa\\xe0|\\xc4R\\x03\\x97\\x18\\xfc\\x95g\\xe6\\x18JW/\\x15\\x0c\\xef\\x05\\xdfe/\\xe1\\xb0\\xed6\\xa2\\xcd\\xb77\\xfb\\xa6\\x13A\\xb6!\\x8d?\\xaa\\xb5\\x10W\\xab\\x9d@\\x86P\\xa8I\\xda\\xc1\\xa3\\xf3Ukf\\x98\\xa7\\xd82\\x9b?\\xeat\\x9f\\xc8+uq\\xb8f@&\\x9e\\xaf\\xa5\\x95*\\xd9\\xce\\x1e\\x9e\\xdazY\\xaa\\xc9W\\xa2\\x8d\\xa2\\x9dlF!\\xe6\\rw\\x06\\xff\\x00-6\\x86\\xcf\\xd6\\xea\\x9dL\\'\\x9a\\x01s\\rW\\\\\\xcb\\xdc]\\xfa\\xab5\\xbc@\\xd1%\\xb4\\x03\\xf8\\xb8\\x01gV\\xf1\\x06!\\xad\\x01\\xb8K\\xf5\\x10\\xb5\\x8al\\xc9\\xb4Yn\\x01\\xf56h\\x1d-`\\x95l+(\\xdd\\xe4\\x17E\\xefb\\xb1q>)\\xccl\\x1b\\x85\\x83\\xdd\\xd6\\xfd\\x16\\x1e79\\xcc\\xf1R\\xd79\\xb4uZ\\x18/*]\\xb3\\x16\\xd273<[Z\\xef-\\xa4k#a\\xc2\\xc6\\xa5M\\xb4\\x98\\x1a\\xc6\\x86\\x81\\xf7%7\\x0fH\\xd3\\xa7\\xeb.\\xa8\\xe2e\\xce&\\xe4\\xa9O\\xcb{s+Fb\\xdd\\x82f\\xc7}\\xd1\\x97rOt\\x89\\x80L@B\\xfc[\\xddCV@F\\xf6\\xb1\\xe9\\xd4\\xa4\\x81\\xbd\\xb6\\x1dJH\\x0ep\\xc9\\x11\\x13=PtGq\\xf9\\xa2\\\\@\\xd36\\x94\\xc2&\\xe0_~\\xe5dj \\x08\\x04uO\\x04\\x97\\x1d\\xc4&H\\x11\"I0\\x9e\\xd2$\\x92\\x80yu\\xf6\\xb6\\xc8LH\\x07t4\\x93\\xcai\\x04 \\x1d\\x02/\\xb1\\xdd)i\\x9d\\xec\\x80q\\xe6\\xd1\\xd0%$\\xc5\\xa7\\x9e\\x88\\x07\\x10\\x043\\xf8\\xbb.\\xc7\\xc2YsF\\t\\xf8\\x87N\\xba\\x84\\xc7`\\xb8\\xdd\\x81\\x1b\\x9e\\xeb\\xbb\\xc9Zie\\xf4Z\\xd7i\\x1a\\x05\\xd4\\xc5l%\\xbb-S\\xc7;\\t\\x88\\xf2\\xea\\xce\\x82l\\xf0?U\\xa1\\xf8:\\x18\\xf6\\x9f\\xe1<=\\xbf\\xd9b\\xe6D\\xf9E\\xc6\\xfb\\xab~\\x1e\\xc73\\x13I\\xa0?\\xd48\\x06\\xea\\xef\\xa2\\xcbD\\xf52\\x87a\\xef\\x01\\xec\\x9f\\x99\\xaa\\x0ce\\x02\\xfa@Aq\\xddt,s\\xa9_\\x8d\\xad\\xd1\\n\\xd8|> Dhy\\xb9 n\\xb35\\xa4a\\xe5\\xb5\\x01`k\\xa4q\\t\\xd5XiV\\xd3\\xd7\\x92\\xa7\\xab\\x95V\\xc3\\xd4/`\\xd4\\xd9\\x99a\\x98\\t\\xd8\\x86\\x12\\xc1R$\\xf3\\xee\\xa3\\xd9(\\xabs~\\xfb\\xcf\\t\\xcd\\xb1\\x92zB\\x90S\\x98\\xb9\\x826\\xe8\\x84\\x00\\x0c\\xc8\\x98\\xdd,\\x01\\xec\\xd2\\x03N\\xc7\\x92\\xa2\\x15?\\xf6\\xef\\xa6\\t\\x874\\x88V\\x9bL8\\x91\\xb8\\xb7eM\\xf2\\x0e\\xd2U\\xa3L\\x86c\\xf8i\\x84\\xe7\\xd5\\x1e\\xdf\\x97\\xca\"~\\xab\\xb2\\xc4\\x03\\xe5\\x1f\\xd5r\\xd9;\\x9a\\xcf\\x10\\xf9`D\\xd0q\\x8e\\x9e\\xa0\\xba\\xaa\\xa0\\x96\\xdf\\x82\\xa0\\xcc~V\\xe9\\x1av \\xc4\\x92\\xa4\\xc6\\xda\\xb3b\\xfe\\xa0O\\xd5T\\xcb\\x9d5j3\\x90g\\xb9W1\\xcf\\x9a\\x94\\xc8\\x16q\\x05CT\\xf6i\\xdcB\\xe7i\\xc3\\x9b\\xdb\\xa4,\\xbc\\x1b\\xff\\x00\\xf7l#o3\\x91<\\x15\\xa7X\\x06\\xd0\\x9b\\x81\\xa7\\xddd\\xe1\\xe0Vl\\x12\\x0f\\x9a\\x04\\xc2\\xb2V%\\xa6t\\xcc\\xdcH-\\x00\\xab:\\xb5So\\xf5\\n\\x9bC\\x8d&\\x0b\\xc7$\\x9b\\xa9\\xa9T\\x9a\\x90N\\xa80\\tX\\xb4m\\x16O\\xa8\\x8b\\r\\xb9P\\xe2\\x9d!\\xa6;n\\xa4\\xa8b\\xd1\\x1c(\\xb1N$5\\xa7m2\\xaa\\xbb%\\xbd\\x15\\x89$_\\xe8>\\xa9\\xc6m\\xc1)\\xb4\\xdc\\t\\xdf\\xa4\\xd98\\xcbL\\xef<\\xad\\n\\x16(\\xd8\\xf5\\x8e\\x8a\\xb6!\\xe4\\xb8\\x82\"\\xfb\\xa9\\xf0\\xc4\\x17\\xcc\\t\\x8d\\xd45\\xed\\x02\\'s\\xea\\xdb\\xba\\x1a.\\x88]\\xed\\xb0&\\x13A\\x93\\x04\\x92\\x07)\\xf0\\xd2\\x00\\x8e8)\\x10&v\\'xC0n&b/u\\ta-q\\xb9\\xb7!N\\xe6\\xcf~HMq\\x81$\\xd8\\\\\\x88\\x94\\x05WS\\x1e\\xa3\\xb1\\x07\\x9ft\\x18K\\xa3q\\xed\\xef\\xfe\\xca\\xcb\\xa8\\x99\\x8b\\xc7U\\x15J`8\\xc0\\x01\\xc3\\x98\\xde\\xd0\\xa6\\xca\\xd0\\xe6\\xd4\\x10\\x07\\xcc#u$\\x80H6\\x81\\xb9T\\xcd2&\\x00w\\xf5\\xd8\\'\\xb3\\x12u\\xe92\\t\\xd8\\x93\\xde7S\\xd0E\\xb6\\xfc\\xc0\\x833h\\xec\\x912\\xd1\\x1b\\x85\\x1bj\\x82>[\\xd99\\xafk\\xbbH\\xd8(&\\xc9\\x81.\\x10I \\xddD\\xec5*\\x87\\xd4\\xc6\\x93\\xc4\\xb6\\xfc\\xa4\\xd8\\xd2\\x0bm\\x1fn\\x13\\xb5\\x12lt\\x93\\x7f\\xd5A%o\\xc0\\xe1K]4Y\\x17\\x16l\\x1d\\x93\\x7f\\xd30\\xc4@\\xa4\\xd1\\xb9\\x80H\\xfb+.\\x00{\\x1e~\\x89\\x1bG\\x10\\x80\\x81\\xb9~\\x16\\x99?\\xb9\\x07\\xb9\\xf7*FS\\x18vz)\\xb4\\x08\\xd8\\'\\x02\\x03\\xf4\\xed\\xdd\\x1d\\x9a#\\xd4\\x00\\xdf\\xe8\\xa6\\xc0\\x06\\xa2c\\xe9\\xfa\\x04\\xf9\\xd2\\xc9\\xd4C\\xb6\\xfb\\xa8*\\xe2\\x9bO\\x88\\xbf\\xf5\\\\/\\x89|mW\\x11Q\\xf8<\\xb6\\xa6\\x81\\xf2\\xd4\\xc4\\r\\xcff\\xf4\\xf7X\\xe5\\xcb\\x1c1\\xe5#l8e\\x9e\\\\bvx\\xaf\\x11\\xe5x\\x0cA\\xa1\\x89\\xccp\\xd8z\\xe4\\xff\\x00\\xc3\\xa9P\\x07\\x0f\\xa7\\x1fTkb\\x1b\\x8e\\xc6R4\\xea6\\xad\\x16\\xb7V\\xa6\\x19\\x17\\xd9y@\\xc0Q\\xaa\\x1cj4Ts\\xee\\\\\\xfb\\x92V\\xef\\x80\\xabT\\xca\\xb3<^\\x048\\x9c#\\xe9\\n\\xcco\\x0cxt\\x10=\\xe5sb\\xf2\\xfeIS]\\x9dY\\xbc7\\x8e.Wtz1\\xaa(S\\x05\\xb0j\\x1b7\\xb2~\\x17\\n\\xe2u<{\\xc9Pa0\\xe6|\\xca\\xbbE\\x95\\xc7\\xd5.\\x04\\x0fC\\x05\\xc8?\\xd5w?\\xa3\\xcfE\\x87V\\x04\\x16\\xb0m\\xb9)\\x8f\\xc4\\xb2\\x835T~\\x9e\\x9dO\\xfb\\xaao\\xc4\\x18\\x8a{l^\\x7f\\xa7U]\\xd5\\x03\\x1e*\\x02\\xea\\x8f\\xfebd\\xfd:(\\xa2\\xf7\\xa2\\xd3\\xb3\\x1a\\x8fq\\xd24\\xb7\\xa9\\xdc\\xff\\x00d\\xd7fo\\xa5a\\r\\xeb\\n\\x83\\xeb\\x97\\\\\\xd9\\xbb\\xdd5\\x9e\\xa0l\\x0c\\xfeH\\x91e\\xd1m\\xd9\\x85s$>\\xd3\\xdbe]\\xd8\\xda\\xcf\\xde\\xa3\\x84t\\xb2\\x8d\\xe0\\xb8\\xc1\\xdb\\xbaN\\x1aA;\\x9d\\x94\\x926\\xa5j\\x8f\\x04\\x9a\\x8e\\x92z\\xa8\\x9d\\xaa\\xf3$m\\xd5H\\xf0\\x03@\\x8b\\xa8\\x9fs\\x00L\\xf2\\x86r\\x19Q\\xa2\\x07\\xf37\\x95\\x13\\xe0\\x93n7wT\\xfa\\xae\\x10f\\xc0\\xd8\\x9f\\xe8\\xa0s\\xcb!\\xc2/\\xd1X\\xcd\\xb1=\\xfaG\\xa4}E\\x95g\\xd5\\xf9\\xa7\\xda\\x025*\\xd8\\xc7\\xe6U:\\xd5\\xc8i6\\xb7U\\xacz1o\\xd9\\x1e*\\xbb@v\\xa3\\x06v\\x0b$\\x1do/\\x89\\x8b7\\xba~\"\\xbb\\xab\\xd5\\xd0\\r\\xb70\\x84\\x8d X\\x05f`\\xdd\\x86H\\x93\\xb4\\xda\\x11\\x06\\xf33\\xd9\\x07K\\x84\\xc4\\x90\\x90 \\x81au\\x04\\x04\\x9d \\xdam\\xc8D\\x1b\\t\\xde\"\\x10q=\\x08\\xef):#y\\xba\\x01\\xd0\\x1cD\\x1b\\x1e\\x12@2-h2=\\x92@s$\\xfd\\x90\\'i\\x13\\xdd-d\\t\"or\\x13K\\xb4\\x81{,\\x8dG\\x18\\x99\\x9b\\x14Y\\xf2\\xb8\\xd8\\x9d\\xff\\x00\\xf0\\x98\\x08\\x11?\\xa2\\x90\\x19\\x167\\x94\\x01\\x81\\x17\\x03\\xea\\x84\\xc1u\\xc7`\\x801s\\xfa\"fE\\xa3\\x94\\x00&\\xd1\\xf5N\\x99\\xdb\\xb4&\\xc6\\xff\\x00\\x9c%k\\xde\\xfb\\x84\\x03\\xa6H\\x1b\\x93\\xb2\\xf4<\\xbd\\xad\\x14i\\xdfH\\xd2=\\x97\\x9cU\\xa8i\\xd1|E\\x81\\x85\\xe8\\x99e_;\\x01\\x87{\\x07\\xa5\\xcd\\x04\\x1e\\xb6V\\x8fe\\x91&\"\\x97\\x99M\\xc3a\\xbc\\x15\\xcf`*;\\x07\\x8f{\\x03\\x83L\\xdb\\xaa\\xeb\\x1c\\xc8i\\x04\\x9d\\xe6\\x02\\xe7\\xb1\\xb8\\x7f+\\x18\\xd7\\xc4I\\x9b\\x8e\\xea\\xcc\\x93\\xa0\\xc2\\xe7\\x0ep\\x02\\xad\\xc4\\x81*\\xf8\\xae*\\x00\\xf6\\xb9\\xa6x\\x95\\xcd4\\x98\\x88\\xfa\\xf1\\nzU*Q\\xf9&\\xfb\\xc1P\\xe2I\\xd3P\\xae\\xe2e\\xb1\\xfa+\\xc4R\\xae\\xd9\\xa8\\xd0,\\x01slW5\\x84\\xcd\\x18*\\x00\\xe9\\x13b\\xba,+\\xd9Z\\x99\\x88\\x8d\\xc2\\xcd\\xaa4\\x83Ez\\xf9(.\\x0e\\xa4\\xfdRf\\r\\x8a\\x86\\xa6\\x01\\xf4L\\xba\\x9b\\xb4\\x9e\\xcb[\\xca!\\xb6\\xbc\\xf7RS\\xa8\\xf6\\x0b\\x93\\x07u\\x9d\\xd1\\xaf\\x13\\x9e-\\xd2t\\xe9\\x83\\xf7G\\x17\\x97\\nT|\\xc7H?\\xcb\\xb5\\xba\\xae\\x92\\x9d\\x1a.\\xf5\\x9am\\x1e\\xc1V\\xcep\\xe6\\xbe\\x18\\xb9\\x90\\x1b\\x11\\x1c\\xab)S+(h\\xf3\\x1c\\xbf\\x19\\xa7\\xc7\\xd8l<\\x80\\xda\\x98Z\\xb2?\\xe9-?\\xd4\\xae\\xf2\\xab=3\\x04\\xee\\xbc\\xbf\\x08\\xe7a\\xfe(\\xe0\\x99\\\\\\x168\\xb2\\xab[=\\x0b?\\xd9z\\xac@\\x98\\xb7ud\\xf6`\\x8a\\x18j\\x82\\x9ea\\x07\\x90\\xb4q\\xe6M\\x12-&\\x16=C\\xe5f4\\x8f[J\\xd7\\xc5O\\xe1\\xe8\\xbb\\x86\\xd4\\x852\\xd9>\\x98\\xccK\\xfd\\x00H\\xb8\\x85\\x9dHi\\xaa\\xd3s\\x15\\x1a\\'\\xea\\x15\\xbcK\\xe2\\x05\\x8d\\xae:\\xaa\\x94\\x86\\x87:\\xd1\\xfb\\xc6\\xef\\xd6B\\xbcU\\x13\\'l\\xdf\\x06\\x1a\\x0c\\x00M\\xbe\\x8azm!\\xa1\\xc0A\\xd4\\x08\\x1bE\\x95}\\xdbx\\x9e\\xc8\\xb2\\x90\\x0f\\x0e.\\xd4,Cv\\x00\\xacY\\xa2.\\x97\\xcc\\x11rz\\xa8qD\\x02\\xdeN\\x90\\x9c\\x0bEQ\\x04\\x99\\xe8R\\xc54\\x10\\xc74[\\x837*\\x9d2\\xefkE9\\xd2}&\\xc5=\\xd0[w\\x16\\x98\\x9b\\xa2M\\x89\\xb0\\x02\\xe6\\xdf\\x92a\\xb06\\xe2,\\xaeT\\xb3\\x87\\xb3\\x85\\xfb\\x18Q\\xe2H\\xf3\\x08\\xfd~\\xe5;\\x0c}@\\x16\\xf3~\\xe8b\\x07\\xaba3u\\x1e\\xcb\\xae\\x8a\\xc0\\xc9\\xb1\\xd26\\xec\\x90$\\x02\\t\\x00\\x1e\\'\\xfa&\\x1a\\x83h\\x93\\xd2!\\x16=\\xa4o`\\r\\xb9Ve\\t;\\xeeM\\xca,v\\xb1\\xbc\\x1d\\xf6\\x8b(EY2&/\\xbd\\xd3\\xf5@\\xdbLr\\xa0\\x12l\\xe8\\xdaf\\xc9\\xa5\\xa1\\xc3\\xed\\xf5\\xe5 `L\\x80?\\xc0\\x88$\\x91\\x02\"n=\\xa1\\x01\\x0b\\x99\\xa8\\x82:\\xa8\\xcd #P\\x07\\x93oue\\xc3\\x8fq?D\\x84DF\\xc7\\x80\\xa7\\xb2(\\xa4\\x1ai4\\xdeZv\\x8fn\\xa9\\xec{\\xa0\\x88\\x99\\x06\\xc7tqUia\\xe9\\xbe\\xadG\\x061\\xa0\\x92\\xe2v\\x1d\\xd79\\x89\\xf1\\xeeQ\\x87\\xa8b\\xbb\\xeb\\x00~jT\\xed\\xf70\\xa9<\\x90\\x87\\xf2t^\\x18\\xe7?\\xe2\\xac\\xe9[Pt\\x8f\\xa6\\xf7N\\x15\\x01 \\x00Du+\\x8a\\xab\\xf1+\\r\\x1ah`q\\x15\\x8e\\xe3\\xe5h\\xdf\\xebe\\x95\\x99\\xfcD\\xcc\\x1dLyL\\xc3\\xe0Z\\x7f\\x89\\xde\\xb7~k\\x96^^\\x18\\xfb\\xb3\\xa5x\\xb9_\\xa3\\xd2\\xf5\\xb4\\xba\\x00\\x93\\xfaYQ\\xc6\\xe7\\xb9~\\x04F#\\x1bB\\x91\\x13gT\\x13\\xf6\\x17^3\\x99\\xf8\\xab1\\xccIg\\xe2\\xebV;K\\x8e\\x86\\x0ff\\xb6\\'\\xea\\xa0\\xa5\\x94b\\xd9C\\xf1>c\\x8b\\xf7\\xde\\x02\\xe0\\x9f\\xe4\\xd2u\\x08\\xd9\\xdf\\x0f\\xc7Z\\xb9\\xca\\x8fY\\xc5x\\xfb\\'\\xc3\\x13\\xa6\\xb5J\\xf7\\x90\\xda4\\x9c\\xeez\\x90\\x02\\xc5\\xc5|I\\xabP\\x91\\x85\\xca\\xc8l\\x1f^\"\\xa4\\x13\\xf4o\\xf7\\\\/\\xfe\\xa0\\xc4\\x86S\\xa5K\\x06\\xda\\xb5\\xb6..\\xb7\\xd9*\\x19\\x8egI\\xe1\\xf5(\\xe1\\xcd?\\xe5\\r \\xfd\\xd7,\\xfc\\xfc\\xb2\\xebGV?\\x07\\x14v\\xcd\\xfc\\xff\\x00\\xc6\\xf8\\xcc~\\x1b\\xc84\\x06\\x11\\xcf>\\xb7\\xb5\\xf24\\xf4\\x07p\\xb2pt\\x1a\\x08\\x03a+W\\x0e0y\\xe6\\x17\\xcch\\xd1Pz_M\\xdb\\x83\\xfd\\xbb\\xac\\xfa\\xd8\\x1cNXI`\\xf3i\\x0e7\\xd2\\xb9\\xf2O&F\\xa57h\\xe9\\xc5\\x18bU\\x05E\\xfa.\\xf2\\xda$\\xedu\\xd5x\\x13*uGW\\xc7\\xd4\\x1f\\xba\\'E;\\xfc\\xd0n}\\xa5r\\x99-\\n\\x99\\xf6gK\\tJ[\\xac\\xcdG\\x0f\\xe0h\\xdc\\xaf]\\xc3~\\x17,\\xc3\\xb6\\x8b\\x1b\\x14\\xe8\\xb4\\r-\\xe0\\x7fu\\xe9\\xf8x\\xf9K\\x9f\\xa4y\\xfenE\\x18\\xf0\\xfb\\x19\\x88\\xc5\\xd3\\xa6\\x03\\t\\xd4\\xf0-M\\x9b\\x8f~\\x8a\\x07\\xe25\\xfc\\xe5\\xa4\\xff\\x00 6\\x1f\\xddR\\x0e\\x0e{\\xcbY\\xa0\\x12I\\x01\\x18\\xd2\\xfd[\\x9f\\xd5{UG\\x83\\xec\\x9e\\xa5g<\\x17\\x1b\\x8eBe\\xc8\\xda@\\xda\\x10q\\xd2\\xd8\\xb8\\xf6O\\x00p#\\xad\\xf6R]+\\x03[~\\xb1\\xb8)\\xd1\\r\\xb0\\x93\\x1b \\x1f6\\xf9[\\x1b!\\xafi\\x1buP\\\\Npto\\xef\\t\\x9a\\xf4\\xc9\\x88\\x13\\xc5\\xd3\\x8b\\x99\\xb1\\xdf\\x88@\\xd3s\\x9b\\x01\\xcdp\\x1ft\\x04.\\xa8\\xe9$\\xdc\\x0bB\\x85\\xee3o\\xa8\\x1c\\x85;\\xe9\\x8b\\x93\\xff\\x00\\x85\\x13\\xdb\\x0f\\x00\\x10$\\xf4\\x05J1o{ {\\x80\\x04p7\\x95\\x05Z\\xb6\\x1b\\x01\\xd9KY\\xa0\\x83\\xea\\xf5p\\xaaV\\xf4\\xfe\\x90\\xb4\\x8a2n\\xc8j\\xd5\\r\\xb0;\\xfe\\xab+\\x1f\\x8c7m9\\xd4l4\\xf2\\xa6\\xc7\\xe2\\xda\\xc6>\\xf6\\x1c\\xca\\xa1M\\x8es\\x8dW\\xc6\\xa3`\\x01\\xd8-z0\\x94\\xac,f\\x86\\xc1&y\\'\\x92\\x9e\\x0f\\xa4{J\\x16-\\x8d\\xfb\\xa0=\\xa5T\\xa0\\xf6\\x8d$\\xf29\\x08\\x13\\xd8G\\xbal@\\x17\\xfb\\'4\\xc3\\x8e\\xa1n\\xc8\\x03\\xaa\\xd1\\xf9\\xa4\\x00\\x1e\\xdd\\xd2\\x89wm\\xd0i\\x12=1\\x17\\xb1@:ok\\x94\\x92\\x9e\\xc4\\xfb$\\x80\\xe6\\x1c\\x06\\xf7@\\x90z\\xdc\\xc2N\\x83\\'\\x80P$\\x12\\x04\\xc7\\xf5Y\\x1a\\x8e\\x9fQ\\x84Z@\\x90\\x9b\\xf3\\x1e\\x81\\x17\\x1b\\xed\\xda\\xc8\\x03\\x10lm\\xd98\\x89\\xbf\\x050\\x88\\xde\\xd3\\xd1\\x17X\\x8e\\x80 \\x11$\\x18\\x89\\x9f\\xc9\\x10`\\x83\\xc4 \\t\\x88\\xbcvH\\x99\\xdcY\\x00*\\x8f2\\x93\\xc5\\xee\":.\\xc3\\xc1\\xb8\\xaf\\xc4\\xe4T\\x06\\xa9u)a\\x8e \\xc2\\xe5\\xb0\\xd4MB\\xfe\\x1a\\x07\\x0bK\\xc0\\x18\\xd1G1\\xc7\\xe0\\x1c\\xe1.\\xfd\\xe3\\x07\\xe4\\x7f\\xa2\\x84\\xe9\\x96G\\xa05\\x81\\xd4\\xe7P\\x88\\xda\\x16>iD\\xba\\xa3\\\\7\\x9b\\x99[\\xd8\\x00*\\x076\\xdb\\\\,\\xec\\xd2\\x9c4\\xc0\\xff\\x00\\xb8\\r\\x95\\xee\\xd9t\\xad\\x19\\xb8y.\\x12\\x08\\xe2\\xea\\xde\\xf33\\n\\xa5\\x10u\\x01;\\x18\\x95d<\\x00, \\xf0\\xa1\\xf6\"\\x88q4\\xcb4\\xd5\\xd5pv\\x85c\\x01\\x99V\\xa2\\x04<\\xc0\\xd8!\\xa6\\xee\\x1dT\\x0f\\x06\\x93\\xfd\\xf9\\x88P\\x1a\\xf6\\x8e\\xa3\\r\\x9d8\\x86\\xdaz\\xc2\\xd6\\xa7\\x89ma\\xd7\\x85\\xc6a1\\x1e\\xa7\\x07m\\xdboe\\xb9\\x86\\xab\\xa5\\xba\\xc3\\xda\\x18\\x04\\x10xQE\\xe3/\\xb3~\\x98h\\x04\\xc9\\x81\\xc4\\xee\\xa4\\xc5\\x8d8J\\x82\\xdb,zX\\xf6\\xd6\\xae\\xc67\\xe5\\x98Z\\x98\\xe7\\x97P{GN\\x8b7\\x1d\\xa3t\\xed3\\xcb\\xb3Zt\\xdb\\xe3\\x1c\\xbe\\xbb\\xa3U\\x17\\x90\\xd7\\xf4\\xd4\"?5\\xdc\\xb5\\xae-\\xe4\\xda/\\xca\\xf3\\xac\\xc6\\xbb\\xdf\\x9c>\\xb1\\x11\\xa2\\xa4\\x8bZ\\x01\\xff\\x00e\\xe8\\xf8b*\\xe1\\xf5\\x032\\xd9Z\\x9c\\x91133\\xe5\\xe2i:\\xc0\\x07\\x05\\xae\\xe7\\x97\\xe0\\r\\xa4\\x82\\x0e\\xeb\\x1b:>\\x96\\x90\\x01 \\xeeB\\xd4\\xcb\\xaay\\xd8\\x07:c\\xd1\\xb7E-j\\xc4]\\xb6\\x88k:k\\t\\x12#\\xe8\\xa1\\xa8b\\xf1\\xfcl\\xfdB\\x0f./l\\xf17Q\\xe2\\tn\\x1d\\xe4\\xc1\"\\x1d\\xf9\\x85\\xa7\\xa2\\x0e\\x8c\\x10(\\x96\\x83\\xbd\\xa5\\x16z\\x9a\\xd30\"\\x14E\\xe3@\\x16\\xb9\\x99\\x1b)(\\x9fD\\r\\xc1\\xb0+\\x03tN\\xd7\\x96\\xed\\xec\\x9f\\x8a\\xf5RgP\\xa2&\\x04\\xfanyO\\xac\\t\\xc3\\x8b\\xed\\xbc*\\x97D\\x0e \\x127\\x84\\xda\\x84I3h\\xdaS\\x98\\'T\\x98\\xfa\\xee\\xa3\\xad\\x1a\\x8c\\t?\\xca\\xa4\\xa9=\\x17\\x10\\xe0`\\xba\\xe2:\\x14q\\r!\\xe0\\xec}\\xd48g\\x16\\x91x\\x02\\xea\\xd6$\\x16\\x99\\x10m N\\xca\\x1fe\\xd7F{\\xd9.\\xdfW\\x1d\\xf6Q\\x90i\\xb8\\x03\\xb02\\xac\\x9d.i$\\x18\\x98\\xf6Lp\\x96\\x96\\xecv\\x85b\\x85v\\xbbaos\\xd8\\'6\\xb4\\xb6\\xf3\\xb8\\xb9\\x1fT\\xfa\\x94\\xa7y$\\xde\\xdc\\xa8\\x9fA\\xde\\xa3\\x113p\\x84\\x12\\xb5\\xf0\\x08\\x93!<U\\x05\\x90bH\\x00\\x0f\\xcdR$\\xb3Q\\x06bM\\xbe\\xc8?\\x14\\x000A\\x17\\xb4\\x9e\\x8ah\\x87*/\\x1a\\xd7\\x97\\x19\\x8b\\xdda\\xe7\\x9e-\\xc3\\xe4\\xa1\\xb4\\xcb]_\\x12\\xf1\"\\x95>\\x93\\xb9<#\\x8d\\xcc\\xc6\\x1a\\x85G\\xd40\\xc6\\x02\\xe3n\\x00\\x95\\xe6\\x0f\\xcd\\x1f\\x89\\xc6W\\xc5\\xd7|\\xbe\\xb1\\xd5}\\x9a8\\x1fe\\xc1\\xe6g\\xff\\x00\\x1e*\\xbbg\\x7f\\x89\\x83\\xe7\\x97\\xf4\\x8d?\\x10\\xe7x\\xff\\x00\\x106\\x9bN\\x8c=\\x06_\\xcbi\\'Q\\xea}\\x96#\\xf0oa\\x97T\\x93\\xed\\xbae\\\\\\xe9\\xb4\\x9cD\\xea1\\x01\\xa0n\\xaa\\x9a\\xd8\\x9c\\xc1\\xdac\\xc9n\\xd6\\xdf\\xdaW\\xcc\\xcb$\\xb2\\xcb\\x93v{\\xf1\\x82\\xc4\\xaa*\\x88\\xf1\\xd8\\xba\\xa6h\\xd2{\\x83\\xb9p\\x8b)2\\xfc\\x93\\xcc&\\xa5W9\\xce<\\x9b\\xfej\\xf6]\\x946\\x8bF\\xa8q\\x17\\x98Z^`\\xc3\\xb4\\x86\\x91\\xed\\xdd^\\x18\\xebr),\\x97\\xa4T\\xff\\x00Of\\x14\\x82\\xc6\\xc1\\x17\\x83\\xb5\\xd6\\x85\\x0cC\\xab\\xe1M\\x18\\xd2\\xd3m\\x85\\x96.;9\\xf2\\xa6Y$\\x1b\\x84<-\\xe2\\xac6\\x7f\\x86\\xa7^\\x90\"\\x9b\\x89\\x02DlH?\\xa2\\xaa\\xc9\\x08\\xca\\x91\\xbf\\xc77\\x0eT\\x1a\\xd8W\\xe5\\xf5\\x85Q0\\x0c\\x91\\xbc\\x05\\xd0\\xe1h3\\x1f\\x84\\xf2\\xc9\\x0e\\x91b\\x9d\\x8b\\xc3\\x0cE\\x1bG[r\\xb9\\xdaY\\x93\\xb2\\x1c\\xc1\\xb4\\xea?E*\\x9bj\\xd8\\x1eB\\xd5\\xb5\\x85\\xdb\\xe8\\xca7\\x97\\xf5]\\x97*\\xe5\\xb5\\xb2\\xca\\xfem\\x12LX\\x81\\xc8Z\\xd8\\\\p\\xc5\\xd03\\x1d\\x0c\\x8d\\x95\\xcc8\\xa5\\x8e\\xa2\\x08\\x9fPY9\\x96\\x05\\xf8\\'\\x1a\\x94\\x81\\x07\\x96\\xf5\\xff\\x00u\\xa4\\xa3K\\x94z)\\x19[\\xe3 k\\xc4e8\\xaf\\xc5e\\xf5M:\\xb1\\x0e\\r\\xb8p\\xe8G+\\xad\\xc8\\xbcc\\x86\\xcf\\r\\x1c\\x15V\\x8c\\x0e;\\xff\\x00\\xb4\\xf3\\xe9\\xa8\\x7f\\xe5w\\xf47^y\\x86\\xce\\x9b^\\xaf\\xee\\xcd\\x81\\xd2\\xe9\\xe0\\xf7V\\xf1\\x98\\x7f>\\x9e\\xa6\\x0f\\xde\\x0b\\x874\\xec\\xa3\\x07\\x93<N\\xe1\\xd7\\xd1|\\xde,2\\xaf\\xdb\\xbf\\xb3\\xd6\\x06\\x0e\\xad1\\xa9\\xcc1\\xdb\\x84\\x03gP\\x9f\\xcfu\\x8d\\xf0\\xeb\\xc7\\x8c\\xcfi\\x1c\\xb7\\x1a\\xed\\x19\\x95\\x01\\xa4\\xd4p\\x8f4\\x01\\xbf\\xbc}\\xf7\\xea\\xbblF[N\\xb8.\\x07K\\xcf\\x03\\xfa\\x85\\xf4\\xb0\\xcb\\x1c\\x90S\\x89\\xf3Y0\\xcb\\x14\\xb8\\xc8\\xc1\\x03a\\xf3Jq\\x91\\xd0\\xbb\\xa2\\x9f\\x13\\x87\\xa9\\x86q\\xd6,N\\xfc(\\x1cN\\xa3#\\x7f\\xa4-J\\xa1\\ts\\xb5\\x12\" Y\\x06\\xbc_T\\x1e\\xe8\\x16\\x987\\xff\\x00t\\x1e-\"\\xdc_`\\x84\\x8cy\\x8bH\\xb9\\x92IM.\\xf4\\x83\\xb8\\x9b{#\\x05\\xc0\\xc83\\xfa\\xa6h.&\\x1a{\\xa1I?\\xa2\\x03X\\xe9\\x03Q$\\xdc\\xd9CV\\xbb\\xe0\\xc0\\xfb+n\\xa4\\xfd\\xc0\\x04\\xed#\\x85V\\xad*\\x8d\\x16\\xb8\\xe7\\xa2\\xbcRf/\\xa2\\xa5Z\\xf5\\x1c\\xd3\"-\\x17Y\\xb8\\xacC\\x9a\\t1\\x07\\xa9Z8\\x80\\xe3#I tX\\xb8\\xbaUk>4\\x90\\xc9\\xf5\\x18\\xe1n\\x8c$\\xdaZ+:\\x99\\xc5\\x02\\xf7\\x18o\\xf0\\xff\\x00\\xcc\\xa6y-\\x00;q\\xca\\x9cS\\xfd\\xe4\\xb3\\xe5\\x16\\x00\\xec\\x14\\x15\\x0e\\xa7\\x12z\\xac\\xae\\xd9\\x9dP\\xd3-lZ;\\x04y\\x00_\\xd9\\x06\\x8d#\\x9b\\xf1\\t\\xc0\\xda\\xd6W @\\x06\\x9e\\x97\\xd8 }\\xf7\\xfa\\xc2Rg\\x83\\xd0\\xa2\\xd8\\x13(\\x04\\x00\\xe0\\xde-t\\x87\\xca\\x00\\xb2Sm \\xdf\\xb2G\\xd4\\xe1\\xfa\\x94\\x03\\xba\\x84\\x93\\x1b%\\xd6$\\x8e\\x81$\\x070\\x06\\xf0\\x91;\\x11y\\xe1\\x01\\xd6a\\x13,\\xef\\xee\\xb0\\xe4\\x8dD\\xd0\\x1bn\\xa9\\xe4\\x82H\\xe7\\xb2f\\xc4^e\\x1b\\xfb\\xc0\\xdf\\xa2\\xb0\\x08\\x89 L\"M\\xda@\\x9e\\xc55\\xce\\xd5\\xb9\\xdb\\xa8E\\xc4\\x8eP\\x0e\\x9d \\x0f\\x94\\xf4H;L\\xcah\\x17\\x06J@\\xc4\\t\\xbfT\\x0fH\\xd5\\xc9h\\x8a\\xad\\xacbOe\\x95^\\xb9\\xc9<G\\x84\\xc6\\x13\\xe8\\xd7\\xa2\\xa4\\x7f#\\xac\\x7f\\xa2\\xe8\\xbc3O]\\x1a\\xbd\\x0b\\xbfE\\x9f\\xe2\\xac\\xa7\\xcf\\xc3Tn\\x9b\\x9e\\xa9%\\xfa\\xda-\\x0e\\xf7\\xd1\\xe9\\x18\\x1c@\\x15\\x1a\\xe0}.\\x12\\xa5\\xc7\\xd1\\xb91-7\\xba\\xe4<\\r\\x9d\\x9c\\xd3#\\xc3\\x8a\\x8e\\x06\\xbd\\x02h\\xbez\\x8e~\\xc0.\\xcc8b\\xb0\\xadp7oN\\x8a\\x13\\xbah\\xd7\\xad\\x1c\\xeb\\x99\\xa2\\xa5\\x89\\x92 \\x88Ri \\xb6\\xc0G\\xe8\\xac\\xe2)\\xc5S<(N\\xe4\\x01}\\xb6R\\x12h-q\\x04\\xf1x@\\xb5\\xb5\\xa5\\xb3<\\xff\\x00\\xe58Z,\\x01\\xd9H\\x08\\x04^\\x0f\\xd9\\x0bQH\\x02\\xca\\xa7\\xf9~\\xca\\xed\\n\\xa0\\x88\\x99 nB\\x0f\\xa6j\\xb6\\xc6O\\n\\x00M7\\x91i\\xd8\\xc0E\\xb3:\\xe2n\\xe4\\xa4\\xd4\\xc64\\x93\\xf2\\x99\\x9e\\xebn\\xbdH\\x9b\\xf3\\x13\\xd5`\\xf8~\\xa8\\xf3\\xdc\\xed\\xa4r\\xb7*\\xd4:f\\xdbN\\xca\\x1a\\xd9\\xac^\\x8f0\\xcd\\xe1\\x98\\xccCw-\\xa8[\\xfa\\xae\\xe3\\xc3x\\x81\\x8b\\xcap\\xefq0\\xeac\\xe8B\\xe3|QC\\xc8\\xcdq\\x10$U\\xaa\\x1f\\x1e\\xe1l\\xfc?\\xc65\\xf8:\\xd4I\\x1f\\xb9\\xa8@\\xff\\x00\\xa4\\xdc\\x7fT\\xb3%\\xa6Z\\xcd}t\\x9d{\\x03\\xb2\\x97\\xc3uuR\\xd0N\\xd2\\x07e_3 W\\xafL\\x91\\xbc\\xc0U\\xfc=\\\\R\\xc69\\x85\\xc0\\x07\\\\\\x17u\\x95\\xa3\\xdcL\\x96\\xa4X\\xa8b\\xb3\\x84r\\x95`j\\xd1\\xa8\\xc2fZw\\xf6C\\x1e\\xdd8\\xd7\\xb6w?\\x92A\\xd1\\xb76\\x80\\xad\\xe8\\x9b6\\xf0\\xd5\\x7f\\x11\\x83\\xc3\\xb8\\x1b\\xba\\x983\\xb8\\xd9M\\x87p\\x9b\\x19+3$~\\xac\\x1b\\xa9\\xc4\\x9a/sd[\\x99\\x1f\\x91\\n\\xed\\n\\x83Y\\x1b\\xbb\\xac\\xacZ7L\\xbf\\xc8\\'i\\xfb)\\x1b5)<}c\\xa9P\\xb4\\xb9\\xdb\\x1b\\x81\\xb2\\x96\\x93\\xa5\\xd0`\\xc8\"\\xca\\xa6\\x88\\x85\\x80\\x07r8\\x92\\x13*\\x1d\\xaeI6\\x90\\x10\\xa8`\\xef\\'\\xa2\\x04\\x82H\\xb9\\x1b\\x94*\\x0c3\\x80pk\\x8a\\xbf\\x890\\xd6\\x9e\\x0cOK,\\xf6\\xb85\\xcd\\x93\\xe9Z`k\\xc3\\x8bO\\x04(\\x97\\xa6^?E\\x07\\x1bD\\x98\\xda\\xc14\\x0b\\xc0v\\xf3\\xb7HO\\xa8\\xc0H\\xb4nm\\xf6P\\xc1k\\xa2\\x0e\\x90@\\xfa\\x0eT\\x95ztM0@\\xbc\\x017(85\\xd0f\\xc7r\\x99.\\x80fI\\x1b\\x9bo\\xbac\\xaa\\xbbI \\xc0wO\\xc9\\x08\\xba#\\xaf\\xa5\\xee\\x00\\x01\\x1dVf!\\xdaI\\x00\\xfbO\\xba\\xb7_\\x12\\x1b\\xc8\\xb7[\\x95\\x97\\x89\\xa8\\xe7\\x07\\x06\\x8dW\\x89oe\\xac~\\x8c\\xa5\\xd9\\x95\\xe2V\\x17xO7\\xc4\\x97i,\\xa6c\\xefu\\xe5\\x18s[0\"\\xe5\\x94\\x9b\\xbcr\\xbd;\\xe2mWe\\xdf\\x0b\\xf32\\xc2C\\x8d&\\t\\xff\\x00\\xaa\\xa3g\\xf5^u\\x95~\\xe7\\x0e\\x18\\r\\xf9\\xee\\xbes\\xf2\\xae\\xf2E\\x1fG\\xf8\\xd5X\\x9b/`\\xf2\\xadF\\x1a\\x0bF\\xf2O\\xe6\\xb70\\xf8\\x16\\xd0\\xa6\\x1f\\xf7i\\xba\\xa9\\x81\\xabM\\x84\\x17\\xbc5\\xbc\\x97l\\x9d\\x8e\\xce\\xe8\\x16\\xe8\\xc3\\xb8\\xd6q\\xdc4@\\xfa\\x95\\xe5\\xc1\\xc6*\\xce\\xf9FRc\\xb1X\\xfaxv\\x12a\\x90\\r\\xca\\xe7\\xeax\\x82\\x9e.\\xab\\x85\\nn\\xa9\\xa4\\xc6\\xa6m\\xf7\\xd9[\\x18\\'c]\\xaa\\xbcTl\\xdd\\xae\\x12;%\\x8a\\xc2\\x06\\x86\\xb2\"\\x94\\x81a\\x10\\x14Jsj\\xcdq\\xc7\\x1ata\\xe7\\x98,\\xdb\\x1b\\x97U\\xa9\\x84e\\n\\x98\\x96\\xb4\\x9at\\xeaT-\\xd4x\\x13\\x10\\xbc\\xbb\\xe0w\\x8c\\x9d\\x86\\xab\\x8e\\xf0\\xc6f\\xd7\\xe13l\\xb7\\x12\\xf0\\xfa\\x15[\\xa5\\xc1\\xaeqp\\x8b\\xff\\x00\\xcc`\\xf2 \\xf2\\xbe\\x88\\xa3C\\x0c2\\xca\\x9a\\x9d\\xea\\xd3 }\\x17\\xcc\\xff\\x00\\xb4\\x1eG\\x8d\\xf0\\xde\\'\\x03\\xf1\\x03\\'\\xa6]\\x88\\xcb\\x1c)f\\x0c`\\x83W\\x0eM\\x9c\\x7f\\xe9&\\'\\xa3\\x87E\\xcf,MS\\xf6\\xce\\xbc9\\x14\\x9b\\x83\\xd2>\\x9c\\xcbq\\xbee(\\x91\\x02\\xc5gx\\xa7/\\x18\\x8c7\\x98\\x06\\xa77\\xd4 t\\\\g\\xc2\\xdf\\x888/\\x19\\xf8w\\r\\x8d\\xc3W\\x0e\\x15)\\x82A7\\x06/+\\xbd\\xc5W\\xf3\\xf0\\x0ep;\\x01\\x00\\x1b\\xc5\\xd7B\\x9a\\x9e6\\x99\\xc9,R\\xc7\\x92\\xca\\x9e\\x1a\\xcd\\r:4\\xa5\\xda\\x98F\\xe1u\\xb5\\x1c\\xcc\\xc2\\x81\\x02\\xee=\\xb6^\\x1d\\x98\\xf8\\x8b\\xff\\x00DgXfc\\x9e\\x1b\\x95\\xe6\\x15\\xbc\\xb6>c\\xca\\xab\\xfc\\xa7\\xb1\\x00\\xc7\\xb1\\x0b\\xd1r\\xac\\xf4SsK^\\x1c\\xc3\\xf2\\xbb\\x7f\\xa2\\x8f\\x1b:\\x8cx\\xbe\\x8bg\\xf1\\xdc\\xbfdq?\\x13_\\x8b\\xf0\\xa99\\xce\\x0c\\x1a\\x94\\xa9\\x91\\xf8\\xbal\\x04\\x9d\\x1f\\xce\\x00\\xdc\\x8e{{+\\xbe\\x0e\\xf8\\x81\\x86\\xcd\\xa8R\\xae\\xca\\xec\\xaa\\xd70\\x16\\xb8\\x10A\\x95\\xd4\\xf8\\x93\\tO1\\x0c\\xd2\\x0e\\x99$\\xc7=\\x17\\x8fU\\xf8W\\x8b\\xc9\\xb3\\xc7b<7Q\\xadv!\\xe5\\xef\\xcb\\xdct5\\xcf\\xdf\\xd1\\xc3N\\xf6\\xd8\\xf6+\\x9d\\xda\\xca\\xf8\\x1d\\xd8\\xa5\\x8eXxe\\xf5\\xec\\xfa\\x0b\\xc3L\\xc0\\x8c\\xeb\\r\\x8b{[\\xa2\\xa3\\xc7\\xacp`\\x8b\\xfd\\xd7y\\x81\\xf1\\x8e\\x1b\\x0f\\xe2<NI\\x8a\\xc42\\x96\"\\x9e\\x9f$T\\x05\\xae\\xac\\x0bd\\xe8\\xd4\\x00|L\\x1d$\\xedu\\xf3nE\\xe3<fL\\x7f\\x0b\\x9c`\\xb1\\x187\\xcc\\x11Z\\x99\\x00\\x9f\\xfa\\xae\\x0f\\xddz\\xc6C\\xf1\\x132\\xcf)\\xe1p\\x7f\\x81\\xa3\\x8c\\xc3\\xd3\\x8d8\\xba\\x81\\xda\\x99\\x1b\\x1e\\x84\\x8e\\xab\\xe9|?\"5\\xf1\\xce4|\\xd7\\xe4<i&\\xb2c\\x92\\xa3\\xd7\\xd8i\\xe2\\x19\\xc3\\xdaF\\xfdVf7+-:\\xa8\\x8b\\x1b\\x96\\xf5\\xf6U08\\xe7P\\xd1\\xcbb\\x1c8[\\xd4k\\xb3\\x13L8C\\x81\\xe9\\xc1^\\xa7\\x17\\x13\\xc7\\xbf\\xb3\\x97x!\\xd0D;\\xf4@\\xbc\\x03\\xc1+s1\\xc06\\xa9\\xd4 ?\\x83\\x1bvXu\\xe9\\xba\\x9b\\xe0\\x82\\xd8\\xe3uu\\xb0\\xdd\\x01\\xf5\\xda\\xc8\\x89PT\\xcct\\x81q~\\x813@\\xd6\\\\w\\xda\\xdc\\xa6:\\x8bH\\xdc\\x00L\\x82\\xa4\\xc1\\xe8\\x8e\\xaer)\\x8ec\\xfe\\x95R\\xa7\\x89\\xe8S\\xb5BC\\x80\\xfe&\\xc2\\x9e\\xa3[%\\xb6\\x0b31m-\\'V\\x99\\xe0\\xcd\\xd6\\xb1Z2r\\xfb$\\xff\\x00\\xd5\\x98\\x1a\\xb0\\xd6\\xd4k\\x9c\\x7f\\x85\\xa0\\xca\\xad\\x8e\\xce\\xe9\\xe2@\\xa7M\\x87\\xd5mDB\\xc5\\xa3\\x86e\\n\\x8f\\xa8\\xd6\\x80\\xe7\\x9f\\xcb\\x85!\\xa6*4{\\xee\\x15\\xb6b\\xe5f\\xb5P\\xdaxG8D\\xc2\\xce\\x0660Rk\\x9c\\x04\\x12\\\\\\xd3\\xc2\\x00\\xc9\\x88#\\x99*\\x91^\\xc8n\\xc7\\x07\\x1d\\x81\\xfb!;\\x89\\x83\\xb1)L\\xc6\\xf0\\x12\\xeaa\\\\\\x81\\xc1\\xda\\x9c?\\xb7\\t\\x18\\x02\\x04\\xca\\x00H\\x83\\x13\\xd7\\x84wh\\xb7\\xd1\\x00\\x81\\xdc\\xfd\\xcaW\\x88\\xfbuJ\\t#\\xaf1\\xc2:\\xa4\\t7\\x1c\\x14\\x02\\xdc\\x19\\x94\\x92&\\xc4@<\\x1e\\x12@r\\xa6\\xfd\\xbb\\xa5\\xb6\\xdfD\\xd0\\xe3;Gb\\x89\\xb8\\xbc.z^\\x8dG\\x08\\x06,\\x07D\\xfe\\x08\\xb7\\xbfe\\x1b\\x01\\x8e\\xa7\\xa2t\\x80 lT\\x81G\\xfe\\n:\\x8c\\x0e\\x83\\xa2\\x13\\xaa#\\xff\\x00\\x08@\\xd5\\xa8\\x9f\\xa7T\\xe8\\x0e\\xfaX\\x19GT\\x9d\\xe4\\xa6\\x02E\\x89\\x9e\\xc9:E\\xf7\\nl\\x1d_\\x84\\xb4\\xbb\\x0fTo\\xea\\xfb\\xd9if\\xb4\\x05Z\\x0e\\x13\\x1cXtY>\\x11\\x7f\\xee\\xeb\\xb6\\xdf0\\xfc\\xd7EZ\\x80u!<\\x82\\xb5]\\x16G\\x01\\xe1\\xaa\\xe7&\\xf1=l4\\x91K\\x16\\xd9\\x1f\\xf5\\xb7\\xfd\\x97\\xa6e\\xd8\\xaf,\\x87\\x83-\\xd8\\x85\\xe7> \\xcb\\xeaa\\xf1t1-\\x04T\\xa2\\xf0\\xe1\\x03\\x8eW]\\x97\\xe2\\xe1\\x81\\xc2\\xc1\\xd0\\xb2\\x8e\\xae&\\x8f\\xf6jGM\\x8c\\xc1\\xb5\\xcd\\xf3\\x18e\\xae\\xbd\\xb8YO\\xa4\\xd6\\xb8u\"\\xe0-\\x0c\\xb30k\\xd8i\\xbb\\xd4\\x0e\\xd2\\x7f%.\\',\\xd6\\x03\\xe8Ii\\x12[\\xcf\\xd1(\\xba\\xd9\\x98\\x01%\\xbb\\xcf@\\x83@\\x04\\x87K\\xad\\ncF\\t\\x06\\x00M\\x82\\xd1\\x03\\xf4\\x85#\\xfa\\x03w\\x10f\\xd3\\xec\\x85Vy\\x8c\\xbfI\\x95\\x1b\\x9ei\\x96\\x89$\\x03\\xd5\\x1f9\\xa5\\xa69B\\xb2\\xe8\\xbb\\x93<\\xd3{\\xc1\\x00@\\xdc]n\\x8a\\xc1\\xcd\\x8dR\\xee\\xbd\\x16>J\\xc0\\xff\\x003m\\x86\\xca\\xf3\\xda\\xf6\\x1b\\xed\\xb7\\xd1\\x02\\xe8\\xe4\\xfcn\\xd014\\xeaL\\xc3\\x1b1\\xd9\\xc5P\\xf0\\x9e,`\\xbcF\\xfa\\x04\\x80\\xca\\xec\\xb7g6\\xe3\\xf2W\\xfc`\\xddu^\\xf1\\xb0e\\xa3\\x82\\xb9z\\xf5\\xce\\x12\\xbe\\x0f\\x1a\\xc2\\ta\\x0f\\x03\\xf5\\n\\x0c\\xdb\\xd9\\xddgSK\\x1a\\xde\\x95\\x04\\xfb\\xacv\\xd4\\xfc>>\\x95I\\x96\\x83p\\xb6s\\x97\\xb7\\x17\\x95\\xd1\\xc5\\xd2\\xf5\\npdt<\\xac\\x1cQ\\xd6\\xc0\\xe17j\\xd9tg=J\\xce\\x8b7\\x00U\\xa7Xl\\xf6\\x83\\xd5S\\xa4\\xfdV6#\\xaf6S\\xe1\\xea\\xff\\x00\\xa8d,v\\xf5(\\x9fP*\\x83*\\x8dD\\x81\\xec\\x14\\xa7\\xa0\\xfb4\\xb2\\x9a\\xba1\\xf8\\x8aD\\x89\\xa8\\xdf4_r,\\x7f\\xa2\\xbe\\x1f\\xe5\\xd4k\\xa4\\xb7\\x89X/\\xad\\xf8|F\\x1f\\x11\\xfc-xk\\xbf\\xe96+_\\x10\\x083\\xbd\\xa6\\xca\\x8dY\\xa2f\\xad7\\x92C\\xba\\xf7SS\\xa9\\xa2\\xa3]\\xb0i\\xeb6Yt12\\xc1k\\xfb\\xab\\x82\\xa6\\xc0\\x10g\\xa9Y\\xb4\\xd25\\x8c\\xbe\\xc9\\xf1@S\\xae\\xf0 \\x82\\xa1p\\x86\\x98<\\xec\\xa7\\xae\\xedT\\x99Q\\xb2-\\x11\\xd1V&B.\\x8b1\\xa5\\xc4\\xdf\\x85\\x7f\\x03[U2\\xc2\\x01\\xed\\xd5g\\xcc4\\x15c/\\xa9\\xa6\\xb4\\xef\\xce\\xea\\x08O\\xd1=f\\xcdB\\x1c\\t&\\xdb}S\\x18\\xd1\\x0e\\x92E\\xbauO\\xc4:*\\x96\\xc4\\x98.\\x1ay\\x94)Q\\xabX\\x98ah\\xb03\\xd9Aw\\xb6GQ\\x85\\xa1\\xd1r\\'\\x95^\\xa5\\x17\\x13\\x14\\xdb&~\\x86\\xcbV\\x96_\\xa8MGj\\x11\\xb0\\xe0!\\x89-\\xa3N\\xcd\\x00\\x92vE!\\xc6\\xccW\\xe0X\\xc15]\\xac\\xc5\\xfa,\\x8c\\xc2\\xa9s\\xda\\xc6\\x805\\x10\\x00\\x1d\\xec\\xb5\\xf1\\x95\\x9a\\x1b\\xb8\\xecW8\\xe7\\xf9\\x99\\x96\\x1a\\x9f\\x05\\xf2\\xb4N\\x8c\\x1feO\\x8bt\\xc3\\xfe\\x1f\\xe6\\x94\\xa1\\xb1\\xa2\\x98\\xda\\xd3\\xe61yv\\x0e\\x85j\\x85\\xael\\x06qk\\x90\\xbd#\\xe3&0P\\xf0\\xe5,+\\xad\\xf8\\xccU*B;;Q\\x1f\\xff\\x00\\x15\\xca\\xe0\\xa8\\x8f!\\xa5\\xd11p\\x17\\xcd\\xfeEr\\xca\\x97\\xf4}\\'\\x81\\xfa\\xe2m\\xfd\\x99\\xe3\\x04\\xfa\\xa0\\x07\\x1dD\\x15r\\x96\\x05\\xb4\\x8bmx\\xdb\\xaa\\xbfF\\x83fw\\x9bB\\xb2_N\\x88\\x97q\\xf4\\x95\\xc1\\x1ch\\xed\\x94\\xdb\\xe8\\x83\\x0fG\\xcbl@\\rp\\x92\\x07\\x08\\xe2E\\x17SsL\\x03\\x10;,\\xec\\xd3\\xc4\\xb8<\\x1d=G\\x11J\\x90\\x0259\\xe0/3\\xf1o\\xc6\\xcc\\x97-\\xc3\\xe2\\xa8ak\\xfe;\\x1c\\xc6\\x96\\x8at$\\x80\\xf8\\xe5\\xd1\\x02\\'\\xddL\\xa5\\x18\\xaa&\\x18\\xb2I\\xda= \\x9749\\x8d\\xa9i\\xea\\xa1\\xcc2L&s\\x95\\xe2\\xf08\\x9a,\\xc4a\\xb14\\xddF\\xb5\\'\\\\=\\xae\\x048}ey\\xe7\\xc2O\\x88\\xac\\xf1.OF\\x86*\\xb8~aDh\\xac\\xd7:\\xe4\\xff\\x000\\xecW\\xa9\\xd0\\xc4\\xd3{`\\x18\\x912\\x160\\xab7\\xca\\xa5\\x17\\xc4\\xf9\\x13\\xc0\\xbe\\x1d\\xce\\xfe\\x03\\xe75\\xf0\\xd8\\x9cY\\xc7d\\xf51Ol\\x0f\\xfe\\x93$\\x86\\x91\\xdfL\\x13\\xc4\\x92\\xbe\\xa2\\xc83&\\xe6X\\x1aoeP\\xf0v\\x8eB\\xc6\\xf1\\x97\\x860\\xd9\\xdeKT=\\x9a\\xcb\\x9a\\xe0A\\x1b\\\\\\xc1\\xff\\x00:.\\x13\\xe1\\x17\\x89\\xeb`1\\xb8\\xac\\x8f\\x1b5\\x1d\\x85~\\x86\\x17\\x18%\\x87\\xe5>\\xc4,%NW\\xff\\x00\\xd9\\xdd\\x0eY1\\xb5\\xed\\x1do\\xc5\\x1f\\r\\xe1\\xb3\\xff\\x00\\x0f\\xd6\\xc1\\xe2\\x9aM\\'=\\xb0[\\xf35\\xfa\\x86\\x92\\x0fY+\\xcf\\xfc3\\xe2?\\x10\\xf8\\x1f7\\xa3\\xe1\\xaf\\x107\\xcd\\xa2\\xe2\\x7f\\t\\x8f\\xdbX\\x1f\\xc2\\x7f\\xe6\\x8f\\xba\\xf6\\xfc~Z\\xcc\\xcb\\x19\\x84\\xa6\\xe6\\xcb\\x1dRL\\xf5\\x82G\\xe7\\n\\xc7\\x88\\xbe\\x1e\\xd0\\xf1k\\xb3\\x9f\\x0ff\\x81\\x8f\\xcc0\\x15\\x19R\\x8e)\\xad\\xd0\\xfa\\xb4*\\x02\\xeaUg\\x87\\x075\\xec$r\\xc9\\xb4\\xafK\\xc6\\xf0^|s\\xfe\\xba<\\xbf#\\xcf^,\\xe0\\x9fO\\xb1\\x9e\\x1e\\xcc\\x866\\x98v\\xbdLwU_\\xc7T+\\xe1(\\xd0~\\x0c\\x7f\\xee\\x1e\\xe6\\xf9ne\\x88t\\xd9ry \\xcc\\xfc\\x13\\x99\\xb3*\\xce\\xa9\\xbbr\\xda8\\xbd0\\xca\\xe3\\xfa?\\xa8\\xe7q\\xd1zF\\x16\\xabq\\xad\\xa3Y\\xcd\\x0f\\x14^\\x1f\\xa7\\xa8\\xdaG\\xb2\\xe6X\\x1d<oL\\xea\\xf9b\\xe4\\xb2Cq:\\xdf\\x0cV\\xa1\\xe2l\\x92\\x8e#\\x1b\\x86a\\xc54h\\xc46\\x04y\\x83s\\xecw\\xfa\\xad\\xbc.\\n\\x86\\x19\\xa1\\xb4\\xe8\\xb5\\xadm\\xf4\\xb4D.-\\xd9\\xa0\\xf0\\xeb\\xf0\\xb8\\xfa5\\x18p\\xb5\\\\(\\x16\\xb8|\\xcf\\xdfI\\x8f\\xc8\\xae\\xeb\\t\\x8a\\xa5\\x8e\\xc2\\xd3\\xc4Rt\\xd1|\\x11\\xfe\\xe3\\xdd}^\\x16\\x9cW\\xd9\\xf2Y\\xd7\\xec\\xeb\\xa1\\xec\\x06H\\x80\\x00\\xbc\\xca\\xb3\\x86\\xc5\\xbb\\x08\\xf9\\x17\\x11v\\xaa\\xe6\\xce\\xb8/ \\x90\\x89\\x02u\\x00d_\\xddnaZ:\\x1aX\\x86b\\xe9\\xfa\\x0e\\xe3\\xe5\\xe5R\\xc6a\\x05f\\x90\\xee\\xb2\\x1cz\\xf7Y\\xcc\\xc4;\\x0cu4\\xed\\xca\\xd4\\xa1\\x8an6\\x93H\\xb1\\x897\\xd9BU\\xb2\\xb7g=^\\x8b\\x98\\xe2\\xd7\\x08 \\xde\\n\\xae\\xf6\\x1a\\x92\\x01\\x91\\xd7\\x95\\xb5\\x8e\\xc2\\x8a\\xd4\\xc4\\x9d.\\x02E\\xbf%\\x83X\\xbd\\x80\\x8b\\x87\\r\\xff\\x00\\xb2\\xd1l\\xc6C\\x1f\\x87\\xa8\\xeb\\x17\\x0e\\x97\\xddefX=4K\\x9e\\xe0 Y\\xbdP\\xcc3\\x0cF\\x1d\\x85\\xed\\x02A\\xe5e\\x0cMlCC\\xeb>I6\\x1d\\x16\\xcbF\\x12v\\x80\\xd3)\\x01\\xe9\\x1d\\t\\xbf\\ti \\xef%\\'7\\xde\\xdc!\\x98I\\x93\\xcd\\xf7\\xee\\x89\\x92-\\xb7\\xba\\x1a\\x89\\x1d\\xf6\\x08\\x80M\\x82\\x80\\x19\\xd8\\xc1)\\x17\\xccA%-\\xa0\\x8f\\xc9!c\\x01\\x00A\\x13x\\x8e\\xe8\\xc8\\x110n\\x93~c\\x10\\x80\\x81m\\xec\\x80,\"G\\xf4@\\x89\\x99\\x8f\\xb2B\\xe7\\xa7yN\\x9e\"\\xc8\\x04\\x0f\\x07d\\x93b@=D\\xa4\\x80\\xe5A\\x06I\\xb2;I\\xe0\\xf2\\x98\\x05\\xdb\\x1fiH\\xcb~[\\xc2\\xe55\\x1e\\x0e\\xe8\\xf2\\x04[\\xbace\\xbf^\\n~\\x91\\x02\\xff\\x00ud\\x04\\x07y(A\\x80y@\\xdb\\xbc$\\x1bm\\x86\\xfd\\x11\\xb0:oh\\xef\\t\\xd6\\x83\"\\xd2\\x99$\\x02A\\xdc\\xf2\\x11%\\xa0\\x8b\\xdage\\x00\\xdc\\xf0\\x964R\\xc7\\xd6\\xc3\\x98\\xd4\\xfaz\\x84\\xfb\\xae\\xf6\\x9bEzb7\\x8b\\x08\\xdf\\xaa\\xf1\\xeaX\\xd7`\\xb3\\xbc5f\\x9b6\\xce\\xf6+\\xd4\\xf2\\xack\\\\\\xcaok\\x89\\x04\\x0b\\x15\\xb4%e\\xca9\\xe6Z*\\xd2p\\r\\xe2\\x16vP\\xf72\\x90\\xa4\\xf3%\\x86=\\xd7g\\x8c\\xc33\\x13G[H\\xb6\\xe26\\\\\\xd6/\\x00p\\xb8\\x8f3L\\x03\\xb8P\\xbb&\\x89|\\xc7P~\\xb0\\xe8\\x8e\\x00\\xe5t\\x19fp\\xda\\x9e\\x9dZ]\\xc1Xa\\xa5\\xc2\\xc6Dr\\xab;U\\x17\\xd8\\x99\\x99Whml\\xeeM*\\x18\\xc0|\\xc6\\xe9w\\xf3\\x8e}\\xd5w\\xe5O\\xbb\\x9a\\x03\\xfb\\x8b\\x1f\\xb2\\xc4\\xcb\\xb3\\x92\\x00i\\xb8\\xe6V\\xde\\x1b2k\\xe2\\x08\\xf6&\\xeb#D\\xca\\xb5\\xf0\\x1e\\x98sH3\\xbe\\xcb2\\xb6\\x1d\\xd4\\x89\\x89#{.\\xb0b\\x9a\\xf3\\x04\\xea\\x11\\x1b&\\xba\\x86\\x16\\xb8:\\xe96\\x0e\\xc7b\\x9d\\x12\\xd2f.R\\xe7Rc\\xa5\\xb0]\\x06GE\\xa4\\xf2\\x1c\\'\\x9bl\\xa7\\x19v\\x1d\\xa6Z\\x1e\\xc3\\xc4\\x15\\x1e+\\x02\\xff\\x00!\\xe2\\x8b\\xda\\xe7\\xc1\\x80\\xe3\\x12\\x96*\\x8ec>\\x02\\xa5\\n\\xae\\xe0\\x1b\\x15\\xc7Sh\\xc4\\xe50o\\xe5\\xbc\\xb4\\xc7I\\xb2\\xed1\\xf8LE<3\\x99^\\x91d\\x8d\\xc1\\x90\\xb8|\\xba\\xb8\\x15\\xeaP\\x90\\x1bY\\x84\\xb7\\xb1i+J\\xd1\\xcb&\\xd3:\\xdf\\x04\\xe3\\x86;,~\\x06\\xb1\\xd4i\\xcb\\x0fq\\xc2\\xab\\xe4\\xbe\\x83\\xab\\xe1\\x9f\\xf3\\xd2$\\x0bn7\\\\\\xdeW\\x98\\x9c\\x93:\\xa4\\xf7:(\\xbc\\xf9n\\xe8\\xbb<\\xe1\\xb2)c\\xa9\\x82\\xed\"\\x1f\\xa6\\xf2\\xd5)\\xe8\\xb3\\\\\\x91\\x1f\\x87\\xb1\\x7f\\x84\\xc6\\xbb\\x0fP\\x11F\\xa8\"8\\x956a\\x87v\\x17\\x16\\xf6\\x11 s\\x16\\x85B\\xb5\\x19k_L\\xc1\\x99\\x0e\\x1dV\\xd5H\\xce2\\xd6b\\x07\\xfcj>\\x97\\x8e\\xddS\\xa6EYB\\xa7\\xef)9\\xb7\\xd2\\xe1\\x12\\xb42\\xbcA\\xc5`\\x1a_\\xff\\x00\\x16\\x97\\xa1\\xfc\\xdcr\\xb2\\xe9|\\xa0\\x1fL)\\xb0\\x18\\x81\\x85\\xc7\\xc6\\xd4\\xb1\\x03I3\\x1e\\xa1\\xb7\\xf6Vd\\xfb4\\xe8\\xbbMB\\x0f\\x17\\x05]\\xa3P\\x00\\x01\\xba\\xcf\\xae4\\xba\\xc0\\xd8\\xa9\\xa9\\xd4\\xd4Ao<J\\x8e\\xcb\\x1a\\xd8W\\x8a\\x81\\xcc\\x04\\x80\\xfb\\x8e\\x9a\\x82\\x84C\\x89\\xfc\\xaf*\\nu\\x85?P&F\\xd2aE\\x98b\\xc5:\\x9ec$\\xb5\\xfb\\x0e\\x8b\\x16_\\x97\\xd9f\\xa5F\\xb4\\x0e\\x1d\\xb4)0\\xd4\\xea8\\x97\\x13\\x03\\x81\\xc9U\\xf0\\xcc.\\x01\\xee\\xf9\\xe2H;\\x05m\\xae,2\\xeb\\x1e\\xc8YS.1\\xe3T\\xbb\\xb0\\xee\\x02\\xd3\\xa3O\\xd2\\x1b\\xb0m\\x89\\x9eVE\\x12*V`\\x07w\\x01#\\xa4\\xad\\xa64\\x92\\xe7@\\xddc;7\\x8f@#K]m\\xacB\\xc9\\xcck\\xe9|N\\xd6\\xfa\\xadLC\\xcbi\\x9b\\xf1\\x0b\\x9d\\xc6\\xba^\\xf2\\xef\\x9an\\xa6\\x0b\\xec\\x89\\xba2\\xf3:\\xf0#\\x81\\xca\\xc2\\xc1\\x93S\\xc4\\x18f\\x8d\\x84\\x9f\\xc9_\\xc7T\\xd6\\xe8\\x98\\xb12\\xb2\\xf2Z\\x80x\\x85\\xae&\\xc1\\x86\\xf1\\xd4\\x85\\xd0\\xf4\\x8e6\\xf6\\x89\\xbe,\\xe5C0\\xf0\\xee\\x16\\xa9\\x12pX\\xcaU\\xc1\\xece\\x8e\\xfc\\x9c\\xb9\\x1c6\\x9at\\xa0\\x01\\x1c8/D\\xf1\\xc9\\x15|3\\x9a\\x02\\xdb\\n%\\xc3\\xbc\\x10\\x7f\\xa2\\xf3<=W\\x96\\x81\\x00\\x8e\\x85|\\xdf\\x9f\\xac\\xa9\\xfd\\x9fK\\xe1>X\\xe8\\xd1\\xc3\\x92\\xd7z\\x86\\xa6\\x03\\x00\\xc4\\xaa\\xd9\\x86m\\x82\\xa0\\xc7\\n\\xe5\\xafa\\xdd\\x84N\\xca\\xce\\x1d\\x9a\\x80 i\\xa8nN\\xe1V\\xcd\\xb1t0\\x18sS\\x12\\x1a\\x1e\\x05\\x80\\xe4\\xf4\\x0b\\x8d\\xea6w\\xc6\\x9c\\xa8\\xf3_\\x88\\x19\\xfeO\\x91\\xe0*\\xd4\\xc2et\\x9b\\x98b\\xb56\\x83\\xea\\xb0X\\xff\\x004\\x1b\\xc0\\x9f\\xd1xe\\x1f\\x0f\\n\\x94\\xf1U*\\x079\\xda\\xf5\\x17u<\\xafH\\xf1>\\x0f\\x11\\xe2<\\xe7\\x13\\x8c\\xab\\xe9}\\x17\\nla\\xbe\\x86\\x81\\xf2\\xfek\\x16\\xb6\\x1c\\xb7\\x07Y\\x94Y\\xe68\\xb8\\x00\\xc6\\x8b\\xba`\\x06\\x8f\\xaa\\xe0o\\x93=\\xdcqX\\xe3vy\\xa6_\\x92f\\xd8\\xdf\\x11\\xe1\\xe8\\xe4\\x8f\\xadG\\x18\\xd2]\\xe6\\xd2:M6\\x08\\x97\\x126\\x1f\\xd6\\x17\\xd0\\x1e\\x06\\xf1Ng\\x975\\x98?\\x11\\xb9\\xc3\\x11?\\xbb\\xc4\\xbd\\xb0\\xca\\x83\\x80O\\x0e\\xfdW}\\xf0\\xb7\\xe0\\xfd\\x1f\\re:q4\\xc3\\xf3<lT\\xc5\\xbfp\\xc1\\xc51\\xd8m\\xdc\\x92x\\x0b\\xd3\\xa8x\\x17.\\xc6S,\\xaf\\x86\\xa7Q\\xa4A\\x05\\xb6+\\xdd\\xc7\\xf8\\xeb\\xc6\\x9c\\x9d6|\\xe7\\x91\\xf95\\xf2\\xb5\\x18\\xdaG\\x9bb*7\\x1c\\xd2\\xca`\\x06@\\x86\\xaax\\x8f\\x02aq\\xd9%,E\\x1a\\x0c\\xa5\\x9da\\x1aM:\\xf0\\x01x\\x1b\\xb1\\xc7\\x96\\x9e\\xfb\\x1b\\xafC\\xcc\\xfe\\x15a)\\x16\\x9c\\xaf\\x12\\xfc\\t\\x1bR\\xa85\\xd2\\xf6\\x8d\\xc7\\xd3\\xec\\xa2\\xc0\\xf8\\'6\\xa5\\x88\\xa7R\\xadl#\\x1a\\xc3.s\\x0b\\x9c*6v\"\\x02\\xc9x2\\x8c\\xb6\\xae\\xc2\\xf3\\xe3\\xc58:h\\xe2\\xf2L\\xd4\\xe2\\xf0t\\xea\\xd3c\\x86\"\\x99\\x13J\\xa8\\x871\\xe3\\xf8]\\xd2\\xeb\\x82\\xf8\\t\\xf1\\xdb\\xc4\\xbf\\x13\\xfe>\\xe7\\x98\\\\\\xef\\x060\\xb8q\\x96\\xbe\\x87\\xe1\\xa8\\xd2!\\xb8CJ\\xae\\xa0$\\xdc\\x92K\\xaew\\xe1}\\x1f\\x8a\\xf0&K\\x8d\\xcc\\xeaf\\x18\\x9c\\x05*\\x98\\xda\\xba|\\xca\\xa0\\x16\\xea\\x00@\\x06\\r\\xe0uZ\\x19\\x7f\\x87r\\xec\\x9c\\xbd\\xd8,\\x1e\\x1f\\n^\\x7fxh\\xd3\\rs\\xfd\\xc8\\xb9\\xfa\\xaf\\xa2\\xf08\\xf8x\\xf2c\\x94T\\xb9t\\xfe\\x8f\\x9d\\xfc\\x8a\\xff\\x00;&<\\x89\\xb5\\xc7\\xb5\\xf6A\\x9b\\xf8{\\x03\\x9ea*P\\xc6\\xe1\\xdb^\\x83\\xc4C\\x85\\xc7\\xb1\\xe0\\xf7\\xe1y\\xb6;\\xc3Y\\xaf\\x82\\xf1:\\x99J\\xae?.?%v7S\\xd8?\\x96\\xa3E\\xff\\x00\\xee\\x1b\\xaf`\\x14\\xe0\\xec,\\x9a\\xe6\\x00\\x18\\xd0\\xe9\\r1=W>|\\x10\\xce\\xb7\\xdf\\xd9\\xd5\\xe3\\xe7\\x9e\\x07\\xae\\x8f\\x17\\xa9\\x9a7\\x18\\xccF\\x17\\x07I\\xf8\\x86\\xe2@\\xf4\\x06\\x17yN\\x1b8t#\\xfc\\xdc\\xafM\\xf0n\\x06\\xb6\\x03(#\\x12\\\\*=\\xe6\\xa6\\x97\\x1b2@\\xb7\\xe5>\\xe5j\\xb6\\x83\\x03\\x8b\\x83\\x1aL\\xcc\\xc2|\\xc0\\xb8\\x107\\xff\\x00\\xc2\\xa6\\x1f\\x1f\\xe2\\xdb\\x95\\x93\\x9f\\xc8\\xf9]%C\\x9e\\xe0Zcq\\xde\\xe9\\xaf\\xa9\\xa5\\xd6\\xfa\\x11\\xf9}SE\\xaeE\\xe3\\x84\\xdde\\xa6\\xc2\\xe3n\\xeb\\xac\\xe2lk\\xde\\xe6\\x80\\xe2/\\xb4\\'\\xe1\\xf1_\\x86\\xad;\\xb4\\x88#\\xaf\\xfb\\xa8j8\\xb9\\xdb\\x10\\x06\\xf1\\xc2\\x8e\\xa3\\xb4\\xba\\xed3$\\x82T\\x99\\xdd\\x1b\\x8ex\\xa9NZgU\\xe4\\x95\\x8d\\x9b2[\\xa9\\x82N\\xce\\x00)0x\\x9d\\r,s\\xaf\\xb8\\x07r\\xa3\\xc4V\\x82A\\x8b\\xfeKH\"\\x93g:\\xfc\\x05leHx!\\x83p\\xb3\\xf1m\\r\\xacZ-\\xa6\\xd6\\xddhV\\xcfI\\xa6\\xe6\\xb2\\x99\\x0e\\xeal\\xb2K\\xcb\\xbdD\\xc9\\'u\\xab9A\\xb8;\\xfdyH\\x93=\\x02!\\xae\\x9d\\xb7\\xea\\x80\\x1d\\xc4u\\n\\xa03\\xd7\\xd9\\x19\\x98\\x17\\xb2\\x05\\xd0m\\xc4\\x04\\xe0dI\\xb1\\xe8P\\x04zN\\xa4\\xa2\\xe7rz\\xa6\\x99-=\\r\\xbd\\x91\\x1bt@\\x10\\x00\\x83\\xbft\\xa2\\xd17\\xf6J\\t\\x13\\x13\\xd8$\\x04\\x8b\\xd9\\x00@\\x83i\\xbf@\\x81\\x17\\x9d\\x8c\\xf29I\\xa3{\\x99=\\x020\\x03fG[]\\x00\\xa3rG\\xb2H\\x98\\x81\\xd4\\xa4\\x80\\xe4F\\xc3\\xb6\\xfdS\\x89\\x96\\xfc\\xc6\\xfd\\x02a\\xf5\\xba G(\\xea3\\xd7\\x9e\\x8b\\x94\\xd4!\\xdb\\x11q7\\x93\\xb1D\\xded\\xa6\\x81\\x04A\\xdb\\xf3Fb@K\\x01\\x00\\xdc\\xcd\\xc7\\xe6\\x89\\x12\\x01\\x98\\xea\\x83\\xac\\x0fA\\xba\\x00\\x93\\xed\\x08\\xf6\\x07H2\\x01\\x06?$\\xa2\\xfb\\x90\\x13N\\xdd}\\xd1\\x06N\\xc2\\xd7\\xb2\\x02\\xadZE\\xee\\xd6nf\\xe7\\xaa\\xea|5\\x989\\xb4\\xbc\\xbdR\\xcedl\\xb0\\xf0\\xd4\\xb5\\xd3\\x90\\x00\\n\\xf6VM\\x1a\\xf1{\\xf0\\xae\\xb4\\xcb\\'g\\xa0\\xe0\\xf3\\x12\\xdd%\\xa7\\xb8\\x9eV\\x80\\xc3\\xe1\\xb3\\x16D\\x9ad\\xaeV\\x86!\\xe1\\xa0\\x89\\x91\\xbcp\\xafa\\xf1\\xf5\\x1av\\xf5uZ\\xd5\\x96N\\x8d\\xaay\\x06\\x924\\xd5i\\x1b\\x89)\\xef\\xf0\\xe3\\xaa:u\\xd3\\x03\\xddQ\\xa5\\x9eVi\\x83H\\xbaI\\x0bS\\x03\\x8c\\xaf\\x8c\\x05\\xce\\xa3\\xe54\\x7f\\x19\\xe4\\xf6T\\xe8\\xbffu_\\n\\xbc\\x12\\xeax\\x86\\xcc\\xec\\x01*!\\x93f,#C\\xa9\\x96\\x01\\xf3\\x19\\x0b\\xa4k\\xb4\\xbaD\\x97m\\xa9CZ\\xbb[R\\x07\\xa8\\x95\\x16O\\x14\\xd1\\x92hf\\x14[\\x0c,\\xa9\\xcd\\x8as3\\x0c\\xc6\\x93\\xbdx*\\x8f\\x1b\\xcb\\x08V_U\\xce6i\\x06m)7X1\\xf2\\xf5\\xbav\\x12\\xa1\\xe31\\xaa\\x1b\\xfb\\xca\\x15\\x9b\\xee\\xd4Y\\x9cQc\\xa1\\xee4\\xcf\\xfc\\xe0\\x84\\x05]\\x00\\xea~\\xa8\\xd8D\\xa6\\xbf\\x14\\xc6\\xd8\\x8fOt\\xa2l\\xba\\xdce:\\xa2EF=\\xbd\\x8f\\x0b\\x173\\xf0\\xb6\\x038{+\\xf9G\\rU\\x8e\\xd4\\xda\\xb4}\\'\\xed\\xb1Z\\x18l\\x057\\x91R\\xad \\xdb\\x88\\x03\\x7f\\xaa\\xba\\xeb\\x027\\xe8\\xa6\\xc8\\xab\\xdb1p\\xfe\\x17\\xcb\\xb0\\xa48a\\x99Z\\xa8?\\xf1*\\x8dg\\xe96\\n\\xf1>X\\rl\\x03\\xc5\\x94\\x95+\\x06\\xb2f\\xdd\\x16ulD\\x13\\x1bLL\\xabD\\xcd\\x96\\x1e\\xf6=\\xc4=\\x8c&y\\x00\\xa3\\x85\\xf2\\xb0\\xefq\\xa7M\\x94\\xcb\\xec\\xe8\\x11?EQ\\xd5\\xbdB$\\xdbn\\x892\\xac\\xb6\\xe2\\xf1\\xd1KV\\x13\\xa1\\xf52\\xdaU\\x1e]M\\xfaI\\xbe\\x92$\\x05S\\x13\\x92\\xd6\\xa9L\\xb4C\\xbah7\\x1d\\n\\xbc\\xda\\xb7\\xbd\\xc7N\\x89\\xcd\\xa8\\x03~i\\x06vUz\\x1achS\\xab\\x89\\xc21\\xd5i\\xba\\x9dvZ\\xa0x\\x89\\xef\\xf5Q\\x80i<\\x8d:AV\\xd9\\x8b L\\xef\\xd5G_\\x14\\xc74\\x975\\xaf\\x91\\xc8\\x94N\\x89tS\\xad\\x89\\xd2\\x1d\\xa8\\x81\\x07\\xa5\\xd3\\xf2\\xe0\\xfcG\\xef\\x1e\\x0e\\x80\\xeb\\x0e\\xfdT%\\x8d\\xc7V\\x14\\xda\\xd2\\xd2.H\\xd8-vPm*a\\x82\\xcd\\x02\\xc1Y\\xd1\\tX\\xe2\\xf0-\\xf6(\\xb1\\xe1\\xfc\\xdb\\xa2\\xabY\\xfe[\\xef \\x9e\\xeaj:\\xb4\\x80\\x0c{*\\xd6\\xac#S)\\xa7\\xaf\\x12\\xd9\\xbe\\x9f\\xa7\\x0bY\\x9a\\x9bO\\xdb\\x95\\x9b\\x94\\x03\\xe6\\xba/\\x02@\\xe8\\xb4\\x9c}7&zt\\\\\\xf3\\xec\\xea\\x8fELv!\\xcd\\xa6\\x00#T\\xce\\xeb\\x9d\\xc6\\xd5\\x81\\x04GY\\xe5j\\xe3jH\\x90w\\xfb,\\x1c\\xce\\xa0k]\\xc4\\t\\xb9\\xe5k\\x14c9\\x195\\x89-\\xa8\\xfe\\xf0\\xb1\\xb0u\\x1c\\xcc\\xd6\\xa9it\\x86Lq\\xb8[o\\x1a0\\x80\\x11}:\\x8c}\\xd6.V\\xc3W5\\xc4\\x0f\\xe2\\x0c\\xfe\\xabIts]\\xb3\\xa2\\xf16%\\xb8\\xcf\\x07c\\xaa4\\xcb\\xcd\\x1d${\\x90.\\xb8\\xdc\\xaf\\xc3\\xf8\\xdc\\xce\\x9b\\x7f\\t\\x85\\xa9Z\\x00\\xbbE\\xbe\\xfb.\\xab/\\xf3)\\x97iqk\\x9b \\x82,}\\xc7+\\xa0\\xc3f5i\\xd3\\x00D\\r\\x9a\\x02\\xf3\\xf3x\\xab<\\xd4\\xac\\xf50\\xf9_\\x0cx\\xa4s\\xd8O\\x87\\x18\\xea\\xcd\\x0e~\"\\x96\\x08\\x91x\\x1a\\xff\\x00!\\nJ\\x7f\\n2vWv\\'1\\xc5\\xe2q\\xf5z9\\xe1\\x8co\\xb0\\x0b\\xa2va\\x88x6\\x90\\xa3&\\xb5{\\x1b\\x92\\xa5xx\\x97h\\xbb\\xf3r\\xff\\x00\\xe2\\xe8\\xe4\\xb3O\\n\\xf8W\\xc3\\xf8,\\xd3\\x1bG!\\xa5V):\\xb5W\\xd6q~\\xb2\\x1aG&\\x17\\x8c| \\xf0Q\\xccs|F}\\x8cd`\\xb0\\xd5#\\n\\xc7\\x0b:\\xb0\\xdd\\xdd\\xf4\\x83\\x1e\\xfe\\xcb\\xd9>,\\x0cc<\\r\\x99P\\xc0\\x7f\\xfa\\xdcO\\x97\\x85\\xa4\\x0f\\xf3>\\xa3A\\xfc\\xa7\\xe8\\n\\xb7\\xe0\\xff\\x00\\x0fQ\\xc1\\xe0\\xb0\\xb8l;\\x7f\\xf6xF\\x06S\\x9f\\xe3p\\xdd\\xdf{\\xfb\\x95\\x9c\\xbchK4ZT\\xa2\\x8e\\x88yS\\x8f\\x8f$\\xdd\\xb9?\\xff\\x00\\r\\x8c\\xab\\x04[D9\\xe3K\\xde\\x05\\xbf\\x95oap\\xc3\\xcb24\\xda\\x13haA=\\x06\\xe5X\\xc5W\\x18ze\\xad\\x03Q\\x1e\\x9e\\xcb\\xb5\\xbd\\x9ej\\x8d\\x198\\xb2]T\\x81\\xb0*:o,p:\\xa2\\xd1\\nGR/\\xef\\xd4\\xca\\x8c\\xb0\\x86\\xc0 Z\\xe7\\xa2\\x92\\xcb\\xec\\x9c\\x00\\xf1\\r\\xe3p\\x9a\\xfaN\\x10\\x1cfz\\xa8X\\xe73Q\\xe9\\xb1S6\\xae\\xb6\\\\\\xdf\\xba\\x16\\xa1\\tp\\xb9\\xe3i\\x84\\xcb\\xd8\\x03\\xb7N\\xa8\\xb8\\x99\\x88\\x16\\xd8\\xa6\\xf9\\x82l\\xd2\\x01\\xb4\\xc2\\x10#\\x16\\x06cr%1\\xd7t\\x037\\xb9\\xe8\\x8c\\xf5\\x16\\xe6m\\xf4Ls\\xdc\\x0e\\xe3\\xb7*{(\\xd8\\xe2\\xf1\\xa8\\xee#\\x91\\xb2\\x85\\xe4L\\xdafBisD\\xcc\\xf7\\xba\\x89\\xce\\x87\\\\\\x0f\\xbaU\\x99\\xd8I\\x0c\\x12\\xe3\\x03{\\x85^\\xae$\\xbaH\\x90\\x05\\xb6Q\\xd6{K\\xcc\\x93\\x07k*\\xb8\\x9a\\xb6\\xb4\\xef%j\\xa2f\\xd9 \\xc5\\xe9\\xa9\\x01\\xd1\\x1c\\x0b*\\xd8\\xfc|\\xb85\\xa6Oe\\x9b\\x8a\\xc5C\\xecH\\xbe\\xe7\\xf3QR/v\\xba\\x8e2@\\x81<\\x05\\xa7\\xfc\\x1c\\xeeVE2M\\xec\\x88\\x04\\x1e\\xc9\\xa6\\xe2`GnR\\x10f\\x0f\\xb0*\\xa4\\x0e\\xde\\xd7\\x8b\\x9b\\x9b#\\x10w\\xfb\\r\\x93\"]\\x17 \\xde\\xe9\\xc2`\\x88\\x89\\xda\\x10\\x0b\\x8b\\x11\\xbf\\xdd!3c\\xf7E\\x82\\x08\\xbc\\x8eOD\\xa3\\xb8\\xd3\\xd9\\x00\\xe1\\xbf\\xe6\\x83w\\x8d\\xe7\\x90\\x86\\xf2x\\x9b\\x04\\xe0ba\\x00b\\xfb\\xed\\xf9 \\x0c\\xf3\\xc6\\xc9|\\xa0\\x8e\\xfb\\xa4\\x1d\\xea\\xb4I@)H:-\\xde\\x11\\x107;\\xf6\\xdd\"-\\x02\\xff\\x00\\x9a\\x014\\x12\\xe3\\xcaI\\x01\\x1dA\\xee\\x92\\x03\\x90\\xd4D\\x88\\xd9 e\\xe2l?T&O\\xcb\\xba,\\xbb\\xb7\\xb7+\\x94\\xd4s\\x88\\x82O\\xe4\\x90\\x99&o\\xd3\\xe8\\x9b\\xaa\\'qm\\xca \\x9b\\x14\\x01\\xd5\\xd0A\\xe5.\\x9b\\xcf\\xf4@F\\xa2x\\x1c\\xa3&@6\\xf7@\\x10w\\x06\\xe7\\xf5H\\xc4\\x9d\\xb9M\\x98\\x9d\\xcfp\\x93\\x8e\\x9an\\x8e\\x97(\\x0b\\xb9p\\xd4\\xc1iV\\x9a\\xdf\\'\\x10\\xde\\x06\\xf2\\xa9\\xe0\\xea\\x06\\xba\\x98&\\xc7\\xa7\\x0b[\\x12\\xc1\\xa5\\x8e\\x8f\\xa8\\xdb\\xd9mI\\xa2\\xa9\\xd36p\\x8e\\x05\\x97\\xd8\\x0f\\xfc-*T\\x1dP\\x80\\xd6\\x92x\\x0b/+\\xc2:\\xb8\\x01\\x83}\\xf8\\x8b\\xae\\x9b\\x0c\\xc6\\xd0n\\x91\\xc8\\xb9;\\x95\\xa9\\xa5\\x96p\\xb8:T\\x88/\\x82\\xf1\\xc0\\xf9U\\x87b\\x99L\\x9dN1\\xd1P\\xc5f\\r\\xa2\\xd2\\xddBcu\\x9e\\xecYx\\x89\\x91\\xba\\xad\"\\xd6l\\xbf\\x1c\\xd7\\xd8\\x9d\\x03i<\\xa6\\xfe*\\x93\\x05\\xbdG\\x8b\\xac_<\\xbcF\\xa9\\x11)\\xed\\xaa$\\x02\\x08\\xf7*\\xae?B\\xd9\\xa4\\xfcs\\x8ci06\\xb2A\\xc6\\xa1\\x04\\xde\\xea\\x8b+4\\x02~Q\\nf\\xe2^HkA\\xd4\\xeb@\\x13*\\xb5D\\xa6\\\\\\x0c\\r3\\xac\\x07\\x13\\x01\\xa3\\x9e\\xca\\xde\\x1f\\x06\\xdan\\xf3*\\rN\\x02\\xc3\\xf9Jf\\x07\\x07\\xf8p_P\\xcdW\\x8b\\x9f\\xe5\\xec\\x15\\xa2\\xf8\\x10w\\xfe\\x8a\\x19q\\xeex\\x10I\\x07\\xe8\\xab\\xe21\\r\\xa6\\x0c\\xba\\xfd\\x15z\\xf8\\xcfQ\\r\\xb9\\x16\\x93uU\\xf5u\\\\\\xba\\xfd\\xc2Pr\\x05z\\xee\\xa92\\x08\\x11hU\\xdau8\\x83\\xd1J\\xf8\\xd3\\x04\\x98P\\x88\\xd5\\x1f\\x92\\xd2/\\xd1\\x90\\xf0\\x01\\x88 \\x928R0\\x01\\xb4\\x81\\x11\\xec\\x9a\\x0e\\x81\\x06A\\xee\\x9c\\x1c\\x01$\\xf6\\xb7upH)8\\xb8:H1\\xc6\\xe9\\x06>`\\xc6\\xaf\\xc9KN\\xbd&\\x99p\\xbc\\xff\\x00\\nO\\xc7\\xb2\\x98\\xf4\\xb3eM\\x81\\xa6\\x8b\\xdc?\\x9az\\xf2\\xab\\xd6\\xa0\\xe0\\xd0j?Cz\\r\\xd3\\xeac\\x9e\\xfb\\x07\\x16\\xaa\\x9a]\\x8f\\xc6\\xb2\\x88>\\x99\\x0ey\\x9e\\x11?\\xb2\\xd4j\\xe58F\\xd2\\xa4j\\x01\\x05\\xe7ro\\n\\xf9n\\xaed\\x94\\xa9\\xb2\\x00\\x02\\xe1\\x10\\xd9 \\x01i\\xe5P\\xb2\\x8e\\x8c\\x9c\\xc5\\xce\\xa7U\\x84\\x98\\x13\\x05]\\xc2\\x8d\\xb7\\x82$\\x13\\xba\\xa3\\x9d\\x98\\xa1\\xa8\\x03k\\xc2\\xb3\\x97b\\x9bR\\x9bI\\x98\\x8bG\\xb2\\xb7\\xa35\\xd9\\xb9\\x924\\x03T\\x81\\xea\\x02o\\xbfE\\xa3\\x89~\\x8a\\\\^\\xd7Y\\xf9]ZxvTq\\x92IhV*8\\xd7\\xa9\\x06\\xfao\\xd1s\\xb5\\xfb\\x1d\\x8a\\xaa\\x8c\\xecH.\\x06\\xc272\\xb9\\xac\\xe9\\xe5\\xc4\\xd3h\\x92\\xe8\\x1d\\xca\\xeas&@t\\x08\\x81\\xd1s\\x18\\xaaf\\xae:\\x9b>m\\'Q[D\\xe7\\x9a\\xa2\\xbe,\\x16\\xd2\\x03h\\x10\\xb0rj\\x91\\x9b\\xd6\\x99\\xd2\\xe0\\x1a{.\\x873:i\\x117\\x85\\xce\\xe4\\x84\\x9c\\xda\\xbe\\xd3\\xe9\\xfe\\xaa\\xef\\xd1\\x92:\\x8f\\xf4\\xacF\\x1b\\x10j\\x86\\x17R}\\xc1\\x06\\xc0\\xf4*fb\\r\\tk\\xda\\x01\\xe3R\\xbf\\x85\\xa8\\xea\\xf8sF\\xa0\\x96;~\\xea\\xf6\\x0f)\\xc1\\xc0!\\xa0\\x15K\\xa3U\\x1b\\xa3\"\\x8e$\\xd5t\\x81\"7\\x02U\\xc7\\xba\\xa5 @\\x10w\\x07\\xb4-:\\x98\\x1a\\rl4\\x06\\x9b\\xf3\\xb2\\xab\\x8c\\xa2\\xc7\\xd2}6\\xb8\\xb4\\xb8\\\\\\x8d\\xc0\\xea\\xa9v[\\x8d\\x1c\\xaem\\x96\\xe2<A\\x9ae\\xf8v\\x9d8:\\x15\\x1d^\\xbdM\\xfd@CG\\xd2\\\\~\\xcb\\xac\\xc3ai\\xd3\\xa4\\xc6S\\x1aX\\xd1\\x00\\x0e\\x130\\x18_*\\x90h$j\\xe3\\xa0\\xe0+\\xe3M\\x01\\xea\\xb1\\x8fu\\x15\\xbb4[T\\xc6=\\xff\\x00\\x85\\xa2\\\\zm;\\xac\\x97\\xd6uW\\x97\\x17\\x18=\\xb6R\\xe21O\\xae\\xe3\"\\xc3\\x8e\\x14\\x11&\\xc6\\xeaHo\\xd0\\xe2\\x01\\x1d\\x0f\\xe8\\x98\\x06\\x83\\xb7\\xd7\\x85#L\\xeai\\x92&fw@\\xd9\\xb6\\xb8\\x9f\\xaa\\x17]\\x0cx\\xb6\\xd7\\xdf\\xb2\\x14\\xdcC\\xb6\";\\xee\\x8b\\x8c\\xc1\\x02\\xfd\\x02\\x8c\\x92\\x1a.G\\x1b!\\x0c\\x95\\xc2~[\\x08\\xd9F\\xf7\\x16\\xb6l\\x06\\xd0\\x93\\x1e\\x1a\\x00-\\x00GU\\rbK\\xc8\\x03Sgd3\\xb6\"@\\xd5\\xea\\xbc\\xdeo\\n7W\\x92\\x1c\\x07c\\x17M}@L\\x80-\\xda\\x14\\x0e\\xab\\xa8\\xce\\xce\\xea:tVVV\\xd0\\xea\\x8f$\\xc8\\x80\\xd5V\\xa5}M0b7\\xbf\\xe4\\x85z\\xcdh\\xe3\\xacJ\\xcc\\xc5c\\x83\\t\\xb1\\x07k\\xd9i\\x18\\x999\\x13\\xe21A\\x94\\xc4\\xb8\\x812\\xb1q\\xb9\\x9e\\xaa\\xa5\\xad:\\xbb4\\xd9W\\xc5\\xe3\\xddQ\\xd6\\xb8\\xe8\\xa5\\xc0\\xe0\\x86\\x97T>\\xa7\\x1f\\xe2\\x9d\\xd6\\x9d\\x18JVGF\\x93\\xaa\\xb8:\\xa0\\x92v\\x06\\xf0\\xb4_HR\\xc0\\xbe~b@\\x85.\\x07\\x07\\x12\\xe0-6)\\xd9\\xc3|\\x8aT\\xa9\\xccM\\xca\\x84R\\x8c\\xa9\\x90/\\x11\\xb2Q<_\\xa2\\x06\\xc1 \\x7f\\xce\\xaa\\x0b\\x06\\x0e\\xd0\\x9c$H\\xdeo\\xec\\x9am\\xf5\\xe1<4\\x93q\\x11\\xc2\\x01\\t \\xfa@>\\xc97\\xd2Dt\\xb8A\\xae;\\xbb\\xea\\x903\\xef\\xd5\\x00\\xe0#k\\xa5 \\x18\\x91t\\x01\\x9bM\\xc7;\\xa50b}\\xd0\\x0e\\x04l,\\x8b\\x8c\\x98w\\xd17Pt@\\xb7D\\xf29\\'n\\xa8\\x06\\x93\\x02y\\xea\\x9c#\\xe5\\xd9\\x0e\\xd2\\x93H\\x1cKw\\x94\\x021\\x12O!$\\x0f\\xcb\"\\xfd\\x92@q\\xb4\\xc8#y\\xf6O\\x11\\xb6\\xc7\\xa8U2\\xea\\xff\\x00\\x88\\xc36\\xa0\\x16p\\xb2\\xb7o\\xfc\\x85\\xc8j9\\xa1\\xa0\\xfd\\xacJ\\x13 \\x81\\xc7(\\x12\"\\xfb\\x8e\\xa84^u@R\\x07j\\x92\\x0c\\xa4m?\\x92\\x1c_~Q\\xdd\\xa0E\\xb7(\\x02\\xd7\\x00;\\xc7< \\xe69\\xcd\\x80lJ\\x02\\xfd\\x0fE.\\x1d\\x81\\xd5c\\x91\\xc2\\xb2\\x0f\\xa2\\xc1\\xa2Xt\\x80\\x0c\\xecG\\x0bc)\\'7\\xc3\\xb6\\x9b\\x04Ta\\x87\\xc8\\xf9{\\xa6\\x0c\\x11\\xc4\\xb9\\xadl5\\xc4\\\\\\xff\\x00([Xjtr\\xea\\x1e[\\x04\\t\\x92\\xe3\\xbb\\x8fR\\xb6\\x8cZ3504\\xd9\\x84\\xa2\\xc60\\x10\\x06\\xe6nOT\\xecVh\\xca\\x03H\\x8d{[\\x8fu\\x8b\\x88\\xcc\\xb5\\x92)\\x82\\xd1\\xfc\\xc4\\xee\\xab\\xea5\\x08s\\x89\\x9eJ\\xd1\\xd1h\\xb3E\\xd8\\x83P\\xb8\\xbbsrSYT\\x99\\xb9\\xeb*\\xbb\\t\\x02{\\xc5\\x82\\x99\\xa2 \\x90u*\\x9a\"b\\xe0@#n\\x90\\xa6k\\xc8-\\xe6\\xf2IU\\x18\\xf8t\\xdf\\xb7%=\\xaf-\\x8b\\x8dN\\xb4\\x01$\\xa8\\xe8\\x92\\xd0\\xa8K\\xc1\\xdd\\xc4\\xd8\\r\\xca\\xda\\xcb\\xb0\\xbf\\x87\\xf5\\xbcMb6\\xe1\\xa3\\xa0Ur\\xdc\\x10\\xc3\\x83Q\\xe6k\\x1f\\xe1\\xfe_o\\xee\\xad\\xd6\\xc5\\n-2o\\xbc\\x03\\x04\\xa9h\\x17_\\x88m)/$Ygb\\xb1\\xae\\xaf#\\xe5`\\xe0*uq>k\\x81\\x93\\x00(\\x85\\xcd\\xcd\\xcf\\x03\\x95\\x1ck\\xb2m\\x96][I\\x00\\xcf\\xb87A\\x95\\\\]\\xfc\\xc3\\xa2\\xaf\\xa8\\x91s#\\x84Z\\xd9x\\x89\\x8d\\xc4\\x94\\xa0H\\x1d!\\xa0\\xdao~\\xc9\\xf3\\xa7wA\\xec\\x81o\\xa06\\x017\\x9eR$\\x01i\\xeaaM\\x10\\x17>\\xdd\\xfa\\x83t\\xd1W`\\x081\\xb9Lq\\x01\\xfb\\xdc\\x0f\\xaad\\x92\\xed\\xe4s\\x08\\xc8\\xf6I.y\\xb1\\xd3\\xdc\\'4\\x17\\xee\\xe1kH\\xe5E\\x1f\\xb97\\x10v\\xea\\x8b=:F\\xc7\\xa2\\xa2\\xb6X\\xb0\\xf7\\xf9l$\\xbb\\x88%\\\\\\xc8\\xb0\\xe5\\xb4]\\x88x\\xf5\\xd66\\x8e\\x1a6Y\\x0f\\x07\\x19\\x88\\xa5\\x86k\\x88\\x0e7\\x8e\\x07\\'\\xfa.\\xaa\\x93Z\\xd644\\r#\\xa7EW\\xd9(p\\x10\\xd1\\xc1\\xe2\\xdb\\xa7\\x93\\xc0\\xdd($\\xde\\xc3\\xa0Nk\\xf4\\x9b\\xd8(f\\xab\\xa2\\x9e6\\x80\\xa9D\\xb6A1\\xf7X\\x99eS\\x87\\xaa\\xean\\xf4\\x96l\\xbaj\\x8dk[o\\x9beI\\x99%3X\\xd6s\\xb5\\x93\\xfc\\x03e)\\xfd\\x99\\xc96\\xed\\x0f\\xc3\\xe2Ae\\x8c\\x1f1\\xbe\\xe6\\xc5o`\\xee\\xce\\x0c\\xef\\xdds\\xb8\\x8d\\x18<E\\x06\\xd3\\xa6\\xeaD\\xbf\\xd4E\\xdb\\xd8\\x8f\\xba\\xdf\\xcb}T\\xeeDL\\xc8T\\x99\\xac\\x1f\\xd9W\\x1fR)=\\xc7y\\xd8\\xac,\\r\\x10\\xfcEz\\xee\\x11}#\\xbc\\x15\\xad\\x9c\\xd4\\x96\\x065\\xd0\\\\N\\xc3n\\xea\\x9d\\x10)\\xd3kF\\xc3\\xa8\\xddLz+-\\xb3\\x1b5\\x1a\\x83\\x8c\\x00\"\\xf0.\\xb9\\xdc\\x92\\x06k^\\xe0m\\xb9]>h\\xc2\\xe6<Dqe\\xc9\\xe0\\x1b\\xe5g\\xcfm\\xc1-\\x07\\xf3Z>\\x91\\x89\\xdf\\xd2!\\xac\\x07kJs\\xb3\\x01\\x87n\\x97\\x19\\x8bwL\\xc2\\xb6h\\xc3\\x8d\\xcfyG\\x13\\xa2\\x95\\x07?L\\x9d6\\xb5\\xca\\xab5\\xbd!\\x878\\xa9\\x88%\\xad\\x964X\\xbd\\xc2\\xc1K\\x84.\\xc4\\xbf\\xc8\\xa7:gS\\xde\\xe3r:\\x92\\xb2i\\xe1]\\x13Y\\xe0\\x0f\\xe4\\x89?e\\xb7\\x96Q\\x18z{Au\\xcd\\xa4\\xa8d\\xc6M\\x97\\xa8S-\\xab\\x04@\\n\\x1c\\xc2\\xae\\x98d\\x916>\\xca\\xc8\\xc5\\x8a@\\xea\\x00\\t\\xdc\\xddR\\xc5<\\xd7\\xa8^b\\xfb\\x00\\xa9[,\\xde\\x8a\\xc1\\xa1\\xfb\\x02\\x0e\\x9f\\xb20\\x05\\xa0\\x04\\xd6\\x8d.\\xde\\xdb\\x98\\x1b\"\\x1c[\\x02}@\\xee\\xa4Gb{\\xa67\\x88\\xbf\\xbah%\\xa7\\xeb!\\x17\\x03\\x07r\\x08\\xb7t\\xc2`\\xb8\\x83 ZP\\xd1\\x04\\x8fU\\xa3P\\xde\\nd\\x12\\xe7ma\\xb0\\xe0$\\xe7\\t28\\xd8p\\x9a\\xf7\\x82\\x010\\x1c9\\x08U\\xcb\\xe8mBZH\\xd8\\x1d\\xe1CQ\\xde\\xda{(\\xdc\\xe1R\\x07\\xd2\\xc1GY\\xff\\x00\\xba\\'~Hw*\\xf1Vb\\xdd\\n\\xad_I\\xb1&w6\\x95J\\xb5sb\\r\\xfa\\xcd\\xca\\x15\\xeaX\\xf0N\\xd1\\xb2\\xce\\xc5\\xe2\\x83-\"b$\\xf4Z%FM\\xd2\\x19\\x8c\\xc5\\x966\\x01\\x1dIX\\xb8\\x9ck\\x9c\\xe2\\xd6\\x92\\\\{X\\xa7\\xe2k\\x1a\\xc4\\x86\\x91\\'\\x94\\xec.\\x07@\\xb8\\xb9\\xd9[\\xfa9\\xad\\xb1\\x98\\\\!s\\xb5\\xbcI+o\\x0fG`\\x04\\x13\\xba\\x8e\\x96\\x1f\\xcb\\x00E\\xd6\\x9e\\x07\\x0f\\xfb\\xc0\\xef\\xd5M}\\x85\\xb3G\\x01\\x81\\r\\xa6\\xd1\\x04\\x80$\\x85\\xcf\\xf8\\x91\\xce\\x18\\xe6\\xd33\\xe9l\\x80{\\xae\\xb6\\x93\\xfd\\x1f\\xcbm\\xd7\\x15\\x9bb\\x7f\\x13\\x99Vw\\xcc\\x1at\\x8f\\xa2\\xa9\\xb4\\xb4\\x8aM\\xb8\"B:E\\xcf#\\x84\"$\\x8d\\xd1\\x9bZ\\xc3\\xa8C1X\\xf4\\xdb\\x94A\\x172\\x98L\\xb4\\xcd\\xc7<\\xa7\\xb6\\x08\\xb8\\xfa \\x01\\x90:\\x0e\\x88\\xea\\x99\\x93~Ri\\x8f\\x99\\x13\\xdbcd\\x01\\xb9\\xe9\\xf7H\\x92\\xeb\\xec?D\"\\xc0m\\x1d\\x13\\xa26(\\x07\\x18\\r\\x8d\\x81\\xff\\x00%\\x0f\\xe2 \\x80}\\xb9H\\xc9\\x1e\\xfdB\\x03\\x83r>\\xa8\\x02w\\x13pw)\\x03\\xa4\\xc7\\x08\\x825I\\x13x\\xff\\x00\\xca\\x06\\xe7b\\x13\\xb08L\\xef\\xf6I4\\x12\\xd2I\\x16=\\x12@p9E=\\x19}!\\x1a`+\\xc0I\\xbd\\xccuU\\xb0l\\xd3\\x85\\xa7h\\x86\\xc8V\\x01 \\\\\\x8b\\x9e\\x8b\\x91\\x1a\\xfba$o \\xfe\\xa1#\\xf2\\xc8\\xbc\\x89\\x84\\t\\x83\\x06\\x0f~R\\x9d$\\r\\xa0)\\x01\\x91\\x07`w\\x80\\x9d\\x07\\xa7\\xdd0\\x10b\\'\\xea\\x8c\\x89\\xb9\\xdd\\x00u:\\x0c\\xab\\x19~\\x83\\\\k~\\x81\\x06\\xea\\xae\\xa2N\\xdfD\\xda\\xcc.\\xa77i\\x04\\x19R\\x87z:\\x9a8\\xd1I\\xade#6\\x99<\\xa7\\xf9\\xe6\\xa5\\x81&\\xff\\x00XT2\\xea\\x01\\xd4\\x9a\\xe13\\xba\\xd2\\xa5L\\xc7y+\\xa16\\xd1N?C\\x1a\\xdd\\x89\\xb9\\xfc\\x94\\xf4\\xb6\\xd8L&8lo\\xa9\\x06O2;\\xca\\x92\\xcf\\xb2\\xe3j\\\\\\xb6\\xe4\\xc2t\\x98\\xb0=\\xee\\xab\\xb6\\x9b\\xb5\\x1fH\\x926;)\\x9bF\\xa3\\xa5\\xadd\\x9e\\xe7d-t\\x1ds\\r\\x82\\xe2v\\x03\\x92\\xb6r\\xec\\x08\\xc3\\x86T\\xad\\x06\\xb1\\xe3\\xf9\\x07n\\xea\\xb6\\x16\\x8b07q\\x15+;\\x9e\\x07\\xb2u|i\\xa904\\xb7\\xb2\\x0eH\\xbf[\\x1c)\\x82\\x1b\\x04\\xed\\xd8*n\\xae]S\\xd4\\x0b\\x88\\x11\\n\\x9f\\x9efb\\xd2\\x8b\\\\#\\xd4\\xe3\\xa4\\xf2P\\xb1d<\\x86\\xfa\\xa4\\xc6\\xcaF\\xf1\\x04\\x916\\xee}\\xd5v\\x90H\\x9b\\x83\\xf9wR\\x07\\x08\\x90o1(A9\\x13r\"/~\\x13\\xdat4i7\\xb6\\xea\\xb7\\x9co0\\xd3\\xb6\\xf3\\x08y\\xe2\\xf7\\x9b^\\xe8Ie\\xd8\\x81\\x07O}\\xfa\\xa8\\x9dR\\xe6\\xe4\\x0f\\xf9TN\\xaa&\\xe2L&\\xb5\\xd7\\x90@\\x03s\\x1b\\xa0%\\x15\\tq\\x9d\\xfb\\xa4\\x08\\x9e,eE\\xe6|\\xc6\\x00\\x13xF}#Kfo; \\'&]\\x04\\xfa\\xb8\\xb7\\xe4\\x85J\\xad\\xa6\\xd78\\x98\\x9e\\xb6P\\xeb\\xf4\\r2D\\x13\\x1f\\xee\\xaac\\xf1/\\xa8E\\x06\\x11\\xad\\xe40\\x0ed\\xa8v\\r\\xdf\\r\\xd0\\xf3<\\xdcS\\xac^\\xed\"\\xdcv\\xfa\\xae\\x81\\x80\\x01\\xb9\\n\\x86\\x02\\x93hQe6|\\x8dl\\x01\\x10=\\xd6\\x88\\x00\\x80\\x01\\x1b\\xc7\\xba\\xa3-\\x1e\\xc5\\x1c\\x031\\xb4\\x94\\xd7\\xd4\\xd0\\xd3\\x16\\x9d\\xa1\\'\\xd5\\x14\\xe5\\xd3\\x03\\xf5T\\x9d_Y/&@\\xb0\\n\\x0b\\xb7E\\xd6|\\xc4\\x90\\x1c{\\xf4N\\xab\\x8am\\x06\\xea0\\x0c\\\\\\x95E\\xf5\\xdc\\x18 \\xc4\\x9b\\x05\\x9d\\x8b\\xaa\\xedRL\\xc7\\x07\\x85)Y^LY\\xc6h\\xd6\\xd7\\xa2\\xe0\\x0b\\x8bN\\xa2g\\x8fe\\x7f\\x05\\x9f\\x1at\\x1fHH\\xa8\\r\\xe3u\\x83\\x8b\\xaa\\x06\\x1a\\xa1k|\\xcd\"H\\xea9\\x1fe\\x9dG\\x1a\\xda:^\\xe30\\xd1\\'b\\xe6\\x1f\\x95\\xd1\\xf9+R)\\xc9\\xad\\x9dMLk\\xaa\\xb8\\x93 w*\\xdd\\x17\\x07\\xac6b\\x01\\xa6\\xd76\\xe0\\xdc\\x15\\xa1\\x84\\xc4H\\x10@\\xe1\\x1c}\\x84\\xefd\\x98\\xeaN}2`\\xdf\\x80\\xb9\\x17R4s\\xda/\\x16\\x0e\\xb1\\x95\\xd9\\xbc\\xb6\\xabv\\x88\\xfb\\xac\\\\\\xc3\\x06\\x0e\"\\x95Q\\x06\\x0f\\x1c)\\xab[!\\x9b\\x0e\\xc47\\x07\\x82uG\\x98hl\\xec\\xb0\\x9f\\x9b\\xd5\\xc5\\x19l\\x86\\xdb\\xd9E\\xe2<k\\xdf\\x86f\\x12\\x84\\xd4\\xc4W:\\x18\\xdfs\\xba\\xd0\\xc3e\\xc7\\x0f\\x87m\\x166\\\\a\\xbd\\xc9U\\xa4\\xb6Y\\x12\\xe4t\\x1f^\\xbb\\xab\\xbe\\x0b\\x19a#s\\xcf\\xd8.\\xa2\\x85\\x18\\x17;\\xf2\\xa9`\\xf0\\xfeT1\\xa3KZ6V18\\x8f)\\x9a\\x1a/\\xfa*7f\\xb1T\\xac\\xab\\x8d\\xab5\\x0bF\\xc3\\xf3QSyh\\x826D\\xbau8\\x82N\\xc0\\x94\\x83yu\\xe3\\x95R\\xd1V\\xc7\\xebk\\x89\\xf4\\xc71\\xd5\\x08l\\xee:\\xfbwQ\\x97H\\xb5\\xc9\\xe0\\xa5 lw\\xe5\\rz\\x11\\x02\\x07 s)\\x8e0oq\\xd7k\\xa2}$I$wL{\\xf4\\xb4\\xc07\\xbc!\\x9c\\xc6\\xd4\\xac\\x04\\xdbM\\xef*\\n\\x8f.\\x12D\\x9f\\xc9:\\xa5Hi;\\x10\\xaa\\xba\\xac^,\\x05\\xa5_\\xb3&\\xe8s\\xfd\\r.\\x0e$\\x0b\\xc4*\\x98\\x8a\\xe1\\xd2$\\x13\\xb9*:\\x98\\xb7\\xd5\\x96\\xd3\\x89\\x9fS\\x89\\xff\\x00.\\xa9bk\\x86zE\\xce\\xe5\\xc0\\xadc\\x1a3\\x94\\xbd\\x8d\\xc5\\xe2\\x08\\xb9\\xb9\\xe3\\xaa\\xc7\\xc4Uv \\xe9\\x89;\\x9b)\\xea\\x87\\xd6$\\x19\\r\\x1dS\\xe8a\\xf5\\xcfSb\\xae\\xce[\\xbd\\x91a\\xb0\\xb1\\x1dy\\x95\\xa7G\\x0c\\x04[t\\xfc>\\x14\\xb4\\x88\\xd9_\\xa7\\x86\\x9fU\\xf4\\xa2\\tY\\x05:\\x12\\xed\\x8f\\xd5hQ\\xa3\\xa1\\xb3\\x1c\\xdb\\xb24p\\xe1\\x97-2\\r\\xc8\\xe8\\xacz[\"I\\x83\\xb1*\\r\\x92\\xa2\\xae;\\x11\\xf8<3\\xea\\x13\\xb3l{\\xf0\\xb8\\xe2\\xe3\\xb97\"I[\\xde!\\xad\\xe6\\x86\\xd1\\x06\\xcd\\x1a\\x9c\\xb9\\xf1\\r#~\\xb2\\xa0\\xa3\\xd8@\\xd4z\\x9e\\x12\\xf9\\x9c7\\xf6B\\xe0u\\x94`\\x90,d\\xa8 Do\\x07~\\xc9l\\x0e\\xc7\\xd9\\x06\\xc77\\xe2\\xe9\\xdd\\xfb\\xa0\\x08\\xf4\\x91\\xf9\\xa5w\\x11\\xd4\\xa0 \\x1b\\xa3h\\x8e#\\x94\\x02\\x1316\\xf6D\\x13\\x03\\x83;\\x04\\xd0\\x012l\\r\\xa1;P\\x02E\\xc1\\xea\\x80u\\x80\\x11\\xb7IK\\xa7\\xf4@;P1\\x10\\x9cH\\xb6\\xc0\\xf4@\\x00M\\x86\\xae\\x11\\x98\\x80\\x80\\x04:$\\x81)\\x1d\\xf7\\x93;\\xa0\\x0c^\\xf3\\xf4I \\xe8\\xeb\\xec\\x92\\x03\\x8b\\xa04\\xd3oH\\x1e\\xdb\\'\\\\\\xc7n\\x88\\x01a\\xd6>\\xe8\\x17\\x10\\xd8\\xb8\\xee\\xb9MG\\x93\\xb6\\xe2y@\\xd8\\x0e=\\x920\\xe1\\xfd\\x90\\x06\\x08\\xe7\\xdd\\x00F\\xe2c\\xac\\x04\\xad\\xb4[\\x80\\x81\\x1aI\\x00I\\xeb\\xdd!}\\xec\\x80u\\xfb\\x82\\x91\\x12 \\xcc\\x11\\xb1\\xe5)\\x17\\x8f\\xc9#\\xbd\\x8e\\xd7\\xba\\x03C$\\xc6k\\x1eC\\x89\\xd4\\xc3\\xa7\\xfd\\xd7K\\x84\\x1e\\x7f\\x009\\xbcu\\xee\\xb8\\n\\xcf~\\x0e\\xab1T\\xa7\\xd1j\\x80\\xf2:\\xad\\xfc\\xb7\\xc4\\xf8z\\xadk\\xc3\\xda\\x1d\\x1b\\x0eV\\xd1\\x9a\\xe9\\x90\\xd3\\xf4u_\\x82\\x04\\x93\\x00\\x10x\\nzyd\\x19$A\\xdeyX\\xf4\\xfcKH\\xb4C\\xa0\\xf2%W\\xad\\xe2\\x868\\xc0~\\xcb^H\\xae\\xce\\x89\\xed\\xc3a\\xc4\\x13\\xad\\xdf\\xca8Ujc\\xda\\xc6\\x86\\xb2\\x1a\\x0e\\xf1\\xca\\xe5\\xabx\\x84<\\xc0r\\xaf\\xfe\\xb33{r\\xa3\\x92\"\\x99\\xd3;\\x18\\x08\\xdc\\x90w\\x94\\x9b\\x89\\xd4\\xc3.\\x03\\xb1+\\x98\\x19\\xa80>\\xb6\\xba\\x92\\x9efd\\rdF\\xca9\"\\xd1:\\x86\\xd6\\x92G\\xcc\\xd8\\xeb\\xca\\x99\\xb5\\x1a\\xd1\\x1b\\x05\\xccR\\xcd\\xdb0\\xe2\\'\\x83*\\xc3sf\\x06\\x1dD?\\xdfed\\xd1\\x16\\xce\\x8b\\xcd-u\\xe3V\\xe4\\x04_\\\\\\xccL\\t\\x82\\xb9\\xe1\\x9b\\xb0\\x805K{\\x94\\xf6\\xe6z\\x8e\\x99\\x93\\xd7\\xaai\\x93\\xc9\\x9b\\xa6\\xb8u\\xa6\\xe2\\xc9>\\xb4\\xb5\\xb0A\\x1d\\xd6 \\xc74\\x83\\xea\\xd4N\\xe6vR3\\x1e\\xd9\\x1cI\\xdb~\\x14\\x13\\xcc\\xd7\\x15\\x01g!&\\xd4\\xb3\\\\\\x1c=\\xff\\x005\\x921\\xa2\\xda\\xb9\\xd8$1cL\\x986\\xe4\\xa0\\xe4k\\xf9\\xe6w\\xb0\\x1f\\x9a&\\xa4\\x82\\x04\\xcd\\xe4p\\xb2?\\x1b\\x02I\\xdb`N\\xc19\\xd8\\xf6\\xef\\xb9#\\x94&\\xcd:\\xb5CA$\\xde76Urc\\xf8\\xec\\xf0\\xf2\\xca-\\xd7=\\xcd\\x87\\xf5Y8\\xfc\\xcbE?\\x9a@\\x99\\xba\\xd3\\xf0\\x0f\\xefp\\x98\\xacV\\xdeeR\\xd0O@?\\xb9*;t\"\\xd9\\xdda\\xaa\\x0bC\\x80\"\\xf0\\xae\\x97\\x80\\xdd@\\x82\\x04\\xac:x\\x9d/\\xb92U\\x91\\x88\\x15[:\\xa7\\xb7\\xf7G\\x12\\xd6:\\xb5cR\\xa0\\x82`\\xec:\\xa65\\xe4I\\x9d\\x93\\t\\x9b\\xc4\\x10vQ=\\xfa[\\xbd\\xff\\x00E4\\x91$\\xaf\\xaeK\\xa0\\x02O\\x1b\\xd9G\\\\\\x8a\\xad3:\\xaf\\x1c&1\\xdf\\xc5\\xbb\\x89\\xdco\\t\\xb5jh\\x1f\\xcc7\\xba\\x02:8AR\\xbbh\\x11\\xe97\\x7f>\\x91\\xbf\\xf6T|WN\\x8e\\x14\\x0cHsh9\\x82\\t\\x8b\\x01\\xd0\\x8e\\x9f\\xa2\\xd1\\xca*\\x86\\x1a\\xb8\\x87\\xba\\xf5]\\r\\x8e\\x83\\xfd\\xd5/\\x137\\xf14\\x9cN\\xe0D\\x04\\xafeeTrx\\x7f\\x12\\xff\\x00\\xa7\\xd4\\x14kjc\\x0cF\\xbe\\x07\\xf5\\x1d\\xd7M\\x84\\xceZ\\xe3-p\\xd2D\\xaf7\\xc4\\xd5\\xff\\x00JuL5O^\\t\\xc4\\x96\\xc3e\\xd4O%\\xa3\\x96\\x9e[\\xf6PR\\xf1(\\xc9\\xea\\x06U\\x0e8w\\x81\\xa1\\xed\\x1a\\x81\\x1e\\xe1QOt\\xcaSZG\\xaf\\x0f\\x10Pc\\x08/\\x170\\xb13\\xcf\\x1a\\xe10z[\\xe61\\xd5\\x1e\\xe0\\xd6\\x89\\xb9$\\xc0\\xfdW\\x97\\xe6\\xde-\\xcb\\xb1t\\x9cF+I\\xd8\\xe9$\\x10W-\\x93\\x91\\xe2?\\x16\\xe5\\xb8l+\\xaab*:\\xb8|\\xcc\\x865\\xa6\\\\\\xe3\\xd8\\x00\\xb3\\x9eUu\\x13H\\xc5\\xcb\\xb3\\xe9,\\xaa\\xa7\\x98\\xe6\\x8aM\\x0e\\xac\\xeb\\x17\\xc5\\xcf\\xd7\\xa2\\xeb0Xb\\xc6\\x882\\xf8\\xb9\\xe1s\\xf9\\x06R\\xfc%\\x01Y\\xd3\\xad\\xdf(\"\\xe0\\x7f\\xba\\xe9\\xf0\\xc0\\xd2k\\\\G{\\xec\\xad*\\xad\\x1a\\xc5}\\x86\\xb1\\x14)\\x99\\xb1\\xbd\\xd6qs\\x9eK\\x88\\xed\\'\\x95>\"\\xb9\\xc4\\xbc\\xb9\\xc4\\xc0\\xb3`*\\xce\\x87\\x18\\x10}\\x95\\r\\xaa\\xc7j\\x80A\\x81\\xec\\x91\\x1130GD\\x1d\\x16\\xeay\\x08j\\x89\\xe6\\r\\xd0\\xbaT:\\xe2\\xc2m{l\\xa2q\\x00\\x8bI\\xe5\\'\\xbf\\xbc\\x91h\\x1dP\\x03I.\\x8e9B\\x1b\\xa1\\xaft5\\xb2[\\'\\x85\\rG\\x82I\\xe0w\\xfa\\xa7\\x97\\x12n\\xe0 ^9\\xf6Y\\xf8\\xaa\\xda\\xcd\\xc5\\xa2\\xe0)\\xa3\\tH\\x92\\xae$\\x99\\xb4\\xf3\\n\\x96&\\xb7\\x9a|\\xb6Z\\xde\\xae\\x81G[\\x1b\\x0e\\xf2\\xe9C\\x9f\\x17\\x8d\\x82\\x87\\xcc4\\x06\\x99\\xb9\\xb9\\'rV\\xe9}\\x1c\\xeehuj\\x82\\x9d0\\xd1\\x11\\x1fU\\x9bP\\x97\\x93\\xcc\\xef\\xc0O\\xa8\\xf3P\\x99\\x04\\xcd\\xc4\\xf2\\x9a\\xd1\\xac\\x16\\xcb\\xadr!h\\x8c\\xa5+\\x03)\\x12\\xed\\xc4\\x8f\\xb2\\xbb\\x86\\xc3\\xcd\\xa2\\xe9\\x94h\\x82d\\x03n\\xa1k`\\xb0\\xe4\\x11\\x02a\\x1b!+c\\xa8a\\xf4\\xc1-\\xff\\x00ui\\x94\\x81h1\\xbf\\xe4\\xa4\\xa5Jlfz\\x15$A\\x80$\\x1e\\xf0\\xa8\\xcd\\xd2H\\x8a\\x9ba\\xbb\\x026\\x90S+=\\xb4\\x98\\xe7\\x12b$\\xce\\xca\\xcf\\xca\\xde\\x1c\\x02\\xc4\\xce1\"\\xd8pD\\xbb\\xe6\\x1d\\x94\\xa5bN\\x95\\x99\\xb5g\\x14\\xfa\\xd5\\x08\\xbb\\xe4\\xac\\x8d\\xac\\xe1\\x04u[\\xf4\\x9a\\x00\\x1b\\x91\\x1b,\\\\C\\x03+\\xd4h\\x9f\\x9b\\x84\\x91\\xce\\x88\\x9cb\\x08\\xbc\\x8f\\xaa@\\xcbv(j\\x9e\\x88\\x83\\x00\\xcd\\xae\\xaaXD\\x98\\xeb\\xee\\x88;\\x13\\x13\\xbd\\xd0\\x06\\x1d\\xb0#\\xa2:A6\\x11\\x1b\\xa0\\r\\xe3ohKIh\\xbf\\xdb\\xa2Cx\\xe7\\xa2$\\x0e\\x83\\xd9\\x00A:w\\x83\\xdc\\xa4\\xd0v\\xb9\\xea\\x803\\xd3nQ\\xd4A\\xed\\xd9\\x00v\\x05\\x1b\\xfd\\x02\\x04\\x90\\x08\\xe3\\xaa-\\xb1\\xeb\\xee\\x80#\\x8b\\xd9\\x00D\\x837M\\x00\\x97D\\xc9\\x8bJ}\\xc7\\x16\\xda\\xc8\\x02bAI\\x01\\xea\\x806\\x1b$\\x80\\xe2\\xa4\\x86\\x82v<\"\\xd7\\r\\'\\xa8\\xdc\\x82\\x98@`7D\\x11\\xb8\\xdf\\xa4\\xaeSQ\\xc0\\xed6>\\xe8\\xf4\\xeb;uM?\\xf3@\\xee\\x12\\x04\\xb8\\x01\\x1fc\\x08\\x02M\\xa2fwKOxC\\xf8\\xbeR]\\xee\\x94\\r\\xa2>\\xa8\\x03\\xb5\\xc9\\x98\\xea\\x96\\xae\\xd1\\xefd\\t\\x83 \\x83dM\\xdd\\xdd\\x00\\x89\\x1c\\rC\\x7fp\\xb0sl\\x9d\\xec{\\xaba\\\\Z\\xc3w1\\xbc{-\\xd6\\x92;JD\\x9d3\\x16\\x95\\rZ\\'\\x95\\x1c\\x8bic\\x81\\xf4b\\x0b\\x80\\xb0\\xea\\x15\\x8at3:\\x86\\x05g\\t[\\xef\\xc11\\xee.k|\\xb7\\xcd\\xf4\\xff\\x00P\\xa4\\xa0E7EZ`F\\xce\\xe3\\xea\\xa8\\xa1e\\xbeO\\xe8\\xc3f\\x071y-\\xf3\\xdd\\xb5\\xba\\xf7S3\\r\\x98\\x82F\\xb6\\xbb\\xdd\\xbb\\xae\\xbf\\x0b\\x85\\xa1V\\x98s] \\xf4\\x85}\\xb9S\\x1c/pV\\xcb\\x15\\xf4S\\xe48\\x17V\\xc5\\xb1\\x84?\\x0f\\xa9\\xbb\\xcb\\x0c\\x1f\\xb2\\x03\\x1e\"\\xef\\xa9E\\xdd\\x1e\\n\\xf4\\x03\\x92\\xb1\\xed2\\xd1{\\\\\\\\\\xaa\\xd5|9N\\xa4\\xcd0\\xdev\\x95?\\x14\\x97C\\x9a}\\x9cX\\xc5\\xd4\\xf4\\xe9xx\\xeceLqu\\x18u\\x10`\\xf6\\xb2\\xdf\\xab\\xe1\\n\\x12\\x7fw~\\xa0^\\x14c\\xc3\\x1eX\\x86\\x1a\\x80t\\xd4vQ\\xc2C\\x94L\\x0f\\xf5Z\\xac\\xa9%\\xa4\\xb7\\xb8\\xddM\\xfe\\xae\\xe0A\\xb8\\x9f\\xc9j\\xbb x2@1\\xc3\\x80*7\\xe4\\xa4\\x03\\xaa\\x8c\\xfb\\x14\\xe3$M\\xa2\\x9bs\\xa7\\x13wDr\\xa5fx{\\xfe\\x8ac\\x91\\xb1\\xc4\\x80\\xd2\\xd3\\x07p\\x9a\\xef\\x0f\\xe9\\x82\\x1aO\\x109R\\xb9\"8\\xa0\\xff\\x00\\xac\\xb9\\xd6\\x06\\x14\\x94sY\\r\\x02\\xe4oyP\\x1f\\x0f\\xbe4\\xb5\\x84\\x1e\\x89\\xa7&\\xadL\\xfaZT\\xfe\\xde\\xc8j(\\xd0\\xff\\x00P\\xdeH\\x8e\\x85\\n\\x99\\xbb\\x18\\xcf\\x9aI\\xfc\\x96{\\xb08\\x8d\\x88 \\x0eT\\x15\\xb0Uw\\xbc\\x81d\\xb0\\xa9\\x8d\\xcc\\xb3\\xa3\\xe5\\xb8\\xeb\\x93\\xfa\\x85\\xe9\\x9e\\x07\\xa6p\\xde\\x19\\xc0\\xc8\\x87>\\x9f\\x98gyu\\xff\\x00\\xaa\\xf1\\xcc~\\x02\\xa5G\\x06\\x01.q\\r\\xfa\\x95\\xee\\xb8\\nC\\x0b\\x83\\xa1H[\\xcb`h\\x1cXBc\\xb7\"f\\xd5$Z\\xabd)W\\r\\x10`\\x03n\\x8a\\xbd|k\\x1b2\\xed\\xad=\\x16ulF\\xb1\\xf3@\\xe8\\r\\x8a\\xea\\xa3\\x1b\\xfa7\\x86!\\x84\\x92\\x1e\\t\\x1fU\\x1f\\x9f\\xe6>n`\\xd8\\x85\\xc9\\xe23\\x83\\x97\\xd4i\\xa8\\x1c)\\x8d\\xdf\\xb8\\xfa\\xf4Z\\xf8<\\xc2\\x9e!\\xacs\\x1e\\x1d;\\x10Ut_\\x936\\x98u\\x1b\\x1d\\xa0\\xc2\\x15\\xe9\\x80\\xc7M\\xad\\xcf*<=v5\\x87U\\x87cr\\x86.\\xb0,7%\\xbb\\x03\\xcc)\\xa2\\xf7\\xa1\\x94+\\x81\\xa4\\x0fKb\\x14\\x19\\xa3\\xb5\\xd3\\x9dv\\x02\\xca\\x01Z\\x1f3\\x066\\xff\\x00t\\xec[\\xc3\\xd9r:\\x81\\xd5M\\x199\\x1c\\x1f\\x88\\xf0\\xcd\\xa8\\xd7\\x00\\\\\\x0e\\xe0\\x83\\x11\\xd0\\x85\\xc4\\xbbU\"\\xeauj\\xbe\\x853h\\x10X\\xef\\xfbO>\\xcb\\xd0\\xb3\\xaa.{Hm\\xb9\\x1d\\x97\\x9bx\\x91\\xfeAw\\x9a\\xc2\\x18\\x05\\x8fE\\xc9\\x95\\x17\\xc6\\xfd\\x1a9g\\x84q\\x19\\xedg7\\x07\\x96\\xd2\\xc7\\xbb\\xf8\\xaa\\x87\\x9aa\\xbd$\\x99\\x01z\\xdf\\xc2\\xef\\x854\\xfc*\\xfa\\xf9\\x86:\\x8d\\x16\\xe3\\xab\\x00\\xc6S\\xa4\\xf2\\xf0\\xc6\\x02\\x0cI\\x03s\\x1bt\\n\\x1f\\x81y=Q\\xe0\\xfa8\\xea\\xf4\\xfc\\xb6\\xd7\\xaa\\xfa\\xb4\\x9a\\xfd\\xde\\xd9\\x80\\xe8\\xe9\\x02\\xdfu\\xea\\xd8z^a\\xd4\\x00\\xb5\\xc8TQKgLc\\xb1\\xac\\xa2j\\xb8\\x13\\x00\\x0f\\xe8\\xa1\\xc7\\xd6\\xd2<\\xa6\\x90v\\x12\\x15\\xccV!\\x98F\\xda\\x1a\\xfd\\x81\\x8b\\xac\\x8a\\x8e\\x15\\x1c\\\\H\\xd5\\xbc\\x95sV\\xab@t\\r\\xaf<\\x1bBM|o\\xf5\\x08\\t\\x1c}\\x90\\x97\\x19\\x83n\\xaa\\x0b\\xa1\\xee\\x00\\x19\\x82z\\xff\\x00d\\xca\\x92\\xd8 \\xdc\\x8d\\xba#Q\\xd3\\x10\\x05\\xec\\t;\\xa8\\x9e\\xf7^\\xc2\\x0e\\xe8-!\\xc0\\xc0\\x16\\x06\\xdbuP\\xd4\\xc4\\x02\\xed-\\x89\\x17\\xec\\x99Q\\xc7V\\xa8\":\\xf0\\x98H{\\x8c\\x08?\\xd1J1n\\xf6Fj\\x12.fO\\xf9\\xf9*X\\xbb\\x01M\\x96q\\xb5\\xd3\\xf1U\\x86\\x1a\\xf3/\\x9b*\\xe4\\x17\\xb7\\xccp\\x87\\xf0\\x7f\\xf2\\xb6Q0\\x93\\xb26\\xb1\\xb8yh\\xf5\\x13\\xbc\\xee\\xa0x\\x15\\x1e}S<\\x9f\\xea\\x9c\\xf2dH$\\xed#\\xfc\\xdd5\\xd2\\x01&O\\xbd\\x96\\xa8\\xe7n\\xc8]-\\x06#Q\\xb0\\xec\\x13\\xe8R\\x10:\\xf2\\x856\\xeb\\x93\\x13\\x13\\xf5W\\xb0\\xb8mN\\x92\\x01\\xd8\\x83\\xd1GD\"|-!\\x17\\x04\\x0fe\\xa9N\\x88\\r\\xb7\\'\\x85\\x1e\\x1e\\x8bZ\\x01\\xf9\\xa4\\xcc\\x05z\\x95\\x1b\\x1fL\\x93\\xbc\\x85F\\xce\\x88!ya\\x8d\\x10A?\\xa2%\\x9aZn:\\x88R8zH\\x80;\\x15\\rC\"5[\\x9e\\x81Bv]\\x95\\xf1U\\x05*ns\\x88\\r\\x17\\x92\\xb9v\\xbc\\xe2\\xb1/\\xacf\\\\LGE\\xa3\\x9f\\xe3\\x9c\\x03p\\xed7}\\xcf`\\xa8\\xe1i\\x80\\x04\\xfdV\\xb1Ts\\xcd\\xfa,\\xb5\\xa4\\xde!\\xc0l\\xb1\\xb3fyx\\xa9m\\x89\\x13+wL\\x01\\xea7\\x17\\x12\\xb2\\xb3\\x86\\x18c\\xa3\\xb4\\x95\\x12\\xe8\\xcc\\xc972o)\\xd0\\x06\\xd6\\x1d\\x12 \\x0bO\\xdd\\x01\\x02d\\tT.8G&;\\xa7\\th\\x0e\\xdez\\xf2SF\\xc6\\x0ft\\xef\\x97r~\\xa8\\x00,Lu\\xe5:\\xe6\\xe5&\\xb8\\x92\\x96\\xafM\\xad\\x03d\\x02\\x1cwNh\\xbf\\xf9t!\\xdaI\\x17#y)4\\xdax\\xea\\x80th\\x99HF\\x93i\\xe9t\\x80\\x06\\t\\xdf\\xaa@i\\x8bB\\x94\\x04\\x0e\\xd6\\x1fR\\x9d1\\xc0\\x07k!\\x0el\\xdao\\xd1(\\xe9\\xca\\x01\\xc5\\xb1\\x10~\\x89!\\x04\\x99\\x00\\xd9%:\\x07\\x14\\x1b\\x07\\x92\\x81\\xe9\\x11\\xd9\\x1d\\xf7\\xf4\\xf1\\x10\\x96\\xfb\\x91\\xb2\\xe35\\x04\\x10\\r\\xa4\\xf2\\x11\\xd2`_\\xee\\x94I\\x89\\x82m\\xb2D\\xf3y\\xea\\x80\\x0eo1<\\x14L\\xb6o\\x00\\xf5H\\xf72\\x13N\\xf7\\xdd\\x00\\xa6gPN\\x12&\\x0c\\xdeD\\xa16\\xbf\\xdd\\x00d\\xc2\\x00\\x8b\\x8b\\x91=Q\\x99g\\xb9\\x84\\xd6\\xc1u\\x84\\xdbd\\x9cL[n\\xc8H\\xe9\\x04\\xed\\xa8\\xa3a6\\x80Sf\\x00\\x03\\xfd\\xd0\\x92\\x04\\x89&yBP\\xf0K\\x1c\\\\\\xd7\\x16\\x19\\xfe\\x1b-,.{Z\\x8b\\x83j7X\\xea\\xdd\\xd6T\\xc0\\xbfDA\\'\\xb5\\xe0\\xd9Y6\\x8a4\\x99\\xd9`\\xb3\\x9c>(\\r/\\x1a\\xb9\\x04\\xc4}\\x16\\x950\\xd7\\xc3g\\xe9\\xbf\\xddy\\x16{\\x8d\\xabA\\xcc4\\xea9\\x8f\\x17\\x96\\xee\\x9f\\x95\\xfcC\\xc7\\xe5\\xed\\r\\xc40bi\\x8bo\\x0e\\x03\\xfa\\xad>t\\x9d2>6\\xfa=xP\\x05\\xa3i\\xe8\\x07\\xe8\\x9c0Mt\\x9f\\xa1\\\\\\x9eO\\xf1\\x1b-\\xc7ik\\xaa\\x8a\\x15\\r\\xb4\\xd4\\xb5\\xd7W\\x86\\xcci\\xe2\\x00s\\x1e\\x1c\\xd3\\xc8\\xba\\xddIK\\xa3&\\x9a\\xec\\x07\\x00\\x1d\\x02\"{(\\xceX\\xd2$\\x8f\\xca\\xe5^e]\\xc9\\x81\\xddJ\\x1c\\xd7\\x81\\xc7@\\xa5\\x83!\\xd9;&Kc\\x84\\xd7d\\xcd\\x06b\\x04M\\x96\\xeb\\x0b\\x00\\x13\\x11=%\\x16\\xd3\\xd5\\xdc\\xcd\\xfd\\x90\\x9b0\\x06[c\\xaa\\xc0\\t\\x92\\x81\\xcb\\xd8w\\x11nF\\xebu\\xd4\\x9aE\\xa0O*\\x1a\\x94\\x04\\xeds\\xd1)\\x10\\xdb0*e`\\xd8\\x00\\xe1\\xd1g\\xe2\\xb2\\xe6\\x80`\\x01\\x17\\x16]-z\\x16qh\\xde\\xf0\\xb3qn\\x80u\\t\\xe2B\\x9aD7]\\x1c{\\xf0\\rvi\\x86\\xa6A\\x00\\xd5i\\x03\\xd8\\xca\\xf4f;U0\\x1b\\xef\\xec\\xb8\\xa6\\xd5\\x0e\\xcd\\xb0\\xe6\\xd0\\x1d\\xc7\\x16\\xb2\\xec\\xe8\\x16\\xb4N\\xdd\\x82\\xa4R\\xb2m\\xb2\\x862\\x85H\\xbf\\xaa:\\xf0\\xb0qX\\x8a\\xf8GY\\xa4\\xc5\\xd7YY\\xd6\\xe3~\\xbf\\xd5s\\xf9\\x9b\\x03\\xa9\\xd4\\xb8\\xf7\\x99W\\xab\"\\xe8\\xc4\\xad\\x9eS\\xaa\\xd3N\\xb0-\\x9b\\x1dC\\x7f\\xee\\xb2\\xa8\\xe6\\x18\\x8c\\xaf\\x13\\xe6`\\x9e*S&M\"v\\xf6U3\\xdao\\x12\\x1by\\xb8\\xb2\\xe13\\x1c\\xf32\\xcb\\xaa\\x976\\x9b\\x9c\\xde\\x8b\\x8asqf\\xd0V{\\x16\\x13\\xc7\\xd5]j\\x94\\xc6\\xa9\\xda \\x8fu|\\xf8\\xb5\\xb5Z?w\\x07\\xafE\\xf3\\xce?\\xe3fM\\x92\\x903w~\\x0e\\xa9\\xe8e\\xff\\x00\\xfe\"\\xf0\\xaa\\xe3\\xbfi\\x8f\\x0f\\xe5\\xccsi\\x9cV-\\xe2\\x01\\x14\\xe8\\x11?S\\x01J\\xca\\xea\\xd9\\x12\\x86\\xf4}\\x18\\xdc\\xf4=\\xd0\\xf32\\xadU\\xcfp\\xf4)j\\xab]\\x8clz\\x89p\\x00\\x05\\xf2vo\\xf1\\xb3>\\xcd\\x8b\\x86\\x02\\x9d<\\xba\\x89\\xd9\\xe3\\xf7\\x95\\x0fy6\\\\\\xd5LVm\\x9dU\\x9cv3\\x11\\x8b\\'\\xff\\x00\\xbbP\\x96\\xfd\\xb6\\n?\\xc8\\xafE\\x96&}-\\xe2\\xcf\\x8c~\\x1c\\xca)\\xb83\\x18\\xdcv mG\\x0b\\xeb?S\\xb0\\\\O\\x83\\xf19\\xaf\\xc6\\xbf\\x1aar\\xa6R\\xff\\x00J\\xc9\\x98M|aa\\x9a\\x86\\x88\"F\\xae\\x0b\\xa44\\x01\\xd7\\xb2\\xf3\\x8c\\x9f\\xc351\\x18\\xc6aYM\\xd5*\\xbd\\xc0S\\xa6\\xd1%\\xe4\\xec\\x07U\\xf6\\xb7\\xc2/\\x86Xo\\x87~\\x1be\\x03M\\x873\\xc4\\x80\\xfceSyw\\x0c\\x1d\\x9b\\xb7\\xbc\\x9eV|\\xdeG\\xfd\\x1bF\\n\\'{\\x97Qf\\x1e\\x85\\x1a4X\\xda4\\xa9\\xb45\\x94\\xd8 5\\xa0@\\x03\\xe8!j\\x07\\xb6\\x9d79\\xd0\\xd1\\x1b,\\xfc=\\x1d7\\x10;&\\xe2q^c\\xb4\\x01\\x00\\x1b\\xad\\r\\xb4\\x91[\\x11\\\\\\xd6v\\xa7N\\x91`z(\\xc1\\x89\\x82@\\x94\\xf7\\x806$\\x1e\\x04\\xa6\\x03\\xa6G%\\x0bD\\x93W\\x00\\x1fe\\x14\\xcb\\xbeby\\x16K\\xd49\\xb7N\\xe8\\t\\x90\\x06\\xd3\\xed(]\\xba\\x13\\xc8#\\x98\\xff\\x00u\\x1b\\x9dr\\x08R8\\xc97>\\xdb\\xa8H.\\xa9\\x00\\x03<\\x8e\\x8aV\\xccn\\xc8\\xdd.q\\x933\\xc8\\xe8\\xab\\xd5\\xa9\\xa2\\x1cF\\xdf@\\xa6xkXI\\x99T\\xaa\\x17Uy1\\xe9\\x1f\\xe4-\"\\x8c\\xe4\\xfd\\x10\\n./\\xf3\\x1c\\x05\\xf6\\x07`:&\\xbet\\x93\\xf7\\n\\xc5z\\xba\\x85\\xa27\\xfa\\xaaou\\xb8\\x9e{-Q\\x84\\x9dh\\x8eb\\xe2A\\x05F}n\\x8d\\xa7t\\xe2=\\x04j\\x106!IJ\\x96\\xdf\\xd4+\\x98\\x06\\x8d0Hl\\x18\\x1c-l&\\x1c\\xb1\\xa0\\xc5\\xe2Ul&\\x1eo\\x17\\x1f\\xa2\\xd5\\xa4\\xc0D\\x8bE\\x82\\xa35\\x8a\\xd8\\xf6\\xd3\\xf4\\x8buV[\\r\\x02m\\x16\\xd904\\x86\\xc7`g\\xb2{\\x9b\\x02\\xf7<\\x13\\xba\\xceF\\xf6\\x07\\xb9\\xae7$O%S\\xc4\\xd6\\x18zn/p\\r\\x02\\xe5OQ\\xe2\\'\\xa7%s\\xf9\\xf6$\\xbc\\n \\xc0u\\xdd\\xec\\xaf\\x14RR\\xe2\\xad\\x99b\\xa3\\xb1x\\x87\\xd6~\\xee;p\\x07\\x0bB\\x9b\\x0b@<\\xf5U0\\xac\\x90\\x04\\x03\\xee\\xaf\\xd3\\x90/\\x7f\\xd1i\\xd1\\xcb\\xde\\xc79\\xbb\\x9d^\\xc1Q\\xcdi\\x97\\xe1\\\\D6\\x0c\\xdf\\x95~\\xc2\\xc4\\x1e\\x97\\xddA\\x89g\\x9bI\\xcd\\xe6,aE\\x96g8H\\x80\\x0f\\xb2S}\\x84\\x9e\\xe8\\x11\\x12J&\\xfc\\xf0\\xa8X@~\\x9c\"$[\\xee\\x9a\\xe066D\\x11\\x17\\xd9@\\x1d\\xa6E\\xf8\\xbaD\\xa4e\\xbd\\x0c\\xf0\\x8d\\xe26@+m\\xb9(\\x86\\xda\\xf2/\\xc2Wh$\\x19\\x88\\xb8\\xe5!\\xc9\\x94\\x01#n\\xfd\\x0e\\xc8\\x81\\xb0\\x88@\\x8e\\x86J-\\xb9\\x93x\\xb4\\x02\\x80p0\\x00\\x93\\xd1\\x00$\\xc0\\xbc#\\x02,{[\\x94L\\x08#\\xecT\\x81\\xae\\xb0\\x8d\\xafd\\x91&-p6\\x84\\x94\\xd08\\xb7\\xc8 \\x13\\xc7\\xdd\\x08\\x8d\\xb6\\x84\\xe7\\x89t\\x8b\\x8e\\xe9\\xae\\x97\\x01h\\x11\\xd5q\\x9a\\x82.:%\\x1b\\x94`\\x81a(\\t\\xe9\\x13b\\x80[o~\\x91\\xcaB\\'\\xf5\\t\\x0fH\\xdeGD\\x1cft\\xc5\\xf6\\x84\\x00\\x133\\x10\\x11 \\x82\\x0c\\xc8\\x08\\x0f\\x90~i\\x11\\x02\\x0f\\xd9\\x00\\x1agk\\x04L\\xdbq7H\\xc0\\xde\\xdd\\x8a$\\x86\\x81\\xb9\\x08\\x05\\xb9\\x93r\\nC\\xe9=\\xd3d\\x03\\xd4\\xef2\\x91\\xd8\\xc9\\x9ew@8\\x19p\\x03\\xba\\x13\\xa8\\xc4\\xd8Y\\x068\\x97t\\xe5\\x19\\x00\\xde;\\xa003\\x7f\\xdfb\\x1cz\\x18\\x0b\\x1e\\xa5\\t\\x0e\\x00\\xdfu\\xd0\\xd6\\xa2\\x1c\\x0b\\xads\\xf4TkQ\\x0e 1\\x85\\xce6\\x11\\xb9\\xfa*J6\\xc9\\xe5L\\xe7j\\xd0\\x80l\\x86\\x0f\\xc4y\\x96N\\xf2p\\xb8\\x97\\xb2\\x0f\\xcb2\\xdf\\xb2\\xeaY\\xe1\\x8a\\xd5\\xc6\\xba\\xb3O\\xfeA\\xba\\x8f\\x11\\xe1]-!\\x8c\\xdb\\xa2\\x8f\\x8e}\\xa2\\\\\\xd7L\\x19_\\xc7\\x1cV\\x00\\xb6\\x96c\\x835\\x987}\\x03\\x07\\xde\\r\\x97}\\xe1\\xff\\x00\\x8a\\xb9\\x1ey\\xa1\\xb4\\xb1b\\x8dc\\xff\\x00\\xd2\\xad\\xe9w\\xb5\\xf7^W_\\xc1\\x15*\\x8f\\xf8a\\xa2wPT\\xf0\\xcbr|;\\x9e=UH\\x80\\xe3}>\\xcbX\\xcf${*\\xd4\\x1e\\xcf\\xa30\\xb9\\xa5*\\xc3S\\x1e\\xd7\\x03\\xd1\\xd2\\x15\\xb6WikH&;\\xaf\\x95r\\xcc^}\\x96c\\x1apX\\xda\\xd4\\x99\\xaa\\\\\\xddR\\xd8\\x992\\r\\x97k\\x82\\xf8\\xb7\\x99\\xe5o\\xd1\\x8d\\xc2\\x0cU1\\xfcL\\xf4\\xb9l\\xb3G\\xd9\\x9f\\x07\\xe8\\xf7\\x8f=\\xbb\\\\\\xb4\\xf0\\x96\\xa2\\xe3\"n\\xbc\\xc3-\\xf8\\xd7\\x90b\\xc4\\xe21?\\x81x\\x1e\\xa1\\x89\\x86\\x8f\\xbe\\xcb\\xae\\xc0x\\x97\\x05\\x98Qm\\\\>&\\x9df8Hs\\x1e\\x08\\xfc\\x96\\xeaJ]\\x19;\\xe9\\x9a\\xf5\\x9a\\x08q\\xb8\\x1bJ\\xc8\\xc7\\x87D\\x91h\\xf7\\x95}\\x98\\xc6\\xd4 \\x83.\\x85\\x0e-\\x9a\\xe9\\x91\\x1a\\xa4\\xf4\\xfd\\x15\\x8a\\x9c\\x83\\x89\\xa5\\x9b\\xd0q\\xe1\\xf7\\xfb.\\xba\\x96 \\x06\\x0b\\x0e\\xab\\x99\\xc6P\\xd1\\x8e\\xa6o\\x02LO\\xf4W\\xceeO\\x0fL\\xba\\xa3\\xc0\\x00I$\\xaa \\xdd\\x1ax\\x9cA\\x0c\\xb7\\xaaoe\\xcd\\xe79\\x93\\xb0\\xf4\\xaa:\\xab\\x99B\\x93\\x01%\\xd5\\x0f\\xcb\\xdc\\xae\\x1b\\xc5\\x7f\\x1ap\\xb8*\\xcf\\xc1\\xe5L\\x19\\x86%\\xb2\\xd3P\\x1f\\xdd0\\xfb\\xf3\\xf4^a\\xe2:\\xf9\\xcf\\x8c\\\\\\xd7\\xe6\\x18\\x97\\xd5\\xa32(2[L\\x7f\\xda7\\xfa\\xca\\xa3\\xc8\\x96\\x89\\xa7\\xd9\\xb5\\xe2\\xff\\x00\\x8b\\xb8v\\xe2\\x0e\\x1b+\\xaa\\xfc\\xca\\xb1v\\x9f:\\x9f\\xa6\\x93O\\xbe\\xee\\xfa}\\xd7\\x9f\\xe3\\xf3\\x1c\\xf3;$\\xe21uC\\x1d\\xff\\x00\\xd3a-h\\xfe\\xabf\\x9f\\x85E \\x06\\x80.B\\xde\\xc2d\\x82\\xad\\x16\\xbbH\\x0e\\x02\\xe0\\x0eW#\\x8c\\x9b\\xb3X\\xcb\\x89\\xf3o\\x8c\\xbc\\x18p\\xd9\\xadg\\xe9:\\x1f\\xeb\\x93\\xfcS\\xddI\\x85\\xc9?\\x1f\\x82c\\x8b}`yo\\x9e\\xdb~K\\xdc\\xfcg\\xe1!\\x89\\xc1\\n\\xdeW\\xad\\x9e\\x9b\\xf4+\\x89\\xc82\\x7f#\\x1fS\\n\\xe6\\x86\\x8a\\x8d\\xd6\\xd1\\xbf\\xa8\\x7f\\xb4\\xa5:\\xa2\\x97\\xb6I\\xe1\\x0c\\xb1\\xd8\\xcc\\r69\\xa4\\xd4\\xa5\\xfb\\xb7N\\xf26\\xfb\\x85\\xd9\\xe0\\xb2A\\x14\\xc8a\\x92b7%\\x0f\\x0bdU\\x19\\x9dS\\xa3B\\x9b\\xea\\x9cK4\\x86Saq.\\x17\\x16\\x1d\\xa4/\\xa4~\\x0f|(v\\x1b\\x1f\\xfe\\xb5\\x9ba\\x8b<\\xb7\\x07ap\\xf5Dz\\xa3\\xfe!\\x1cG\\x13\\xef\\xd1S\\xe3o\\xa3\\xaa-\\xb3K\\xe0\\xe7\\xc1\\xfa~\\x1b\\xa7\\x87\\xce\\xf3J \\xe6\\xc6\\x9c\\xd0\\xa2\\xe1\\xff\\x00\\xe9\\xday#\\xf9\\xff\\x00E\\xeb\\xd4\\xa9\\x87\\x89\\x1cl8O\\xa2\\xcdR/3\\x132\\xa7\\xaa\\xd6\\xd0\\xa7\\xa8\\xd87\\x90V\\xf4\\x96\\x91\\xd0\\xa2\\xfb)\\xe3+\\x9aL\\x86\\x90\\t\\xda\\x15\\x06\\xb8\\x83\\xfa\\x92\\x9bR\\xaf\\x9dT\\xbc\\xed$\\x808D\\x00b&#r\\xa0\\x81\\xe2`\\xba5\\x19\\x80\\x10t\\x87H\\xb0\\x02\\xe3\\x84\\x0b\\x9a\\x00\\xbe\\xdb\\x80S\\x9cg\\x9f\\xa1C[\\xa20\\x00\\x99\\xdd5\\xd5IlM\\xc7 \\x00\\x8b\\xaa\\x80\\xe8\"\\xddF\\xe56%\\xd3:\\xb9RQ\\xb0K\\x83\\x84\\xc6\\x92?\\x85\\x02\\xf6\\x90@\\xf4\\xc0\\x99\\x1c\"\\xf2Z\\xd9$\\x01\\xec\\xa9V\\xac\\xea\\x96i7*\\xf1W\\xb2\\x8d\\xd0\\xb1\\x0f5\\xdf\\xa5\\xa4\\xc7Se\\x13\\xde\\x1a\"\\x1c\\x06\\xd6\\xdd\\x1fM9\\xeao!AV\\xac\\\\\\x1bms\\xfdV\\x86M\\x8c\\xac\\xf1\\xb1$\\x0b\\x18\\x9b(\\x1em\\xabf\\xf7\\xdd=\\xfe\\xab\\x02:\\xca\\x8e\\x0e\\xad<\\xec$\\xd8\\xad\\x17G3v5\\xad\\xd6w\\xef\\x10\\xae\\xd1\\xa6\\x1d\\x04\\xdeTT\\xa9|\\xb0\\x0e\\xfc\\xad*\\x14Z4\\xc8\\xb7\\x07d\\x0b\\xb2Z4t\\xc5\\xb4\\xc7=\\xd5\\xaa- \\xed\\xe9\\x06S(\\xb2}[Z`\\x95e\\xad&f[\\xcd\\xc2\\xa1\\xd0\\x90C\\x01e\\xbe\\x89\\xaf\\x90\\xd162>\\x81<\\xb3Ko\\xecT\\x15Ho\\x03}\\xa5U\\x92A\\x89\\xae)\\xb5\\xce\\xfe\\x11p\\x16.\\'\\x0ej\\xd35bI\\xbc\\xf2\\xae\\xe2\\x1d\\xe7\\xe2\\x050\\xefKw\\x8e\\xaaj\\x94}\\x02w\\x8d\\xc2\\xd1\\x18\\xcb\\xf620\\xed=\\t\\xd2\\xac\\xb2\\xce\\'s\\xd0\\xa1V\\x98\\xa7P\\xd8\\xc1\\xdaS\\xa9\\xb4\\x81\\xb7\\xddX\\xc8$\\t\\x95\\x15F\\x83}\\xa6\\xeaR\\xd06\\x907L\\xa8e\\x93\\xcfU\\x05\\x99\\xcc\\xe2\\x1a[U\\xcc\\xb6\\xe4(\\xc5\\xc4\\xf4\\xee\\xac\\xe6\\x0c,\\xc5\\xbc\\xc4L\\x19U\\xc0\\x96\\xdc\\x05F\\x10\\x81\\x11\\x7f\\xbaZe\\xd3\\xb9\\xee\\x91i\\xe9\\x03\\xaat\\xc7\\xba\\x82D\\xd3\\x16\";\\xa4~c\\x03\\xee\\x8e\\xa3y\\x12\\x94\\x1d3\\xb2\\x01\\x03\\x11;F\\xc8\\x98\\x7f7H\\x03\\x16\\xe1\\x1d\\xad\\x1d\\xa7\\xaa\\x01\\x00H\\xed\\x11d\\x80\\x8d\\xfe\\xe8\\x8eI\\xb0\\xeaJ$\\x1b@\\x9e\\x81\\x00\\x801\\x11dH\\x11m\\x8c%\\x1a\\xbd1\\xf6D6\\x04\\x0f\\x95\\x00\\x1d\\xbd\\x8c$\\x8c\\x88\\xb4\\xea\\xdf\\xdd$\\x07\\x12\\xdf\\x96\\xe1(\\x02Qt\\xde>T\\xdb\\x01\\xb1\\xb1\\\\\\xa6\\xa3\\x81\\xb4Jc\\x8b\\xa4\\x1d\\xc0\\xbc\\x04\\xe2 \\xde\\xde\\xc9L\\xc4\\x1f\\xc9\\x00\\xd9\\x8b\\xce\\xff\\x00\\x99H\\xc0\\x9bH;\\x84$\\x1e\"\\xfb\\xa4o0/\\xd4\\xa0\\x10\\x00\\xd8\\x83\\xd8 \\x1b\\x17q\\x94\\xa7I\\x12m\\xb7\\xb2F\\xf2&y\\xdd\\x00\\x8b\\xa0\\xfbs\\xd5\\x02H2E\\x8e\\xc7\\xaaQ\\xe9\\x9b\\xa1&\\xff\\x00\\x94\\xa0\\x0bE\\xa2\\x11\"A\\x91\\x1d\\x93,{\\xf6<\\xa2\\x08\\xd5;Gm\\xd0\\x04\\x8d-Ms\\xb4\\xb5\\xd6\\xbfTy\\xdeG\\xb2\\x92\\x8e\\x16\\xa6-\\xfe]69\\xe4\\xff\\x00(\\xd9M\\x15\\x93\\xd1Q\\xb8z\\x98\\xa72\\x951\\xe6=\\xc7e\\xd1e\\xde\\x1bf\\\\\\xcf1\\xfe\\xba\\xe7rx\\xec\\x16\\xd6Q\\x91\\xb3.\\xc3\\x82\\xe8\\xa9T\\xfc\\xe4\\x8f\\xd3\\xb2\\xb9Z\\x87\\xa4\\x9f\\xc9uF\\tm\\x98\\xb6`6\\x83Mm\\x17\\x98V\\xceZ,H\\x1a\\x8fe_\\x10\\xd3O1\\xa0D\\x92\\xe7\\x00\\xbaSLi\\x16#\\xba\\xbd\\x15zVsu\\xf2\\xd6\\xb5\\x9f,\\xc7N\\x17;\\x98d\\xae\\xc4\\xb9\\xc6\\xa3Hh\\xdf\\xba\\xef\\xaa\\xd2\\x01\\xb3s\\x1dV~&\\x802m\\x1e\\xca8\\xa6V\\xce\\x08d,\\xf3\\x1a\\xc6\\xd3\\r \\xdc\\x8eVFs\\x90\\xb5\\xacq- nN\\xd6^\\x8bS\\x0c\\x18\\xdf1\\xd0\\xd0\\xd0L\\x9f\\xd5y_\\x8ds,O\\x89\\x8b\\xf09q\\xf2\\xb0\\x86\\xd51 \\x99\\xa9\\xd47\\xb2\\xcepT[\\x93L\\xf0\\x9f\\x89\\x18\\xbf\\xf5lc\\xf0\\x18/V\\x16\\x91\\xfd\\xeb\\xdb\\xb5Gt\\xee\\x02\\xe3\\xf2\\xcc\\xc36\\xf0\\xddQS/\\xc7b\\xb05\\x01\\x90h\\xd5s\\x07\\xdbe\\xee\\x0f\\xf8l\\xe6R\\x860\\xbe\\xd6\\rb\\xc9\\xc5|1\\xc6\\x13l+\\xc3GV\\xaen\\rtZ\\xca\\x1e\\x14\\xfd\\xa4|_\\x92U\\xa6\\xccw\\x95\\x9bPn\\xe6\\xabtT#\\xfe\\xa1o\\xb8^\\xfd\\xe1\\x0f\\xda7\\xc2\\xfe$\\xc3\\xd2n6\\xb3\\xb2\\x9co\\xf1R\\xc6\\x08l\\xf6p\\xb1\\xfc\\x97\\x80V\\xf8m\\x8ai:\\xb0\\xb5\\x1aG:,\\x83<\\x0bW\\x0fP\\x93A\\xc3\\xdd\\x86\\xcbH\\xcaQ\\x14\\x8f\\xa1\\xbcG\\xf1?\"\\xa3TVfcB\\xa56\\x8f\\x96\\x91\\xd6O\\xd0/*\\xf1O\\x8fq\\xde-{\\xb0\\xf4\\x0b\\xf0y|\\xc1`0\\xfa\\xbf\\xf5\\x1e\\x07o\\xba\\xc6\\xc1xT\\xd3 \\xe8\\xd2\\x07k.\\x87.\\xf0\\xd8v\\xcc\\xbc\\xef\\xddKr\\x91\\x14\\x8c\\x1c\\xbb)\\x87\\xb0\\x81\\x13\\x16\\xd3\\x0b\\xd0\\xf0\\xd9(e\\x16\\x92\\xd91f\\xa8\\xf0\\xf9\\x01\\xa7\\x07L\\x90me\\xd8\\x8c\\x08\\xa0\\xc64\\xb7\\xe5\\x02L+\\xc2\\x1b\\xb6RR9*\\xd9`\\xbf\\xa0\\xf4\\x00\\x8eaW\\xcb(\\x86\\xe2\\r(>\\xb9\\x8eWU\\x8b\\xc2\\xe9$\\xdc\\xc7\\x07\\xa9+\\x9d\\xa8\\xd3K\\x11\\xe6\\x02Ik\\x86\\xfc-8\\xd1E\"\\xde+(\\x18\\xaa\\x15i\\xbd\\xa1\\xda\\xdb\\xbfB\\xbc\\xab:\\xca\\x9d\\x81\\xc5\\n\\xe1\\xa1\\xae\\xc3\\xd4k\\xa4\\x0b\\x90\\x0f\\xab\\xf2\\x95\\xee\\xb8z-\\xa9E\\xaef\\xd17\\\\\\x96\\x7f\\xe1\\xa7c3V\\xe1\\xf0\\xf4MZ\\xb8\\xa7\\xe9\\xa6\\xd6|\\xce\\'\\x85YF\\xd5\\x97\\xbd\\x9e\\x85\\xf0\\x1b&\\xa6p\\x95\\xf1ti\\xb4\\xd6\\xae\\xf8\\xf3\\x86\\xed\\xa4\\x00\\xb0=\\xca\\xf7\\x8c=0\\x03\\x03E\\xa3`\\xb9\\x0f\\x86\\xfe\\x0c\\xff\\x00\\xd1>\\x16\\xcb\\xf2\\xe7;\\xcd\\xafJ\\x98\\xf3*\\x1e]2c\\xb0\\xdb\\xe8\\xbb:>\\x87^g\\xdb\\x95\\x8f\\xa3\\xd0\\xc7\\x1aV[\\xa2\\xd6\\xd3\\x04\\xcf\\x0b;1\\xc6y\\xb5t6\\xe3\\x98\\xe5\\x1cf\\'\\xcb\\x9a`\\xfa\\x8e\\xf3\\xc0TC\\x89p\\xe4rUk\\xd9\\xb8\\xc2\\x00#\\xd2\\'}\\xa1:\\xfdl\\x07Dt\\x92\\\\6B5H$\\xde\\xf6B*\\xc4\\xc1\\xa8\\xb4\\x91%\\xa58z\\x80\\x04\\xc0\\x052l\\x08\\xb1F44\\x91:\\xf9\\x82\\x85\\xad\\x8cq\\r\\xa9\\x12w\\x9b\\xa4a\\x80\\x88\\x04\\x0f\\xb4\\xa1!\\xc67\\x9f\\xa5\\xd4\\x18\\xaa\\xa4\\x875\\xbc\\x9b\\x81\\xca\\xbdY\\x9b\\xd1\\x1dz\\xba\\x9c\\x19\\x12y\\xf6L\\x93M\\xa4\\x83)9\\xad\\xd2\\x04\\xc3\\x9f\\xdb\\xf2U\\x9fV\\t\\x02\\xdc\\xcfU\\xaa2\\xecOyph\\x9bI0Ug\\xbfT\\x8bD\\xdc)\\x8b\\xa6\\xc2\\xe3\\xec\\xa0#H&\\xc0\\x13\\xc7Udc\\'`q\\x83k\\x92\\x8d*E\\xc4\\x88\\x8e\\x81\\x10\\t$\\xdc\\xdb`\\x15\\xdc5\\x00`\\x99VL\\xa2\\x1f\\x85\\xa5\\xa4\\xdc\\x98\\x8e\\x92\\xae\\xb6\\x9b\\x9cn\\'\\xb7t)\\xd3\\xd0.A\\xfe\\x8a\\xc3Z\\x05\\xa7I7\\x8feF\\xcd\\xd2\\xa1\\xccf\\x91-\\xdc\\xdb\\xdb\\xaf\\xd5OJX/s\\x12\\x83G;\\x1ee\\t\\x17\\x02C\\xba\\x9d\\x95\\x1e\\xfa,6\\xab\\xc9\\x02\\xc3\\xac\\xaa\\x18\\xbcO\\x96\\xddMt\\xb8\\xed\\xc2\\xb5Y\\xe5\\xba\\x8c\\x88\\xe66\\x85\\x98\\x1cq\\x15\\x89\\x04\\x80\\xd3b\\xac\\x95l\\xa4\\xfa%\\xc1\\xd2:%\\xd1$\\xed\\x17S\\x90\"\\xc0\\xdd=\\xb4\\xb4\\xb7L\\xc5\\xbd\\xa5\\tn\\xa08\\x16\\xdbn\\xcaBTT\\xc6\\xd3\\x1au7uQ\\x84\\x9d\\x8cGu\\xb1R\\x88\\xaa\\xcb\\xcd\\xb6\\x0b\\x1e\\xa5/.\\xa1\\x17\\x89\\xe5]\\x18\\xcdlx\\x12\\x07n\\xc9\\xb5 lxI\\xb5\\'\\xf8\\xa0\\x13\\xd2\\xc5\\x174\\x12/\\x12:) \\xc1\\xcd\\xe9EJn\\x81{\\x19T\\x1cz\\xad\\x8c\\xd6\\x9c\\xd1#\\xf9L\\xcf+\\x1b\\xd2:\\xf7\\x95\\x9b\\xec \\xc4\\x98\\xda;#%\\xc7x\\x8b =$\\x90b\\x11?\\xc3\\xfd\\x14\\x16\\x08\\x82&\\xe9\\xf1q\\xd4\\xa6\\x10\"I=\\x13\\xa4\\xdadH@\\x13\\xf3N\\xa8\\x1e\\xc9\\xd1-\\x11\\xda%\\x00L:\"\\'\\xee\\x94\\xda\\x0e\\xd0\\x80tN\\xd3\\xda\\x0c$\\x0cw\\xeb\\xd9 l#c\\xb1E\\xa4\\x0br\\x80Ch\\x9b#3\\xc7\\xbap\\x83n\\x86}\\x93@\\xb4|\\xc0l\\x801\\xa8\\x90${$\\x9dp\\x04Y$\\x07\\x13\\x12L\\x19\\xfa&\\x90GI\\x8ft\\xf8H\\x80A\\xe2\\x0f\\x0b\\x94\\xd4al\\x07O0\\x9a\\xe9\\x13\\xd5I\\x1e\\xa171\\xbao\\x96\\x01\\xd3\\xd3t\\x00\\x89\\xfe\\xc9\\xb1\\xa4\\x13\\xcc\\xcc\\x14\\x85\\xc9K\\xf8\\x89\\xe5\\x00\\x0f\\xa4[\\xf3C\\xff\\x002Q.\\xd5\"\\xf6Ms\\x83[<\\x1f\\xba\\x00\\xda=\\'\\x8e\\xa9\\xa0\\x08)\\x07\\x91\\x00nv\\xec\\x93\\x8cI2a\\x008\\x98\\x84\\xe1}_\\xd9\\x02A\\x04\\xa1 \\x12\"\\xc7d\\x05\\xdc\\xa3\\x01\\xfe\\xa5\\x98\\xe1\\xf0\\xd3\\xa4Tt\\x12/\\x03\\x95\\xe8\\xb4\\xb2\\xac>\\x02\\x93i\\xd1\\xa6\\x18\\xc1\\xf7>\\xe5y\\xd6G\\x8b\\xfc6o\\x84\\xa8\\x01$T\\x1fPL/N5\\rI\\x17\\xdan\\xba1-Y\\x94\\xbb!u8l\\x12\\xd8\\xdaG\\n\\xb5pF\\xd7l]Y{\\xe7Wk,\\xdcC\\x9dQ\\xe1\\x92t\\xb9t\\x19=\\x14\\xa8\\xe1\\xff\\x00\\x15\\x8feH\\xfd\\xdd2\\\\\\xb5\\xaaW\\x02:\\xf4PT\\x8a\\x001\\xa3{\\x93\\xd5S\\xc5bM&\\xb9\\xd1)E[-T\\xad\\xe9-\\x99\\xf7Y\\xd8\\xbcKi\\x10n\\xe7\\x1d\\x9a\\xdb\\x92\\xbc\\x9b\\xe3\\xd7\\xc7\\xbc?\\xc1\\x8f\\x0e7\\x1e\\xfc\\xb6\\xb6c\\x89\\xae\\xff\\x00*\\x856\\xbc5\\x9a\\xa2e\\xe7p=\\x82\\xf8o\\xe2\\x07\\xed[\\xf1\\x0b\\xc7\\xd414*f\\x83&\\xc0Ui\\x0f\\xa1\\x96\\x03L\\xb9\\xbd\\x0b\\xe7Q\\xfb\\x85\\x0f\\xf5\\xec\\xcd\\xcb\\xd2?I\\x1d[\\x07\\x9cT\\xab\\x84\\xa9\\x8c\\xc3V\\xa8\\xcb\\xd4\\xc2\\xd1\\xac\\xd78\\t\\xd9\\xc0\\x19\\xfaY&\\xe0p4\\tm61\\x91\\xc0\\x01~@\\xe5\\xbe.\\xc7\\xf8w\\x1e\\xdc~]\\x8c\\xc5\\xe13\\x06;]<e\\n\\xc5\\x95\\x1a}\\xc2\\xec\\xb3_\\xda[\\xe2Fn\\xdc5J\\xde*\\xc6\\xb1\\xf8p\\x0bjP\\x8anq\\x1c\\xbbH\\xf5\\x1fu\\x9f\\xc8\\x89JL\\xfdD\\xc4Rh\\x11\\xcfe\\x9b\\x8b\\x0c\\x1a\\xa6\\x01#P\\xb4\\xaf\\x97?f\\xff\\x00\\xda\\xd76\\xf1\\xf6gK\\xc3>#\\xc2\\x0cFg\\xe5\\x17\\xd3\\xccp\\xe05\\xb5\\x00\\xdf[8=\\xc2\\xfaC\\x13\\x885\\xe9\\x12\\xd9m\\xad;\\x85t\\xd4\\x96\\x83N/a\\xab\\xe55\\xbagm\\xc4\\xc2m\\x1a\\x18j\\xee\\xd2\\x08$\\x8b6w\\\\\\xbes\\x87\\xc5\\x86\\xb9\\xf4\\xb1e\\x8e\\x1c\\x11!y\\x87\\x8e|u\\x98\\xf8K\\x05S\\x1bR\\xb9w\\x97?\\xf0[y\\xfa\\x90\\xa1\\xd2\\nG\\xd0\\xb4\\xf2\\x8a/\\x1f \\x8d\\xa7J\\xb5\\x87\\xf0\\xfb\\x18\\xe9\\x04\\x13\\xec\\xbc[\\xe0\\x0f\\xc7l_\\x8es\\xdc\\xdb \\xccp\\xa0b\\xf0-k\\xd9\\x8a\\xa7\\x11Q\\x8e\\x16\\xd48p\\xec\\xbe\\x84\\xc3Vk\\x8bE\\xef&V\\x89\"\\xb7oEJY#Z\\xd6\\xcc\\x083(b\\x98\\xd9\\xb1\\x00\\xc4o\\xfe]Z\\xc6W 8\\x01\\xe9!fU{\\xc07\\x1b\\xc4\\xa9*\\xde\\xe8\\xad\\x8ch->\\xa6\\x92b\\x0fE\\xce\\xe3\\xa9\\xb5\\x8f\\xf4\\xf5?\\xd9o\\xd4\\xa94\\\\H\\xea\\xb2\\xb1mi\\xb6\\xf1b\\xaaB/\\xf8z\\xbb\\xaaaM\"d\\xb0Zo\\xfe]z\\xa7\\x80<&\\xcaZs\\\\M/\\xdf\\xc1\\x145n\\xd6\\x9d\\xcf\\xd5p\\x7f\\n\\xbc<\\xcc\\xf38\\xa9R\\xa3\\x80\\xc3\\xd1\\xb3\\x98w\\x7f#\\xe8\\xbd\\xe6\\x8d6\\xb1\\x8d\\xd24\\xb4@\\r\\x1c\\x05\\x8c\\xe5\\xe8\\xee\\xc1\\x8f\\x97\\xec\\xc7\\xd2m\\x85\\xad\\x1b\\xa3^\\xa3h\\xb1\\xc4\\x81\\'\\xa6\\xeaW<i\\x926YX\\x8a\\x8e\\xadQ\\xc0\\x18\\r\\xb2\\xc3\\xb3\\xd0\\xe8\\x8d\\xc5\\xf5\\x1c\\xe3\\xf5M\\xa6\\xe0 D8\\xf3\\xc2k\\xc9$^/t\\xe6\\xbbc\\xcc\\xc2\\x91c\\xe9\\xcb\\xa4\\xb9\\xd3\\xdeyE\\xfe\\x82@\\x13}\\xb6D\\x12\\xe6\\x88\\xda9E\\xd0^{o\\xddT\\x94\\xc8\\xf4\\xf4\\x07P\\xfc\\xd39\\x87l?%#\\xea\\xe9\\x12\\x06\\xf6P8\\xbat\\xd8\\xb6`\\xca\\x94\\x1b\\xbe\\x81P\\xcba\\x82{\\x83u\\x1d@\\x1b\\x13\\xb9\\x17;\\x19R9\\xa1\\xadq\"\\xe2&\\xca\\xbb\\x8e\\xa6\\x93\\xde\\xdd\\x96\\x912l\\x82\\xa9\\x92\\x00\\xb4\\xf4\\xe1@\\xe7\\x10bu\\x1d\\xfa\\'\\xbe\\x1c@\\x80\\x07\\n:\\x8c\\x1a\\x8bL\\x127\\xb2\\xd1#\\'\\xa1\\x8e\\xe4\\xdb\\xa0\\x94\\x03\\t&\\x04\\xa4*I\\x12$+\\x14)\\x88\\xbd\\xd5\\x8cGR\\xa3\\xa8\\x90H\\xdb\\x92\\xaf\\xd3ae\\xbe\\x96Mf\\x1c\\x174m&\\x07ea\\x8d\\x91\\x16\\xd8\\xf0\\xa2\\xe8\\xd2+\\xd8\\xf6\\xb4m\\xb1\\x8f\\xba\\x9d\\xa2I\\x16\\x91{\\xf2\\x85;\\x98\\xe4B\\xb0\\xc6\\x02\\xf2E\\x8e\\xeb9vhGv\\x882[\\xca\\x8a\\xa3\\x81\\x83\\xa8\\xe9\\xdc\\xa9\\xea\\xd3\\xd3}\\xc8\\xde\\xfd\\x95,L\\xd3c\\x897\\xbb\\xac\\xa6(=\\x151\\xb5\\x0c\\xf9m <\\xda\\xdd!\\x1c%\\x13OH\\x89<\\x94\\xcc#EZ\\x81\\xee\\xb9t\\xdb\\xa5\\x96\\xa9\\xa1\\x0c.\\x06\\x00\\xdcuW\\xb2\\xab{\"0\\xd0\\x01\\x13=:\\xa8\\x1c\\x06\\xa1\\'\\x9e8W\\r3r M\\xbd\\x94\\x17$DD_\\xba\\xaa,<6\\x1b\\xd4uY\\x98\\xdaz\\x1c4\\x88\\xe0\\xe9Z\\x8dv\\x80\\'n\\xca\\xb6-\\x81\\xf4\\x88\\xe85J\\xb2tRJ\\xd1\\x94\\x19\\x0e\\x83\\xd2\\xc9\\xaet@v\\xfdb\\xc9\\xe7\\xd4\\xe1$\\x81\\xd9F\\xe1y\\xb6\\xdf\\xa2\\xd0\\xe7)c\\xc4\\xd3{F\\xe1\\xbdV\\'\\xccn/\\xb5\\xd6\\xc6:\\xa46\\xa4Z%c\\xb08\\x9d\\xe7\\xb9Y\\xc8\\x98\\xee\\xc4\\x04qd\\xf6\\xde61{\\x8b\\xa6\\xb4\\x92\\x12\\xfe\\x10\\xe2\\x00\\xf6U,:I\\x9e\\'\\x80\\x9c]\\xb7t\\x8d\\x8cr\\x84\\xeeb}\\xd0\\x0e\\x1e\\x9eDB s7)\\x03i\\xe8f\\x02<\\x00,\\x0fD\\x02:\\xb4\\xf1\\xbap\\x13m\\x90\\x03\\xd5\\x1b\\xc7T\\xe3\\xb8\\x94\\x02\\x17\"\\x0e\\xf6N\\x1b\\xccBNd!c}\\xfa\\xca\\x01\\x00D\\xc6\\xe9#\\xaa \\x1b\\xcaH\\x0f\\xff\\xd9'\n"
          ]
        }
      ],
      "source": [
        "import requests\n",
        "\n",
        "from PIL import Image\n",
        "from io import BytesIO\n",
        "\n",
        "r = requests.get('https://awsimages.detik.net.id/community/media/visual/2023/11/20/zee-jkt48-2.jpeg?w=600&q=90') # Zee JKT48\n",
        "im = Image.open(BytesIO(r.content))\n",
        "\n",
        "print(r.content)"
      ]
    },
    {
      "cell_type": "code",
      "execution_count": null,
      "metadata": {
        "colab": {
          "base_uri": "https://localhost:8080/",
          "height": 406
        },
        "id": "82VyehypBmcC",
        "outputId": "803564b1-dcb9-48b3-9133-154089067c61"
      },
      "outputs": [
        {
          "data": {
            "image/png": "[encoded data removed]",
            "text/plain": [
              "<Figure size 640x480 with 1 Axes>"
            ]
          },
          "metadata": {},
          "output_type": "display_data"
        }
      ],
      "source": [
        "import matplotlib.pyplot as plt\n",
        "\n",
        "plt.imshow(im)\n",
        "plt.axis('off')\n",
        "plt.show()"
      ]
    },
    {
      "cell_type": "code",
      "execution_count": null,
      "metadata": {
        "id": "zvAvU99iBsM9"
      },
      "outputs": [],
      "source": [
        "from transformers import AutoModelForImageClassification, AutoImageProcessor\n",
        "\n",
        "repo_name = \"Firdho/visual-emotion-recognition\"\n",
        "\n",
        "image_processor = AutoImageProcessor.from_pretrained(repo_name)\n",
        "model = AutoModelForImageClassification.from_pretrained(repo_name)"
      ]
    },
    {
      "cell_type": "code",
      "execution_count": null,
      "metadata": {
        "colab": {
          "base_uri": "https://localhost:8080/"
        },
        "id": "Nd4QC-UlBvNX",
        "outputId": "c6d59dfd-864a-4847-8dbf-f45410f7bf1c"
      },
      "outputs": [
        {
          "name": "stdout",
          "output_type": "stream",
          "text": [
            "torch.Size([1, 3, 224, 224])\n"
          ]
        }
      ],
      "source": [
        "encoding = image_processor(im.convert(\"RGB\"), return_tensors=\"pt\")\n",
        "print(encoding.pixel_values.shape)"
      ]
    },
    {
      "cell_type": "code",
      "execution_count": null,
      "metadata": {
        "id": "Fbn8f8LYB2N1"
      },
      "outputs": [],
      "source": [
        "import torch\n",
        "\n",
        "# forward pass\n",
        "with torch.no_grad():\n",
        "    outputs = model(**encoding)\n",
        "    logits = outputs.logits"
      ]
    },
    {
      "cell_type": "code",
      "execution_count": null,
      "metadata": {
        "colab": {
          "base_uri": "https://localhost:8080/"
        },
        "id": "TLhk0CWlB-C7",
        "outputId": "d1e2cbd7-256f-47b5-f2e3-96a2463b0cf4"
      },
      "outputs": [
        {
          "name": "stdout",
          "output_type": "stream",
          "text": [
            "Predicted class: contempt\n"
          ]
        }
      ],
      "source": [
        "predicted_class_idx = logits.argmax(-1).item()\n",
        "print(\"Predicted class:\", model.config.id2label[predicted_class_idx])"
      ]
    },
    {
      "cell_type": "code",
      "execution_count": null,
      "metadata": {
        "colab": {
          "base_uri": "https://localhost:8080/"
        },
        "id": "d6mV0AO-CEAJ",
        "outputId": "4efa142e-2995-4e20-9254-70ee1c6f4858"
      },
      "outputs": [
        {
          "name": "stdout",
          "output_type": "stream",
          "text": [
            "tensor([[0.0642, 0.2210, 0.0907, 0.0950, 0.1425, 0.1894, 0.0828, 0.1143]])\n",
            "tensor([1])\n",
            "contempt\n"
          ]
        }
      ],
      "source": [
        "predicted_label = logits.softmax(1)\n",
        "print(predicted_label)\n",
        "\n",
        "result = predicted_label.argmax(1)\n",
        "print(result)\n",
        "\n",
        "print(model.config.id2label[result.item()])\n",
        "\n",
        "predicted_label = logits.softmax(1)\n",
        "    result = predicted_label.argmax(1)\n"
      ]
    },
    {
      "cell_type": "markdown",
      "metadata": {
        "id": "DBCki8znajwp"
      },
      "source": [
        "Once you've trained your model and pushed it to the Hugging Face Model Hub, you'll have a link that points directly to your model's page. You can share this link with others, and they can use it to directly load your model for their own uses."
      ]
    },
    {
      "cell_type": "markdown",
      "metadata": {
        "id": "EBTj4VEbajwq"
      },
      "source": [
        "The following link is an example of what a trained model's page looks like: https://huggingface.co/aditira/emotion_classification. This is not your model, but rather an example of what your final result might resemble."
      ]
    },
    {
      "cell_type": "markdown",
      "metadata": {
        "id": "ze_qzhv7ajwq"
      },
      "source": [
        "Remember, for this project you should push your output model to your own Hugging Face account. The link for your model will be different and should reflect your own username and model name."
      ]
    },
    {
      "cell_type": "code",
      "execution_count": null,
      "metadata": {
        "colab": {
          "base_uri": "https://localhost:8080/",
          "height": 36
        },
        "id": "XLNiGE_najwr",
        "outputId": "091306e1-194b-4ee6-f9d6-d64a7f8d8813"
      },
      "outputs": [
        {
          "data": {
            "application/vnd.google.colaboratory.intrinsic+json": {
              "type": "string"
            },
            "text/plain": [
              "'Assignment successfully submitted'"
            ]
          },
          "execution_count": 122,
          "metadata": {},
          "output_type": "execute_result"
        }
      ],
      "source": [
        "# Submit Method\n",
        "huggingface_model_link = \"https://huggingface.co/Firdho/visual-emotion-recognition\" # Put your model link\n",
        "\n",
        "assignment_id = \"00_transfer_learning\"\n",
        "question_id = \"00_emotion_recognition_huggingface\"\n",
        "submit(student_id, name, assignment_id, huggingface_model_link, question_id, drive_link)\n",
        "\n",
        "question_id = \"01_emotion_recognition_accuracy\"\n",
        "submit(student_id, name, assignment_id, accuracy_str, question_id, drive_link)"
      ]
    },
    {
      "cell_type": "markdown",
      "metadata": {
        "id": "5BA0Vnjyajwr"
      },
      "source": [
        "## Task 2:  Build an Interactive Application with Gradio"
      ]
    },
    {
      "cell_type": "markdown",
      "metadata": {
        "id": "KDjdVz0hajwr"
      },
      "source": [
        "In this task, you will be building an interactive application using Gradio that will use your fine-tuned emotion recognition model along with another pretrained model ('`nateraw/vit-age-classifier`') to guess the emotion and age from an input image.\n",
        "\n",
        "Please make sure to:\n",
        "- Install the necessary package (`gradio`) for creating the web-based interface.\n",
        "- Load your fine-tuned model as well as the pretrained model '`nateraw/vit-age-classifier`'.\n",
        "- Define a function that will take an image as input and return the predicted emotion and age.\n",
        "- Utilize Gradio to create an Interface (UI) for your function, allowing users to upload images and see the predicted emotion and age."
      ]
    },
    {
      "cell_type": "code",
      "execution_count": null,
      "metadata": {
        "id": "AIp_9AGrajwr"
      },
      "outputs": [],
      "source": [
        "# Install Gradio\n",
        "!pip -q install gradio"
      ]
    },
    {
      "cell_type": "markdown",
      "metadata": {
        "id": "tupRP39dajwr"
      },
      "source": [
        "### Submisssion\n",
        "\n",
        "![Upload colab](https://storage.googleapis.com/rg-ai-bootcamp/project-3-pipeline-and-gradio/upload-colab.png)\n",
        "\n",
        "You need to submit screenshot of your Gradio's app. In Google Colab you can just use the \"Folder\" sidebar and click the upload button. Make sure your screenshot match below requirements:\n",
        "\n",
        "- Image name screenshot is `submission.jpg`\n",
        "- You should upload a person's image to that app\n",
        "- The score should be included at the screenshot"
      ]
    },
    {
      "cell_type": "markdown",
      "metadata": {
        "id": "0JhOvzsYImIm"
      },
      "source": [
        "https://www.youtube.com/watch?v=LIO-G7AVgBM"
      ]
    },
    {
      "cell_type": "code",
      "execution_count": null,
      "metadata": {
        "id": "9ith2GxRajwr"
      },
      "outputs": [],
      "source": [
        "# Put your code here:\n",
        "\n",
        "import json\n",
        "import torch\n",
        "\n",
        "from PIL import Image\n",
        "from transformers import ViTFeatureExtractor, ViTForImageClassification\n",
        "from transformers import AutoModelForImageClassification, AutoImageProcessor\n",
        "\n",
        "def predict(input_image: gr.Image) -> json:\n",
        "\n",
        "    im = Image.fromarray(input_image.astype('uint8'), 'RGB')\n",
        "\n",
        "    # AGE\n",
        "    age_model = ViTForImageClassification.from_pretrained('nateraw/vit-age-classifier')\n",
        "    age_transforms = ViTFeatureExtractor.from_pretrained('nateraw/vit-age-classifier')\n",
        "\n",
        "    age_inputs = age_transforms(im, return_tensors=\"pt\")\n",
        "\n",
        "    # EMOTION\n",
        "    emotion_model = AutoModelForImageClassification.from_pretrained('Firdho/visual-emotion-recognition')\n",
        "    emotion_processor = AutoImageProcessor.from_pretrained('Firdho/visual-emotion-recognition')\n",
        "\n",
        "    emotion_inputs = emotion_processor(im.convert(\"RGB\"), return_tensors=\"pt\")\n",
        "\n",
        "\n",
        "    with torch.no_grad():\n",
        "\n",
        "        age_outputs = age_model(**age_inputs)\n",
        "        age_logits = age_outputs.logits\n",
        "\n",
        "        emotion_outputs = emotion_model(**emotion_inputs)\n",
        "        emotion_logits = emotion_outputs.logits\n",
        "\n",
        "    age_predicted_label = age_logits.softmax(1)\n",
        "    age_result = age_predicted_label.argmax(1)\n",
        "\n",
        "    emotion_predicted_label = emotion_logits.softmax(1)\n",
        "    emotion_result = emotion_predicted_label.argmax(1)\n",
        "\n",
        "    return (\n",
        "        {\n",
        "            \"score\": emotion_predicted_label[0, emotion_result.item()].item(),\n",
        "            \"label\": emotion_model.config.id2label[emotion_result.item()]\n",
        "        },\n",
        "        {\n",
        "            \"score\": age_predicted_label[0, age_result.item()].item(),\n",
        "            \"label\": age_model.config.id2label[age_result.item()]\n",
        "        }\n",
        "    )\n",
        "\n",
        "\n",
        "\n",
        "# ---- End of your code ----"
      ]
    },
    {
      "cell_type": "code",
      "execution_count": null,
      "metadata": {
        "colab": {
          "base_uri": "https://localhost:8080/",
          "height": 650
        },
        "id": "L7KcZwWc9fdR",
        "outputId": "5fd0bcde-0f21-44b9-de0c-8e7d7af68e64"
      },
      "outputs": [
        {
          "name": "stdout",
          "output_type": "stream",
          "text": [
            "Setting queue=True in a Colab notebook requires sharing enabled. Setting `share=True` (you can turn this off by setting `share=False` in `launch()` explicitly).\n",
            "\n",
            "Colab notebook detected. To show errors in colab notebook, set debug=True in launch()\n",
            "Running on public URL: https://491b74ec455c712b69.gradio.live\n",
            "\n",
            "This share link expires in 72 hours. For free permanent hosting and GPU upgrades, run `gradio deploy` from Terminal to deploy to Spaces (https://huggingface.co/spaces)\n"
          ]
        },
        {
          "data": {
            "text/html": [
              "<div><iframe src=\"https://491b74ec455c712b69.gradio.live\" width=\"100%\" height=\"500\" allow=\"autoplay; camera; microphone; clipboard-read; clipboard-write;\" frameborder=\"0\" allowfullscreen></iframe></div>"
            ],
            "text/plain": [
              "<IPython.core.display.HTML object>"
            ]
          },
          "metadata": {},
          "output_type": "display_data"
        },
        {
          "data": {
            "text/plain": []
          },
          "execution_count": 42,
          "metadata": {},
          "output_type": "execute_result"
        }
      ],
      "source": [
        "import gradio as gr\n",
        "\n",
        "inputs = gr.Image(label='Upload image')\n",
        "output = [\n",
        "    gr.JSON(label=\"Emotion\"),\n",
        "    gr.JSON(label=\"Age\")\n",
        "]\n",
        "\n",
        "iface = gr.Interface(fn=predict, inputs=inputs, outputs=output, title=\"Emotion and Age Detection\")\n",
        "iface.launch()"
      ]
    },
    {
      "cell_type": "markdown",
      "metadata": {
        "id": "NHmTpGTyajwr"
      },
      "source": [
        "Example of Expected Output:\n",
        "\n",
        "![gradio-result](https://storage.googleapis.com/rg-ai-bootcamp/project-4-transfer-learning/gradio_emotion_age_app.png)"
      ]
    },
    {
      "cell_type": "code",
      "execution_count": null,
      "metadata": {
        "colab": {
          "base_uri": "https://localhost:8080/",
          "height": 36
        },
        "id": "vs_ES11najwr",
        "outputId": "02f25c47-062d-4909-8729-db1627d40121"
      },
      "outputs": [
        {
          "data": {
            "application/vnd.google.colaboratory.intrinsic+json": {
              "type": "string"
            },
            "text/plain": [
              "'Assignment successfully submitted'"
            ]
          },
          "execution_count": 7,
          "metadata": {},
          "output_type": "execute_result"
        }
      ],
      "source": [
        "# Submit Method\n",
        "question_id = \"01_interactive_application_with_gradio\"\n",
        "submit_image(student_id, question_id, '/content/Screenshot 2024-02-13 085445.png')"
      ]
    },
    {
      "cell_type": "markdown",
      "metadata": {
        "id": "y72Rd2wbajws"
      },
      "source": [
        "> Note: If your submission for Task-2 did not run (After you run it never changes from \"*\" to a number), stop the Code block that's running the Gradio app, then the submission will run. To stop the Code block, you can click on the Code block and then click the stop button."
      ]
    },
    {
      "cell_type": "code",
      "execution_count": null,
      "metadata": {
        "id": "NdTovKPyBQNB"
      },
      "outputs": [],
      "source": []
    }
  ],
  "metadata": {
    "accelerator": "GPU",
    "colab": {
      "gpuType": "T4",
      "provenance": []
    },
    "kernelspec": {
      "display_name": "Python 3",
      "name": "python3"
    },
    "language_info": {
      "name": "python"
    },
    "widgets": {
      "application/vnd.jupyter.widget-state+json": {
        "013750a908344284a19cfa2c349d5efe": {
          "model_module": "@jupyter-widgets/base",
          "model_module_version": "1.2.0",
          "model_name": "LayoutModel",
          "state": {
            "_model_module": "@jupyter-widgets/base",
            "_model_module_version": "1.2.0",
            "_model_name": "LayoutModel",
            "_view_count": null,
            "_view_module": "@jupyter-widgets/base",
            "_view_module_version": "1.2.0",
            "_view_name": "LayoutView",
            "align_content": null,
            "align_items": null,
            "align_self": null,
            "border": null,
            "bottom": null,
            "display": null,
            "flex": null,
            "flex_flow": null,
            "grid_area": null,
            "grid_auto_columns": null,
            "grid_auto_flow": null,
            "grid_auto_rows": null,
            "grid_column": null,
            "grid_gap": null,
            "grid_row": null,
            "grid_template_areas": null,
            "grid_template_columns": null,
            "grid_template_rows": null,
            "height": null,
            "justify_content": null,
            "justify_items": null,
            "left": null,
            "margin": null,
            "max_height": null,
            "max_width": null,
            "min_height": null,
            "min_width": null,
            "object_fit": null,
            "object_position": null,
            "order": null,
            "overflow": null,
            "overflow_x": null,
            "overflow_y": null,
            "padding": null,
            "right": null,
            "top": null,
            "visibility": null,
            "width": null
          }
        },
        "067d4d34af5645efabd275f4b64b0576": {
          "model_module": "@jupyter-widgets/controls",
          "model_module_version": "1.5.0",
          "model_name": "FloatProgressModel",
          "state": {
            "_dom_classes": [],
            "_model_module": "@jupyter-widgets/controls",
            "_model_module_version": "1.5.0",
            "_model_name": "FloatProgressModel",
            "_view_count": null,
            "_view_module": "@jupyter-widgets/controls",
            "_view_module_version": "1.5.0",
            "_view_name": "ProgressView",
            "bar_style": "success",
            "description": "",
            "description_tooltip": null,
            "layout": "IPY_MODEL_c3f4e67d34fe41e98034e42b7221bb63",
            "max": 64588,
            "min": 0,
            "orientation": "horizontal",
            "style": "IPY_MODEL_3a8b9695e99449dd9e710a1a48b1d2d5",
            "value": 64588
          }
        },
        "1537c5bd2fd543439c4d50f719412338": {
          "model_module": "@jupyter-widgets/controls",
          "model_module_version": "1.5.0",
          "model_name": "HTMLModel",
          "state": {
            "_dom_classes": [],
            "_model_module": "@jupyter-widgets/controls",
            "_model_module_version": "1.5.0",
            "_model_name": "HTMLModel",
            "_view_count": null,
            "_view_module": "@jupyter-widgets/controls",
            "_view_module_version": "1.5.0",
            "_view_name": "HTMLView",
            "description": "",
            "description_tooltip": null,
            "layout": "IPY_MODEL_4b520c08750145409be55c6471066eaf",
            "placeholder": "​",
            "style": "IPY_MODEL_5772956a54a24073938cea8bc2b147e0",
            "value": " 560/560 [00:00&lt;00:00, 1.62kB/s]"
          }
        },
        "16a4a636619448e6b7b48297138667cc": {
          "model_module": "@jupyter-widgets/controls",
          "model_module_version": "1.5.0",
          "model_name": "CheckboxModel",
          "state": {
            "_dom_classes": [],
            "_model_module": "@jupyter-widgets/controls",
            "_model_module_version": "1.5.0",
            "_model_name": "CheckboxModel",
            "_view_count": null,
            "_view_module": "@jupyter-widgets/controls",
            "_view_module_version": "1.5.0",
            "_view_name": "CheckboxView",
            "description": "Add token as git credential?",
            "description_tooltip": null,
            "disabled": false,
            "indent": true,
            "layout": "IPY_MODEL_43158a5f87f046e6b4e3731c4634707f",
            "style": "IPY_MODEL_334e2e027a47474ea9dd9b295b5a3880",
            "value": true
          }
        },
        "16ae4fb4c21b4257840c5456424119cd": {
          "model_module": "@jupyter-widgets/controls",
          "model_module_version": "1.5.0",
          "model_name": "DescriptionStyleModel",
          "state": {
            "_model_module": "@jupyter-widgets/controls",
            "_model_module_version": "1.5.0",
            "_model_name": "DescriptionStyleModel",
            "_view_count": null,
            "_view_module": "@jupyter-widgets/base",
            "_view_module_version": "1.2.0",
            "_view_name": "StyleView",
            "description_width": ""
          }
        },
        "16faf2c94b4240f2b857f18fb7aeb5c7": {
          "model_module": "@jupyter-widgets/controls",
          "model_module_version": "1.5.0",
          "model_name": "DescriptionStyleModel",
          "state": {
            "_model_module": "@jupyter-widgets/controls",
            "_model_module_version": "1.5.0",
            "_model_name": "DescriptionStyleModel",
            "_view_count": null,
            "_view_module": "@jupyter-widgets/base",
            "_view_module_version": "1.2.0",
            "_view_name": "StyleView",
            "description_width": ""
          }
        },
        "17ad0710d0a54c0784a3275534a3fed6": {
          "model_module": "@jupyter-widgets/controls",
          "model_module_version": "1.5.0",
          "model_name": "HTMLModel",
          "state": {
            "_dom_classes": [],
            "_model_module": "@jupyter-widgets/controls",
            "_model_module_version": "1.5.0",
            "_model_name": "HTMLModel",
            "_view_count": null,
            "_view_module": "@jupyter-widgets/controls",
            "_view_module_version": "1.5.0",
            "_view_name": "HTMLView",
            "description": "",
            "description_tooltip": null,
            "layout": "IPY_MODEL_2b90b2f002e94411bfae088c5275afe5",
            "placeholder": "​",
            "style": "IPY_MODEL_2a3dbbb966f245d5b45c5ad76db2fa36",
            "value": " 800/800 [00:00&lt;00:00, 1086.54it/s]"
          }
        },
        "1b93c8d0740445cdbec29ddf391c4daf": {
          "model_module": "@jupyter-widgets/controls",
          "model_module_version": "1.5.0",
          "model_name": "FloatProgressModel",
          "state": {
            "_dom_classes": [],
            "_model_module": "@jupyter-widgets/controls",
            "_model_module_version": "1.5.0",
            "_model_name": "FloatProgressModel",
            "_view_count": null,
            "_view_module": "@jupyter-widgets/controls",
            "_view_module_version": "1.5.0",
            "_view_name": "ProgressView",
            "bar_style": "success",
            "description": "",
            "description_tooltip": null,
            "layout": "IPY_MODEL_7000613cdb6a444da6b344ed67f0e180",
            "max": 3,
            "min": 0,
            "orientation": "horizontal",
            "style": "IPY_MODEL_7b7e3325ffee43c18b15637d1451107b",
            "value": 3
          }
        },
        "20d36b1163ee407e9060ac8073744446": {
          "model_module": "@jupyter-widgets/controls",
          "model_module_version": "1.5.0",
          "model_name": "HTMLModel",
          "state": {
            "_dom_classes": [],
            "_model_module": "@jupyter-widgets/controls",
            "_model_module_version": "1.5.0",
            "_model_name": "HTMLModel",
            "_view_count": null,
            "_view_module": "@jupyter-widgets/controls",
            "_view_module_version": "1.5.0",
            "_view_name": "HTMLView",
            "description": "",
            "description_tooltip": null,
            "layout": "IPY_MODEL_4f528a25c0a74def8b43fce5357efe8e",
            "placeholder": "​",
            "style": "IPY_MODEL_16faf2c94b4240f2b857f18fb7aeb5c7",
            "value": " 343M/343M [00:07&lt;00:00, 41.0MB/s]"
          }
        },
        "215c02e4b0064f96b8daa53b1c73f33b": {
          "model_module": "@jupyter-widgets/controls",
          "model_module_version": "1.5.0",
          "model_name": "HTMLModel",
          "state": {
            "_dom_classes": [],
            "_model_module": "@jupyter-widgets/controls",
            "_model_module_version": "1.5.0",
            "_model_name": "HTMLModel",
            "_view_count": null,
            "_view_module": "@jupyter-widgets/controls",
            "_view_module_version": "1.5.0",
            "_view_name": "HTMLView",
            "description": "",
            "description_tooltip": null,
            "layout": "IPY_MODEL_013750a908344284a19cfa2c349d5efe",
            "placeholder": "​",
            "style": "IPY_MODEL_540311e1b4f54a84a8c9ed289c8f6225",
            "value": "events.out.tfevents.1707677078.fd75205e2bee.1951.6: 100%"
          }
        },
        "29ed938bfab54835ba8dc3619a9dc5d1": {
          "model_module": "@jupyter-widgets/controls",
          "model_module_version": "1.5.0",
          "model_name": "FloatProgressModel",
          "state": {
            "_dom_classes": [],
            "_model_module": "@jupyter-widgets/controls",
            "_model_module_version": "1.5.0",
            "_model_name": "FloatProgressModel",
            "_view_count": null,
            "_view_module": "@jupyter-widgets/controls",
            "_view_module_version": "1.5.0",
            "_view_name": "ProgressView",
            "bar_style": "success",
            "description": "",
            "description_tooltip": null,
            "layout": "IPY_MODEL_3443902ce68d423bac66419caae914b9",
            "max": 800,
            "min": 0,
            "orientation": "horizontal",
            "style": "IPY_MODEL_c73119825cd4490d9cdda815d9932c19",
            "value": 800
          }
        },
        "2a3dbbb966f245d5b45c5ad76db2fa36": {
          "model_module": "@jupyter-widgets/controls",
          "model_module_version": "1.5.0",
          "model_name": "DescriptionStyleModel",
          "state": {
            "_model_module": "@jupyter-widgets/controls",
            "_model_module_version": "1.5.0",
            "_model_name": "DescriptionStyleModel",
            "_view_count": null,
            "_view_module": "@jupyter-widgets/base",
            "_view_module_version": "1.2.0",
            "_view_name": "StyleView",
            "description_width": ""
          }
        },
        "2b90b2f002e94411bfae088c5275afe5": {
          "model_module": "@jupyter-widgets/base",
          "model_module_version": "1.2.0",
          "model_name": "LayoutModel",
          "state": {
            "_model_module": "@jupyter-widgets/base",
            "_model_module_version": "1.2.0",
            "_model_name": "LayoutModel",
            "_view_count": null,
            "_view_module": "@jupyter-widgets/base",
            "_view_module_version": "1.2.0",
            "_view_name": "LayoutView",
            "align_content": null,
            "align_items": null,
            "align_self": null,
            "border": null,
            "bottom": null,
            "display": null,
            "flex": null,
            "flex_flow": null,
            "grid_area": null,
            "grid_auto_columns": null,
            "grid_auto_flow": null,
            "grid_auto_rows": null,
            "grid_column": null,
            "grid_gap": null,
            "grid_row": null,
            "grid_template_areas": null,
            "grid_template_columns": null,
            "grid_template_rows": null,
            "height": null,
            "justify_content": null,
            "justify_items": null,
            "left": null,
            "margin": null,
            "max_height": null,
            "max_width": null,
            "min_height": null,
            "min_width": null,
            "object_fit": null,
            "object_position": null,
            "order": null,
            "overflow": null,
            "overflow_x": null,
            "overflow_y": null,
            "padding": null,
            "right": null,
            "top": null,
            "visibility": null,
            "width": null
          }
        },
        "2c9a168984c94a458eb1e700f3e64a57": {
          "model_module": "@jupyter-widgets/controls",
          "model_module_version": "1.5.0",
          "model_name": "HBoxModel",
          "state": {
            "_dom_classes": [],
            "_model_module": "@jupyter-widgets/controls",
            "_model_module_version": "1.5.0",
            "_model_name": "HBoxModel",
            "_view_count": null,
            "_view_module": "@jupyter-widgets/controls",
            "_view_module_version": "1.5.0",
            "_view_name": "HBoxView",
            "box_style": "",
            "children": [
              "IPY_MODEL_86fd6769450e48cd892b872875915b22",
              "IPY_MODEL_6a35c5a58f65493c998cf764d7274a6a",
              "IPY_MODEL_20d36b1163ee407e9060ac8073744446"
            ],
            "layout": "IPY_MODEL_fdb8131ffa3a431aa7338574dfb8f94a"
          }
        },
        "2fd1c47d065448e293aee7c116351eb8": {
          "model_module": "@jupyter-widgets/controls",
          "model_module_version": "1.5.0",
          "model_name": "DescriptionStyleModel",
          "state": {
            "_model_module": "@jupyter-widgets/controls",
            "_model_module_version": "1.5.0",
            "_model_name": "DescriptionStyleModel",
            "_view_count": null,
            "_view_module": "@jupyter-widgets/base",
            "_view_module_version": "1.2.0",
            "_view_name": "StyleView",
            "description_width": ""
          }
        },
        "334e2e027a47474ea9dd9b295b5a3880": {
          "model_module": "@jupyter-widgets/controls",
          "model_module_version": "1.5.0",
          "model_name": "DescriptionStyleModel",
          "state": {
            "_model_module": "@jupyter-widgets/controls",
            "_model_module_version": "1.5.0",
            "_model_name": "DescriptionStyleModel",
            "_view_count": null,
            "_view_module": "@jupyter-widgets/base",
            "_view_module_version": "1.2.0",
            "_view_name": "StyleView",
            "description_width": ""
          }
        },
        "3443902ce68d423bac66419caae914b9": {
          "model_module": "@jupyter-widgets/base",
          "model_module_version": "1.2.0",
          "model_name": "LayoutModel",
          "state": {
            "_model_module": "@jupyter-widgets/base",
            "_model_module_version": "1.2.0",
            "_model_name": "LayoutModel",
            "_view_count": null,
            "_view_module": "@jupyter-widgets/base",
            "_view_module_version": "1.2.0",
            "_view_name": "LayoutView",
            "align_content": null,
            "align_items": null,
            "align_self": null,
            "border": null,
            "bottom": null,
            "display": null,
            "flex": null,
            "flex_flow": null,
            "grid_area": null,
            "grid_auto_columns": null,
            "grid_auto_flow": null,
            "grid_auto_rows": null,
            "grid_column": null,
            "grid_gap": null,
            "grid_row": null,
            "grid_template_areas": null,
            "grid_template_columns": null,
            "grid_template_rows": null,
            "height": null,
            "justify_content": null,
            "justify_items": null,
            "left": null,
            "margin": null,
            "max_height": null,
            "max_width": null,
            "min_height": null,
            "min_width": null,
            "object_fit": null,
            "object_position": null,
            "order": null,
            "overflow": null,
            "overflow_x": null,
            "overflow_y": null,
            "padding": null,
            "right": null,
            "top": null,
            "visibility": null,
            "width": null
          }
        },
        "36775e943e544ca1b6bc6747d8dfeb05": {
          "model_module": "@jupyter-widgets/controls",
          "model_module_version": "1.5.0",
          "model_name": "HBoxModel",
          "state": {
            "_dom_classes": [],
            "_model_module": "@jupyter-widgets/controls",
            "_model_module_version": "1.5.0",
            "_model_name": "HBoxModel",
            "_view_count": null,
            "_view_module": "@jupyter-widgets/controls",
            "_view_module_version": "1.5.0",
            "_view_name": "HBoxView",
            "box_style": "",
            "children": [
              "IPY_MODEL_215c02e4b0064f96b8daa53b1c73f33b",
              "IPY_MODEL_981b05a440e6444d96be4d9eb91302bd",
              "IPY_MODEL_1537c5bd2fd543439c4d50f719412338"
            ],
            "layout": "IPY_MODEL_a451658d96414a8f9db173f6eb270d79"
          }
        },
        "37bb3fd0821c48df8674bfb98e1879de": {
          "model_module": "@jupyter-widgets/base",
          "model_module_version": "1.2.0",
          "model_name": "LayoutModel",
          "state": {
            "_model_module": "@jupyter-widgets/base",
            "_model_module_version": "1.2.0",
            "_model_name": "LayoutModel",
            "_view_count": null,
            "_view_module": "@jupyter-widgets/base",
            "_view_module_version": "1.2.0",
            "_view_name": "LayoutView",
            "align_content": null,
            "align_items": null,
            "align_self": null,
            "border": null,
            "bottom": null,
            "display": null,
            "flex": null,
            "flex_flow": null,
            "grid_area": null,
            "grid_auto_columns": null,
            "grid_auto_flow": null,
            "grid_auto_rows": null,
            "grid_column": null,
            "grid_gap": null,
            "grid_row": null,
            "grid_template_areas": null,
            "grid_template_columns": null,
            "grid_template_rows": null,
            "height": null,
            "justify_content": null,
            "justify_items": null,
            "left": null,
            "margin": null,
            "max_height": null,
            "max_width": null,
            "min_height": null,
            "min_width": null,
            "object_fit": null,
            "object_position": null,
            "order": null,
            "overflow": null,
            "overflow_x": null,
            "overflow_y": null,
            "padding": null,
            "right": null,
            "top": null,
            "visibility": null,
            "width": null
          }
        },
        "3a8b9695e99449dd9e710a1a48b1d2d5": {
          "model_module": "@jupyter-widgets/controls",
          "model_module_version": "1.5.0",
          "model_name": "ProgressStyleModel",
          "state": {
            "_model_module": "@jupyter-widgets/controls",
            "_model_module_version": "1.5.0",
            "_model_name": "ProgressStyleModel",
            "_view_count": null,
            "_view_module": "@jupyter-widgets/base",
            "_view_module_version": "1.2.0",
            "_view_name": "StyleView",
            "bar_color": null,
            "description_width": ""
          }
        },
        "43158a5f87f046e6b4e3731c4634707f": {
          "model_module": "@jupyter-widgets/base",
          "model_module_version": "1.2.0",
          "model_name": "LayoutModel",
          "state": {
            "_model_module": "@jupyter-widgets/base",
            "_model_module_version": "1.2.0",
            "_model_name": "LayoutModel",
            "_view_count": null,
            "_view_module": "@jupyter-widgets/base",
            "_view_module_version": "1.2.0",
            "_view_name": "LayoutView",
            "align_content": null,
            "align_items": null,
            "align_self": null,
            "border": null,
            "bottom": null,
            "display": null,
            "flex": null,
            "flex_flow": null,
            "grid_area": null,
            "grid_auto_columns": null,
            "grid_auto_flow": null,
            "grid_auto_rows": null,
            "grid_column": null,
            "grid_gap": null,
            "grid_row": null,
            "grid_template_areas": null,
            "grid_template_columns": null,
            "grid_template_rows": null,
            "height": null,
            "justify_content": null,
            "justify_items": null,
            "left": null,
            "margin": null,
            "max_height": null,
            "max_width": null,
            "min_height": null,
            "min_width": null,
            "object_fit": null,
            "object_position": null,
            "order": null,
            "overflow": null,
            "overflow_x": null,
            "overflow_y": null,
            "padding": null,
            "right": null,
            "top": null,
            "visibility": null,
            "width": null
          }
        },
        "456b39f4ec9943cbac8f91052abe1f5a": {
          "model_module": "@jupyter-widgets/base",
          "model_module_version": "1.2.0",
          "model_name": "LayoutModel",
          "state": {
            "_model_module": "@jupyter-widgets/base",
            "_model_module_version": "1.2.0",
            "_model_name": "LayoutModel",
            "_view_count": null,
            "_view_module": "@jupyter-widgets/base",
            "_view_module_version": "1.2.0",
            "_view_name": "LayoutView",
            "align_content": null,
            "align_items": null,
            "align_self": null,
            "border": null,
            "bottom": null,
            "display": null,
            "flex": null,
            "flex_flow": null,
            "grid_area": null,
            "grid_auto_columns": null,
            "grid_auto_flow": null,
            "grid_auto_rows": null,
            "grid_column": null,
            "grid_gap": null,
            "grid_row": null,
            "grid_template_areas": null,
            "grid_template_columns": null,
            "grid_template_rows": null,
            "height": null,
            "justify_content": null,
            "justify_items": null,
            "left": null,
            "margin": null,
            "max_height": null,
            "max_width": null,
            "min_height": null,
            "min_width": null,
            "object_fit": null,
            "object_position": null,
            "order": null,
            "overflow": null,
            "overflow_x": null,
            "overflow_y": null,
            "padding": null,
            "right": null,
            "top": null,
            "visibility": null,
            "width": null
          }
        },
        "460e55324fd84344a91ecbfd11a235c8": {
          "model_module": "@jupyter-widgets/controls",
          "model_module_version": "1.5.0",
          "model_name": "HBoxModel",
          "state": {
            "_dom_classes": [],
            "_model_module": "@jupyter-widgets/controls",
            "_model_module_version": "1.5.0",
            "_model_name": "HBoxModel",
            "_view_count": null,
            "_view_module": "@jupyter-widgets/controls",
            "_view_module_version": "1.5.0",
            "_view_name": "HBoxView",
            "box_style": "",
            "children": [
              "IPY_MODEL_b01c1e485f6e4236ae5d308bbcc9cfc1",
              "IPY_MODEL_29ed938bfab54835ba8dc3619a9dc5d1",
              "IPY_MODEL_17ad0710d0a54c0784a3275534a3fed6"
            ],
            "layout": "IPY_MODEL_694cf647272a476386acb7aa5f0a0fec"
          }
        },
        "4b5058d2ac8e4c69a709376f3e4222f9": {
          "model_module": "@jupyter-widgets/controls",
          "model_module_version": "1.5.0",
          "model_name": "DescriptionStyleModel",
          "state": {
            "_model_module": "@jupyter-widgets/controls",
            "_model_module_version": "1.5.0",
            "_model_name": "DescriptionStyleModel",
            "_view_count": null,
            "_view_module": "@jupyter-widgets/base",
            "_view_module_version": "1.2.0",
            "_view_name": "StyleView",
            "description_width": ""
          }
        },
        "4b520c08750145409be55c6471066eaf": {
          "model_module": "@jupyter-widgets/base",
          "model_module_version": "1.2.0",
          "model_name": "LayoutModel",
          "state": {
            "_model_module": "@jupyter-widgets/base",
            "_model_module_version": "1.2.0",
            "_model_name": "LayoutModel",
            "_view_count": null,
            "_view_module": "@jupyter-widgets/base",
            "_view_module_version": "1.2.0",
            "_view_name": "LayoutView",
            "align_content": null,
            "align_items": null,
            "align_self": null,
            "border": null,
            "bottom": null,
            "display": null,
            "flex": null,
            "flex_flow": null,
            "grid_area": null,
            "grid_auto_columns": null,
            "grid_auto_flow": null,
            "grid_auto_rows": null,
            "grid_column": null,
            "grid_gap": null,
            "grid_row": null,
            "grid_template_areas": null,
            "grid_template_columns": null,
            "grid_template_rows": null,
            "height": null,
            "justify_content": null,
            "justify_items": null,
            "left": null,
            "margin": null,
            "max_height": null,
            "max_width": null,
            "min_height": null,
            "min_width": null,
            "object_fit": null,
            "object_position": null,
            "order": null,
            "overflow": null,
            "overflow_x": null,
            "overflow_y": null,
            "padding": null,
            "right": null,
            "top": null,
            "visibility": null,
            "width": null
          }
        },
        "4f528a25c0a74def8b43fce5357efe8e": {
          "model_module": "@jupyter-widgets/base",
          "model_module_version": "1.2.0",
          "model_name": "LayoutModel",
          "state": {
            "_model_module": "@jupyter-widgets/base",
            "_model_module_version": "1.2.0",
            "_model_name": "LayoutModel",
            "_view_count": null,
            "_view_module": "@jupyter-widgets/base",
            "_view_module_version": "1.2.0",
            "_view_name": "LayoutView",
            "align_content": null,
            "align_items": null,
            "align_self": null,
            "border": null,
            "bottom": null,
            "display": null,
            "flex": null,
            "flex_flow": null,
            "grid_area": null,
            "grid_auto_columns": null,
            "grid_auto_flow": null,
            "grid_auto_rows": null,
            "grid_column": null,
            "grid_gap": null,
            "grid_row": null,
            "grid_template_areas": null,
            "grid_template_columns": null,
            "grid_template_rows": null,
            "height": null,
            "justify_content": null,
            "justify_items": null,
            "left": null,
            "margin": null,
            "max_height": null,
            "max_width": null,
            "min_height": null,
            "min_width": null,
            "object_fit": null,
            "object_position": null,
            "order": null,
            "overflow": null,
            "overflow_x": null,
            "overflow_y": null,
            "padding": null,
            "right": null,
            "top": null,
            "visibility": null,
            "width": null
          }
        },
        "51a3d240279d43febfc5e7591dc07b60": {
          "model_module": "@jupyter-widgets/base",
          "model_module_version": "1.2.0",
          "model_name": "LayoutModel",
          "state": {
            "_model_module": "@jupyter-widgets/base",
            "_model_module_version": "1.2.0",
            "_model_name": "LayoutModel",
            "_view_count": null,
            "_view_module": "@jupyter-widgets/base",
            "_view_module_version": "1.2.0",
            "_view_name": "LayoutView",
            "align_content": null,
            "align_items": null,
            "align_self": null,
            "border": null,
            "bottom": null,
            "display": null,
            "flex": null,
            "flex_flow": null,
            "grid_area": null,
            "grid_auto_columns": null,
            "grid_auto_flow": null,
            "grid_auto_rows": null,
            "grid_column": null,
            "grid_gap": null,
            "grid_row": null,
            "grid_template_areas": null,
            "grid_template_columns": null,
            "grid_template_rows": null,
            "height": null,
            "justify_content": null,
            "justify_items": null,
            "left": null,
            "margin": null,
            "max_height": null,
            "max_width": null,
            "min_height": null,
            "min_width": null,
            "object_fit": null,
            "object_position": null,
            "order": null,
            "overflow": null,
            "overflow_x": null,
            "overflow_y": null,
            "padding": null,
            "right": null,
            "top": null,
            "visibility": null,
            "width": null
          }
        },
        "53d2d860c4f74527b6b7e2abf9e90413": {
          "model_module": "@jupyter-widgets/base",
          "model_module_version": "1.2.0",
          "model_name": "LayoutModel",
          "state": {
            "_model_module": "@jupyter-widgets/base",
            "_model_module_version": "1.2.0",
            "_model_name": "LayoutModel",
            "_view_count": null,
            "_view_module": "@jupyter-widgets/base",
            "_view_module_version": "1.2.0",
            "_view_name": "LayoutView",
            "align_content": null,
            "align_items": null,
            "align_self": null,
            "border": null,
            "bottom": null,
            "display": null,
            "flex": null,
            "flex_flow": null,
            "grid_area": null,
            "grid_auto_columns": null,
            "grid_auto_flow": null,
            "grid_auto_rows": null,
            "grid_column": null,
            "grid_gap": null,
            "grid_row": null,
            "grid_template_areas": null,
            "grid_template_columns": null,
            "grid_template_rows": null,
            "height": null,
            "justify_content": null,
            "justify_items": null,
            "left": null,
            "margin": null,
            "max_height": null,
            "max_width": null,
            "min_height": null,
            "min_width": null,
            "object_fit": null,
            "object_position": null,
            "order": null,
            "overflow": null,
            "overflow_x": null,
            "overflow_y": null,
            "padding": null,
            "right": null,
            "top": null,
            "visibility": null,
            "width": null
          }
        },
        "540311e1b4f54a84a8c9ed289c8f6225": {
          "model_module": "@jupyter-widgets/controls",
          "model_module_version": "1.5.0",
          "model_name": "DescriptionStyleModel",
          "state": {
            "_model_module": "@jupyter-widgets/controls",
            "_model_module_version": "1.5.0",
            "_model_name": "DescriptionStyleModel",
            "_view_count": null,
            "_view_module": "@jupyter-widgets/base",
            "_view_module_version": "1.2.0",
            "_view_name": "StyleView",
            "description_width": ""
          }
        },
        "54c3925439254699b92db91b05d73c4b": {
          "model_module": "@jupyter-widgets/controls",
          "model_module_version": "1.5.0",
          "model_name": "HTMLModel",
          "state": {
            "_dom_classes": [],
            "_model_module": "@jupyter-widgets/controls",
            "_model_module_version": "1.5.0",
            "_model_name": "HTMLModel",
            "_view_count": null,
            "_view_module": "@jupyter-widgets/controls",
            "_view_module_version": "1.5.0",
            "_view_name": "HTMLView",
            "description": "",
            "description_tooltip": null,
            "layout": "IPY_MODEL_644475b3ba084da7b2e2d2e7c69a9783",
            "placeholder": "​",
            "style": "IPY_MODEL_a5cc2399a74b46c995af11cf5baace08",
            "value": "Upload 3 LFS files: 100%"
          }
        },
        "5772956a54a24073938cea8bc2b147e0": {
          "model_module": "@jupyter-widgets/controls",
          "model_module_version": "1.5.0",
          "model_name": "DescriptionStyleModel",
          "state": {
            "_model_module": "@jupyter-widgets/controls",
            "_model_module_version": "1.5.0",
            "_model_name": "DescriptionStyleModel",
            "_view_count": null,
            "_view_module": "@jupyter-widgets/base",
            "_view_module_version": "1.2.0",
            "_view_name": "StyleView",
            "description_width": ""
          }
        },
        "595516c87bbf4307a165e3f7551f0e1b": {
          "model_module": "@jupyter-widgets/controls",
          "model_module_version": "1.5.0",
          "model_name": "DescriptionStyleModel",
          "state": {
            "_model_module": "@jupyter-widgets/controls",
            "_model_module_version": "1.5.0",
            "_model_name": "DescriptionStyleModel",
            "_view_count": null,
            "_view_module": "@jupyter-widgets/base",
            "_view_module_version": "1.2.0",
            "_view_name": "StyleView",
            "description_width": ""
          }
        },
        "59d9443b7db4488a95c051d138a877e8": {
          "model_module": "@jupyter-widgets/controls",
          "model_module_version": "1.5.0",
          "model_name": "HBoxModel",
          "state": {
            "_dom_classes": [],
            "_model_module": "@jupyter-widgets/controls",
            "_model_module_version": "1.5.0",
            "_model_name": "HBoxModel",
            "_view_count": null,
            "_view_module": "@jupyter-widgets/controls",
            "_view_module_version": "1.5.0",
            "_view_name": "HBoxView",
            "box_style": "",
            "children": [
              "IPY_MODEL_54c3925439254699b92db91b05d73c4b",
              "IPY_MODEL_1b93c8d0740445cdbec29ddf391c4daf",
              "IPY_MODEL_a18d30b3022c4a2b99e839e8ac693d6c"
            ],
            "layout": "IPY_MODEL_e7085e1fd96f4748bcb0fc4d1ee89586"
          }
        },
        "644475b3ba084da7b2e2d2e7c69a9783": {
          "model_module": "@jupyter-widgets/base",
          "model_module_version": "1.2.0",
          "model_name": "LayoutModel",
          "state": {
            "_model_module": "@jupyter-widgets/base",
            "_model_module_version": "1.2.0",
            "_model_name": "LayoutModel",
            "_view_count": null,
            "_view_module": "@jupyter-widgets/base",
            "_view_module_version": "1.2.0",
            "_view_name": "LayoutView",
            "align_content": null,
            "align_items": null,
            "align_self": null,
            "border": null,
            "bottom": null,
            "display": null,
            "flex": null,
            "flex_flow": null,
            "grid_area": null,
            "grid_auto_columns": null,
            "grid_auto_flow": null,
            "grid_auto_rows": null,
            "grid_column": null,
            "grid_gap": null,
            "grid_row": null,
            "grid_template_areas": null,
            "grid_template_columns": null,
            "grid_template_rows": null,
            "height": null,
            "justify_content": null,
            "justify_items": null,
            "left": null,
            "margin": null,
            "max_height": null,
            "max_width": null,
            "min_height": null,
            "min_width": null,
            "object_fit": null,
            "object_position": null,
            "order": null,
            "overflow": null,
            "overflow_x": null,
            "overflow_y": null,
            "padding": null,
            "right": null,
            "top": null,
            "visibility": null,
            "width": null
          }
        },
        "694cf647272a476386acb7aa5f0a0fec": {
          "model_module": "@jupyter-widgets/base",
          "model_module_version": "1.2.0",
          "model_name": "LayoutModel",
          "state": {
            "_model_module": "@jupyter-widgets/base",
            "_model_module_version": "1.2.0",
            "_model_name": "LayoutModel",
            "_view_count": null,
            "_view_module": "@jupyter-widgets/base",
            "_view_module_version": "1.2.0",
            "_view_name": "LayoutView",
            "align_content": null,
            "align_items": null,
            "align_self": null,
            "border": null,
            "bottom": null,
            "display": null,
            "flex": null,
            "flex_flow": null,
            "grid_area": null,
            "grid_auto_columns": null,
            "grid_auto_flow": null,
            "grid_auto_rows": null,
            "grid_column": null,
            "grid_gap": null,
            "grid_row": null,
            "grid_template_areas": null,
            "grid_template_columns": null,
            "grid_template_rows": null,
            "height": null,
            "justify_content": null,
            "justify_items": null,
            "left": null,
            "margin": null,
            "max_height": null,
            "max_width": null,
            "min_height": null,
            "min_width": null,
            "object_fit": null,
            "object_position": null,
            "order": null,
            "overflow": null,
            "overflow_x": null,
            "overflow_y": null,
            "padding": null,
            "right": null,
            "top": null,
            "visibility": null,
            "width": null
          }
        },
        "6a35c5a58f65493c998cf764d7274a6a": {
          "model_module": "@jupyter-widgets/controls",
          "model_module_version": "1.5.0",
          "model_name": "FloatProgressModel",
          "state": {
            "_dom_classes": [],
            "_model_module": "@jupyter-widgets/controls",
            "_model_module_version": "1.5.0",
            "_model_name": "FloatProgressModel",
            "_view_count": null,
            "_view_module": "@jupyter-widgets/controls",
            "_view_module_version": "1.5.0",
            "_view_name": "ProgressView",
            "bar_style": "success",
            "description": "",
            "description_tooltip": null,
            "layout": "IPY_MODEL_e4268727e57347d9844427fcc2bf075e",
            "max": 343242432,
            "min": 0,
            "orientation": "horizontal",
            "style": "IPY_MODEL_d20e95dba6154ea58d55843b3cf88f11",
            "value": 343242432
          }
        },
        "6e534f59eb61413ea5d498b90a2655e2": {
          "model_module": "@jupyter-widgets/base",
          "model_module_version": "1.2.0",
          "model_name": "LayoutModel",
          "state": {
            "_model_module": "@jupyter-widgets/base",
            "_model_module_version": "1.2.0",
            "_model_name": "LayoutModel",
            "_view_count": null,
            "_view_module": "@jupyter-widgets/base",
            "_view_module_version": "1.2.0",
            "_view_name": "LayoutView",
            "align_content": null,
            "align_items": "center",
            "align_self": null,
            "border": null,
            "bottom": null,
            "display": "flex",
            "flex": null,
            "flex_flow": "column",
            "grid_area": null,
            "grid_auto_columns": null,
            "grid_auto_flow": null,
            "grid_auto_rows": null,
            "grid_column": null,
            "grid_gap": null,
            "grid_row": null,
            "grid_template_areas": null,
            "grid_template_columns": null,
            "grid_template_rows": null,
            "height": null,
            "justify_content": null,
            "justify_items": null,
            "left": null,
            "margin": null,
            "max_height": null,
            "max_width": null,
            "min_height": null,
            "min_width": null,
            "object_fit": null,
            "object_position": null,
            "order": null,
            "overflow": null,
            "overflow_x": null,
            "overflow_y": null,
            "padding": null,
            "right": null,
            "top": null,
            "visibility": null,
            "width": "50%"
          }
        },
        "7000613cdb6a444da6b344ed67f0e180": {
          "model_module": "@jupyter-widgets/base",
          "model_module_version": "1.2.0",
          "model_name": "LayoutModel",
          "state": {
            "_model_module": "@jupyter-widgets/base",
            "_model_module_version": "1.2.0",
            "_model_name": "LayoutModel",
            "_view_count": null,
            "_view_module": "@jupyter-widgets/base",
            "_view_module_version": "1.2.0",
            "_view_name": "LayoutView",
            "align_content": null,
            "align_items": null,
            "align_self": null,
            "border": null,
            "bottom": null,
            "display": null,
            "flex": null,
            "flex_flow": null,
            "grid_area": null,
            "grid_auto_columns": null,
            "grid_auto_flow": null,
            "grid_auto_rows": null,
            "grid_column": null,
            "grid_gap": null,
            "grid_row": null,
            "grid_template_areas": null,
            "grid_template_columns": null,
            "grid_template_rows": null,
            "height": null,
            "justify_content": null,
            "justify_items": null,
            "left": null,
            "margin": null,
            "max_height": null,
            "max_width": null,
            "min_height": null,
            "min_width": null,
            "object_fit": null,
            "object_position": null,
            "order": null,
            "overflow": null,
            "overflow_x": null,
            "overflow_y": null,
            "padding": null,
            "right": null,
            "top": null,
            "visibility": null,
            "width": null
          }
        },
        "751ca021c19245b9a55b2e39c1804af0": {
          "model_module": "@jupyter-widgets/controls",
          "model_module_version": "1.5.0",
          "model_name": "DescriptionStyleModel",
          "state": {
            "_model_module": "@jupyter-widgets/controls",
            "_model_module_version": "1.5.0",
            "_model_name": "DescriptionStyleModel",
            "_view_count": null,
            "_view_module": "@jupyter-widgets/base",
            "_view_module_version": "1.2.0",
            "_view_name": "StyleView",
            "description_width": ""
          }
        },
        "77ae711454cc411da484f23c85b6a49e": {
          "model_module": "@jupyter-widgets/base",
          "model_module_version": "1.2.0",
          "model_name": "LayoutModel",
          "state": {
            "_model_module": "@jupyter-widgets/base",
            "_model_module_version": "1.2.0",
            "_model_name": "LayoutModel",
            "_view_count": null,
            "_view_module": "@jupyter-widgets/base",
            "_view_module_version": "1.2.0",
            "_view_name": "LayoutView",
            "align_content": null,
            "align_items": null,
            "align_self": null,
            "border": null,
            "bottom": null,
            "display": null,
            "flex": null,
            "flex_flow": null,
            "grid_area": null,
            "grid_auto_columns": null,
            "grid_auto_flow": null,
            "grid_auto_rows": null,
            "grid_column": null,
            "grid_gap": null,
            "grid_row": null,
            "grid_template_areas": null,
            "grid_template_columns": null,
            "grid_template_rows": null,
            "height": null,
            "justify_content": null,
            "justify_items": null,
            "left": null,
            "margin": null,
            "max_height": null,
            "max_width": null,
            "min_height": null,
            "min_width": null,
            "object_fit": null,
            "object_position": null,
            "order": null,
            "overflow": null,
            "overflow_x": null,
            "overflow_y": null,
            "padding": null,
            "right": null,
            "top": null,
            "visibility": null,
            "width": null
          }
        },
        "7b7e3325ffee43c18b15637d1451107b": {
          "model_module": "@jupyter-widgets/controls",
          "model_module_version": "1.5.0",
          "model_name": "ProgressStyleModel",
          "state": {
            "_model_module": "@jupyter-widgets/controls",
            "_model_module_version": "1.5.0",
            "_model_name": "ProgressStyleModel",
            "_view_count": null,
            "_view_module": "@jupyter-widgets/base",
            "_view_module_version": "1.2.0",
            "_view_name": "StyleView",
            "bar_color": null,
            "description_width": ""
          }
        },
        "7eede0a4ed174c48bbdf7953f8b9deae": {
          "model_module": "@jupyter-widgets/controls",
          "model_module_version": "1.5.0",
          "model_name": "HTMLModel",
          "state": {
            "_dom_classes": [],
            "_model_module": "@jupyter-widgets/controls",
            "_model_module_version": "1.5.0",
            "_model_name": "HTMLModel",
            "_view_count": null,
            "_view_module": "@jupyter-widgets/controls",
            "_view_module_version": "1.5.0",
            "_view_name": "HTMLView",
            "description": "",
            "description_tooltip": null,
            "layout": "IPY_MODEL_cae69a895ed84a4dadfeaffd39749840",
            "placeholder": "​",
            "style": "IPY_MODEL_751ca021c19245b9a55b2e39c1804af0",
            "value": "\n<b>Pro Tip:</b> If you don't already have one, you can create a dedicated\n'notebooks' token with 'write' access, that you can then easily reuse for all\nnotebooks. </center>"
          }
        },
        "86d3ed73473c445bab463e4794d1373d": {
          "model_module": "@jupyter-widgets/base",
          "model_module_version": "1.2.0",
          "model_name": "LayoutModel",
          "state": {
            "_model_module": "@jupyter-widgets/base",
            "_model_module_version": "1.2.0",
            "_model_name": "LayoutModel",
            "_view_count": null,
            "_view_module": "@jupyter-widgets/base",
            "_view_module_version": "1.2.0",
            "_view_name": "LayoutView",
            "align_content": null,
            "align_items": null,
            "align_self": null,
            "border": null,
            "bottom": null,
            "display": null,
            "flex": null,
            "flex_flow": null,
            "grid_area": null,
            "grid_auto_columns": null,
            "grid_auto_flow": null,
            "grid_auto_rows": null,
            "grid_column": null,
            "grid_gap": null,
            "grid_row": null,
            "grid_template_areas": null,
            "grid_template_columns": null,
            "grid_template_rows": null,
            "height": null,
            "justify_content": null,
            "justify_items": null,
            "left": null,
            "margin": null,
            "max_height": null,
            "max_width": null,
            "min_height": null,
            "min_width": null,
            "object_fit": null,
            "object_position": null,
            "order": null,
            "overflow": null,
            "overflow_x": null,
            "overflow_y": null,
            "padding": null,
            "right": null,
            "top": null,
            "visibility": null,
            "width": null
          }
        },
        "86fd6769450e48cd892b872875915b22": {
          "model_module": "@jupyter-widgets/controls",
          "model_module_version": "1.5.0",
          "model_name": "HTMLModel",
          "state": {
            "_dom_classes": [],
            "_model_module": "@jupyter-widgets/controls",
            "_model_module_version": "1.5.0",
            "_model_name": "HTMLModel",
            "_view_count": null,
            "_view_module": "@jupyter-widgets/controls",
            "_view_module_version": "1.5.0",
            "_view_name": "HTMLView",
            "description": "",
            "description_tooltip": null,
            "layout": "IPY_MODEL_37bb3fd0821c48df8674bfb98e1879de",
            "placeholder": "​",
            "style": "IPY_MODEL_b091fb8f5338416eb9cb56cef555d46e",
            "value": "model.safetensors: 100%"
          }
        },
        "8742adeff18e4b2cb571772ea2151af8": {
          "model_module": "@jupyter-widgets/controls",
          "model_module_version": "1.5.0",
          "model_name": "PasswordModel",
          "state": {
            "_dom_classes": [],
            "_model_module": "@jupyter-widgets/controls",
            "_model_module_version": "1.5.0",
            "_model_name": "PasswordModel",
            "_view_count": null,
            "_view_module": "@jupyter-widgets/controls",
            "_view_module_version": "1.5.0",
            "_view_name": "PasswordView",
            "continuous_update": true,
            "description": "Token:",
            "description_tooltip": null,
            "disabled": false,
            "layout": "IPY_MODEL_c73cd7c5bfdc45cbb69c5eaab0e5b53f",
            "placeholder": "​",
            "style": "IPY_MODEL_bbb1e40d38c544f890f798161eaa6639",
            "value": ""
          }
        },
        "89a8ca1cbe964820978b8d0fa108fd97": {
          "model_module": "@jupyter-widgets/controls",
          "model_module_version": "1.5.0",
          "model_name": "HTMLModel",
          "state": {
            "_dom_classes": [],
            "_model_module": "@jupyter-widgets/controls",
            "_model_module_version": "1.5.0",
            "_model_name": "HTMLModel",
            "_view_count": null,
            "_view_module": "@jupyter-widgets/controls",
            "_view_module_version": "1.5.0",
            "_view_name": "HTMLView",
            "description": "",
            "description_tooltip": null,
            "layout": "IPY_MODEL_53d2d860c4f74527b6b7e2abf9e90413",
            "placeholder": "​",
            "style": "IPY_MODEL_595516c87bbf4307a165e3f7551f0e1b",
            "value": " 64.6k/64.6k [00:00&lt;00:00, 46.1kB/s]"
          }
        },
        "8d9bdc991da14fcca8974bb96ba32722": {
          "model_module": "@jupyter-widgets/controls",
          "model_module_version": "1.5.0",
          "model_name": "ButtonModel",
          "state": {
            "_dom_classes": [],
            "_model_module": "@jupyter-widgets/controls",
            "_model_module_version": "1.5.0",
            "_model_name": "ButtonModel",
            "_view_count": null,
            "_view_module": "@jupyter-widgets/controls",
            "_view_module_version": "1.5.0",
            "_view_name": "ButtonView",
            "button_style": "",
            "description": "Login",
            "disabled": false,
            "icon": "",
            "layout": "IPY_MODEL_a739736ad1a54d119634bdcf49d5d82a",
            "style": "IPY_MODEL_d601023ad63d4994991b126dc04f29df",
            "tooltip": ""
          }
        },
        "981b05a440e6444d96be4d9eb91302bd": {
          "model_module": "@jupyter-widgets/controls",
          "model_module_version": "1.5.0",
          "model_name": "FloatProgressModel",
          "state": {
            "_dom_classes": [],
            "_model_module": "@jupyter-widgets/controls",
            "_model_module_version": "1.5.0",
            "_model_name": "FloatProgressModel",
            "_view_count": null,
            "_view_module": "@jupyter-widgets/controls",
            "_view_module_version": "1.5.0",
            "_view_name": "ProgressView",
            "bar_style": "success",
            "description": "",
            "description_tooltip": null,
            "layout": "IPY_MODEL_a72c1b389d57461b96216953d7ce3ce9",
            "max": 560,
            "min": 0,
            "orientation": "horizontal",
            "style": "IPY_MODEL_d810c04d30854befaaa27aa3aa4ab79e",
            "value": 560
          }
        },
        "a18d30b3022c4a2b99e839e8ac693d6c": {
          "model_module": "@jupyter-widgets/controls",
          "model_module_version": "1.5.0",
          "model_name": "HTMLModel",
          "state": {
            "_dom_classes": [],
            "_model_module": "@jupyter-widgets/controls",
            "_model_module_version": "1.5.0",
            "_model_name": "HTMLModel",
            "_view_count": null,
            "_view_module": "@jupyter-widgets/controls",
            "_view_module_version": "1.5.0",
            "_view_name": "HTMLView",
            "description": "",
            "description_tooltip": null,
            "layout": "IPY_MODEL_f65e1cafb2dc4023bce4b70afefc8e50",
            "placeholder": "​",
            "style": "IPY_MODEL_4b5058d2ac8e4c69a709376f3e4222f9",
            "value": " 3/3 [00:08&lt;00:00,  8.04s/it]"
          }
        },
        "a451658d96414a8f9db173f6eb270d79": {
          "model_module": "@jupyter-widgets/base",
          "model_module_version": "1.2.0",
          "model_name": "LayoutModel",
          "state": {
            "_model_module": "@jupyter-widgets/base",
            "_model_module_version": "1.2.0",
            "_model_name": "LayoutModel",
            "_view_count": null,
            "_view_module": "@jupyter-widgets/base",
            "_view_module_version": "1.2.0",
            "_view_name": "LayoutView",
            "align_content": null,
            "align_items": null,
            "align_self": null,
            "border": null,
            "bottom": null,
            "display": null,
            "flex": null,
            "flex_flow": null,
            "grid_area": null,
            "grid_auto_columns": null,
            "grid_auto_flow": null,
            "grid_auto_rows": null,
            "grid_column": null,
            "grid_gap": null,
            "grid_row": null,
            "grid_template_areas": null,
            "grid_template_columns": null,
            "grid_template_rows": null,
            "height": null,
            "justify_content": null,
            "justify_items": null,
            "left": null,
            "margin": null,
            "max_height": null,
            "max_width": null,
            "min_height": null,
            "min_width": null,
            "object_fit": null,
            "object_position": null,
            "order": null,
            "overflow": null,
            "overflow_x": null,
            "overflow_y": null,
            "padding": null,
            "right": null,
            "top": null,
            "visibility": null,
            "width": null
          }
        },
        "a5cc2399a74b46c995af11cf5baace08": {
          "model_module": "@jupyter-widgets/controls",
          "model_module_version": "1.5.0",
          "model_name": "DescriptionStyleModel",
          "state": {
            "_model_module": "@jupyter-widgets/controls",
            "_model_module_version": "1.5.0",
            "_model_name": "DescriptionStyleModel",
            "_view_count": null,
            "_view_module": "@jupyter-widgets/base",
            "_view_module_version": "1.2.0",
            "_view_name": "StyleView",
            "description_width": ""
          }
        },
        "a72c1b389d57461b96216953d7ce3ce9": {
          "model_module": "@jupyter-widgets/base",
          "model_module_version": "1.2.0",
          "model_name": "LayoutModel",
          "state": {
            "_model_module": "@jupyter-widgets/base",
            "_model_module_version": "1.2.0",
            "_model_name": "LayoutModel",
            "_view_count": null,
            "_view_module": "@jupyter-widgets/base",
            "_view_module_version": "1.2.0",
            "_view_name": "LayoutView",
            "align_content": null,
            "align_items": null,
            "align_self": null,
            "border": null,
            "bottom": null,
            "display": null,
            "flex": null,
            "flex_flow": null,
            "grid_area": null,
            "grid_auto_columns": null,
            "grid_auto_flow": null,
            "grid_auto_rows": null,
            "grid_column": null,
            "grid_gap": null,
            "grid_row": null,
            "grid_template_areas": null,
            "grid_template_columns": null,
            "grid_template_rows": null,
            "height": null,
            "justify_content": null,
            "justify_items": null,
            "left": null,
            "margin": null,
            "max_height": null,
            "max_width": null,
            "min_height": null,
            "min_width": null,
            "object_fit": null,
            "object_position": null,
            "order": null,
            "overflow": null,
            "overflow_x": null,
            "overflow_y": null,
            "padding": null,
            "right": null,
            "top": null,
            "visibility": null,
            "width": null
          }
        },
        "a739736ad1a54d119634bdcf49d5d82a": {
          "model_module": "@jupyter-widgets/base",
          "model_module_version": "1.2.0",
          "model_name": "LayoutModel",
          "state": {
            "_model_module": "@jupyter-widgets/base",
            "_model_module_version": "1.2.0",
            "_model_name": "LayoutModel",
            "_view_count": null,
            "_view_module": "@jupyter-widgets/base",
            "_view_module_version": "1.2.0",
            "_view_name": "LayoutView",
            "align_content": null,
            "align_items": null,
            "align_self": null,
            "border": null,
            "bottom": null,
            "display": null,
            "flex": null,
            "flex_flow": null,
            "grid_area": null,
            "grid_auto_columns": null,
            "grid_auto_flow": null,
            "grid_auto_rows": null,
            "grid_column": null,
            "grid_gap": null,
            "grid_row": null,
            "grid_template_areas": null,
            "grid_template_columns": null,
            "grid_template_rows": null,
            "height": null,
            "justify_content": null,
            "justify_items": null,
            "left": null,
            "margin": null,
            "max_height": null,
            "max_width": null,
            "min_height": null,
            "min_width": null,
            "object_fit": null,
            "object_position": null,
            "order": null,
            "overflow": null,
            "overflow_x": null,
            "overflow_y": null,
            "padding": null,
            "right": null,
            "top": null,
            "visibility": null,
            "width": null
          }
        },
        "b01c1e485f6e4236ae5d308bbcc9cfc1": {
          "model_module": "@jupyter-widgets/controls",
          "model_module_version": "1.5.0",
          "model_name": "HTMLModel",
          "state": {
            "_dom_classes": [],
            "_model_module": "@jupyter-widgets/controls",
            "_model_module_version": "1.5.0",
            "_model_name": "HTMLModel",
            "_view_count": null,
            "_view_module": "@jupyter-widgets/controls",
            "_view_module_version": "1.5.0",
            "_view_name": "HTMLView",
            "description": "",
            "description_tooltip": null,
            "layout": "IPY_MODEL_51a3d240279d43febfc5e7591dc07b60",
            "placeholder": "​",
            "style": "IPY_MODEL_f86d4a185b254a63961d21066d0fd2d1",
            "value": "Resolving data files: 100%"
          }
        },
        "b091fb8f5338416eb9cb56cef555d46e": {
          "model_module": "@jupyter-widgets/controls",
          "model_module_version": "1.5.0",
          "model_name": "DescriptionStyleModel",
          "state": {
            "_model_module": "@jupyter-widgets/controls",
            "_model_module_version": "1.5.0",
            "_model_name": "DescriptionStyleModel",
            "_view_count": null,
            "_view_module": "@jupyter-widgets/base",
            "_view_module_version": "1.2.0",
            "_view_name": "StyleView",
            "description_width": ""
          }
        },
        "bbb1e40d38c544f890f798161eaa6639": {
          "model_module": "@jupyter-widgets/controls",
          "model_module_version": "1.5.0",
          "model_name": "DescriptionStyleModel",
          "state": {
            "_model_module": "@jupyter-widgets/controls",
            "_model_module_version": "1.5.0",
            "_model_name": "DescriptionStyleModel",
            "_view_count": null,
            "_view_module": "@jupyter-widgets/base",
            "_view_module_version": "1.2.0",
            "_view_name": "StyleView",
            "description_width": ""
          }
        },
        "c252f0f0e5f0485d9df44e5201fb350f": {
          "model_module": "@jupyter-widgets/controls",
          "model_module_version": "1.5.0",
          "model_name": "HTMLModel",
          "state": {
            "_dom_classes": [],
            "_model_module": "@jupyter-widgets/controls",
            "_model_module_version": "1.5.0",
            "_model_name": "HTMLModel",
            "_view_count": null,
            "_view_module": "@jupyter-widgets/controls",
            "_view_module_version": "1.5.0",
            "_view_name": "HTMLView",
            "description": "",
            "description_tooltip": null,
            "layout": "IPY_MODEL_77ae711454cc411da484f23c85b6a49e",
            "placeholder": "​",
            "style": "IPY_MODEL_16ae4fb4c21b4257840c5456424119cd",
            "value": "<center> <img\nsrc=https://huggingface.co/front/assets/huggingface_logo-noborder.svg\nalt='Hugging Face'> <br> Copy a token from <a\nhref=\"https://huggingface.co/settings/tokens\" target=\"_blank\">your Hugging Face\ntokens page</a> and paste it below. <br> Immediately click login after copying\nyour token or it might be stored in plain text in this notebook file. </center>"
          }
        },
        "c3f4e67d34fe41e98034e42b7221bb63": {
          "model_module": "@jupyter-widgets/base",
          "model_module_version": "1.2.0",
          "model_name": "LayoutModel",
          "state": {
            "_model_module": "@jupyter-widgets/base",
            "_model_module_version": "1.2.0",
            "_model_name": "LayoutModel",
            "_view_count": null,
            "_view_module": "@jupyter-widgets/base",
            "_view_module_version": "1.2.0",
            "_view_name": "LayoutView",
            "align_content": null,
            "align_items": null,
            "align_self": null,
            "border": null,
            "bottom": null,
            "display": null,
            "flex": null,
            "flex_flow": null,
            "grid_area": null,
            "grid_auto_columns": null,
            "grid_auto_flow": null,
            "grid_auto_rows": null,
            "grid_column": null,
            "grid_gap": null,
            "grid_row": null,
            "grid_template_areas": null,
            "grid_template_columns": null,
            "grid_template_rows": null,
            "height": null,
            "justify_content": null,
            "justify_items": null,
            "left": null,
            "margin": null,
            "max_height": null,
            "max_width": null,
            "min_height": null,
            "min_width": null,
            "object_fit": null,
            "object_position": null,
            "order": null,
            "overflow": null,
            "overflow_x": null,
            "overflow_y": null,
            "padding": null,
            "right": null,
            "top": null,
            "visibility": null,
            "width": null
          }
        },
        "c73119825cd4490d9cdda815d9932c19": {
          "model_module": "@jupyter-widgets/controls",
          "model_module_version": "1.5.0",
          "model_name": "ProgressStyleModel",
          "state": {
            "_model_module": "@jupyter-widgets/controls",
            "_model_module_version": "1.5.0",
            "_model_name": "ProgressStyleModel",
            "_view_count": null,
            "_view_module": "@jupyter-widgets/base",
            "_view_module_version": "1.2.0",
            "_view_name": "StyleView",
            "bar_color": null,
            "description_width": ""
          }
        },
        "c73cd7c5bfdc45cbb69c5eaab0e5b53f": {
          "model_module": "@jupyter-widgets/base",
          "model_module_version": "1.2.0",
          "model_name": "LayoutModel",
          "state": {
            "_model_module": "@jupyter-widgets/base",
            "_model_module_version": "1.2.0",
            "_model_name": "LayoutModel",
            "_view_count": null,
            "_view_module": "@jupyter-widgets/base",
            "_view_module_version": "1.2.0",
            "_view_name": "LayoutView",
            "align_content": null,
            "align_items": null,
            "align_self": null,
            "border": null,
            "bottom": null,
            "display": null,
            "flex": null,
            "flex_flow": null,
            "grid_area": null,
            "grid_auto_columns": null,
            "grid_auto_flow": null,
            "grid_auto_rows": null,
            "grid_column": null,
            "grid_gap": null,
            "grid_row": null,
            "grid_template_areas": null,
            "grid_template_columns": null,
            "grid_template_rows": null,
            "height": null,
            "justify_content": null,
            "justify_items": null,
            "left": null,
            "margin": null,
            "max_height": null,
            "max_width": null,
            "min_height": null,
            "min_width": null,
            "object_fit": null,
            "object_position": null,
            "order": null,
            "overflow": null,
            "overflow_x": null,
            "overflow_y": null,
            "padding": null,
            "right": null,
            "top": null,
            "visibility": null,
            "width": null
          }
        },
        "cae69a895ed84a4dadfeaffd39749840": {
          "model_module": "@jupyter-widgets/base",
          "model_module_version": "1.2.0",
          "model_name": "LayoutModel",
          "state": {
            "_model_module": "@jupyter-widgets/base",
            "_model_module_version": "1.2.0",
            "_model_name": "LayoutModel",
            "_view_count": null,
            "_view_module": "@jupyter-widgets/base",
            "_view_module_version": "1.2.0",
            "_view_name": "LayoutView",
            "align_content": null,
            "align_items": null,
            "align_self": null,
            "border": null,
            "bottom": null,
            "display": null,
            "flex": null,
            "flex_flow": null,
            "grid_area": null,
            "grid_auto_columns": null,
            "grid_auto_flow": null,
            "grid_auto_rows": null,
            "grid_column": null,
            "grid_gap": null,
            "grid_row": null,
            "grid_template_areas": null,
            "grid_template_columns": null,
            "grid_template_rows": null,
            "height": null,
            "justify_content": null,
            "justify_items": null,
            "left": null,
            "margin": null,
            "max_height": null,
            "max_width": null,
            "min_height": null,
            "min_width": null,
            "object_fit": null,
            "object_position": null,
            "order": null,
            "overflow": null,
            "overflow_x": null,
            "overflow_y": null,
            "padding": null,
            "right": null,
            "top": null,
            "visibility": null,
            "width": null
          }
        },
        "d20e95dba6154ea58d55843b3cf88f11": {
          "model_module": "@jupyter-widgets/controls",
          "model_module_version": "1.5.0",
          "model_name": "ProgressStyleModel",
          "state": {
            "_model_module": "@jupyter-widgets/controls",
            "_model_module_version": "1.5.0",
            "_model_name": "ProgressStyleModel",
            "_view_count": null,
            "_view_module": "@jupyter-widgets/base",
            "_view_module_version": "1.2.0",
            "_view_name": "StyleView",
            "bar_color": null,
            "description_width": ""
          }
        },
        "d601023ad63d4994991b126dc04f29df": {
          "model_module": "@jupyter-widgets/controls",
          "model_module_version": "1.5.0",
          "model_name": "ButtonStyleModel",
          "state": {
            "_model_module": "@jupyter-widgets/controls",
            "_model_module_version": "1.5.0",
            "_model_name": "ButtonStyleModel",
            "_view_count": null,
            "_view_module": "@jupyter-widgets/base",
            "_view_module_version": "1.2.0",
            "_view_name": "StyleView",
            "button_color": null,
            "font_weight": ""
          }
        },
        "d810c04d30854befaaa27aa3aa4ab79e": {
          "model_module": "@jupyter-widgets/controls",
          "model_module_version": "1.5.0",
          "model_name": "ProgressStyleModel",
          "state": {
            "_model_module": "@jupyter-widgets/controls",
            "_model_module_version": "1.5.0",
            "_model_name": "ProgressStyleModel",
            "_view_count": null,
            "_view_module": "@jupyter-widgets/base",
            "_view_module_version": "1.2.0",
            "_view_name": "StyleView",
            "bar_color": null,
            "description_width": ""
          }
        },
        "e4268727e57347d9844427fcc2bf075e": {
          "model_module": "@jupyter-widgets/base",
          "model_module_version": "1.2.0",
          "model_name": "LayoutModel",
          "state": {
            "_model_module": "@jupyter-widgets/base",
            "_model_module_version": "1.2.0",
            "_model_name": "LayoutModel",
            "_view_count": null,
            "_view_module": "@jupyter-widgets/base",
            "_view_module_version": "1.2.0",
            "_view_name": "LayoutView",
            "align_content": null,
            "align_items": null,
            "align_self": null,
            "border": null,
            "bottom": null,
            "display": null,
            "flex": null,
            "flex_flow": null,
            "grid_area": null,
            "grid_auto_columns": null,
            "grid_auto_flow": null,
            "grid_auto_rows": null,
            "grid_column": null,
            "grid_gap": null,
            "grid_row": null,
            "grid_template_areas": null,
            "grid_template_columns": null,
            "grid_template_rows": null,
            "height": null,
            "justify_content": null,
            "justify_items": null,
            "left": null,
            "margin": null,
            "max_height": null,
            "max_width": null,
            "min_height": null,
            "min_width": null,
            "object_fit": null,
            "object_position": null,
            "order": null,
            "overflow": null,
            "overflow_x": null,
            "overflow_y": null,
            "padding": null,
            "right": null,
            "top": null,
            "visibility": null,
            "width": null
          }
        },
        "e7085e1fd96f4748bcb0fc4d1ee89586": {
          "model_module": "@jupyter-widgets/base",
          "model_module_version": "1.2.0",
          "model_name": "LayoutModel",
          "state": {
            "_model_module": "@jupyter-widgets/base",
            "_model_module_version": "1.2.0",
            "_model_name": "LayoutModel",
            "_view_count": null,
            "_view_module": "@jupyter-widgets/base",
            "_view_module_version": "1.2.0",
            "_view_name": "LayoutView",
            "align_content": null,
            "align_items": null,
            "align_self": null,
            "border": null,
            "bottom": null,
            "display": null,
            "flex": null,
            "flex_flow": null,
            "grid_area": null,
            "grid_auto_columns": null,
            "grid_auto_flow": null,
            "grid_auto_rows": null,
            "grid_column": null,
            "grid_gap": null,
            "grid_row": null,
            "grid_template_areas": null,
            "grid_template_columns": null,
            "grid_template_rows": null,
            "height": null,
            "justify_content": null,
            "justify_items": null,
            "left": null,
            "margin": null,
            "max_height": null,
            "max_width": null,
            "min_height": null,
            "min_width": null,
            "object_fit": null,
            "object_position": null,
            "order": null,
            "overflow": null,
            "overflow_x": null,
            "overflow_y": null,
            "padding": null,
            "right": null,
            "top": null,
            "visibility": null,
            "width": null
          }
        },
        "f602c46cdb174fb799b012127d10193a": {
          "model_module": "@jupyter-widgets/controls",
          "model_module_version": "1.5.0",
          "model_name": "HTMLModel",
          "state": {
            "_dom_classes": [],
            "_model_module": "@jupyter-widgets/controls",
            "_model_module_version": "1.5.0",
            "_model_name": "HTMLModel",
            "_view_count": null,
            "_view_module": "@jupyter-widgets/controls",
            "_view_module_version": "1.5.0",
            "_view_name": "HTMLView",
            "description": "",
            "description_tooltip": null,
            "layout": "IPY_MODEL_456b39f4ec9943cbac8f91052abe1f5a",
            "placeholder": "​",
            "style": "IPY_MODEL_2fd1c47d065448e293aee7c116351eb8",
            "value": "events.out.tfevents.1707675595.fd75205e2bee.1951.5: 100%"
          }
        },
        "f65e1cafb2dc4023bce4b70afefc8e50": {
          "model_module": "@jupyter-widgets/base",
          "model_module_version": "1.2.0",
          "model_name": "LayoutModel",
          "state": {
            "_model_module": "@jupyter-widgets/base",
            "_model_module_version": "1.2.0",
            "_model_name": "LayoutModel",
            "_view_count": null,
            "_view_module": "@jupyter-widgets/base",
            "_view_module_version": "1.2.0",
            "_view_name": "LayoutView",
            "align_content": null,
            "align_items": null,
            "align_self": null,
            "border": null,
            "bottom": null,
            "display": null,
            "flex": null,
            "flex_flow": null,
            "grid_area": null,
            "grid_auto_columns": null,
            "grid_auto_flow": null,
            "grid_auto_rows": null,
            "grid_column": null,
            "grid_gap": null,
            "grid_row": null,
            "grid_template_areas": null,
            "grid_template_columns": null,
            "grid_template_rows": null,
            "height": null,
            "justify_content": null,
            "justify_items": null,
            "left": null,
            "margin": null,
            "max_height": null,
            "max_width": null,
            "min_height": null,
            "min_width": null,
            "object_fit": null,
            "object_position": null,
            "order": null,
            "overflow": null,
            "overflow_x": null,
            "overflow_y": null,
            "padding": null,
            "right": null,
            "top": null,
            "visibility": null,
            "width": null
          }
        },
        "f86d4a185b254a63961d21066d0fd2d1": {
          "model_module": "@jupyter-widgets/controls",
          "model_module_version": "1.5.0",
          "model_name": "DescriptionStyleModel",
          "state": {
            "_model_module": "@jupyter-widgets/controls",
            "_model_module_version": "1.5.0",
            "_model_name": "DescriptionStyleModel",
            "_view_count": null,
            "_view_module": "@jupyter-widgets/base",
            "_view_module_version": "1.2.0",
            "_view_name": "StyleView",
            "description_width": ""
          }
        },
        "f8da74453a9e47699101996d62be1b25": {
          "model_module": "@jupyter-widgets/controls",
          "model_module_version": "1.5.0",
          "model_name": "VBoxModel",
          "state": {
            "_dom_classes": [],
            "_model_module": "@jupyter-widgets/controls",
            "_model_module_version": "1.5.0",
            "_model_name": "VBoxModel",
            "_view_count": null,
            "_view_module": "@jupyter-widgets/controls",
            "_view_module_version": "1.5.0",
            "_view_name": "VBoxView",
            "box_style": "",
            "children": [
              "IPY_MODEL_c252f0f0e5f0485d9df44e5201fb350f",
              "IPY_MODEL_8742adeff18e4b2cb571772ea2151af8",
              "IPY_MODEL_16a4a636619448e6b7b48297138667cc",
              "IPY_MODEL_8d9bdc991da14fcca8974bb96ba32722",
              "IPY_MODEL_7eede0a4ed174c48bbdf7953f8b9deae"
            ],
            "layout": "IPY_MODEL_6e534f59eb61413ea5d498b90a2655e2"
          }
        },
        "fc2a755ab9574d72bbe8f012e2bd1807": {
          "model_module": "@jupyter-widgets/controls",
          "model_module_version": "1.5.0",
          "model_name": "HBoxModel",
          "state": {
            "_dom_classes": [],
            "_model_module": "@jupyter-widgets/controls",
            "_model_module_version": "1.5.0",
            "_model_name": "HBoxModel",
            "_view_count": null,
            "_view_module": "@jupyter-widgets/controls",
            "_view_module_version": "1.5.0",
            "_view_name": "HBoxView",
            "box_style": "",
            "children": [
              "IPY_MODEL_f602c46cdb174fb799b012127d10193a",
              "IPY_MODEL_067d4d34af5645efabd275f4b64b0576",
              "IPY_MODEL_89a8ca1cbe964820978b8d0fa108fd97"
            ],
            "layout": "IPY_MODEL_86d3ed73473c445bab463e4794d1373d"
          }
        },
        "fdb8131ffa3a431aa7338574dfb8f94a": {
          "model_module": "@jupyter-widgets/base",
          "model_module_version": "1.2.0",
          "model_name": "LayoutModel",
          "state": {
            "_model_module": "@jupyter-widgets/base",
            "_model_module_version": "1.2.0",
            "_model_name": "LayoutModel",
            "_view_count": null,
            "_view_module": "@jupyter-widgets/base",
            "_view_module_version": "1.2.0",
            "_view_name": "LayoutView",
            "align_content": null,
            "align_items": null,
            "align_self": null,
            "border": null,
            "bottom": null,
            "display": null,
            "flex": null,
            "flex_flow": null,
            "grid_area": null,
            "grid_auto_columns": null,
            "grid_auto_flow": null,
            "grid_auto_rows": null,
            "grid_column": null,
            "grid_gap": null,
            "grid_row": null,
            "grid_template_areas": null,
            "grid_template_columns": null,
            "grid_template_rows": null,
            "height": null,
            "justify_content": null,
            "justify_items": null,
            "left": null,
            "margin": null,
            "max_height": null,
            "max_width": null,
            "min_height": null,
            "min_width": null,
            "object_fit": null,
            "object_position": null,
            "order": null,
            "overflow": null,
            "overflow_x": null,
            "overflow_y": null,
            "padding": null,
            "right": null,
            "top": null,
            "visibility": null,
            "width": null
          }
        }
      }
    }
  },
  "nbformat": 4,
  "nbformat_minor": 0
}
