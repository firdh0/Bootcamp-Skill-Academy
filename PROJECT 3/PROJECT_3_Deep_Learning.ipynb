{
  "cells": [
    {
      "cell_type": "markdown",
      "metadata": {
        "id": "3wAdgw0hXaCs"
      },
      "source": [
        "**Instructions for Students:**\n",
        "\n",
        "Please carefully follow these steps to complete and submit your project:\n",
        "\n",
        "1. **Completing the Project**: You are required to work on and complete all tasks in the provided project. Be disciplined and ensure that you thoroughly engage with each task.\n",
        "   \n",
        "2. **Set up a Google Drive Folder**: Each of you must store your work in folder on your Google Drive. Create a new folder if you haven't already. This will be the repository for all your completed project files, aiding you in keeping your work organized and accessible.\n",
        "   \n",
        "3. **Uploading Completed Project**: Upon completion of your project, make sure to upload all necessary files, involving codes, reports, and related documents into the Google Drive folder. Save this link in the 'Student Identity' section and also provide it as the last parameter in the `submit` function that has been provided.\n",
        "   \n",
        "4. **Sharing Folder Link**: You're required to share the link to your project Google Drive folder. This is crucial for the submission and evaluation of your project.\n",
        "   \n",
        "5. **Setting Permission toPublic**: Please make sure your Google Drive folder is set to public. This allows your instructor to access your solutions and assess your work correctly.\n",
        "\n",
        "Adhering to these procedures will facilitate a smooth project process for you and the reviewers."
      ]
    },
    {
      "cell_type": "markdown",
      "metadata": {
        "id": "jtAixAL3XaCz"
      },
      "source": [
        "## Import package"
      ]
    },
    {
      "cell_type": "code",
      "execution_count": null,
      "metadata": {
        "colab": {
          "base_uri": "https://localhost:8080/"
        },
        "id": "NAxv2pZqXaCz",
        "outputId": "33ea4316-815c-4139-94e4-47e7ce68ca68"
      },
      "outputs": [
        {
          "name": "stdout",
          "output_type": "stream",
          "text": [
            "Collecting fastbook\n",
            "  Downloading fastbook-0.0.29-py3-none-any.whl (719 kB)\n",
            "\u001b[?25l     \u001b[90m━━━━━━━━━━━━━━━━━━━━━━━━━━━━━━━━━━━━━━━━\u001b[0m \u001b[32m0.0/719.8 kB\u001b[0m \u001b[31m?\u001b[0m eta \u001b[36m-:--:--\u001b[0m\r\u001b[2K     \u001b[91m━━━━━━\u001b[0m\u001b[90m╺\u001b[0m\u001b[90m━━━━━━━━━━━━━━━━━━━━━━━━━━━━━━━━━\u001b[0m \u001b[32m112.6/719.8 kB\u001b[0m \u001b[31m3.1 MB/s\u001b[0m eta \u001b[36m0:00:01\u001b[0m\r\u001b[2K     \u001b[91m━━━━━━━━━━━━━━━━━━━━━━━\u001b[0m\u001b[91m╸\u001b[0m\u001b[90m━━━━━━━━━━━━━━━━\u001b[0m \u001b[32m430.1/719.8 kB\u001b[0m \u001b[31m6.0 MB/s\u001b[0m eta \u001b[36m0:00:01\u001b[0m\r\u001b[2K     \u001b[91m━━━━━━━━━━━━━━━━━━━━━━━━━━━━━━━━━━━━━━━\u001b[0m\u001b[91m╸\u001b[0m \u001b[32m716.8/719.8 kB\u001b[0m \u001b[31m7.1 MB/s\u001b[0m eta \u001b[36m0:00:01\u001b[0m\r\u001b[2K     \u001b[90m━━━━━━━━━━━━━━━━━━━━━━━━━━━━━━━━━━━━━━━━\u001b[0m \u001b[32m719.8/719.8 kB\u001b[0m \u001b[31m6.3 MB/s\u001b[0m eta \u001b[36m0:00:00\u001b[0m\n",
            "\u001b[?25hRequirement already satisfied: pip in /usr/local/lib/python3.10/dist-packages (from fastbook) (23.1.2)\n",
            "Requirement already satisfied: packaging in /usr/local/lib/python3.10/dist-packages (from fastbook) (23.2)\n",
            "Requirement already satisfied: fastai>=2.6 in /usr/local/lib/python3.10/dist-packages (from fastbook) (2.7.13)\n",
            "Requirement already satisfied: graphviz in /usr/local/lib/python3.10/dist-packages (from fastbook) (0.20.1)\n",
            "Requirement already satisfied: pandas in /usr/local/lib/python3.10/dist-packages (from fastbook) (1.5.3)\n",
            "Requirement already satisfied: requests in /usr/local/lib/python3.10/dist-packages (from fastbook) (2.31.0)\n",
            "Requirement already satisfied: transformers in /usr/local/lib/python3.10/dist-packages (from fastbook) (4.35.2)\n",
            "Collecting datasets (from fastbook)\n",
            "  Downloading datasets-2.16.1-py3-none-any.whl (507 kB)\n",
            "\u001b[2K     \u001b[90m━━━━━━━━━━━━━━━━━━━━━━━━━━━━━━━━━━━━━━━━\u001b[0m \u001b[32m507.1/507.1 kB\u001b[0m \u001b[31m9.5 MB/s\u001b[0m eta \u001b[36m0:00:00\u001b[0m\n",
            "\u001b[?25hRequirement already satisfied: ipywidgets<8 in /usr/local/lib/python3.10/dist-packages (from fastbook) (7.7.1)\n",
            "Requirement already satisfied: sentencepiece in /usr/local/lib/python3.10/dist-packages (from fastbook) (0.1.99)\n",
            "Requirement already satisfied: fastdownload<2,>=0.0.5 in /usr/local/lib/python3.10/dist-packages (from fastai>=2.6->fastbook) (0.0.7)\n",
            "Requirement already satisfied: fastcore<1.6,>=1.5.29 in /usr/local/lib/python3.10/dist-packages (from fastai>=2.6->fastbook) (1.5.29)\n",
            "Requirement already satisfied: torchvision>=0.11 in /usr/local/lib/python3.10/dist-packages (from fastai>=2.6->fastbook) (0.16.0+cu121)\n",
            "Requirement already satisfied: matplotlib in /usr/local/lib/python3.10/dist-packages (from fastai>=2.6->fastbook) (3.7.1)\n",
            "Requirement already satisfied: pyyaml in /usr/local/lib/python3.10/dist-packages (from fastai>=2.6->fastbook) (6.0.1)\n",
            "Requirement already satisfied: fastprogress>=0.2.4 in /usr/local/lib/python3.10/dist-packages (from fastai>=2.6->fastbook) (1.0.3)\n",
            "Requirement already satisfied: pillow>=9.0.0 in /usr/local/lib/python3.10/dist-packages (from fastai>=2.6->fastbook) (9.4.0)\n",
            "Requirement already satisfied: scikit-learn in /usr/local/lib/python3.10/dist-packages (from fastai>=2.6->fastbook) (1.2.2)\n",
            "Requirement already satisfied: scipy in /usr/local/lib/python3.10/dist-packages (from fastai>=2.6->fastbook) (1.11.4)\n",
            "Requirement already satisfied: spacy<4 in /usr/local/lib/python3.10/dist-packages (from fastai>=2.6->fastbook) (3.6.1)\n",
            "Requirement already satisfied: torch<2.2,>=1.10 in /usr/local/lib/python3.10/dist-packages (from fastai>=2.6->fastbook) (2.1.0+cu121)\n",
            "Requirement already satisfied: ipykernel>=4.5.1 in /usr/local/lib/python3.10/dist-packages (from ipywidgets<8->fastbook) (5.5.6)\n",
            "Requirement already satisfied: ipython-genutils~=0.2.0 in /usr/local/lib/python3.10/dist-packages (from ipywidgets<8->fastbook) (0.2.0)\n",
            "Requirement already satisfied: traitlets>=4.3.1 in /usr/local/lib/python3.10/dist-packages (from ipywidgets<8->fastbook) (5.7.1)\n",
            "Requirement already satisfied: widgetsnbextension~=3.6.0 in /usr/local/lib/python3.10/dist-packages (from ipywidgets<8->fastbook) (3.6.6)\n",
            "Requirement already satisfied: ipython>=4.0.0 in /usr/local/lib/python3.10/dist-packages (from ipywidgets<8->fastbook) (7.34.0)\n",
            "Requirement already satisfied: jupyterlab-widgets>=1.0.0 in /usr/local/lib/python3.10/dist-packages (from ipywidgets<8->fastbook) (3.0.9)\n",
            "Requirement already satisfied: filelock in /usr/local/lib/python3.10/dist-packages (from datasets->fastbook) (3.13.1)\n",
            "Requirement already satisfied: numpy>=1.17 in /usr/local/lib/python3.10/dist-packages (from datasets->fastbook) (1.23.5)\n",
            "Requirement already satisfied: pyarrow>=8.0.0 in /usr/local/lib/python3.10/dist-packages (from datasets->fastbook) (10.0.1)\n",
            "Requirement already satisfied: pyarrow-hotfix in /usr/local/lib/python3.10/dist-packages (from datasets->fastbook) (0.6)\n",
            "Collecting dill<0.3.8,>=0.3.0 (from datasets->fastbook)\n",
            "  Downloading dill-0.3.7-py3-none-any.whl (115 kB)\n",
            "\u001b[2K     \u001b[90m━━━━━━━━━━━━━━━━━━━━━━━━━━━━━━━━━━━━━━━━\u001b[0m \u001b[32m115.3/115.3 kB\u001b[0m \u001b[31m11.8 MB/s\u001b[0m eta \u001b[36m0:00:00\u001b[0m\n",
            "\u001b[?25hRequirement already satisfied: tqdm>=4.62.1 in /usr/local/lib/python3.10/dist-packages (from datasets->fastbook) (4.66.1)\n",
            "Requirement already satisfied: xxhash in /usr/local/lib/python3.10/dist-packages (from datasets->fastbook) (3.4.1)\n",
            "Collecting multiprocess (from datasets->fastbook)\n",
            "  Downloading multiprocess-0.70.16-py310-none-any.whl (134 kB)\n",
            "\u001b[2K     \u001b[90m━━━━━━━━━━━━━━━━━━━━━━━━━━━━━━━━━━━━━━━━\u001b[0m \u001b[32m134.8/134.8 kB\u001b[0m \u001b[31m11.8 MB/s\u001b[0m eta \u001b[36m0:00:00\u001b[0m\n",
            "\u001b[?25hRequirement already satisfied: fsspec[http]<=2023.10.0,>=2023.1.0 in /usr/local/lib/python3.10/dist-packages (from datasets->fastbook) (2023.6.0)\n",
            "Requirement already satisfied: aiohttp in /usr/local/lib/python3.10/dist-packages (from datasets->fastbook) (3.9.3)\n",
            "Requirement already satisfied: huggingface-hub>=0.19.4 in /usr/local/lib/python3.10/dist-packages (from datasets->fastbook) (0.20.3)\n",
            "Requirement already satisfied: charset-normalizer<4,>=2 in /usr/local/lib/python3.10/dist-packages (from requests->fastbook) (3.3.2)\n",
            "Requirement already satisfied: idna<4,>=2.5 in /usr/local/lib/python3.10/dist-packages (from requests->fastbook) (3.6)\n",
            "Requirement already satisfied: urllib3<3,>=1.21.1 in /usr/local/lib/python3.10/dist-packages (from requests->fastbook) (2.0.7)\n",
            "Requirement already satisfied: certifi>=2017.4.17 in /usr/local/lib/python3.10/dist-packages (from requests->fastbook) (2023.11.17)\n",
            "Requirement already satisfied: python-dateutil>=2.8.1 in /usr/local/lib/python3.10/dist-packages (from pandas->fastbook) (2.8.2)\n",
            "Requirement already satisfied: pytz>=2020.1 in /usr/local/lib/python3.10/dist-packages (from pandas->fastbook) (2023.4)\n",
            "Requirement already satisfied: regex!=2019.12.17 in /usr/local/lib/python3.10/dist-packages (from transformers->fastbook) (2023.6.3)\n",
            "Requirement already satisfied: tokenizers<0.19,>=0.14 in /usr/local/lib/python3.10/dist-packages (from transformers->fastbook) (0.15.1)\n",
            "Requirement already satisfied: safetensors>=0.3.1 in /usr/local/lib/python3.10/dist-packages (from transformers->fastbook) (0.4.2)\n",
            "Requirement already satisfied: aiosignal>=1.1.2 in /usr/local/lib/python3.10/dist-packages (from aiohttp->datasets->fastbook) (1.3.1)\n",
            "Requirement already satisfied: attrs>=17.3.0 in /usr/local/lib/python3.10/dist-packages (from aiohttp->datasets->fastbook) (23.2.0)\n",
            "Requirement already satisfied: frozenlist>=1.1.1 in /usr/local/lib/python3.10/dist-packages (from aiohttp->datasets->fastbook) (1.4.1)\n",
            "Requirement already satisfied: multidict<7.0,>=4.5 in /usr/local/lib/python3.10/dist-packages (from aiohttp->datasets->fastbook) (6.0.4)\n",
            "Requirement already satisfied: yarl<2.0,>=1.0 in /usr/local/lib/python3.10/dist-packages (from aiohttp->datasets->fastbook) (1.9.4)\n",
            "Requirement already satisfied: async-timeout<5.0,>=4.0 in /usr/local/lib/python3.10/dist-packages (from aiohttp->datasets->fastbook) (4.0.3)\n",
            "Requirement already satisfied: typing-extensions>=3.7.4.3 in /usr/local/lib/python3.10/dist-packages (from huggingface-hub>=0.19.4->datasets->fastbook) (4.5.0)\n",
            "Requirement already satisfied: jupyter-client in /usr/local/lib/python3.10/dist-packages (from ipykernel>=4.5.1->ipywidgets<8->fastbook) (6.1.12)\n",
            "Requirement already satisfied: tornado>=4.2 in /usr/local/lib/python3.10/dist-packages (from ipykernel>=4.5.1->ipywidgets<8->fastbook) (6.3.2)\n",
            "Requirement already satisfied: setuptools>=18.5 in /usr/local/lib/python3.10/dist-packages (from ipython>=4.0.0->ipywidgets<8->fastbook) (67.7.2)\n",
            "Collecting jedi>=0.16 (from ipython>=4.0.0->ipywidgets<8->fastbook)\n",
            "  Downloading jedi-0.19.1-py2.py3-none-any.whl (1.6 MB)\n",
            "\u001b[2K     \u001b[90m━━━━━━━━━━━━━━━━━━━━━━━━━━━━━━━━━━━━━━━━\u001b[0m \u001b[32m1.6/1.6 MB\u001b[0m \u001b[31m12.4 MB/s\u001b[0m eta \u001b[36m0:00:00\u001b[0m\n",
            "\u001b[?25hRequirement already satisfied: decorator in /usr/local/lib/python3.10/dist-packages (from ipython>=4.0.0->ipywidgets<8->fastbook) (4.4.2)\n",
            "Requirement already satisfied: pickleshare in /usr/local/lib/python3.10/dist-packages (from ipython>=4.0.0->ipywidgets<8->fastbook) (0.7.5)\n",
            "Requirement already satisfied: prompt-toolkit!=3.0.0,!=3.0.1,<3.1.0,>=2.0.0 in /usr/local/lib/python3.10/dist-packages (from ipython>=4.0.0->ipywidgets<8->fastbook) (3.0.43)\n",
            "Requirement already satisfied: pygments in /usr/local/lib/python3.10/dist-packages (from ipython>=4.0.0->ipywidgets<8->fastbook) (2.16.1)\n",
            "Requirement already satisfied: backcall in /usr/local/lib/python3.10/dist-packages (from ipython>=4.0.0->ipywidgets<8->fastbook) (0.2.0)\n",
            "Requirement already satisfied: matplotlib-inline in /usr/local/lib/python3.10/dist-packages (from ipython>=4.0.0->ipywidgets<8->fastbook) (0.1.6)\n",
            "Requirement already satisfied: pexpect>4.3 in /usr/local/lib/python3.10/dist-packages (from ipython>=4.0.0->ipywidgets<8->fastbook) (4.9.0)\n",
            "Requirement already satisfied: six>=1.5 in /usr/local/lib/python3.10/dist-packages (from python-dateutil>=2.8.1->pandas->fastbook) (1.16.0)\n",
            "Requirement already satisfied: spacy-legacy<3.1.0,>=3.0.11 in /usr/local/lib/python3.10/dist-packages (from spacy<4->fastai>=2.6->fastbook) (3.0.12)\n",
            "Requirement already satisfied: spacy-loggers<2.0.0,>=1.0.0 in /usr/local/lib/python3.10/dist-packages (from spacy<4->fastai>=2.6->fastbook) (1.0.5)\n",
            "Requirement already satisfied: murmurhash<1.1.0,>=0.28.0 in /usr/local/lib/python3.10/dist-packages (from spacy<4->fastai>=2.6->fastbook) (1.0.10)\n",
            "Requirement already satisfied: cymem<2.1.0,>=2.0.2 in /usr/local/lib/python3.10/dist-packages (from spacy<4->fastai>=2.6->fastbook) (2.0.8)\n",
            "Requirement already satisfied: preshed<3.1.0,>=3.0.2 in /usr/local/lib/python3.10/dist-packages (from spacy<4->fastai>=2.6->fastbook) (3.0.9)\n",
            "Requirement already satisfied: thinc<8.2.0,>=8.1.8 in /usr/local/lib/python3.10/dist-packages (from spacy<4->fastai>=2.6->fastbook) (8.1.12)\n",
            "Requirement already satisfied: wasabi<1.2.0,>=0.9.1 in /usr/local/lib/python3.10/dist-packages (from spacy<4->fastai>=2.6->fastbook) (1.1.2)\n",
            "Requirement already satisfied: srsly<3.0.0,>=2.4.3 in /usr/local/lib/python3.10/dist-packages (from spacy<4->fastai>=2.6->fastbook) (2.4.8)\n",
            "Requirement already satisfied: catalogue<2.1.0,>=2.0.6 in /usr/local/lib/python3.10/dist-packages (from spacy<4->fastai>=2.6->fastbook) (2.0.10)\n",
            "Requirement already satisfied: typer<0.10.0,>=0.3.0 in /usr/local/lib/python3.10/dist-packages (from spacy<4->fastai>=2.6->fastbook) (0.9.0)\n",
            "Requirement already satisfied: pathy>=0.10.0 in /usr/local/lib/python3.10/dist-packages (from spacy<4->fastai>=2.6->fastbook) (0.11.0)\n",
            "Requirement already satisfied: smart-open<7.0.0,>=5.2.1 in /usr/local/lib/python3.10/dist-packages (from spacy<4->fastai>=2.6->fastbook) (6.4.0)\n",
            "Requirement already satisfied: pydantic!=1.8,!=1.8.1,<3.0.0,>=1.7.4 in /usr/local/lib/python3.10/dist-packages (from spacy<4->fastai>=2.6->fastbook) (1.10.14)\n",
            "Requirement already satisfied: jinja2 in /usr/local/lib/python3.10/dist-packages (from spacy<4->fastai>=2.6->fastbook) (3.1.3)\n",
            "Requirement already satisfied: langcodes<4.0.0,>=3.2.0 in /usr/local/lib/python3.10/dist-packages (from spacy<4->fastai>=2.6->fastbook) (3.3.0)\n",
            "Requirement already satisfied: sympy in /usr/local/lib/python3.10/dist-packages (from torch<2.2,>=1.10->fastai>=2.6->fastbook) (1.12)\n",
            "Requirement already satisfied: networkx in /usr/local/lib/python3.10/dist-packages (from torch<2.2,>=1.10->fastai>=2.6->fastbook) (3.2.1)\n",
            "Requirement already satisfied: triton==2.1.0 in /usr/local/lib/python3.10/dist-packages (from torch<2.2,>=1.10->fastai>=2.6->fastbook) (2.1.0)\n",
            "Requirement already satisfied: notebook>=4.4.1 in /usr/local/lib/python3.10/dist-packages (from widgetsnbextension~=3.6.0->ipywidgets<8->fastbook) (6.5.5)\n",
            "Requirement already satisfied: contourpy>=1.0.1 in /usr/local/lib/python3.10/dist-packages (from matplotlib->fastai>=2.6->fastbook) (1.2.0)\n",
            "Requirement already satisfied: cycler>=0.10 in /usr/local/lib/python3.10/dist-packages (from matplotlib->fastai>=2.6->fastbook) (0.12.1)\n",
            "Requirement already satisfied: fonttools>=4.22.0 in /usr/local/lib/python3.10/dist-packages (from matplotlib->fastai>=2.6->fastbook) (4.47.2)\n",
            "Requirement already satisfied: kiwisolver>=1.0.1 in /usr/local/lib/python3.10/dist-packages (from matplotlib->fastai>=2.6->fastbook) (1.4.5)\n",
            "Requirement already satisfied: pyparsing>=2.3.1 in /usr/local/lib/python3.10/dist-packages (from matplotlib->fastai>=2.6->fastbook) (3.1.1)\n",
            "INFO: pip is looking at multiple versions of multiprocess to determine which version is compatible with other requirements. This could take a while.\n",
            "Collecting multiprocess (from datasets->fastbook)\n",
            "  Downloading multiprocess-0.70.15-py310-none-any.whl (134 kB)\n",
            "\u001b[2K     \u001b[90m━━━━━━━━━━━━━━━━━━━━━━━━━━━━━━━━━━━━━━━━\u001b[0m \u001b[32m134.8/134.8 kB\u001b[0m \u001b[31m14.3 MB/s\u001b[0m eta \u001b[36m0:00:00\u001b[0m\n",
            "\u001b[?25hRequirement already satisfied: joblib>=1.1.1 in /usr/local/lib/python3.10/dist-packages (from scikit-learn->fastai>=2.6->fastbook) (1.3.2)\n",
            "Requirement already satisfied: threadpoolctl>=2.0.0 in /usr/local/lib/python3.10/dist-packages (from scikit-learn->fastai>=2.6->fastbook) (3.2.0)\n",
            "Requirement already satisfied: parso<0.9.0,>=0.8.3 in /usr/local/lib/python3.10/dist-packages (from jedi>=0.16->ipython>=4.0.0->ipywidgets<8->fastbook) (0.8.3)\n",
            "Requirement already satisfied: pyzmq<25,>=17 in /usr/local/lib/python3.10/dist-packages (from notebook>=4.4.1->widgetsnbextension~=3.6.0->ipywidgets<8->fastbook) (23.2.1)\n",
            "Requirement already satisfied: argon2-cffi in /usr/local/lib/python3.10/dist-packages (from notebook>=4.4.1->widgetsnbextension~=3.6.0->ipywidgets<8->fastbook) (23.1.0)\n",
            "Requirement already satisfied: jupyter-core>=4.6.1 in /usr/local/lib/python3.10/dist-packages (from notebook>=4.4.1->widgetsnbextension~=3.6.0->ipywidgets<8->fastbook) (5.7.1)\n",
            "Requirement already satisfied: nbformat in /usr/local/lib/python3.10/dist-packages (from notebook>=4.4.1->widgetsnbextension~=3.6.0->ipywidgets<8->fastbook) (5.9.2)\n",
            "Requirement already satisfied: nbconvert>=5 in /usr/local/lib/python3.10/dist-packages (from notebook>=4.4.1->widgetsnbextension~=3.6.0->ipywidgets<8->fastbook) (6.5.4)\n",
            "Requirement already satisfied: nest-asyncio>=1.5 in /usr/local/lib/python3.10/dist-packages (from notebook>=4.4.1->widgetsnbextension~=3.6.0->ipywidgets<8->fastbook) (1.6.0)\n",
            "Requirement already satisfied: Send2Trash>=1.8.0 in /usr/local/lib/python3.10/dist-packages (from notebook>=4.4.1->widgetsnbextension~=3.6.0->ipywidgets<8->fastbook) (1.8.2)\n",
            "Requirement already satisfied: terminado>=0.8.3 in /usr/local/lib/python3.10/dist-packages (from notebook>=4.4.1->widgetsnbextension~=3.6.0->ipywidgets<8->fastbook) (0.18.0)\n",
            "Requirement already satisfied: prometheus-client in /usr/local/lib/python3.10/dist-packages (from notebook>=4.4.1->widgetsnbextension~=3.6.0->ipywidgets<8->fastbook) (0.19.0)\n",
            "Requirement already satisfied: nbclassic>=0.4.7 in /usr/local/lib/python3.10/dist-packages (from notebook>=4.4.1->widgetsnbextension~=3.6.0->ipywidgets<8->fastbook) (1.0.0)\n",
            "Requirement already satisfied: pathlib-abc==0.1.1 in /usr/local/lib/python3.10/dist-packages (from pathy>=0.10.0->spacy<4->fastai>=2.6->fastbook) (0.1.1)\n",
            "Requirement already satisfied: ptyprocess>=0.5 in /usr/local/lib/python3.10/dist-packages (from pexpect>4.3->ipython>=4.0.0->ipywidgets<8->fastbook) (0.7.0)\n",
            "Requirement already satisfied: wcwidth in /usr/local/lib/python3.10/dist-packages (from prompt-toolkit!=3.0.0,!=3.0.1,<3.1.0,>=2.0.0->ipython>=4.0.0->ipywidgets<8->fastbook) (0.2.13)\n",
            "Requirement already satisfied: blis<0.8.0,>=0.7.8 in /usr/local/lib/python3.10/dist-packages (from thinc<8.2.0,>=8.1.8->spacy<4->fastai>=2.6->fastbook) (0.7.11)\n",
            "Requirement already satisfied: confection<1.0.0,>=0.0.1 in /usr/local/lib/python3.10/dist-packages (from thinc<8.2.0,>=8.1.8->spacy<4->fastai>=2.6->fastbook) (0.1.4)\n",
            "Requirement already satisfied: click<9.0.0,>=7.1.1 in /usr/local/lib/python3.10/dist-packages (from typer<0.10.0,>=0.3.0->spacy<4->fastai>=2.6->fastbook) (8.1.7)\n",
            "Requirement already satisfied: MarkupSafe>=2.0 in /usr/local/lib/python3.10/dist-packages (from jinja2->spacy<4->fastai>=2.6->fastbook) (2.1.4)\n",
            "Requirement already satisfied: mpmath>=0.19 in /usr/local/lib/python3.10/dist-packages (from sympy->torch<2.2,>=1.10->fastai>=2.6->fastbook) (1.3.0)\n",
            "Requirement already satisfied: platformdirs>=2.5 in /usr/local/lib/python3.10/dist-packages (from jupyter-core>=4.6.1->notebook>=4.4.1->widgetsnbextension~=3.6.0->ipywidgets<8->fastbook) (4.1.0)\n",
            "Requirement already satisfied: jupyter-server>=1.8 in /usr/local/lib/python3.10/dist-packages (from nbclassic>=0.4.7->notebook>=4.4.1->widgetsnbextension~=3.6.0->ipywidgets<8->fastbook) (1.24.0)\n",
            "Requirement already satisfied: notebook-shim>=0.2.3 in /usr/local/lib/python3.10/dist-packages (from nbclassic>=0.4.7->notebook>=4.4.1->widgetsnbextension~=3.6.0->ipywidgets<8->fastbook) (0.2.3)\n",
            "Requirement already satisfied: lxml in /usr/local/lib/python3.10/dist-packages (from nbconvert>=5->notebook>=4.4.1->widgetsnbextension~=3.6.0->ipywidgets<8->fastbook) (4.9.4)\n",
            "Requirement already satisfied: beautifulsoup4 in /usr/local/lib/python3.10/dist-packages (from nbconvert>=5->notebook>=4.4.1->widgetsnbextension~=3.6.0->ipywidgets<8->fastbook) (4.11.2)\n",
            "Requirement already satisfied: bleach in /usr/local/lib/python3.10/dist-packages (from nbconvert>=5->notebook>=4.4.1->widgetsnbextension~=3.6.0->ipywidgets<8->fastbook) (6.1.0)\n",
            "Requirement already satisfied: defusedxml in /usr/local/lib/python3.10/dist-packages (from nbconvert>=5->notebook>=4.4.1->widgetsnbextension~=3.6.0->ipywidgets<8->fastbook) (0.7.1)\n",
            "Requirement already satisfied: entrypoints>=0.2.2 in /usr/local/lib/python3.10/dist-packages (from nbconvert>=5->notebook>=4.4.1->widgetsnbextension~=3.6.0->ipywidgets<8->fastbook) (0.4)\n",
            "Requirement already satisfied: jupyterlab-pygments in /usr/local/lib/python3.10/dist-packages (from nbconvert>=5->notebook>=4.4.1->widgetsnbextension~=3.6.0->ipywidgets<8->fastbook) (0.3.0)\n",
            "Requirement already satisfied: mistune<2,>=0.8.1 in /usr/local/lib/python3.10/dist-packages (from nbconvert>=5->notebook>=4.4.1->widgetsnbextension~=3.6.0->ipywidgets<8->fastbook) (0.8.4)\n",
            "Requirement already satisfied: nbclient>=0.5.0 in /usr/local/lib/python3.10/dist-packages (from nbconvert>=5->notebook>=4.4.1->widgetsnbextension~=3.6.0->ipywidgets<8->fastbook) (0.9.0)\n",
            "Requirement already satisfied: pandocfilters>=1.4.1 in /usr/local/lib/python3.10/dist-packages (from nbconvert>=5->notebook>=4.4.1->widgetsnbextension~=3.6.0->ipywidgets<8->fastbook) (1.5.1)\n",
            "Requirement already satisfied: tinycss2 in /usr/local/lib/python3.10/dist-packages (from nbconvert>=5->notebook>=4.4.1->widgetsnbextension~=3.6.0->ipywidgets<8->fastbook) (1.2.1)\n",
            "Requirement already satisfied: fastjsonschema in /usr/local/lib/python3.10/dist-packages (from nbformat->notebook>=4.4.1->widgetsnbextension~=3.6.0->ipywidgets<8->fastbook) (2.19.1)\n",
            "Requirement already satisfied: jsonschema>=2.6 in /usr/local/lib/python3.10/dist-packages (from nbformat->notebook>=4.4.1->widgetsnbextension~=3.6.0->ipywidgets<8->fastbook) (4.19.2)\n",
            "Requirement already satisfied: argon2-cffi-bindings in /usr/local/lib/python3.10/dist-packages (from argon2-cffi->notebook>=4.4.1->widgetsnbextension~=3.6.0->ipywidgets<8->fastbook) (21.2.0)\n",
            "Requirement already satisfied: jsonschema-specifications>=2023.03.6 in /usr/local/lib/python3.10/dist-packages (from jsonschema>=2.6->nbformat->notebook>=4.4.1->widgetsnbextension~=3.6.0->ipywidgets<8->fastbook) (2023.12.1)\n",
            "Requirement already satisfied: referencing>=0.28.4 in /usr/local/lib/python3.10/dist-packages (from jsonschema>=2.6->nbformat->notebook>=4.4.1->widgetsnbextension~=3.6.0->ipywidgets<8->fastbook) (0.33.0)\n",
            "Requirement already satisfied: rpds-py>=0.7.1 in /usr/local/lib/python3.10/dist-packages (from jsonschema>=2.6->nbformat->notebook>=4.4.1->widgetsnbextension~=3.6.0->ipywidgets<8->fastbook) (0.17.1)\n",
            "Requirement already satisfied: anyio<4,>=3.1.0 in /usr/local/lib/python3.10/dist-packages (from jupyter-server>=1.8->nbclassic>=0.4.7->notebook>=4.4.1->widgetsnbextension~=3.6.0->ipywidgets<8->fastbook) (3.7.1)\n",
            "Requirement already satisfied: websocket-client in /usr/local/lib/python3.10/dist-packages (from jupyter-server>=1.8->nbclassic>=0.4.7->notebook>=4.4.1->widgetsnbextension~=3.6.0->ipywidgets<8->fastbook) (1.7.0)\n",
            "Requirement already satisfied: cffi>=1.0.1 in /usr/local/lib/python3.10/dist-packages (from argon2-cffi-bindings->argon2-cffi->notebook>=4.4.1->widgetsnbextension~=3.6.0->ipywidgets<8->fastbook) (1.16.0)\n",
            "Requirement already satisfied: soupsieve>1.2 in /usr/local/lib/python3.10/dist-packages (from beautifulsoup4->nbconvert>=5->notebook>=4.4.1->widgetsnbextension~=3.6.0->ipywidgets<8->fastbook) (2.5)\n",
            "Requirement already satisfied: webencodings in /usr/local/lib/python3.10/dist-packages (from bleach->nbconvert>=5->notebook>=4.4.1->widgetsnbextension~=3.6.0->ipywidgets<8->fastbook) (0.5.1)\n",
            "Requirement already satisfied: sniffio>=1.1 in /usr/local/lib/python3.10/dist-packages (from anyio<4,>=3.1.0->jupyter-server>=1.8->nbclassic>=0.4.7->notebook>=4.4.1->widgetsnbextension~=3.6.0->ipywidgets<8->fastbook) (1.3.0)\n",
            "Requirement already satisfied: exceptiongroup in /usr/local/lib/python3.10/dist-packages (from anyio<4,>=3.1.0->jupyter-server>=1.8->nbclassic>=0.4.7->notebook>=4.4.1->widgetsnbextension~=3.6.0->ipywidgets<8->fastbook) (1.2.0)\n",
            "Requirement already satisfied: pycparser in /usr/local/lib/python3.10/dist-packages (from cffi>=1.0.1->argon2-cffi-bindings->argon2-cffi->notebook>=4.4.1->widgetsnbextension~=3.6.0->ipywidgets<8->fastbook) (2.21)\n",
            "Installing collected packages: jedi, dill, multiprocess, datasets, fastbook\n",
            "Successfully installed datasets-2.16.1 dill-0.3.7 fastbook-0.0.29 jedi-0.19.1 multiprocess-0.70.15\n",
            "Collecting rggrader\n",
            "  Downloading rggrader-0.1.6-py3-none-any.whl (2.5 kB)\n",
            "Requirement already satisfied: requests in /usr/local/lib/python3.10/dist-packages (from rggrader) (2.31.0)\n",
            "Requirement already satisfied: pandas in /usr/local/lib/python3.10/dist-packages (from rggrader) (1.5.3)\n",
            "Requirement already satisfied: Pillow in /usr/local/lib/python3.10/dist-packages (from rggrader) (9.4.0)\n",
            "Requirement already satisfied: python-dateutil>=2.8.1 in /usr/local/lib/python3.10/dist-packages (from pandas->rggrader) (2.8.2)\n",
            "Requirement already satisfied: pytz>=2020.1 in /usr/local/lib/python3.10/dist-packages (from pandas->rggrader) (2023.4)\n",
            "Requirement already satisfied: numpy>=1.21.0 in /usr/local/lib/python3.10/dist-packages (from pandas->rggrader) (1.23.5)\n",
            "Requirement already satisfied: charset-normalizer<4,>=2 in /usr/local/lib/python3.10/dist-packages (from requests->rggrader) (3.3.2)\n",
            "Requirement already satisfied: idna<4,>=2.5 in /usr/local/lib/python3.10/dist-packages (from requests->rggrader) (3.6)\n",
            "Requirement already satisfied: urllib3<3,>=1.21.1 in /usr/local/lib/python3.10/dist-packages (from requests->rggrader) (2.0.7)\n",
            "Requirement already satisfied: certifi>=2017.4.17 in /usr/local/lib/python3.10/dist-packages (from requests->rggrader) (2023.11.17)\n",
            "Requirement already satisfied: six>=1.5 in /usr/local/lib/python3.10/dist-packages (from python-dateutil>=2.8.1->pandas->rggrader) (1.16.0)\n",
            "Installing collected packages: rggrader\n",
            "Successfully installed rggrader-0.1.6\n"
          ]
        }
      ],
      "source": [
        "!pip install fastbook"
      ]
    },
    {
      "cell_type": "markdown",
      "metadata": {
        "id": "3qeQytyUXaC0"
      },
      "source": [
        "\n",
        "## Task 1\n",
        "\n",
        "Given\n",
        "\n",
        "$$\n",
        "X = \\begin{bmatrix}\n",
        "a \\\\\n",
        "b \\\\\n",
        "c \\\\\n",
        "d \\\\\n",
        "e\n",
        "\\end{bmatrix}\n",
        "$$\n",
        "\n",
        "and\n",
        "\n",
        "$$\n",
        "M =\n",
        "\\begin{bmatrix}\n",
        "-2 & 3 & 3 & 3 & -4 \\\\\n",
        "0 & -4 & -1 & 1 & 2 \\\\\n",
        "1 & 5 & 4 & 2 & 0 \\\\\n",
        "-2 & 5 & -5 & 3 & 1 \\\\\n",
        "-3 & 2 & 4 & 3 & 4 \\\\\n",
        "\\end{bmatrix}\n",
        "$$\n",
        "\n",
        "and\n",
        "\n",
        "$$\n",
        "M \\cdot X =\n",
        " =\n",
        "\\begin{bmatrix}\n",
        "-33 \\\\\n",
        "9 \\\\\n",
        "-34 \\\\\n",
        "-38 \\\\\n",
        " -40\n",
        "\\end{bmatrix}\n",
        "$$\n",
        "\n",
        "What is the value of $a + b + c + d + e$?"
      ]
    },
    {
      "cell_type": "markdown",
      "metadata": {
        "id": "gYxUmWZ-BIWK"
      },
      "source": [
        "🔎 Pada Task 1 ini saya menyelesaikannya dengan 2 cara, yaitu pertama menggunakan library `np.linalg.solve()` dan secara manual dengan algoritma eliminasi gaussian"
      ]
    },
    {
      "cell_type": "markdown",
      "metadata": {
        "id": "ImCcfyaZdYg2"
      },
      "source": [
        "### 🎯 **Step 1: With library numpy**\n",
        "---"
      ]
    },
    {
      "cell_type": "code",
      "execution_count": null,
      "metadata": {
        "colab": {
          "base_uri": "https://localhost:8080/"
        },
        "id": "Y47dfllsc0bN",
        "outputId": "9772df5c-1615-4bd7-efe8-1e2dbcb3240b"
      },
      "outputs": [
        {
          "name": "stdout",
          "output_type": "stream",
          "text": [
            "Solution:\n",
            "[[ 2.]\n",
            " [-4.]\n",
            " [-1.]\n",
            " [-6.]\n",
            " [-1.]]\n",
            "a = 2.0\n",
            "b = -4.0\n",
            "c = -1.0\n",
            "d = -6.0\n",
            "e = -1.0\n"
          ]
        }
      ],
      "source": [
        "import torch\n",
        "import numpy as np\n",
        "\n",
        "# Given matrix M and column vector Y\n",
        "M = torch.tensor([\n",
        "    [-2, 3, 3, 3, -4],\n",
        "    [0, -4, -1, 1, 2],\n",
        "    [1, 5, 4, 2, 0],\n",
        "    [-2, 5, -5, 3, 1],\n",
        "    [-3, 2, 4, 3, 4]\n",
        "], dtype=torch.float32)\n",
        "\n",
        "Y = torch.tensor([\n",
        "    [-33],\n",
        "    [9],\n",
        "    [-34],\n",
        "    [-38],\n",
        "    [-40]\n",
        "], dtype=torch.float32)\n",
        "\n",
        "# Solve for X using NumPy's linear algebra solver\n",
        "X = np.linalg.solve(M, Y)\n",
        "\n",
        "# Print the results\n",
        "print(\"Solution:\")\n",
        "print(X)\n",
        "print(\"a =\", X[0, 0])\n",
        "print(\"b =\", X[1, 0])\n",
        "print(\"c =\", X[2, 0])\n",
        "print(\"d =\", X[3, 0])\n",
        "print(\"e =\", X[4, 0])\n"
      ]
    },
    {
      "cell_type": "markdown",
      "metadata": {
        "id": "ajeQNLfrdj7v"
      },
      "source": [
        "### 🎯 **Step 2: With Gaussian algorithm**\n",
        "---"
      ]
    },
    {
      "cell_type": "code",
      "execution_count": null,
      "metadata": {
        "colab": {
          "base_uri": "https://localhost:8080/"
        },
        "id": "ArfCT1vscnzn",
        "outputId": "f93eb594-ef82-433b-8a56-3f81860bc3c5"
      },
      "outputs": [
        {
          "name": "stdout",
          "output_type": "stream",
          "text": [
            "-10\n",
            "a = 2\n",
            "b = -4\n",
            "c = -1\n",
            "d = -6\n",
            "e = -1\n"
          ]
        }
      ],
      "source": [
        "def gaussian_elimination(matrix, result):\n",
        "    n = len(matrix)\n",
        "\n",
        "    # Forward elimination\n",
        "    for i in range(n):\n",
        "        # Make the diagonal element 1\n",
        "        factor = 1.0 / matrix[i][i]\n",
        "        for j in range(n):\n",
        "            matrix[i][j] *= factor\n",
        "        result[i][0] *= factor\n",
        "\n",
        "        # Eliminate other elements in the current column\n",
        "        for k in range(n):\n",
        "            if k != i:\n",
        "                factor = matrix[k][i]\n",
        "                for j in range(n):\n",
        "                    matrix[k][j] -= factor * matrix[i][j]\n",
        "                result[k][0] -= factor * result[i][0]\n",
        "\n",
        "    # Backward substitution\n",
        "    solution = [result[i][0] for i in range(n)]\n",
        "\n",
        "    return solution\n",
        "\n",
        "# Given matrices\n",
        "M = [\n",
        "    [-2, 3, 3, 3, -4],\n",
        "    [0, -4, -1, 1, 2],\n",
        "    [1, 5, 4, 2, 0],\n",
        "    [-2, 5, -5, 3, 1],\n",
        "    [-3, 2, 4, 3, 4]\n",
        "]\n",
        "\n",
        "Y = [\n",
        "    [-33],\n",
        "    [9],\n",
        "    [-34],\n",
        "    [-38],\n",
        "    [-40]\n",
        "]\n",
        "\n",
        "# Solve the system of equations\n",
        "solution = gaussian_elimination(M, Y)\n",
        "\n",
        "# Extract the values of a, b, c, d, e\n",
        "_a, _b, _c, _d, _e = solution\n",
        "\n",
        "print(round(_a + _b + _c + _d + _e))\n",
        "\n",
        "# Print the results\n",
        "print(f\"a = {int(_a)}\")\n",
        "print(f\"b = {int(_b)}\")\n",
        "print(f\"c = {int(_c)}\")\n",
        "print(f\"d = {int(_d)}\")\n",
        "print(f\"e = {int(_e)}\")\n"
      ]
    },
    {
      "cell_type": "markdown",
      "metadata": {
        "id": "coscNZxCBdrG"
      },
      "source": [
        "🚧 Berdasarkan 2 cara di atas dapat dilihat bahwasanya hasil akhir yang didapatkan ialah sama"
      ]
    },
    {
      "cell_type": "code",
      "execution_count": null,
      "metadata": {
        "colab": {
          "base_uri": "https://localhost:8080/",
          "height": 54
        },
        "id": "bjvNSoRwXaC0",
        "outputId": "3257d13f-c667-4169-9b6a-cbf4dbddc1c8"
      },
      "outputs": [
        {
          "name": "stdout",
          "output_type": "stream",
          "text": [
            "The total is -10\n"
          ]
        },
        {
          "data": {
            "application/vnd.google.colaboratory.intrinsic+json": {
              "type": "string"
            },
            "text/plain": [
              "'Assignment successfully submitted'"
            ]
          },
          "execution_count": 5,
          "metadata": {},
          "output_type": "execute_result"
        }
      ],
      "source": [
        "# You may add any code here to derive your variables\n",
        "# Please change this\n",
        "a = _a\n",
        "b = _b\n",
        "c = _c\n",
        "d = _d\n",
        "e = _e\n",
        "total = round(a + b + c + d + e)\n",
        "\n",
        "print(f\"The total is {total}\")\n",
        "\n",
        "assignment_id = \"09-deep-learning-project\"\n",
        "question_id = \"q1_linear_algebra\"\n",
        "submit(student_id, name, assignment_id, str(total), question_id, drive_link)\n"
      ]
    },
    {
      "cell_type": "markdown",
      "metadata": {
        "id": "Ct3mucWTXaC0"
      },
      "source": [
        "## Task 2\n",
        "\n",
        "What is the output of the following Neural Network?"
      ]
    },
    {
      "cell_type": "code",
      "execution_count": null,
      "metadata": {
        "colab": {
          "base_uri": "https://localhost:8080/",
          "height": 194
        },
        "id": "IDCO6FlEXaC1",
        "outputId": "c4e3d117-064a-48e1-f0c2-e89a6df7f006"
      },
      "outputs": [
        {
          "data": {
            "image/svg+xml": [
              "<?xml version=\"1.0\" encoding=\"UTF-8\" standalone=\"no\"?>\n",
              "<!DOCTYPE svg PUBLIC \"-//W3C//DTD SVG 1.1//EN\"\n",
              " \"http://www.w3.org/Graphics/SVG/1.1/DTD/svg11.dtd\">\n",
              "<!-- Generated by graphviz version 2.43.0 (0)\n",
              " -->\n",
              "<!-- Title: G Pages: 1 -->\n",
              "<svg width=\"451pt\" height=\"130pt\"\n",
              " viewBox=\"0.00 0.00 451.29 130.00\" xmlns=\"http://www.w3.org/2000/svg\" xmlns:xlink=\"http://www.w3.org/1999/xlink\">\n",
              "<g id=\"graph0\" class=\"graph\" transform=\"scale(1 1) rotate(0) translate(4 126)\">\n",
              "<title>G</title>\n",
              "<polygon fill=\"white\" stroke=\"transparent\" points=\"-4,4 -4,-126 447.29,-126 447.29,4 -4,4\"/>\n",
              "<!-- z_1 -->\n",
              "<g id=\"node1\" class=\"node\">\n",
              "<title>z_1</title>\n",
              "<polygon fill=\"none\" stroke=\"black\" points=\"211,-120 124,-120 120,-116 120,-70 207,-70 211,-74 211,-120\"/>\n",
              "<polyline fill=\"none\" stroke=\"black\" points=\"207,-116 120,-116 \"/>\n",
              "<polyline fill=\"none\" stroke=\"black\" points=\"207,-116 207,-70 \"/>\n",
              "<polyline fill=\"none\" stroke=\"black\" points=\"207,-116 211,-120 \"/>\n",
              "<text text-anchor=\"middle\" x=\"165.5\" y=\"-91.3\" font-family=\"Times,serif\" font-size=\"14.00\">b = &#45;2, ReLU</text>\n",
              "</g>\n",
              "<!-- z_3 -->\n",
              "<g id=\"node3\" class=\"node\">\n",
              "<title>z_3</title>\n",
              "<polygon fill=\"none\" stroke=\"black\" points=\"340,-86 258,-86 254,-82 254,-36 336,-36 340,-40 340,-86\"/>\n",
              "<polyline fill=\"none\" stroke=\"black\" points=\"336,-82 254,-82 \"/>\n",
              "<polyline fill=\"none\" stroke=\"black\" points=\"336,-82 336,-36 \"/>\n",
              "<polyline fill=\"none\" stroke=\"black\" points=\"336,-82 340,-86 \"/>\n",
              "<text text-anchor=\"middle\" x=\"297\" y=\"-57.3\" font-family=\"Times,serif\" font-size=\"14.00\">b = 4, ReLU</text>\n",
              "</g>\n",
              "<!-- z_1&#45;&gt;z_3 -->\n",
              "<g id=\"edge5\" class=\"edge\">\n",
              "<title>z_1&#45;&gt;z_3</title>\n",
              "<path fill=\"none\" stroke=\"black\" d=\"M211.07,-83.3C221.71,-80.5 233.16,-77.5 244.1,-74.63\"/>\n",
              "<polygon fill=\"black\" stroke=\"black\" points=\"245.19,-77.96 253.97,-72.04 243.41,-71.19 245.19,-77.96\"/>\n",
              "<text text-anchor=\"middle\" x=\"232.5\" y=\"-81.8\" font-family=\"Times,serif\" font-size=\"14.00\">2</text>\n",
              "</g>\n",
              "<!-- z_2 -->\n",
              "<g id=\"node2\" class=\"node\">\n",
              "<title>z_2</title>\n",
              "<polygon fill=\"none\" stroke=\"black\" points=\"211,-52 124,-52 120,-48 120,-2 207,-2 211,-6 211,-52\"/>\n",
              "<polyline fill=\"none\" stroke=\"black\" points=\"207,-48 120,-48 \"/>\n",
              "<polyline fill=\"none\" stroke=\"black\" points=\"207,-48 207,-2 \"/>\n",
              "<polyline fill=\"none\" stroke=\"black\" points=\"207,-48 211,-52 \"/>\n",
              "<text text-anchor=\"middle\" x=\"165.5\" y=\"-23.3\" font-family=\"Times,serif\" font-size=\"14.00\">b = &#45;6, ReLU</text>\n",
              "</g>\n",
              "<!-- z_2&#45;&gt;z_3 -->\n",
              "<g id=\"edge6\" class=\"edge\">\n",
              "<title>z_2&#45;&gt;z_3</title>\n",
              "<path fill=\"none\" stroke=\"black\" d=\"M211.07,-38.7C221.71,-41.5 233.16,-44.5 244.1,-47.37\"/>\n",
              "<polygon fill=\"black\" stroke=\"black\" points=\"243.41,-50.81 253.97,-49.96 245.19,-44.04 243.41,-50.81\"/>\n",
              "<text text-anchor=\"middle\" x=\"232.5\" y=\"-48.8\" font-family=\"Times,serif\" font-size=\"14.00\">3</text>\n",
              "</g>\n",
              "<!-- output -->\n",
              "<g id=\"node6\" class=\"node\">\n",
              "<title>output</title>\n",
              "<ellipse fill=\"none\" stroke=\"black\" cx=\"410.15\" cy=\"-61\" rx=\"33.29\" ry=\"18\"/>\n",
              "<text text-anchor=\"middle\" x=\"410.15\" y=\"-57.3\" font-family=\"Times,serif\" font-size=\"14.00\">output</text>\n",
              "</g>\n",
              "<!-- z_3&#45;&gt;output -->\n",
              "<g id=\"edge7\" class=\"edge\">\n",
              "<title>z_3&#45;&gt;output</title>\n",
              "<path fill=\"none\" stroke=\"black\" d=\"M340.02,-61C348.77,-61 357.99,-61 366.76,-61\"/>\n",
              "<polygon fill=\"black\" stroke=\"black\" points=\"366.77,-64.5 376.77,-61 366.77,-57.5 366.77,-64.5\"/>\n",
              "</g>\n",
              "<!-- input_1 -->\n",
              "<g id=\"node4\" class=\"node\">\n",
              "<title>input_1</title>\n",
              "<ellipse fill=\"none\" stroke=\"black\" cx=\"36\" cy=\"-97\" rx=\"36\" ry=\"25\"/>\n",
              "<text text-anchor=\"middle\" x=\"36\" y=\"-93.3\" font-family=\"Times,serif\" font-size=\"14.00\">4</text>\n",
              "</g>\n",
              "<!-- input_1&#45;&gt;z_1 -->\n",
              "<g id=\"edge1\" class=\"edge\">\n",
              "<title>input_1&#45;&gt;z_1</title>\n",
              "<path fill=\"none\" stroke=\"black\" d=\"M72.08,-96.46C81.78,-96.32 92.3,-96.15 102,-96 104.52,-95.96 107.09,-95.92 109.69,-95.88\"/>\n",
              "<polygon fill=\"black\" stroke=\"black\" points=\"109.83,-99.38 119.78,-95.72 109.72,-92.38 109.83,-99.38\"/>\n",
              "<text text-anchor=\"middle\" x=\"96\" y=\"-99.8\" font-family=\"Times,serif\" font-size=\"14.00\">4</text>\n",
              "</g>\n",
              "<!-- input_1&#45;&gt;z_2 -->\n",
              "<g id=\"edge3\" class=\"edge\">\n",
              "<title>input_1&#45;&gt;z_2</title>\n",
              "<path fill=\"none\" stroke=\"black\" d=\"M64.67,-81.81C78.13,-74.42 94.81,-65.26 110.65,-56.57\"/>\n",
              "<polygon fill=\"black\" stroke=\"black\" points=\"112.76,-59.4 119.85,-51.52 109.39,-53.26 112.76,-59.4\"/>\n",
              "<text text-anchor=\"middle\" x=\"96\" y=\"-69.8\" font-family=\"Times,serif\" font-size=\"14.00\">0</text>\n",
              "</g>\n",
              "<!-- input_2 -->\n",
              "<g id=\"node5\" class=\"node\">\n",
              "<title>input_2</title>\n",
              "<ellipse fill=\"none\" stroke=\"black\" cx=\"36\" cy=\"-25\" rx=\"36\" ry=\"25\"/>\n",
              "<text text-anchor=\"middle\" x=\"36\" y=\"-21.3\" font-family=\"Times,serif\" font-size=\"14.00\">&#45;3</text>\n",
              "</g>\n",
              "<!-- input_2&#45;&gt;z_1 -->\n",
              "<g id=\"edge2\" class=\"edge\">\n",
              "<title>input_2&#45;&gt;z_1</title>\n",
              "<path fill=\"none\" stroke=\"black\" d=\"M71.06,-30.93C81.44,-33.64 92.59,-37.52 102,-43 111.77,-48.7 111.49,-53.55 120,-61 120.84,-61.74 121.7,-62.48 122.56,-63.21\"/>\n",
              "<polygon fill=\"black\" stroke=\"black\" points=\"120.65,-66.17 130.59,-69.84 125.11,-60.78 120.65,-66.17\"/>\n",
              "<text text-anchor=\"middle\" x=\"96\" y=\"-46.8\" font-family=\"Times,serif\" font-size=\"14.00\">2</text>\n",
              "</g>\n",
              "<!-- input_2&#45;&gt;z_2 -->\n",
              "<g id=\"edge4\" class=\"edge\">\n",
              "<title>input_2&#45;&gt;z_2</title>\n",
              "<path fill=\"none\" stroke=\"black\" d=\"M66.73,-11.64C74.18,-8.89 82.26,-6.41 90,-5 96.44,-3.82 103.12,-3.89 109.72,-4.76\"/>\n",
              "<polygon fill=\"black\" stroke=\"black\" points=\"109.48,-8.28 119.96,-6.74 110.81,-1.41 109.48,-8.28\"/>\n",
              "<text text-anchor=\"middle\" x=\"96\" y=\"-8.8\" font-family=\"Times,serif\" font-size=\"14.00\">&#45;1</text>\n",
              "</g>\n",
              "</g>\n",
              "</svg>\n"
            ],
            "text/plain": [
              "<graphviz.sources.Source at 0x7b83425dc670>"
            ]
          },
          "execution_count": 6,
          "metadata": {},
          "output_type": "execute_result"
        }
      ],
      "source": [
        "from fastbook import *\n",
        "\n",
        "\n",
        "# Draw neurons with multiple inputs and weights\n",
        "gv('''\n",
        "z_1[shape=box3d width=1 height=0.7 label=\"b = -2, ReLU\"];\n",
        "z_2[shape=box3d width=1 height=0.7 label=\"b = -6, ReLU\"];\n",
        "z_3[shape=box3d width=1 height=0.7 label=\"b = 4, ReLU\"];\n",
        "input_1[width=1 height=0.7 label=\"4\"];\n",
        "input_2[width=1 height=0.7 label=\"-3\"];\n",
        "input_1 -> z_1 [label=\"4\"]\n",
        "input_2 -> z_1 [label=\"2\"]\n",
        "input_1 -> z_2 [label=\"0\"]\n",
        "input_2 -> z_2 [label=\"-1\"]\n",
        "\n",
        "z_1 -> z_3 [label=\"2\"]\n",
        "z_2 -> z_3 [label=\"3\"]\n",
        "z_3 ->output\n",
        "\n",
        "\n",
        "''')\n"
      ]
    },
    {
      "cell_type": "markdown",
      "metadata": {
        "id": "iLOOoqqSCdAF"
      },
      "source": [
        "🔎 Pada Task 2, saya memilih dua pendekatan. Pendekatan pertama adalah menghitungnya secara manual, mengikuti contoh yang diberikan dalam file \"pytorch basic\". Sedangkan pendekatan kedua melibatkan penggunaan neural network sederhana."
      ]
    },
    {
      "cell_type": "markdown",
      "metadata": {
        "id": "PjU9LBiPfMy0"
      },
      "source": [
        "![image.png](data:image/png;base64,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)"
      ]
    },
    {
      "cell_type": "markdown",
      "metadata": {
        "id": "Y3SdEdFlD_M5"
      },
      "source": [
        "### 🎯 **Step 1: Manual counting**\n",
        "---\n"
      ]
    },
    {
      "cell_type": "code",
      "execution_count": null,
      "metadata": {
        "colab": {
          "base_uri": "https://localhost:8080/"
        },
        "id": "bSpAaGYqfJW7",
        "outputId": "39817663-6df1-4cfd-bd89-c4d980291f96"
      },
      "outputs": [
        {
          "name": "stdout",
          "output_type": "stream",
          "text": [
            "Shape w0: torch.Size([2, 2])\n",
            "Shape b0: torch.Size([2, 1])\n",
            "Shape a0: torch.Size([2, 1])\n",
            "tensor([[8],\n",
            "        [0]])\n",
            "Shape w1: torch.Size([1, 2])\n",
            "Shape b1: torch.Size([1, 1])\n",
            "Shape a1: torch.Size([1, 1])\n",
            "tensor([[20]])\n"
          ]
        },
        {
          "name": "stderr",
          "output_type": "stream",
          "text": [
            "<ipython-input-7-7a5842b4d844>:17: UserWarning: To copy construct from a tensor, it is recommended to use sourceTensor.clone().detach() or sourceTensor.clone().detach().requires_grad_(True), rather than torch.tensor(sourceTensor).\n",
            "  a1 = torch.tensor(w1 @ a0 + b1)\n"
          ]
        }
      ],
      "source": [
        "import torch\n",
        "\n",
        "x = torch.tensor([[4], [-3]])\n",
        "\n",
        "w0 = torch.tensor([[4, 2], [0, -1]])\n",
        "print(f'Shape w0: {w0.shape}')\n",
        "b0 = torch.tensor([[-2], [-6]])\n",
        "print(f'Shape b0: {b0.shape}')\n",
        "a0 = torch.relu(w0 @ x + b0)\n",
        "print(f'Shape a0: {a0.shape}')\n",
        "print(a0)\n",
        "\n",
        "w1 = torch.tensor([[2, 3]])\n",
        "print(f'Shape w1: {w1.shape}')\n",
        "b1 = torch.tensor([[4]])\n",
        "print(f'Shape b1: {b1.shape}')\n",
        "a1 = torch.tensor(w1 @ a0 + b1)\n",
        "print(f'Shape a1: {a1.shape}')\n",
        "print(a1)\n",
        "\n"
      ]
    },
    {
      "cell_type": "markdown",
      "metadata": {
        "id": "xryZ7kI1ECfB"
      },
      "source": [
        "### 🎯 **Step 2: Counting with Neural Network**\n",
        "---\n"
      ]
    },
    {
      "cell_type": "markdown",
      "metadata": {
        "id": "8OsuSN_YEzSg"
      },
      "source": [
        "🔎 Kodingan step 2 ini saya tinggal menyalinnya dari Task 3 step 2 karena saya berhasil membuat neural networknya ketika berada pada task tersebut"
      ]
    },
    {
      "cell_type": "code",
      "execution_count": null,
      "metadata": {
        "colab": {
          "base_uri": "https://localhost:8080/"
        },
        "id": "1Xsx7SBwDBM3",
        "outputId": "421c12f5-331a-4730-a63f-8648e3937720"
      },
      "outputs": [
        {
          "name": "stdout",
          "output_type": "stream",
          "text": [
            "tensor([20.], grad_fn=<ReluBackward0>)\n",
            "Output dari neural network: 20.0\n"
          ]
        }
      ],
      "source": [
        "import torch\n",
        "import torch.nn as nn\n",
        "\n",
        "class MyNeuralNetwork(nn.Module):\n",
        "    def __init__(self):\n",
        "        super(MyNeuralNetwork, self).__init__()\n",
        "\n",
        "        # Layer 1\n",
        "        self.weight1 = nn.Parameter(torch.Tensor([\n",
        "            [4, 2],\n",
        "            [0, -1]\n",
        "        ]))\n",
        "        self.bias1 = nn.Parameter(torch.Tensor([-2, -6]))\n",
        "\n",
        "        # Layer 2\n",
        "        self.weight2 = nn.Parameter(torch.Tensor([2, 3]))\n",
        "        self.bias2 = nn.Parameter(torch.Tensor([4]))\n",
        "\n",
        "    def forward(self, x):\n",
        "        # Layer 1\n",
        "        x = torch.relu(torch.matmul(x, self.weight1.t()) + self.bias1)\n",
        "\n",
        "        # Layer 2\n",
        "        x = torch.relu(torch.matmul(x, self.weight2.t()) + self.bias2)\n",
        "\n",
        "        return x\n",
        "\n",
        "# Membuat instance dari model\n",
        "model = MyNeuralNetwork()\n",
        "\n",
        "# Contoh input dengan dimensi yang sesuai (3 dimensi)\n",
        "input_data = torch.Tensor([4, -3])\n",
        "\n",
        "# Melakukan forward pass\n",
        "_output = model(input_data)\n",
        "\n",
        "print(_output)\n",
        "\n",
        "print(\"Output dari neural network:\", _output.item())\n"
      ]
    },
    {
      "cell_type": "code",
      "execution_count": null,
      "metadata": {
        "colab": {
          "base_uri": "https://localhost:8080/",
          "height": 54
        },
        "id": "UKT48q9uXaC2",
        "outputId": "4a071f1c-6f5f-4ccd-d81e-239c44bd41a7"
      },
      "outputs": [
        {
          "name": "stdout",
          "output_type": "stream",
          "text": [
            "The output is 20\n"
          ]
        },
        {
          "data": {
            "application/vnd.google.colaboratory.intrinsic+json": {
              "type": "string"
            },
            "text/plain": [
              "'Assignment successfully submitted'"
            ]
          },
          "execution_count": 9,
          "metadata": {},
          "output_type": "execute_result"
        }
      ],
      "source": [
        "# You may add any code here to derive your variables\n",
        "# Please change this\n",
        "output = round(_output.item())\n",
        "\n",
        "print(f\"The output is {output}\")\n",
        "\n",
        "assignment_id = \"09-deep-learning-project\"\n",
        "question_id = \"q2_simple_neural_network\"\n",
        "submit(student_id, name, assignment_id, str(output), question_id, drive_link)\n"
      ]
    },
    {
      "cell_type": "markdown",
      "metadata": {
        "id": "g7R_LxICXaC2"
      },
      "source": [
        "## Task 3\n",
        "\n",
        "Given the following Neural Networks:\n",
        "\n",
        "First layer:\n",
        "\n",
        "$$\n",
        "W = \\begin{bmatrix}\n",
        "0.23 & 0.67 & 0.12 \\\\\n",
        "-0.89 & -0.45 & 0.78 \\\\\n",
        "0.34 & 0.56 & -0.90 \\\\\n",
        "-0.12 & 0.34 & 0.56 \\\\\n",
        "0.78 & -0.90 & 0.23 \\\\\n",
        "\\end{bmatrix}\n",
        "$$\n",
        "\n",
        "$$\n",
        "bias = \\begin{bmatrix}\n",
        "0.23 \\\\\n",
        "-0.89 \\\\\n",
        "0.34 \\\\\n",
        "0.12 \\\\\n",
        "-0.78 \\\\\n",
        "\\end{bmatrix}\n",
        "$$\n",
        "\n",
        "Second layer:\n",
        "\n",
        "$$\n",
        "W = \\begin{bmatrix}\n",
        "0.23 & 0.67 & 0.12 & 0.45 & 0.89 \\\\\n",
        "0.12 & 0.34 & 0.56 & 0.78 & 0.90 \\\\\n",
        "\\end{bmatrix}\n",
        "$$\n",
        "\n",
        "$$\n",
        "bias = \\begin{bmatrix}\n",
        "1.96 \\\\\n",
        "-1.08 \\\\\n",
        "\\end{bmatrix}\n",
        "$$\n",
        "\n",
        "Third layer:\n",
        "$$\n",
        "W = \\begin{bmatrix}\n",
        "1.08 & -0.16\n",
        "\\end{bmatrix}\n",
        "$$\n",
        "\n",
        "$$\n",
        "bias = \\begin{bmatrix}\n",
        "-2.8\n",
        "\\end{bmatrix}\n",
        "$$\n",
        "\n",
        "All layers use the ReLU activation function.\n",
        "\n",
        "What is the output given the following inputs?\n",
        "\n",
        "$$\n",
        "X = \\begin{bmatrix}\n",
        "1 \\\\\n",
        "2 \\\\\n",
        "4 \\\\\n",
        "\\end{bmatrix}\n",
        "\n"
      ]
    },
    {
      "cell_type": "markdown",
      "metadata": {
        "id": "txJ7SGOk6Eam"
      },
      "source": [
        "### 🎯 **Step 1: Manual counting**\n",
        "---\n"
      ]
    },
    {
      "cell_type": "code",
      "execution_count": null,
      "metadata": {
        "id": "uovhFCT1alql"
      },
      "outputs": [],
      "source": [
        "x = torch.tensor([[1], [2], [4]], dtype=torch.float32)\n",
        "\n",
        "w0 = torch.tensor([[0.23, 0.67, 0.12],\n",
        "                   [-0.89, -0.45, 0.78],\n",
        "                   [0.34, 0.56, -0.90],\n",
        "                   [-0.12, 0.34, 0.56],\n",
        "                   [0.78, -0.90, 0.23]])\n",
        "b0 = torch.tensor([[0.23], [-0.89], [0.34], [0.12], [-0.78]])\n",
        "\n",
        "w1 = torch.tensor([[0.23, 0.67, 0.12, 0.45, 0.89],\n",
        "                   [0.12, 0.34, 0.56, 0.78, 0.90]])\n",
        "b1 = torch.tensor([[1.96], [-1.08]])\n",
        "\n",
        "\n",
        "w2 = torch.tensor([[1.08, -0.16]])\n",
        "b2 = torch.tensor([[-2.8]])"
      ]
    },
    {
      "cell_type": "code",
      "execution_count": null,
      "metadata": {
        "colab": {
          "base_uri": "https://localhost:8080/"
        },
        "id": "J5-7K-jMTqQD",
        "outputId": "8a165275-433f-4afe-c146-4260045ab0f1"
      },
      "outputs": [
        {
          "name": "stdout",
          "output_type": "stream",
          "text": [
            "Shape x: torch.Size([3, 1])\n",
            "Shape w0: torch.Size([5, 3])\n",
            "Shape b0: torch.Size([5, 1])\n",
            "Shape a0: torch.Size([5, 1])\n",
            "tensor([[2.2800],\n",
            "        [0.4400],\n",
            "        [0.0000],\n",
            "        [2.9200],\n",
            "        [0.0000]])\n",
            "\n",
            "\n",
            "Shape w1: torch.Size([2, 5])\n",
            "Shape b1: torch.Size([2, 1])\n",
            "Shape a1: torch.Size([2, 1])\n",
            "tensor([[4.0932],\n",
            "        [1.6208]])\n",
            "\n",
            "\n",
            "Shape w2: torch.Size([1, 2])\n",
            "Shape b2: torch.Size([1, 1])\n",
            "Shape a1: torch.Size([1, 1])\n",
            "1.361327886581421\n"
          ]
        }
      ],
      "source": [
        "print(f'Shape x: {x.shape}')\n",
        "\n",
        "print(f'Shape w0: {w0.shape}')\n",
        "print(f'Shape b0: {b0.shape}')\n",
        "\n",
        "a0 = torch.relu(w0 @ x + b0)\n",
        "print(f'Shape a0: {a0.shape}')\n",
        "print(a0)\n",
        "\n",
        "\n",
        "print('\\n')\n",
        "\n",
        "\n",
        "print(f'Shape w1: {w1.shape}')\n",
        "print(f'Shape b1: {b1.shape}')\n",
        "\n",
        "a1 = torch.relu(w1 @ a0 + b1)\n",
        "print(f'Shape a1: {a1.shape}')\n",
        "print(a1)\n",
        "\n",
        "\n",
        "print('\\n')\n",
        "\n",
        "\n",
        "print(f'Shape w2: {w2.shape}')\n",
        "print(f'Shape b2: {b2.shape}')\n",
        "\n",
        "a2 = torch.relu(w2 @ a1 + b2)\n",
        "print(f'Shape a1: {a2.shape}')\n",
        "print(a2.item())"
      ]
    },
    {
      "cell_type": "markdown",
      "metadata": {
        "id": "FBQcC9Ri7pz1"
      },
      "source": [
        "### 🎯 **Step 1: Counting with Neural Network**\n",
        "---\n"
      ]
    },
    {
      "cell_type": "markdown",
      "metadata": {
        "id": "9E_ax1xspmGG"
      },
      "source": [
        "\n",
        "🔎Berikut beberapa hal yang harus diperhatikan:\n",
        "- `torch.matmul()` dalam PyTorch melakukan operasi perkalian matriks, yang pada dasarnya adalah operasi dot product untuk setiap elemen dalam matriks\n",
        "\n",
        "- Jumlah kolom pada matriks weight menentukan jumlah fitur atau dimensi pada input\n",
        "\n",
        "[Output](https://chat.openai.com/share/6862ed11-48a7-49a2-a2d0-56601f72b16c)"
      ]
    },
    {
      "cell_type": "code",
      "execution_count": null,
      "metadata": {
        "colab": {
          "base_uri": "https://localhost:8080/"
        },
        "id": "eaLEOLEoYQVW",
        "outputId": "3391abd0-b4b9-4875-feed-d43d24fccbdd"
      },
      "outputs": [
        {
          "name": "stdout",
          "output_type": "stream",
          "text": [
            "Output dari neural network: 1.361327886581421\n"
          ]
        }
      ],
      "source": [
        "import torch\n",
        "import torch.nn as nn\n",
        "\n",
        "class MyNeuralNetwork(nn.Module):\n",
        "    def __init__(self):\n",
        "        super(MyNeuralNetwork, self).__init__()\n",
        "\n",
        "        # Layer 1\n",
        "        self.weight1 = nn.Parameter(torch.Tensor([\n",
        "            [0.23, 0.67, 0.12],\n",
        "            [-0.89, -0.45, 0.78],\n",
        "            [0.34, 0.56, -0.90],\n",
        "            [-0.12, 0.34, 0.56],\n",
        "            [0.78, -0.90, 0.23]\n",
        "        ]))\n",
        "        self.bias1 = nn.Parameter(torch.Tensor([0.23, -0.89, 0.34, 0.12, -0.78]))\n",
        "\n",
        "        # Layer 2\n",
        "        self.weight2 = nn.Parameter(torch.Tensor([\n",
        "            [0.23, 0.67, 0.12, 0.45, 0.89],\n",
        "            [0.12, 0.34, 0.56, 0.78, 0.90]\n",
        "        ]))\n",
        "        self.bias2 = nn.Parameter(torch.Tensor([1.96, -1.08]))\n",
        "\n",
        "        # Layer 3\n",
        "        self.weight3 = nn.Parameter(torch.Tensor([[1.08, -0.16]]))\n",
        "        self.bias3 = nn.Parameter(torch.Tensor([-2.8]))\n",
        "\n",
        "    def forward(self, x):\n",
        "        # Layer 1\n",
        "        x = torch.relu(torch.matmul(x, self.weight1.t()) + self.bias1)\n",
        "\n",
        "        # Layer 2\n",
        "        x = torch.relu(torch.matmul(x, self.weight2.t()) + self.bias2)\n",
        "\n",
        "        # Layer 3\n",
        "        x = torch.relu(torch.matmul(x, self.weight3.t()) + self.bias3)\n",
        "\n",
        "        return x\n",
        "\n",
        "# Membuat instance dari model\n",
        "model = MyNeuralNetwork()\n",
        "\n",
        "# Contoh input dengan dimensi yang sesuai (3 dimensi)\n",
        "input_data = torch.Tensor([1.0, 2.0, 4.0])\n",
        "\n",
        "# Melakukan forward pass\n",
        "__output = model(input_data)\n",
        "\n",
        "print(\"Output dari neural network:\", __output.item())\n"
      ]
    },
    {
      "cell_type": "markdown",
      "metadata": {
        "id": "JEAm52w3EkSd"
      },
      "source": [
        "\n",
        "🚧 Setelah melakukan beberapa percobaan untuk membuat neural networknya saya berkesimpulan beberapa hal sebagai berikut:\n",
        "- Tujuan transpose ialah untuk memastikan **jumlah kolom input = jumlah baris weight** <br>\n",
        "  ```Python\n",
        "  x = torch.Tensor([1.0, 2.0, 4.0])\n",
        "  w = torch.Tensor([\n",
        "              [0.23, 0.67, 0.12],\n",
        "              [-0.89, -0.45, 0.78],\n",
        "              [0.34, 0.56, -0.09],\n",
        "              [-0.12, 0.34, 0.56],\n",
        "              [0.78, -0.90, 0.23]\n",
        "          ])\n",
        "\n",
        "  display(x)\n",
        "  display(w.t())\n",
        "\n",
        "  '''\n",
        "  tensor([1., 2., 4.])\n",
        "  tensor([[ 0.2300, -0.8900,  0.3400, -0.1200,  0.7800],\n",
        "        [ 0.6700, -0.4500,  0.5600,  0.3400, -0.9000],\n",
        "        [ 0.1200,  0.7800, -0.0900,  0.5600,  0.2300]])\n",
        "  '''\n",
        "  ```\n",
        "\n",
        "\n",
        "\n",
        "- Dalam kasus tensor bias yang digunakan pada layer linear (fully connected layer), penulisan nn.Parameter(torch.Tensor([0.1, -0.4, 0.6, -0.2, 0.3])) akan menghasilkan tensor 1D yang dapat langsung dioperasikan dalam operasi penambahan pada operasi matriks-v (matriks dengan vektor). Tensor 1D ini memiliki dimensi [num_neurons]. <br>\n",
        "Namun, jika menggunakan nn.Parameter(torch.Tensor([[0.1], [-0.4], [0.6], [-0.2], [0.3]])), itu akan menghasilkan tensor 2D yang memiliki dimensi [num_neurons, 1]. Ini berarti harus menggunakan operasi broadcasting ketika menambahkannya ke output dari operasi matriks. Sementara ini memungkinkan, pada umumnya, dalam konteks layer linear, penggunaan tensor bias dengan dimensi [num_neurons] lebih umum dan lebih mudah diimplementasikan.\n",
        "\n",
        "- Jika menggunakan matriks weight secara langsung, tidak perlu mendefinisikan nn.Linear dengan jumlah input dan output. Pada contoh yang menggunakan nn.Linear digunakan sebagai cara mudah untuk menginisialisasi matriks weight dan bias dengan jumlah input dan output yang sesuai. Namun, jika sudah memiliki matriks weight dan bias, dapat menggunakan nn.Parameter dan operasi matriks langsung."
      ]
    },
    {
      "cell_type": "code",
      "execution_count": null,
      "metadata": {
        "colab": {
          "base_uri": "https://localhost:8080/",
          "height": 54
        },
        "id": "Vn-iBk3IXaC3",
        "outputId": "3d9fb4f3-67b6-473e-9add-dc0da522f7bd"
      },
      "outputs": [
        {
          "name": "stdout",
          "output_type": "stream",
          "text": [
            "The output is 1.361327886581421\n"
          ]
        },
        {
          "data": {
            "application/vnd.google.colaboratory.intrinsic+json": {
              "type": "string"
            },
            "text/plain": [
              "'Assignment successfully submitted'"
            ]
          },
          "execution_count": 13,
          "metadata": {},
          "output_type": "execute_result"
        }
      ],
      "source": [
        "# You may add any code here to derive your variables\n",
        "\n",
        "# Please change this\n",
        "output = __output.item()\n",
        "\n",
        "print(f\"The output is {output}\")\n",
        "\n",
        "assignment_id = \"09-deep-learning-project\"\n",
        "question_id = \"q3_complex_neural_network\"\n",
        "submit(student_id, name, assignment_id, str(output), question_id, drive_link)\n"
      ]
    },
    {
      "cell_type": "markdown",
      "metadata": {
        "id": "1RK_XAy9XaC3"
      },
      "source": [
        "## Task 4\n",
        "\n",
        "Given [the following sheet (sheet name = Project A)](https://docs.google.com/spreadsheets/d/15JWbRFB4k5CNcfD-2hduHHssXIc1SGhNVSpu_30wVAw/edit#gid=180755192)\n",
        "\n",
        "Make a backpropagation algorithm to train the network. You can refer to AND and NOT sheet. Use sigmoid activation function for all\n",
        "\n",
        "Hint: it needs 1 layer with 1 neuron\n",
        "\n",
        "What is the cost at 10th iteration (the iteration start from 1)?"
      ]
    },
    {
      "cell_type": "code",
      "execution_count": null,
      "metadata": {
        "colab": {
          "base_uri": "https://localhost:8080/",
          "height": 54
        },
        "id": "GPwJKabAXaC5",
        "outputId": "3b1db00f-982a-4667-bfac-169d1ffd210e"
      },
      "outputs": [
        {
          "name": "stdout",
          "output_type": "stream",
          "text": [
            "The cost is 0.12\n"
          ]
        },
        {
          "data": {
            "application/vnd.google.colaboratory.intrinsic+json": {
              "type": "string"
            },
            "text/plain": [
              "'Assignment successfully submitted'"
            ]
          },
          "execution_count": 14,
          "metadata": {},
          "output_type": "execute_result"
        }
      ],
      "source": [
        "# Please clone the Google Sheet and do your calculation there\n",
        "\n",
        "# Please change this\n",
        "cost = 0.12\n",
        "\n",
        "# Don't forget to fill in the link to your Google Sheet\n",
        "link_to_gsheet = \"https://docs.google.com/spreadsheets/d/1W7-XQBCpobT18C9nca0nqpQoCse2_PqV/edit?usp=sharing&ouid=104596627902867787196&rtpof=true&sd=true\"\n",
        "\n",
        "print(f\"The cost is {cost}\")\n",
        "\n",
        "assignment_id = \"09-deep-learning-project\"\n",
        "\n",
        "question_id = \"q4_cost_function_cost\"\n",
        "submit(student_id, name, assignment_id, str(cost), question_id)\n",
        "\n",
        "question_id = \"q4_cost_function_gsheet\"\n",
        "submit(student_id, name, assignment_id, str(link_to_gsheet), question_id, drive_link)\n"
      ]
    },
    {
      "cell_type": "markdown",
      "metadata": {
        "id": "Tfsng8IQXaC5"
      },
      "source": [
        "## Task 5 (BONUS - OPTIONAL)\n",
        "\n",
        "_This task is optional, it will earn you a distinction, but will not give you additional points._\n",
        "\n",
        "Given [the following sheet (sheet name = Project B)](https://docs.google.com/spreadsheets/d/15JWbRFB4k5CNcfD-2hduHHssXIc1SGhNVSpu_30wVAw/edit#gid=1029811725)\n",
        "\n",
        "Make a backpropagation algorithm to train the network. You can refer to AND and NOT sheet. Use sigmoid activation function for all\n",
        "\n",
        "Hint: it needs 2 layer (1 hidden layer + 1 output layer). The hidden layer has 2 neurons\n",
        "\n",
        "What is the cost at 10th iteration (the iteration start from 1)?"
      ]
    },
    {
      "cell_type": "code",
      "execution_count": null,
      "metadata": {
        "colab": {
          "base_uri": "https://localhost:8080/",
          "height": 54
        },
        "id": "5seZ2IDrXaC6",
        "outputId": "669d3608-4e97-4a63-a860-19c3cb1375a7"
      },
      "outputs": [
        {
          "name": "stdout",
          "output_type": "stream",
          "text": [
            "The cost is 0\n"
          ]
        },
        {
          "data": {
            "application/vnd.google.colaboratory.intrinsic+json": {
              "type": "string"
            },
            "text/plain": [
              "'Assignment successfully submitted'"
            ]
          },
          "execution_count": 15,
          "metadata": {},
          "output_type": "execute_result"
        }
      ],
      "source": [
        "# Please clone the Google Sheet and do your calculation there\n",
        "\n",
        "# Please change this\n",
        "cost = 0\n",
        "\n",
        "# Don't forget to fill in the link to your Google Sheet\n",
        "link_to_gsheet = \"\"\n",
        "\n",
        "print(f\"The cost is {cost}\")\n",
        "\n",
        "assignment_id = \"09-deep-learning-project\"\n",
        "\n",
        "question_id = \"q5_cost_function_cost\"\n",
        "submit(student_id, name, assignment_id, str(cost), question_id)\n",
        "\n",
        "question_id = \"q5_cost_function_gsheet\"\n",
        "submit(student_id, name, assignment_id, str(link_to_gsheet), question_id, drive_link)\n"
      ]
    },
    {
      "cell_type": "code",
      "execution_count": null,
      "metadata": {
        "colab": {
          "base_uri": "https://localhost:8080/"
        },
        "id": "F_nGQFMtXPT2",
        "outputId": "f5fcfb45-9b68-4d65-cb8f-626e594faab9"
      },
      "outputs": [
        {
          "data": {
            "text/plain": [
              "tensor([2, 3, 4])"
            ]
          },
          "execution_count": 16,
          "metadata": {},
          "output_type": "execute_result"
        }
      ],
      "source": [
        "import torch\n",
        "\n",
        "torch.tensor([1, 2, 3]) + 1"
      ]
    },
    {
      "cell_type": "code",
      "execution_count": null,
      "metadata": {
        "id": "cnjwM2cPXQ2u"
      },
      "outputs": [],
      "source": []
    }
  ],
  "metadata": {
    "colab": {
      "provenance": []
    },
    "kernelspec": {
      "display_name": "Python 3",
      "name": "python3"
    },
    "language_info": {
      "codemirror_mode": {
        "name": "ipython",
        "version": 3
      },
      "file_extension": ".py",
      "mimetype": "text/x-python",
      "name": "python",
      "nbconvert_exporter": "python",
      "pygments_lexer": "ipython3",
      "version": "3.11.3"
    }
  },
  "nbformat": 4,
  "nbformat_minor": 0
}
